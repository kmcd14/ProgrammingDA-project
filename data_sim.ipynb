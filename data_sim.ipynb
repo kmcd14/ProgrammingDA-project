{
 "cells": [
  {
   "cell_type": "markdown",
   "id": "35d02e26-19c3-4d85-933b-53244825485a",
   "metadata": {},
   "source": [
    "***\n",
    "\n",
    "# Programming For Data Analysis - Project\n",
    "\n",
    "***"
   ]
  },
  {
   "cell_type": "markdown",
   "id": "b3843c09-f4e9-48c2-8685-e690644c47a1",
   "metadata": {},
   "source": [
    "<br>"
   ]
  },
  {
   "cell_type": "markdown",
   "id": "343c124d-f6fd-43b3-a979-e324c6f6c179",
   "metadata": {},
   "source": [
    "<br>"
   ]
  },
  {
   "cell_type": "markdown",
   "id": "36e25ffd-6a13-47c1-97ef-12312ac8d2d7",
   "metadata": {},
   "source": [
    "The real world phenomenon topic I have chosen for this project is the supposed home advantage in sports. The reason I have chosen this as my topic is because as an avid sports fan and that  I certainly noticed a difference in the impact having no spectators has had on sporting events during the Covid-19 pandemic, where fans were unable to enter grounds.  It certainly seemed that the sports phenomena of having the upper hand over your opponent when the game is being played on your own turf was neutralised. \n",
    "\n",
    "I plan to research if there is data to support the claim that playing at your own ground gives a team an advantage and then using my findings to then simulate a dataset using `numpy.random`. \n"
   ]
  },
  {
   "cell_type": "markdown",
   "id": "e4c876ba-27f9-4756-9091-c8a42dcf2695",
   "metadata": {},
   "source": [
    "<br>"
   ]
  },
  {
   "cell_type": "markdown",
   "id": "b5f29dbd-28fc-4f52-87c6-f53b01391498",
   "metadata": {},
   "source": [
    "<br>"
   ]
  },
  {
   "cell_type": "markdown",
   "id": "ac8b59b0-e3a7-4079-93ef-5fc4976bc047",
   "metadata": {},
   "source": [
    "![img](images/12th_man.jpg)"
   ]
  },
  {
   "cell_type": "markdown",
   "id": "682d8ccd-e892-4e3d-9d03-89fa77bf223e",
   "metadata": {},
   "source": [
    "<br>"
   ]
  },
  {
   "cell_type": "markdown",
   "id": "fafb4729-2b1d-423a-9e76-f30a09f9e5ff",
   "metadata": {},
   "source": [
    "One of the oldest phenomenon's in sport is the home advantage. The idea that the crowd is \"12th man\" (refering to football). \"Home advantage in sports, that is, the higher probability of success when playing at home than away from home\" [18].\n",
    "\n",
    "<br>\n",
    "\n",
    "The home advantage theory refers to the phenomenon which is the tendency that sporting athletes are likely to win more often when competing at their home field [19]. Many studies across professional, third level, and high school sports have consistently found that the home athletes winning their opposing counterparts in more than 50% of games played. \"The aggregated winning percentages of home performers vary between sports and across eras, but they typically range from just above 50% to as high as 70%\" [20]. \n",
    "\n",
    "<br>\n",
    "\n",
    "See the table [16] below which shows the results of a study titled \"Home advantage in sport: an overview of studies on the advantage of playing at home\" [21].\n",
    "\n"
   ]
  },
  {
   "cell_type": "markdown",
   "id": "06095cb1-8b56-45da-91ef-b5e8e46086cc",
   "metadata": {},
   "source": [
    "<br>"
   ]
  },
  {
   "cell_type": "markdown",
   "id": "bd96367b-50d8-4f09-8aa6-5c5758595ebf",
   "metadata": {},
   "source": [
    "<br>"
   ]
  },
  {
   "cell_type": "markdown",
   "id": "de92fe1a-0de4-496f-9ffe-355a34ccaa6b",
   "metadata": {},
   "source": [
    "![img](images/winning_numbers.PNG)"
   ]
  },
  {
   "cell_type": "markdown",
   "id": "2d791507-0a3d-4ded-8f0e-51fb2eb4088e",
   "metadata": {},
   "source": [
    "<br>"
   ]
  },
  {
   "cell_type": "markdown",
   "id": "83661aab-2cff-4b22-96de-0baead824e04",
   "metadata": {},
   "source": [
    "In the main it is team sports such as football, rugby, basketball, etc. that reap the most benefits as opposed to individual sports such as athletics.\n",
    "\n",
    "\"The association of being at home with feelings of increased physical comfort, safety, and psychological well-being are reflected in a wealth of popular expressions andsayings, such as Home free; Home is where the heart is; East–west, home is best; Home sweet home; There's no place like home. Thus, it is hardly surprising that the term home advantage has been adopted in sport to represent two related phenomena—both of which are founded on the belief that a team's own park, stadia, or venue is, indeed, a good place in which to compete\" [17]."
   ]
  },
  {
   "cell_type": "markdown",
   "id": "6e909be2-abbc-447a-a011-3b9ba200451a",
   "metadata": {},
   "source": [
    "<br>"
   ]
  },
  {
   "cell_type": "markdown",
   "id": "17e09bfa-9800-498b-996d-6f57261cae38",
   "metadata": {},
   "source": [
    "As it is one of my favourites, the sport I have chosen to research and use for this project is football. \n",
    "\n",
    "Apart from the rare instances where a team is playing in neutral venues the latter rounds of cup competitions - football matches for the most part involve one team playing in their home stadium. This means that the home team plays in familiar surroundings, has the vast majority of fans in the stadium and does not have to travel to a different ground. On the other hand, the away team has to travel, has to deal with rowdy home support, in some cases adjusting to different climates and/or time zones and the possibility of refereeing bias - “Fergie-time” anyone?"
   ]
  },
  {
   "cell_type": "markdown",
   "id": "5a4c0b6c-baa8-44d7-aacb-d34502ac3f91",
   "metadata": {},
   "source": [
    "<br>"
   ]
  },
  {
   "cell_type": "markdown",
   "id": "6d6c0796-973d-430a-b20d-f7f588c77c86",
   "metadata": {},
   "source": [
    "<br>"
   ]
  },
  {
   "cell_type": "markdown",
   "id": "1e6ce0ab-c54f-4404-93f5-e1c8ea815938",
   "metadata": {},
   "source": [
    "<div>\n",
    "<img src=\"images/fergie-time.jpg\" width=\"400\" height='300'/>\n",
    "</div>\n"
   ]
  },
  {
   "cell_type": "markdown",
   "id": "72b98d06-85ec-489f-81d4-5a7224b1bde7",
   "metadata": {},
   "source": [
    "<br>"
   ]
  },
  {
   "cell_type": "markdown",
   "id": "7324f7d8-ef65-4ded-a8e9-d85923cf7b66",
   "metadata": {},
   "source": [
    "<br>"
   ]
  },
  {
   "cell_type": "markdown",
   "id": "fa07464f-948c-4116-a022-717aed97b175",
   "metadata": {},
   "source": [
    "<i>“It's horrible to play without fans. It's not a nice feeling. Not seeing anyone in the stadium makes it like training, and it takes a lot to get into the game at the beginning”</i> - Lionel Messi [1].\n"
   ]
  },
  {
   "cell_type": "markdown",
   "id": "d812444c-6dab-4fbb-950a-dedcb54c0da9",
   "metadata": {},
   "source": [
    "<br>"
   ]
  },
  {
   "cell_type": "markdown",
   "id": "fab10cac-feb1-4830-bc59-e421dbde4594",
   "metadata": {},
   "source": [
    "<br>"
   ]
  },
  {
   "cell_type": "markdown",
   "id": "a433ce9c-85dc-4ff4-8b43-bc3cff12334d",
   "metadata": {},
   "source": [
    "Football's ruling bodies have often used playing closed door matches as a punishment for clubs and supporters for gross misconducted for incidents related to racism, violence or corruption [29]. These matches are played behind \"closed doors\" where the home teams supporters are barred from the stadium."
   ]
  },
  {
   "cell_type": "markdown",
   "id": "95952deb-bd96-4119-9eb9-c2015410f3b0",
   "metadata": {},
   "source": [
    "<br>"
   ]
  },
  {
   "cell_type": "markdown",
   "id": "ade74479-b3e1-4685-8f5c-595a279c16f1",
   "metadata": {},
   "source": [
    "Research has shown that this sanction almost completley voids home advantage. \"Historically, home teams win 46% of the time in matches with fans, but only 36% of the time when there are no fans. The away team wins 26% of the time with fans, and 34% without fans\" [26]. "
   ]
  },
  {
   "cell_type": "markdown",
   "id": "8a910ee0-ac7a-4904-a6d4-1366d95794c4",
   "metadata": {},
   "source": [
    "<br>"
   ]
  },
  {
   "cell_type": "markdown",
   "id": "e3d107ff-68b5-4e2c-89c0-0c28a84fb3dc",
   "metadata": {},
   "source": [
    "![img](images\\closed_doors.png)"
   ]
  },
  {
   "cell_type": "markdown",
   "id": "e67e3933-d007-4955-a480-bded0ba66c5d",
   "metadata": {},
   "source": [
    "<br>"
   ]
  },
  {
   "cell_type": "markdown",
   "id": "f6822ba2-bc89-446c-9284-3139b518da32",
   "metadata": {},
   "source": [
    "<br>"
   ]
  },
  {
   "cell_type": "markdown",
   "id": "4f504362-39dc-4a50-a39a-f3188f40bc75",
   "metadata": {},
   "source": [
    "The above figure is taken from the same investigation. It shows \"the outcomes in closed doors matches vs in all others since the beginning of the 2002-03 European football season. Bands show 95% confidence intervals\" [26]."
   ]
  },
  {
   "cell_type": "markdown",
   "id": "4f65e4ae-8fe7-4cf8-bd14-ef6524f140d3",
   "metadata": {},
   "source": [
    "<br>"
   ]
  },
  {
   "cell_type": "markdown",
   "id": "5a78e7f3-fbec-4a87-8802-183b69244159",
   "metadata": {},
   "source": [
    "Up until the banning of supporters from sport events due to Covid-19, closed door matches where really only the main insight we had into the effect not having home support had on a team. "
   ]
  },
  {
   "cell_type": "markdown",
   "id": "e99b7037-4719-45b3-9450-fd2cd1b7f5ae",
   "metadata": {},
   "source": [
    "<br>"
   ]
  },
  {
   "cell_type": "markdown",
   "id": "710c78e1-d9c0-4834-aa5a-ac2760fcd428",
   "metadata": {},
   "source": [
    "On 13 March 2020, following an emergency meeting between the Premier League, The Football Association (FA), the English Football League and the FA Women's Super League, it was unanimously decided that professional football in England would be suspended until at least 4 April 2020, this was further extended,  the 2019-2020 season finally resumed on 17 June 2020 with the absence of fans [2]. This pattern of fixtures \"behind closed-doors\" was one seen all over Europe. "
   ]
  },
  {
   "cell_type": "markdown",
   "id": "bc3af8d9-c8d4-4d1e-a653-44577c981dbb",
   "metadata": {},
   "source": [
    "<br>"
   ]
  },
  {
   "cell_type": "markdown",
   "id": "7d6bb1b7-827e-48b3-ad4a-5469b5e2fcd4",
   "metadata": {},
   "source": [
    "The early Covid-19 restrictions on supporters from entering stadiums allowed for researchers to investigate the sporting phenomena that is home advantage and for the first time we have solid data that can be explored in relation to advantages that playing in front of a home crowd can give a team. "
   ]
  },
  {
   "cell_type": "markdown",
   "id": "6e9e6f4f-91b2-4174-84d4-d9c666f55902",
   "metadata": {},
   "source": [
    "<br>"
   ]
  },
  {
   "cell_type": "markdown",
   "id": "8198754c-a2da-43ad-8f7a-bd4551b2562b",
   "metadata": {},
   "source": [
    "<br>"
   ]
  },
  {
   "cell_type": "markdown",
   "id": "22e9f705-bc15-4b50-ab09-a2abef0eb191",
   "metadata": {},
   "source": [
    "***"
   ]
  },
  {
   "cell_type": "markdown",
   "id": "df7bbeba-641b-43fa-82e3-98f9bc3d3986",
   "metadata": {},
   "source": [
    "<br>"
   ]
  },
  {
   "cell_type": "markdown",
   "id": "f06361f9-e82d-46f3-858e-800805e95f3f",
   "metadata": {},
   "source": [
    "## Investigation"
   ]
  },
  {
   "cell_type": "markdown",
   "id": "4b4a3a8a-d1e6-44ea-a04d-e321d93491f0",
   "metadata": {},
   "source": [
    "<br>"
   ]
  },
  {
   "cell_type": "markdown",
   "id": "8184ada2-4cfe-43dc-84c4-e9880ff4de2a",
   "metadata": {},
   "source": [
    "<br>"
   ]
  },
  {
   "cell_type": "markdown",
   "id": "7ceb8383-bb28-4f47-b66c-d6fa46498a32",
   "metadata": {},
   "source": [
    "<br>"
   ]
  },
  {
   "cell_type": "markdown",
   "id": "98375515-f93d-44c3-a150-a4be5d43c43e",
   "metadata": {},
   "source": [
    "In order to generate a simulated dataset we need to research the phenomena and investigate real world datasets on the subject to know the distribution and variables to inculde. "
   ]
  },
  {
   "cell_type": "markdown",
   "id": "3e1360da-9d32-4340-b855-4800044805ff",
   "metadata": {},
   "source": [
    "<br>"
   ]
  },
  {
   "cell_type": "markdown",
   "id": "fac94f59-a0ea-44cd-ac24-a587c4c209ae",
   "metadata": {},
   "source": [
    " Since these “ghost games”, research into the impact of empty stadia has jumped, many researchers have “... attempted to understand the impact that eliminating fans had on game outcomes, including scoring, fouls, and differences in team performances” [3]. The majority of these studies overwhelmingly propose that playing matches behind closed doors had a particularly negative effect on home teams.\n",
    "\n",
    "<br> \n",
    "\n",
    "The 2019-2020 footballing season was the first time in history that England's top four football divisions recorded more away than home wins [4]. When restrictions eased and supporters were allowed entry back into stadiums in a limited capacity from May 17th 2021 results “... returned to pre-COVID levels with 40% won by home teams and 31% by the visitors.\" [4].\n",
    "\n",
    "<br>\n",
    "\n",
    "The biggest study on the sporting phenomena of \"home advantage\" during these \"ghost games\" was conducted by the University of Leeds and Northumbria University. \"Researchers used the unique opportunity presented by the COVID-19 pandemic to test whether home advantage applies when fans are not present in the stands\" [5]. The study is the first of its kind in that it also considers \"...whether home advantage affects a team's dominance over a game\" [5]. \n",
    "\n",
    "A teams dominance was determined by:\n",
    " - number of corners\n",
    " - shots off and on target in a given match [5]. "
   ]
  },
  {
   "cell_type": "markdown",
   "id": "7b8f5b6d-09c7-4840-9dbe-2ab0fb35b602",
   "metadata": {},
   "source": [
    "<br>"
   ]
  },
  {
   "cell_type": "markdown",
   "id": "253f3bfd-1a4c-4a23-b35d-fb54b535486f",
   "metadata": {},
   "source": [
    "In the study titled \"Home advantage during the COVID-19 pandemic: Analyses of European football leagues\" [6], researchers complied the data from Football-Data.co.uk and an online database provided by FiveThirtyEight to assess at 4,844 games across 11 countries, including the England Premier League and Championship, Germany Bundesliga 1 and 2, Spanish La Liga 1 and 2, Italian Serie A and B, Portuguese Primeira Liga, Greek Super League, Turkish Super Lig, Austrian Bundesliga, Danish Superligaen, Russian Premier League and Swiss Super League.\n"
   ]
  },
  {
   "cell_type": "markdown",
   "id": "bbb6cbd1-30a3-4b98-bbd0-7d2224e8024e",
   "metadata": {},
   "source": [
    "<br>"
   ]
  },
  {
   "cell_type": "markdown",
   "id": "96c558bb-a753-4115-83ab-3e40bb409c39",
   "metadata": {},
   "source": [
    "Of the study lead reseacher Dane McCarrick said \"When it returned, the remainder of the games took place behind closed doors with no fans present. This provided an unintentional, and unique, opportunity to examine one of the most talked about and empirically studied phenomena in professional team sport: the home advantage...\n",
    "\n",
    "This new knowledge reveals that in the most basic sense, fans attendance matters.\" [7]"
   ]
  },
  {
   "cell_type": "markdown",
   "id": "21e13915-b461-4715-a760-2de3417afe85",
   "metadata": {},
   "source": [
    "<br>"
   ]
  },
  {
   "cell_type": "markdown",
   "id": "713b430f-dade-4000-9808-ea17f7dae7d3",
   "metadata": {},
   "source": [
    "<br>"
   ]
  },
  {
   "cell_type": "markdown",
   "id": "0490cd2f-a568-4f6e-bebf-e8cdc370fc22",
   "metadata": {},
   "source": [
    "The main findings from the study [6]:"
   ]
  },
  {
   "cell_type": "markdown",
   "id": "5b118610-1677-4c31-8cbd-bde64aa51af8",
   "metadata": {},
   "source": [
    "- On average with fans present: \n",
    "     - When teams played at home they won 0.39 points more per game than when playing away.\n",
    "     - Home teams scored 0.29 goals more per game than the away teams."
   ]
  },
  {
   "cell_type": "markdown",
   "id": "c77d8f38-2fe1-4565-9133-013061de5b91",
   "metadata": {},
   "source": [
    "<br>"
   ]
  },
  {
   "cell_type": "markdown",
   "id": "f3dff99c-fd21-43f6-8876-ca0f78485190",
   "metadata": {},
   "source": [
    "- On average without fans present:\n",
    "    - The points won by teams when playing at home dropped almost half to 0.22 points.  \n",
    "    - Home teams scored 0.15 goals more per game than the away teams. Again, almost a 50% drop than with fans. "
   ]
  },
  {
   "cell_type": "markdown",
   "id": "fd077727-d861-42a2-b9be-3e9dd53d07a3",
   "metadata": {},
   "source": [
    "<br>"
   ]
  },
  {
   "cell_type": "markdown",
   "id": "02f22593-fdf8-443d-a958-b057148ded10",
   "metadata": {},
   "source": [
    "- Referee's gave:\n",
    "    - More fouls against the home team without fans present.\n",
    "    - A similar number of fouls against the away team in empty stadiums.\n",
    "    - A similar number of yellow cards against the home team in empty stadiums, even though they committed more fouls.\n",
    "    - Red cards - although less commonplace during games - followed this pattern."
   ]
  },
  {
   "cell_type": "markdown",
   "id": "868b5ea6-4199-4b0f-a6da-9a267abd65ef",
   "metadata": {},
   "source": [
    "<br>"
   ]
  },
  {
   "cell_type": "markdown",
   "id": "3fc6aa08-baf2-4124-81f3-3530dd82cfe3",
   "metadata": {},
   "source": [
    "- How a home teams dominance was effected on average without fans present: \n",
    "    - Teams won 0.7 fewer corners.\n",
    "    - Teams had 1.3 fewer shots attempts.\n",
    "    - Teams had 0.4 fewer shots on target. "
   ]
  },
  {
   "cell_type": "markdown",
   "id": "806f55f2-7793-4a58-ba60-594bf94b0b5b",
   "metadata": {},
   "source": [
    "<br>"
   ]
  },
  {
   "cell_type": "markdown",
   "id": "51271acd-bc33-43fe-aeb1-c44c95263a7d",
   "metadata": {},
   "source": [
    "- How an away teams dominance was effected on average without fans present: \n",
    "    - Teams won 0.10 more corners.\n",
    "    - Teams had 0.17 more shots attempts.\n",
    "    - Teams had 0.20 more shots on target. "
   ]
  },
  {
   "cell_type": "markdown",
   "id": "61f7c48d-0162-4d2e-b6de-3a86df7eb3db",
   "metadata": {},
   "source": [
    "<br>"
   ]
  },
  {
   "cell_type": "markdown",
   "id": "495e4974-26d6-4733-8784-4f35e9a397d9",
   "metadata": {},
   "source": [
    "<br>"
   ]
  },
  {
   "cell_type": "markdown",
   "id": "2e210654-dec3-4812-bbbc-fa27a45f66ed",
   "metadata": {},
   "source": [
    "#### Variables"
   ]
  },
  {
   "cell_type": "markdown",
   "id": "0fddcb7f-2d04-4640-b26d-0500b5dbd205",
   "metadata": {},
   "source": [
    "<br>"
   ]
  },
  {
   "cell_type": "markdown",
   "id": "b2b56cf0-c704-4a23-93b9-c618933982e9",
   "metadata": {},
   "source": [
    "After researchng the various studies the variables that we will be using to simulate the dataset are:\n",
    "\n",
    "- Is the team playing home or away (categorical).\n",
    "- Number of points.\n",
    "- Referee behaviour: \n",
    "    - Number of yellow/red cards shown to the home team.\n",
    "    - Number of yellow/red cards shown to the away team.\n",
    "- Teams dominance: \n",
    "    - Number of goals scored for the home team.\n",
    "    - Number of goals scored for the away team.\n",
    "    - Number of corners and shots for the home team.\n",
    "    - Number of corners and shots for the away team.\n"
   ]
  },
  {
   "cell_type": "markdown",
   "id": "5f6a2d7e-0120-4d3c-b1f2-06fa40a73823",
   "metadata": {},
   "source": [
    "<br>"
   ]
  },
  {
   "cell_type": "markdown",
   "id": "3dc8b185-2ad6-4173-88ed-ced63c9fc347",
   "metadata": {},
   "source": [
    "<br>"
   ]
  },
  {
   "cell_type": "markdown",
   "id": "b1b755fc-b0c3-465b-9583-096c6f5bdcfc",
   "metadata": {},
   "source": [
    "### Home or Away"
   ]
  },
  {
   "cell_type": "markdown",
   "id": "ef594be3-9f84-4629-b899-6a168051498f",
   "metadata": {},
   "source": [
    "<br>"
   ]
  },
  {
   "cell_type": "markdown",
   "id": "84f275be-f770-4a17-a322-1267c363ec93",
   "metadata": {},
   "source": [
    "<br>"
   ]
  },
  {
   "cell_type": "markdown",
   "id": "1997977b-60c6-40a7-b7d0-51ee0efcfa9c",
   "metadata": {},
   "source": [
    "<div>\n",
    "<img src=\"images/fans.jpg\" width=\"400\" height='300'/>\n",
    "</div>\n"
   ]
  },
  {
   "cell_type": "markdown",
   "id": "1657db38-3924-4668-b653-40768e8f02e3",
   "metadata": {},
   "source": [
    "<br>"
   ]
  },
  {
   "cell_type": "markdown",
   "id": "affe4ef3-1130-4308-a121-002ae51c83a9",
   "metadata": {},
   "source": [
    "<br>"
   ]
  },
  {
   "cell_type": "markdown",
   "id": "2564a089-d1a0-4b41-bcd9-39aa76f8d6e6",
   "metadata": {},
   "source": [
    "\"In the attempt to curb violence related to soccer events, especially after the tragedy of the Heysel Stadium in 1985 in the early Nineties Italian stadiums were required all-seater accommodations and separate sectors\n",
    "between home and visiting supporters\" [26]. After a number of tragdies football stadiums became fully seated - this is currently being reviewed by a number of footballing bodies - and home and away supporters are seperated due to safety concerns. This results in the clubs issuing the majority of tickets to their own supporters and a small section of a given stadium is reserved for the away teams fans. This results in the home teams support by far outweighing that of their oppoistion. \n"
   ]
  },
  {
   "cell_type": "markdown",
   "id": "174237f1-01e1-49b4-b8bf-4d88b73a9256",
   "metadata": {},
   "source": [
    "<br>"
   ]
  },
  {
   "cell_type": "markdown",
   "id": "28263b40-e47c-4804-8ca5-383fab65ef59",
   "metadata": {},
   "source": [
    "A home team overwhelmingly can expect to receive a stronger support from the crowd than their opponents. It is thought that this noise can help fire up players and  make the away team uneasy and shaky. \n"
   ]
  },
  {
   "cell_type": "markdown",
   "id": "077a6218-0e13-40e2-a15f-4ad5aed4aa74",
   "metadata": {},
   "source": [
    "<br>"
   ]
  },
  {
   "cell_type": "markdown",
   "id": "3232ecd6-4300-4898-9f1a-a4ab597731c1",
   "metadata": {},
   "source": [
    "A performer's arousal intensifies in the presence of others [8] i.e you are more likely to put more care/effort into what you're doing when you're being watched. If we apply this to athletes, it can suggest that effort and motivation will increase if a supportive crowd is present, which in turn results in increased performance [9]."
   ]
  },
  {
   "cell_type": "markdown",
   "id": "0ea76227-ab7e-446b-bf8e-91283680007f",
   "metadata": {},
   "source": [
    "<br>"
   ]
  },
  {
   "cell_type": "markdown",
   "id": "e0f77ea3-874d-43d7-8c3a-ad077aaff641",
   "metadata": {},
   "source": [
    "Another caveat of playing at home is familiarity with the stadium [3]. Some of the advantages for the home team are; football pitches have a minimum and maximum dimensions that they can be, meaning size of pitches vary, some stadiums have fans closer to the pitch than others and different pitches have different playing surfaces [9]. I know my home team - Dundalk F.C - are the only team in the League of Ireland whose home pitch is artificial, it is often a contentious issue where opponents complain about it. The ball bounces and moves differently and faster on an artificial surface than on real grass. This is often seen as giving Dundalk an unfair advantage when playing at home as they are used to it. "
   ]
  },
  {
   "cell_type": "markdown",
   "id": "1f113bdd-d693-4405-92e7-17e240182e1a",
   "metadata": {},
   "source": [
    "<br>"
   ]
  },
  {
   "cell_type": "markdown",
   "id": "8cf064ee-0ea3-4bb6-8f74-31d88d71f1f7",
   "metadata": {},
   "source": [
    "Last but not least, the home team does not have to travel. This has been investigated as a reason behind home advantage several times. In his study titled “The Impact of Visiting Team Travel on Game Outcome and Biases in NFL Betting Markets”, Mark Nichols examined data on the football seasons from 1981-2004 and found that away teams traveling through a minimum of one time zone gave a substandard performance and significantly increased the probability of a home win [10].\n",
    "\n",
    "I know this study is in reference to US Football which is not the same as “soccer” but, a study on “Home advantage in Australian soccer” by Chris Goumas arrived at the same conclusion “HA [Home Advantage] increased significantly with increasing number of time zones crossed by away teams (p<0.001)” [11].\n",
    "\n",
    "Additionally, in their paper “Home ground advantage of individual clubs in English soccer'' Stephen Clarke and John Norman found that “home advantage” increased the further the distance the away team had to travel from [12]. \n"
   ]
  },
  {
   "cell_type": "markdown",
   "id": "021d72b7-db93-40a0-8317-885c060e912d",
   "metadata": {},
   "source": [
    "<br>"
   ]
  },
  {
   "cell_type": "markdown",
   "id": "3f7e78de-85be-4db8-9b2f-19721383fe64",
   "metadata": {},
   "source": [
    "<br>"
   ]
  },
  {
   "cell_type": "markdown",
   "id": "e5d3ea67-bd4b-4d33-a73c-3c63ff3d723c",
   "metadata": {},
   "source": [
    "Another explaination for \"Home Advantage\" may be the animalistic protection of ones territory. \n",
    "\n",
    "\"Territoriality is prevalent amongst manyanimal species, which typically display agonistic behavioursand attack more readily and with greater vigour when defending a home territory... several studies have showna 'home advantage' for an animal when its territory isthreatened or attacked, even when the defender is smallerthan the rival, suggesting an important motivational incent-ive in territorial defense\" [27].  In the study \"Testosterone, territoriality, and the 'home advantage'\" Neave and Wolfson found that a male football players testosterone levels had  \"...an increase before home games but no differencebetween levels before training and away games\" [27], given weight to the point of players raising their performance at their home turf."
   ]
  },
  {
   "cell_type": "markdown",
   "id": "0dd5b28c-c948-4898-a544-f8bdede9b642",
   "metadata": {},
   "source": [
    "<br>"
   ]
  },
  {
   "cell_type": "markdown",
   "id": "14645a4b-9783-4bb5-a84f-fe616f443a1e",
   "metadata": {},
   "source": [
    "<br>"
   ]
  },
  {
   "cell_type": "markdown",
   "id": "9626b271-54aa-4eb5-992c-3c5a90a48f58",
   "metadata": {},
   "source": [
    "<br>"
   ]
  },
  {
   "cell_type": "markdown",
   "id": "e2e798dc-8d1c-483d-adf3-6b25632373dc",
   "metadata": {},
   "source": [
    "### Points"
   ]
  },
  {
   "cell_type": "markdown",
   "id": "f8e72b3c-db2e-4ecf-be15-635c9fa0adb8",
   "metadata": {},
   "source": [
    "<br>"
   ]
  },
  {
   "cell_type": "markdown",
   "id": "5c860f22-d992-4afd-b7d0-07a4edd3f846",
   "metadata": {},
   "source": [
    "This variable is our way to measure if a team has won, drawn or lost a match. In league football or in the group stages of a cup competition a team is awarded:\n",
    "- 3 points for winning.\n",
    "- 1 point for drawing.\n",
    "- 0 points for losing. \n",
    "\n",
    "\n",
    "The study \"Home advantage during the COVID-19 pandemic: Analyses of European football leagues\" [6] found on average with a crowd present, home teams won 0.39 points more per game than when they played away. When fan free \"ghost games\" took place this dropped to 0.22 points, that is just under a 50% dip in points won.\n",
    "\n",
    "The below figure is from that study."
   ]
  },
  {
   "cell_type": "markdown",
   "id": "1ab97fc9-fc12-470c-968d-7c7292f6a067",
   "metadata": {},
   "source": [
    "<br>"
   ]
  },
  {
   "cell_type": "markdown",
   "id": "76f923df-e075-43f5-8302-fdd7effffe94",
   "metadata": {},
   "source": [
    "<br>"
   ]
  },
  {
   "cell_type": "markdown",
   "id": "dbc1f7e2-2e81-4e3c-bcb5-38380c3ee920",
   "metadata": {},
   "source": [
    "![img](images/pre_post_covid.PNG)"
   ]
  },
  {
   "cell_type": "markdown",
   "id": "99fbdf23-cf78-48c5-a49d-e3a45c89951f",
   "metadata": {},
   "source": [
    "<br>"
   ]
  },
  {
   "cell_type": "markdown",
   "id": "80b04a6b-dfc9-47e8-ba1a-da91805e9430",
   "metadata": {},
   "source": [
    "<br>"
   ]
  },
  {
   "cell_type": "markdown",
   "id": "bdc0a2b1-d013-44d2-858d-d5fba1e63224",
   "metadata": {},
   "source": [
    "We can see that the home teams points and goal accumulation dropped while the away teams grew slightly \n",
    "\n",
    "\n",
    "Home advantage remains in European top-class football matches played without spectators during the COVID-19 pandemic\" where researchers  analysed \"...more than 40,000 matches before and during the pandemic, including more than 1,000 professional matches without spectators across the main \n",
    "European football leagues\" [14]. \n"
   ]
  },
  {
   "cell_type": "markdown",
   "id": "f4b5860f-2c3c-4129-ac20-dd7c175d2ae8",
   "metadata": {},
   "source": [
    "<br>"
   ]
  },
  {
   "cell_type": "markdown",
   "id": "fdd793e9-8bad-4d37-93e9-0fc8f5a53db5",
   "metadata": {},
   "source": [
    "<br>"
   ]
  },
  {
   "cell_type": "markdown",
   "id": "43c93e04-522a-47d2-a5a4-886a65fe283d",
   "metadata": {},
   "source": [
    "<br>"
   ]
  },
  {
   "cell_type": "markdown",
   "id": "27c618f1-b7fb-4d37-a0d4-c3b65e8cf4a8",
   "metadata": {
    "tags": []
   },
   "source": [
    "### Referee Behavior"
   ]
  },
  {
   "cell_type": "markdown",
   "id": "d8102e55-5f7e-4296-96f7-62310af24a2d",
   "metadata": {},
   "source": [
    "<br>"
   ]
  },
  {
   "cell_type": "markdown",
   "id": "6495afcd-c704-4380-a4c5-b4cfaa779547",
   "metadata": {},
   "source": [
    "<div>\n",
    "<img src=\"images/ref.jpg\" width=\"400\" height='300'/>\n",
    "</div>"
   ]
  },
  {
   "cell_type": "markdown",
   "id": "a8c7616c-76ac-4928-9150-3372756ff06d",
   "metadata": {},
   "source": [
    "<br>"
   ]
  },
  {
   "cell_type": "markdown",
   "id": "e7eda3d3-72ef-4328-8f32-cd363f7f047b",
   "metadata": {},
   "source": [
    "To measure the variable of referee behaviour we will account for the number of yellow and red cards, shown to the home and away teams."
   ]
  },
  {
   "cell_type": "markdown",
   "id": "cbb9dd0b-3ac7-45e3-9d33-dc686655fca7",
   "metadata": {},
   "source": [
    "<br>"
   ]
  },
  {
   "cell_type": "markdown",
   "id": "5f67e608-ef7d-4c41-a960-fbbf3b02501b",
   "metadata": {},
   "source": [
    "Besides the atmosphere and lift of energy a supportive home crowd can inspire in the home team's performance, their reactions can subconsciously influence a referee's decisions with a bias towards the home team [13]. There is evidence to points towards how the impact of a can have an affect on a referee's decisions over the course of a match. This may be due to the noise generated by the crowd or \"...by the referees' perception that they are being monitored\" [18]."
   ]
  },
  {
   "cell_type": "markdown",
   "id": "74136179-c680-443e-85f8-5d8ac708eb17",
   "metadata": {},
   "source": [
    "<br>"
   ]
  },
  {
   "cell_type": "markdown",
   "id": "b4c2a3d6-f6be-4c1e-b978-805debb94c4f",
   "metadata": {},
   "source": [
    "\"The phenomenon of social pressure on the behaviour of individuals has always played a critical role in most areas of society, and affects the outcome of important events. In fact, in many situations each single individual is encouraged bysocial pressure to make decisions which, although against their own inclinations, conform to the expectations of the group they are in, thus looking to avoid disapproval and being judged\" [22]. "
   ]
  },
  {
   "cell_type": "markdown",
   "id": "4be46bf0-3209-466a-8d91-debb3d218030",
   "metadata": {},
   "source": [
    "<br>"
   ]
  },
  {
   "cell_type": "markdown",
   "id": "35a84eeb-b1b5-4064-8230-966a60b14e10",
   "metadata": {},
   "source": [
    "Referee's have a pivitol role, they act as impartial enforcers of the rules of a game and with the aim of making a match fair. There is huge pressure on referee's to make the correct desision, as at the highest level their rulings are the difference between winning a championship and relagation, winning millions in prize money or massive drops in revenue [23].\n",
    "\n",
    "In football, referee's make on average 200 non observational and observational descisions during a match [24]. Although their role is to be impartial that does not stop opposing teams, fans, managers etc. from trying to infulence their decisions [24].\n",
    " \n",
    "\"...a certain level of favouritism on the part of the referee towards the home team due to the pressure exerted by the fans of this team, because of their majority presence. Such a phenomenon is commonly defined as home bias and this, in turn, creates what is known as home advantage\" [22]. An example of this is in a 50/50 tackle or if linesperson is in two minds about who got the last touch on the ball, a louder claims and noise from the home fans may infulence enough that they come out of the situation on top.\n"
   ]
  },
  {
   "cell_type": "markdown",
   "id": "6fd4bdc8-d720-4696-ba3e-3fe909bf4f2f",
   "metadata": {},
   "source": [
    "<br>"
   ]
  },
  {
   "cell_type": "markdown",
   "id": "1f3fa8eb-d154-4cac-b944-eef79a5181d9",
   "metadata": {},
   "source": [
    "In his study “Home advantage and referee bias in European football” [14] Chris Goumas used match data from the 2009/2010 and 2010/2011 Champions League and UEFA Cup (now Europa League) competitions to examine “referee bias in terms of the association between match location (home vs. away) and disciplinary sanctions used by football referees” [14]. The study found that in the Champions League referee's issued 25% (p<0.001)  more yellow cards to the away side, and in the UEFA Cup the number was 10% (p=0.002) [14]. \n",
    "“The higher level of home team bias in the Champions League appeared to be mainly due to higher crowd densities. In a combined analysis of both UEFA leagues the magnitude of referee bias increased with increasing crowd density” [14]."
   ]
  },
  {
   "cell_type": "markdown",
   "id": "9c3aadb8-c2cb-481a-8387-fb9d1b841e38",
   "metadata": {},
   "source": [
    "<br>"
   ]
  },
  {
   "cell_type": "markdown",
   "id": "6519f3bf-d227-4c65-9c90-42adf3b504a7",
   "metadata": {},
   "source": [
    "Another study conducted during the time fans where restricted from entering stadiums due to Covid-19 restrictions “results support the notion of a crowd-induced referee bias as the increased sanctioning of away teams disappears in the absence of spectators with regard to fouls (p < .001), yellow cards (p < .001), and red cards (p < .05)” [15].\n"
   ]
  },
  {
   "cell_type": "markdown",
   "id": "5717defb-912e-4aa1-881d-84972f28f499",
   "metadata": {},
   "source": [
    "<br>"
   ]
  },
  {
   "cell_type": "markdown",
   "id": "5faf02f7-3122-410f-945a-0e564ed096c7",
   "metadata": {},
   "source": [
    "There is an arguement put forward in the paper \"A multiple-cue learning approach as the basis for understanding and improving soccer referees' decision making\" [25] that referees' decision-making is on a base level automatic rather than deliberate. And that these decisions made by referees are based on multiple cues rather than a singular one. This claim was backed when by Memmert and Unkelbach found that situational cues such as crowd noise are a likely reasoning behind home team referee bias [13]."
   ]
  },
  {
   "cell_type": "markdown",
   "id": "470808f2-4cc0-4c2b-a8d2-53eb631d1e8a",
   "metadata": {},
   "source": [
    "<br>"
   ]
  },
  {
   "cell_type": "markdown",
   "id": "bc57dd11-0401-4b04-88c2-415608c950d1",
   "metadata": {},
   "source": [
    "<br>"
   ]
  },
  {
   "cell_type": "markdown",
   "id": "09294643-3869-4c37-8085-1d60db633804",
   "metadata": {},
   "source": [
    "### Dominance"
   ]
  },
  {
   "cell_type": "markdown",
   "id": "d50f260c-ef99-4ec7-bd1b-3f6ccb05f2d0",
   "metadata": {},
   "source": [
    "<br>"
   ]
  },
  {
   "cell_type": "markdown",
   "id": "3cfd220d-29e5-471b-b570-facae4a75a07",
   "metadata": {},
   "source": [
    "<div>\n",
    "<img src=\"images\\dominace_2.jpg\"\" width=\"400\" height='300'/>\n",
    "</div>"
   ]
  },
  {
   "cell_type": "markdown",
   "id": "01809455-64b8-4314-bea6-5d5ae881a0b7",
   "metadata": {},
   "source": [
    "<br>"
   ]
  },
  {
   "cell_type": "markdown",
   "id": "23d6fd4c-a4f2-413f-a7c2-533e1ff03074",
   "metadata": {},
   "source": [
    "Dominance is defined as \"the quality of being more important, strong, or successful than anything else of the same type\" [28]. "
   ]
  },
  {
   "cell_type": "markdown",
   "id": "d1767ff2-7b62-4288-97cf-0d25141b341f",
   "metadata": {},
   "source": [
    "<br>"
   ]
  },
  {
   "cell_type": "markdown",
   "id": "5e0029d0-df52-4cbf-9088-368102742538",
   "metadata": {},
   "source": [
    "\"Home advantage during the COVID-19 pandemic: Analyses of European football leagues\" [6] was the first study of its kind to factor in a teams' dominance when investigating the theory of \"Home Advantage\".  \n",
    "\n",
    "In the context of this study, the researchers at the University of Leeds' School of Psychology, measured a teams dominance by the number of corners won, shots and shots on target. "
   ]
  },
  {
   "cell_type": "markdown",
   "id": "99a68d82-6a89-439f-afe9-6ee1a10b8830",
   "metadata": {},
   "source": [
    "<br>"
   ]
  },
  {
   "cell_type": "markdown",
   "id": "a07ade74-35d0-4c23-9312-b9611276ea74",
   "metadata": {},
   "source": [
    "![img](images\\dominace.PNG)"
   ]
  },
  {
   "cell_type": "markdown",
   "id": "721f67ee-0e95-4bba-9553-5bedab2d1947",
   "metadata": {},
   "source": [
    "<br>"
   ]
  },
  {
   "cell_type": "markdown",
   "id": "8688096b-11e6-4ca8-ab59-c2e86cacb225",
   "metadata": {},
   "source": [
    "The research found (above figure) that without a home supporters present the home team on average had 1.3 fewer attempts on goal and 0.4 less shots on target. They also won 0.7 less corners [6].\n",
    "\n",
    "<br>\n",
    "\n",
    "On the otherhand the away teams dominance didn't vary as much. They won 0.10 more corners and had an increase of 0.17 shots of which, 0.20 where on target [6]."
   ]
  },
  {
   "cell_type": "markdown",
   "id": "3fb7cb23-308d-4bdd-9ef7-2bb2d2d094be",
   "metadata": {},
   "source": [
    "<br>"
   ]
  },
  {
   "cell_type": "markdown",
   "id": "99f05404-6d31-4bd4-9605-4a91f143ccda",
   "metadata": {},
   "source": [
    "<br>"
   ]
  },
  {
   "cell_type": "markdown",
   "id": "845a3590-e6c4-4487-8b75-418ba165982d",
   "metadata": {},
   "source": [
    "<br>"
   ]
  },
  {
   "cell_type": "markdown",
   "id": "3b63a887-b048-4efe-abf4-5d68777a8be3",
   "metadata": {},
   "source": [
    "<br>"
   ]
  },
  {
   "cell_type": "markdown",
   "id": "159b19c0-3e94-4fce-bb4c-c58f42b276a4",
   "metadata": {},
   "source": [
    "<br>"
   ]
  },
  {
   "cell_type": "markdown",
   "id": "cec8ed42-eb02-40d5-9761-bef3327413c2",
   "metadata": {},
   "source": [
    "<br>"
   ]
  },
  {
   "cell_type": "markdown",
   "id": "d00e353a-0ed1-4a35-8e0e-4ba240e30e9f",
   "metadata": {},
   "source": [
    "<br>"
   ]
  },
  {
   "cell_type": "markdown",
   "id": "66e43606-657a-478d-83b0-3dcb13abc464",
   "metadata": {},
   "source": [
    "<br>"
   ]
  },
  {
   "cell_type": "markdown",
   "id": "1dd858c7-c801-4d88-8b4a-8debb31d35ed",
   "metadata": {},
   "source": [
    "***"
   ]
  },
  {
   "cell_type": "markdown",
   "id": "00a3ea7a-be5c-476d-aac7-7930197ff2bb",
   "metadata": {},
   "source": [
    "## Simulating The Data"
   ]
  },
  {
   "cell_type": "markdown",
   "id": "5db31381-0569-406f-934f-74dc57fb152e",
   "metadata": {},
   "source": [
    "***"
   ]
  },
  {
   "cell_type": "markdown",
   "id": "c542a021-d59b-45df-8dfd-dd78ab01b74e",
   "metadata": {},
   "source": [
    "<br>"
   ]
  },
  {
   "cell_type": "markdown",
   "id": "36ca98da-fbe2-415c-bd62-e3fb129bb385",
   "metadata": {},
   "source": [
    "#### Importing Libaries"
   ]
  },
  {
   "cell_type": "markdown",
   "id": "775a88b9-4f57-4503-be37-a94579ed103e",
   "metadata": {},
   "source": [
    "<br>"
   ]
  },
  {
   "cell_type": "code",
   "execution_count": 508,
   "id": "1ccc84a1-50e7-474c-9966-43adf25bfeba",
   "metadata": {},
   "outputs": [],
   "source": [
    "# Random\n",
    "import random\n",
    "\n",
    "# To work with data\n",
    "import numpy as np\n",
    "\n",
    "# To work with data\n",
    "import pandas as pd"
   ]
  },
  {
   "cell_type": "markdown",
   "id": "b5f30512-7536-4ce3-859b-3feb25833b2c",
   "metadata": {},
   "source": [
    "<br>"
   ]
  },
  {
   "cell_type": "code",
   "execution_count": 509,
   "id": "dbd5801d-0394-408f-a22b-8390dd874ea6",
   "metadata": {},
   "outputs": [],
   "source": [
    "# Visualising data\n",
    "import matplotlib.pyplot as plt\n",
    "\n",
    "# Configures matplotlib to show figures embedded in the notebook. \n",
    "%matplotlib inline\n",
    "\n",
    "# Standard plot size.\n",
    "plt.rcParams['figure.figsize'] = (15, 10)\n",
    "\n",
    "# Selecting a colour scheme.\n",
    "plt.style.use('ggplot')"
   ]
  },
  {
   "cell_type": "markdown",
   "id": "e5d56a62-775e-4916-8a7d-f96abe28ddf4",
   "metadata": {},
   "source": [
    "<br>"
   ]
  },
  {
   "cell_type": "markdown",
   "id": "fbbed44d-b98c-4177-ad32-8c09bdc29c7a",
   "metadata": {},
   "source": [
    "Numpy has recently updated the method it uses to generate random numbers. Previously, Numpy employed the Mersenne Twister pseudo-random number generator (MT19937) refered to as legacy random state - This method can still be used. It has updated to the Permutation Congruential generator (PCG-64) method. PCG-64 is a 128-bit implementation of O'Neill's permutation congruential generator [30]."
   ]
  },
  {
   "cell_type": "markdown",
   "id": "83f5365c-4d48-4ead-a934-c0943d426af0",
   "metadata": {},
   "source": [
    "<br>"
   ]
  },
  {
   "cell_type": "code",
   "execution_count": 510,
   "id": "5a726559-51ca-4b50-94bd-f4c3afe95b43",
   "metadata": {},
   "outputs": [],
   "source": [
    "# Setting the PRNG as PCG-64\n",
    "rng = np.random.default_rng()"
   ]
  },
  {
   "cell_type": "markdown",
   "id": "eea71a5a-dc26-4cc9-bceb-f09492d3d29c",
   "metadata": {},
   "source": [
    "<br>"
   ]
  },
  {
   "cell_type": "markdown",
   "id": "26c2013d-4adb-4638-bcab-a2eaf99e71ef",
   "metadata": {},
   "source": [
    "<br>"
   ]
  },
  {
   "cell_type": "markdown",
   "id": "f63557fe-9f5e-42af-9f2e-bd0266b502e4",
   "metadata": {},
   "source": [
    "***"
   ]
  },
  {
   "cell_type": "markdown",
   "id": "8df42c92-d5bd-42d9-8d22-45d7062d5114",
   "metadata": {},
   "source": [
    "<br>"
   ]
  },
  {
   "cell_type": "markdown",
   "id": "4cff3367-e7ec-4cf1-b406-5bd7a4177aa4",
   "metadata": {
    "tags": []
   },
   "source": [
    "## Team Names"
   ]
  },
  {
   "cell_type": "markdown",
   "id": "87df3299-9606-4e6e-8a37-be63ad768792",
   "metadata": {},
   "source": [
    "<br>"
   ]
  },
  {
   "cell_type": "markdown",
   "id": "caee5a1b-5cad-4d4e-8919-f5b0457952d1",
   "metadata": {},
   "source": [
    "Team names have been taken from soccer-ireland.com. A full list of all names can be found [here.](http://www.soccer-ireland.com/dublin-football-clubs/index-f-g-h-i.htm)"
   ]
  },
  {
   "cell_type": "markdown",
   "id": "f5d11b91-6078-40a1-81eb-e3701f7a04bd",
   "metadata": {},
   "source": [
    "<br>"
   ]
  },
  {
   "cell_type": "code",
   "execution_count": 559,
   "id": "685b34af-9f7f-4f98-8814-0a00e9811886",
   "metadata": {},
   "outputs": [],
   "source": [
    "# List of 100 team names\n",
    "name = ['AFC Belgrave',  'Artane Athletic FC',  'Artane Beaumont FC',  'Artane Celtic', 'Arthur Griffith Park FC', 'Ashwood FC', 'Athletico HP FC' , 'Aungier Celtic FC',\n",
    "       'Ayrfield United', 'AZ Alpine', 'Bacchus FC' , 'Balally Celtic FC' , 'Baldoyle United FC' , 'Ballsbridge FC', 'Ballybrack FC', 'Ballycragh United FC', \n",
    "       'Ballyfermot United FC', ' Ballymun United FC' , 'Ballyogan Celtic', 'Ballyowen Celtic FC',  'Balrothery FC' ,  'Bascadden FC', ' Bath Markievicz FC', \n",
    "       'Beaumont Athletic',  'Beech Park FC' , 'Beechwood FC',  'Beggsboro FC', 'Belcamp Rovers FC', 'Belclare Celtic FC', 'Belgrove FC',  'Belvedere FC', 'Blanchardstown Crusaders', \n",
    "       'Bluebell Maryland FC', 'Bluebell United', ' Boca Seniors', 'Booth Road Celtic FC', 'Bridge United',  'Broadford Rovers FC', 'Brookfield Celtic', \n",
    "       'Broombridge FC', 'Brookview United FC', 'Butterkrust FC', 'Carnlough Rovers', 'Carriglea FC', 'Cashel Celtic', 'Castleknock Celtic FC', 'Castle Park FC',\n",
    "        'Castlemill Hamlet FC', 'Celtic Park FC',  'Chancery FC', 'Clifden Celtic FC', 'Chanel SSC', 'Charlestown Celtic FC', 'Cherry Orchard FC', 'CIE Ranch',\n",
    "        'Clarehall Celtic FC', 'Clondalkin Athletic', 'Clonee United', 'Clonshaugh SSFC', 'Clontarf Ailesbury United FC',  \n",
    "        'Clontarf FC', 'Club Everton', 'Coolock Town FC', 'Collinstown FC',  'Columba Rovers',  'Conwell Rovers FC', 'Coolock Town', 'Corduff FC', 'Crumlin United FC',\n",
    "        'DAA FC', 'Dalkey United', ' Darndale FC',  'Dingle United FC', 'Donnycarney FC', 'Donnycarney United', 'Donore FC', \n",
    "        'Drumcondra Celtic', 'Drumcondra FC',  'Drumfinn Celtic FC','Eastwall Bessborough FC', 'Elm Mount FC',  'Ely Woodlawn FC',  'Esker Celtic FC',\n",
    "        'Fairview Athletic FC', 'Farm United FC', 'FC Ailesbury', 'FC Blanch', 'FC Dhulaigh', 'FC Hibernian', 'FC Lokomotiv', 'FC TedEX', 'FC Town', 'FC Transilvania', \n",
    "        'Fenstanton FC', 'Fettercairn FC',  'Fingal Athletic', 'Finglas Celtic FC', 'Finglas United', \n",
    "        'Firhouse Carmel FC', 'Frankfort FC']"
   ]
  },
  {
   "cell_type": "markdown",
   "id": "5d1195f6-8036-4cc4-aced-a4e6130eedc4",
   "metadata": {},
   "source": [
    "<br>"
   ]
  },
  {
   "cell_type": "code",
   "execution_count": 566,
   "id": "0ad0f140-de02-4902-83cd-d4e904c07401",
   "metadata": {},
   "outputs": [
    {
     "data": {
      "text/html": [
       "<div>\n",
       "<style scoped>\n",
       "    .dataframe tbody tr th:only-of-type {\n",
       "        vertical-align: middle;\n",
       "    }\n",
       "\n",
       "    .dataframe tbody tr th {\n",
       "        vertical-align: top;\n",
       "    }\n",
       "\n",
       "    .dataframe thead th {\n",
       "        text-align: right;\n",
       "    }\n",
       "</style>\n",
       "<table border=\"1\" class=\"dataframe\">\n",
       "  <thead>\n",
       "    <tr style=\"text-align: right;\">\n",
       "      <th></th>\n",
       "      <th>team</th>\n",
       "      <th>played</th>\n",
       "      <th>points</th>\n",
       "      <th>shots</th>\n",
       "      <th>shots on target</th>\n",
       "      <th>corners</th>\n",
       "      <th>yellow cards</th>\n",
       "      <th>red cards</th>\n",
       "    </tr>\n",
       "  </thead>\n",
       "  <tbody>\n",
       "    <tr>\n",
       "      <th>0</th>\n",
       "      <td>Arthur Griffith Park FC</td>\n",
       "      <td>home</td>\n",
       "      <td>3</td>\n",
       "      <td>14</td>\n",
       "      <td>7</td>\n",
       "      <td>3</td>\n",
       "      <td>1</td>\n",
       "      <td>0</td>\n",
       "    </tr>\n",
       "    <tr>\n",
       "      <th>1</th>\n",
       "      <td>Carriglea FC</td>\n",
       "      <td>home</td>\n",
       "      <td>3</td>\n",
       "      <td>17</td>\n",
       "      <td>4</td>\n",
       "      <td>4</td>\n",
       "      <td>1</td>\n",
       "      <td>2</td>\n",
       "    </tr>\n",
       "    <tr>\n",
       "      <th>2</th>\n",
       "      <td>Eastwall Bessborough FC</td>\n",
       "      <td>home</td>\n",
       "      <td>3</td>\n",
       "      <td>18</td>\n",
       "      <td>4</td>\n",
       "      <td>6</td>\n",
       "      <td>0</td>\n",
       "      <td>0</td>\n",
       "    </tr>\n",
       "    <tr>\n",
       "      <th>3</th>\n",
       "      <td>Donnycarney FC</td>\n",
       "      <td>home</td>\n",
       "      <td>3</td>\n",
       "      <td>17</td>\n",
       "      <td>9</td>\n",
       "      <td>7</td>\n",
       "      <td>0</td>\n",
       "      <td>0</td>\n",
       "    </tr>\n",
       "    <tr>\n",
       "      <th>4</th>\n",
       "      <td>Ballyogan Celtic</td>\n",
       "      <td>away</td>\n",
       "      <td>0</td>\n",
       "      <td>9</td>\n",
       "      <td>2</td>\n",
       "      <td>1</td>\n",
       "      <td>0</td>\n",
       "      <td>0</td>\n",
       "    </tr>\n",
       "    <tr>\n",
       "      <th>...</th>\n",
       "      <td>...</td>\n",
       "      <td>...</td>\n",
       "      <td>...</td>\n",
       "      <td>...</td>\n",
       "      <td>...</td>\n",
       "      <td>...</td>\n",
       "      <td>...</td>\n",
       "      <td>...</td>\n",
       "    </tr>\n",
       "    <tr>\n",
       "      <th>95</th>\n",
       "      <td>Baldoyle United FC</td>\n",
       "      <td>home</td>\n",
       "      <td>3</td>\n",
       "      <td>10</td>\n",
       "      <td>6</td>\n",
       "      <td>5</td>\n",
       "      <td>1</td>\n",
       "      <td>0</td>\n",
       "    </tr>\n",
       "    <tr>\n",
       "      <th>96</th>\n",
       "      <td>AZ Alpine</td>\n",
       "      <td>away</td>\n",
       "      <td>0</td>\n",
       "      <td>10</td>\n",
       "      <td>1</td>\n",
       "      <td>4</td>\n",
       "      <td>3</td>\n",
       "      <td>0</td>\n",
       "    </tr>\n",
       "    <tr>\n",
       "      <th>97</th>\n",
       "      <td>Athletico HP FC</td>\n",
       "      <td>home</td>\n",
       "      <td>3</td>\n",
       "      <td>9</td>\n",
       "      <td>5</td>\n",
       "      <td>7</td>\n",
       "      <td>3</td>\n",
       "      <td>0</td>\n",
       "    </tr>\n",
       "    <tr>\n",
       "      <th>98</th>\n",
       "      <td>Frankfort FC</td>\n",
       "      <td>away</td>\n",
       "      <td>0</td>\n",
       "      <td>21</td>\n",
       "      <td>0</td>\n",
       "      <td>5</td>\n",
       "      <td>2</td>\n",
       "      <td>0</td>\n",
       "    </tr>\n",
       "    <tr>\n",
       "      <th>99</th>\n",
       "      <td>Brookview United FC</td>\n",
       "      <td>away</td>\n",
       "      <td>0</td>\n",
       "      <td>7</td>\n",
       "      <td>3</td>\n",
       "      <td>5</td>\n",
       "      <td>2</td>\n",
       "      <td>1</td>\n",
       "    </tr>\n",
       "  </tbody>\n",
       "</table>\n",
       "<p>100 rows × 8 columns</p>\n",
       "</div>"
      ],
      "text/plain": [
       "                       team played  points  shots  shots on target  corners  \\\n",
       "0   Arthur Griffith Park FC   home       3     14                7        3   \n",
       "1              Carriglea FC   home       3     17                4        4   \n",
       "2   Eastwall Bessborough FC   home       3     18                4        6   \n",
       "3            Donnycarney FC   home       3     17                9        7   \n",
       "4          Ballyogan Celtic   away       0      9                2        1   \n",
       "..                      ...    ...     ...    ...              ...      ...   \n",
       "95       Baldoyle United FC   home       3     10                6        5   \n",
       "96                AZ Alpine   away       0     10                1        4   \n",
       "97          Athletico HP FC   home       3      9                5        7   \n",
       "98             Frankfort FC   away       0     21                0        5   \n",
       "99      Brookview United FC   away       0      7                3        5   \n",
       "\n",
       "    yellow cards  red cards  \n",
       "0              1          0  \n",
       "1              1          2  \n",
       "2              0          0  \n",
       "3              0          0  \n",
       "4              0          0  \n",
       "..           ...        ...  \n",
       "95             1          0  \n",
       "96             3          0  \n",
       "97             3          0  \n",
       "98             2          0  \n",
       "99             2          1  \n",
       "\n",
       "[100 rows x 8 columns]"
      ]
     },
     "execution_count": 566,
     "metadata": {},
     "output_type": "execute_result"
    }
   ],
   "source": [
    "# Filling the team column\n",
    "df['team'] = name\n",
    "df"
   ]
  },
  {
   "cell_type": "markdown",
   "id": "975bb21f-0adf-468d-b001-04632465a7d0",
   "metadata": {},
   "source": [
    "<br>"
   ]
  },
  {
   "cell_type": "markdown",
   "id": "f238cd62-7ec5-4802-b5c1-5ed23e2d9436",
   "metadata": {},
   "source": [
    "Next, using `numpy.random` let's randomly select if teams played at home or away. This would be considered a bionormal distribution as there are only two possible outcomes. \n",
    "\n",
    "A binomial distribution derived from Bernoulli Process, can be thought of as probability of a success or failure outcome in an experiment which is repeated numerous times. The binomial distribution assumes that each experinment/event is independant of each other and that only two outcomes came occur, hence the word bi [34]. i.e. if a team is playing at home or away. The result can only be home or away, the chance of either appear is even."
   ]
  },
  {
   "cell_type": "markdown",
   "id": "81868f63-3579-4927-83c6-d6f3a502ece1",
   "metadata": {},
   "source": [
    "<br>"
   ]
  },
  {
   "cell_type": "code",
   "execution_count": 587,
   "id": "4fd66d58-f11c-4192-94e3-2e56832c7ac5",
   "metadata": {},
   "outputs": [],
   "source": [
    "# List to choose if a team is home or away\n",
    "home_away = ['home', 'away']\n",
    "\n",
    "# Generating a list to choose between home or away \n",
    "df['played'] = np.array(rng.choice(home_away, 100, p=[0.5, 0.5]))"
   ]
  },
  {
   "cell_type": "code",
   "execution_count": 588,
   "id": "e2ca36ba-94ab-4f83-84db-f3baa20ec46c",
   "metadata": {},
   "outputs": [
    {
     "data": {
      "text/html": [
       "<div>\n",
       "<style scoped>\n",
       "    .dataframe tbody tr th:only-of-type {\n",
       "        vertical-align: middle;\n",
       "    }\n",
       "\n",
       "    .dataframe tbody tr th {\n",
       "        vertical-align: top;\n",
       "    }\n",
       "\n",
       "    .dataframe thead th {\n",
       "        text-align: right;\n",
       "    }\n",
       "</style>\n",
       "<table border=\"1\" class=\"dataframe\">\n",
       "  <thead>\n",
       "    <tr style=\"text-align: right;\">\n",
       "      <th></th>\n",
       "      <th>team</th>\n",
       "      <th>played</th>\n",
       "      <th>points</th>\n",
       "      <th>shots</th>\n",
       "      <th>shots on target</th>\n",
       "      <th>corners</th>\n",
       "      <th>yellow cards</th>\n",
       "      <th>red cards</th>\n",
       "    </tr>\n",
       "  </thead>\n",
       "  <tbody>\n",
       "    <tr>\n",
       "      <th>0</th>\n",
       "      <td>Arthur Griffith Park FC</td>\n",
       "      <td>home</td>\n",
       "      <td>3</td>\n",
       "      <td>14</td>\n",
       "      <td>7</td>\n",
       "      <td>3</td>\n",
       "      <td>1</td>\n",
       "      <td>0</td>\n",
       "    </tr>\n",
       "    <tr>\n",
       "      <th>1</th>\n",
       "      <td>Carriglea FC</td>\n",
       "      <td>home</td>\n",
       "      <td>3</td>\n",
       "      <td>17</td>\n",
       "      <td>4</td>\n",
       "      <td>4</td>\n",
       "      <td>1</td>\n",
       "      <td>2</td>\n",
       "    </tr>\n",
       "    <tr>\n",
       "      <th>2</th>\n",
       "      <td>Eastwall Bessborough FC</td>\n",
       "      <td>away</td>\n",
       "      <td>3</td>\n",
       "      <td>18</td>\n",
       "      <td>4</td>\n",
       "      <td>6</td>\n",
       "      <td>0</td>\n",
       "      <td>0</td>\n",
       "    </tr>\n",
       "    <tr>\n",
       "      <th>3</th>\n",
       "      <td>Donnycarney FC</td>\n",
       "      <td>away</td>\n",
       "      <td>3</td>\n",
       "      <td>17</td>\n",
       "      <td>9</td>\n",
       "      <td>7</td>\n",
       "      <td>0</td>\n",
       "      <td>0</td>\n",
       "    </tr>\n",
       "    <tr>\n",
       "      <th>4</th>\n",
       "      <td>Ballyogan Celtic</td>\n",
       "      <td>home</td>\n",
       "      <td>0</td>\n",
       "      <td>9</td>\n",
       "      <td>2</td>\n",
       "      <td>1</td>\n",
       "      <td>0</td>\n",
       "      <td>0</td>\n",
       "    </tr>\n",
       "    <tr>\n",
       "      <th>...</th>\n",
       "      <td>...</td>\n",
       "      <td>...</td>\n",
       "      <td>...</td>\n",
       "      <td>...</td>\n",
       "      <td>...</td>\n",
       "      <td>...</td>\n",
       "      <td>...</td>\n",
       "      <td>...</td>\n",
       "    </tr>\n",
       "    <tr>\n",
       "      <th>95</th>\n",
       "      <td>Baldoyle United FC</td>\n",
       "      <td>away</td>\n",
       "      <td>3</td>\n",
       "      <td>10</td>\n",
       "      <td>6</td>\n",
       "      <td>5</td>\n",
       "      <td>1</td>\n",
       "      <td>0</td>\n",
       "    </tr>\n",
       "    <tr>\n",
       "      <th>96</th>\n",
       "      <td>AZ Alpine</td>\n",
       "      <td>away</td>\n",
       "      <td>0</td>\n",
       "      <td>10</td>\n",
       "      <td>1</td>\n",
       "      <td>4</td>\n",
       "      <td>3</td>\n",
       "      <td>0</td>\n",
       "    </tr>\n",
       "    <tr>\n",
       "      <th>97</th>\n",
       "      <td>Athletico HP FC</td>\n",
       "      <td>away</td>\n",
       "      <td>3</td>\n",
       "      <td>9</td>\n",
       "      <td>5</td>\n",
       "      <td>7</td>\n",
       "      <td>3</td>\n",
       "      <td>0</td>\n",
       "    </tr>\n",
       "    <tr>\n",
       "      <th>98</th>\n",
       "      <td>Frankfort FC</td>\n",
       "      <td>away</td>\n",
       "      <td>0</td>\n",
       "      <td>21</td>\n",
       "      <td>0</td>\n",
       "      <td>5</td>\n",
       "      <td>2</td>\n",
       "      <td>0</td>\n",
       "    </tr>\n",
       "    <tr>\n",
       "      <th>99</th>\n",
       "      <td>Brookview United FC</td>\n",
       "      <td>home</td>\n",
       "      <td>0</td>\n",
       "      <td>7</td>\n",
       "      <td>3</td>\n",
       "      <td>5</td>\n",
       "      <td>2</td>\n",
       "      <td>1</td>\n",
       "    </tr>\n",
       "  </tbody>\n",
       "</table>\n",
       "<p>100 rows × 8 columns</p>\n",
       "</div>"
      ],
      "text/plain": [
       "                       team played  points  shots  shots on target  corners  \\\n",
       "0   Arthur Griffith Park FC   home       3     14                7        3   \n",
       "1              Carriglea FC   home       3     17                4        4   \n",
       "2   Eastwall Bessborough FC   away       3     18                4        6   \n",
       "3            Donnycarney FC   away       3     17                9        7   \n",
       "4          Ballyogan Celtic   home       0      9                2        1   \n",
       "..                      ...    ...     ...    ...              ...      ...   \n",
       "95       Baldoyle United FC   away       3     10                6        5   \n",
       "96                AZ Alpine   away       0     10                1        4   \n",
       "97          Athletico HP FC   away       3      9                5        7   \n",
       "98             Frankfort FC   away       0     21                0        5   \n",
       "99      Brookview United FC   home       0      7                3        5   \n",
       "\n",
       "    yellow cards  red cards  \n",
       "0              1          0  \n",
       "1              1          2  \n",
       "2              0          0  \n",
       "3              0          0  \n",
       "4              0          0  \n",
       "..           ...        ...  \n",
       "95             1          0  \n",
       "96             3          0  \n",
       "97             3          0  \n",
       "98             2          0  \n",
       "99             2          1  \n",
       "\n",
       "[100 rows x 8 columns]"
      ]
     },
     "execution_count": 588,
     "metadata": {},
     "output_type": "execute_result"
    }
   ],
   "source": [
    "df"
   ]
  },
  {
   "cell_type": "code",
   "execution_count": 589,
   "id": "fba9f838-c7ff-4083-8332-c6748113ef28",
   "metadata": {},
   "outputs": [
    {
     "data": {
      "text/html": [
       "<div>\n",
       "<style scoped>\n",
       "    .dataframe tbody tr th:only-of-type {\n",
       "        vertical-align: middle;\n",
       "    }\n",
       "\n",
       "    .dataframe tbody tr th {\n",
       "        vertical-align: top;\n",
       "    }\n",
       "\n",
       "    .dataframe thead th {\n",
       "        text-align: right;\n",
       "    }\n",
       "</style>\n",
       "<table border=\"1\" class=\"dataframe\">\n",
       "  <thead>\n",
       "    <tr style=\"text-align: right;\">\n",
       "      <th></th>\n",
       "      <th>team</th>\n",
       "      <th>played</th>\n",
       "      <th>points</th>\n",
       "      <th>shots</th>\n",
       "      <th>shots on target</th>\n",
       "      <th>corners</th>\n",
       "      <th>yellow cards</th>\n",
       "      <th>red cards</th>\n",
       "    </tr>\n",
       "  </thead>\n",
       "  <tbody>\n",
       "    <tr>\n",
       "      <th>2</th>\n",
       "      <td>Eastwall Bessborough FC</td>\n",
       "      <td>away</td>\n",
       "      <td>3</td>\n",
       "      <td>18</td>\n",
       "      <td>4</td>\n",
       "      <td>6</td>\n",
       "      <td>0</td>\n",
       "      <td>0</td>\n",
       "    </tr>\n",
       "    <tr>\n",
       "      <th>3</th>\n",
       "      <td>Donnycarney FC</td>\n",
       "      <td>away</td>\n",
       "      <td>3</td>\n",
       "      <td>17</td>\n",
       "      <td>9</td>\n",
       "      <td>7</td>\n",
       "      <td>0</td>\n",
       "      <td>0</td>\n",
       "    </tr>\n",
       "    <tr>\n",
       "      <th>5</th>\n",
       "      <td>Firhouse Carmel FC</td>\n",
       "      <td>away</td>\n",
       "      <td>0</td>\n",
       "      <td>9</td>\n",
       "      <td>5</td>\n",
       "      <td>2</td>\n",
       "      <td>0</td>\n",
       "      <td>1</td>\n",
       "    </tr>\n",
       "    <tr>\n",
       "      <th>11</th>\n",
       "      <td>Ballyfermot United FC</td>\n",
       "      <td>away</td>\n",
       "      <td>0</td>\n",
       "      <td>12</td>\n",
       "      <td>2</td>\n",
       "      <td>5</td>\n",
       "      <td>3</td>\n",
       "      <td>0</td>\n",
       "    </tr>\n",
       "    <tr>\n",
       "      <th>13</th>\n",
       "      <td>Conwell Rovers FC</td>\n",
       "      <td>away</td>\n",
       "      <td>0</td>\n",
       "      <td>10</td>\n",
       "      <td>10</td>\n",
       "      <td>7</td>\n",
       "      <td>5</td>\n",
       "      <td>2</td>\n",
       "    </tr>\n",
       "    <tr>\n",
       "      <th>14</th>\n",
       "      <td>Ballyowen Celtic FC</td>\n",
       "      <td>away</td>\n",
       "      <td>3</td>\n",
       "      <td>14</td>\n",
       "      <td>3</td>\n",
       "      <td>6</td>\n",
       "      <td>2</td>\n",
       "      <td>0</td>\n",
       "    </tr>\n",
       "    <tr>\n",
       "      <th>15</th>\n",
       "      <td>Clondalkin Athletic</td>\n",
       "      <td>away</td>\n",
       "      <td>3</td>\n",
       "      <td>14</td>\n",
       "      <td>4</td>\n",
       "      <td>6</td>\n",
       "      <td>1</td>\n",
       "      <td>0</td>\n",
       "    </tr>\n",
       "    <tr>\n",
       "      <th>20</th>\n",
       "      <td>AFC Belgrave</td>\n",
       "      <td>away</td>\n",
       "      <td>3</td>\n",
       "      <td>11</td>\n",
       "      <td>3</td>\n",
       "      <td>5</td>\n",
       "      <td>0</td>\n",
       "      <td>1</td>\n",
       "    </tr>\n",
       "    <tr>\n",
       "      <th>21</th>\n",
       "      <td>Drumcondra Celtic</td>\n",
       "      <td>away</td>\n",
       "      <td>3</td>\n",
       "      <td>11</td>\n",
       "      <td>5</td>\n",
       "      <td>3</td>\n",
       "      <td>0</td>\n",
       "      <td>0</td>\n",
       "    </tr>\n",
       "    <tr>\n",
       "      <th>23</th>\n",
       "      <td>Esker Celtic FC</td>\n",
       "      <td>away</td>\n",
       "      <td>3</td>\n",
       "      <td>11</td>\n",
       "      <td>4</td>\n",
       "      <td>5</td>\n",
       "      <td>0</td>\n",
       "      <td>0</td>\n",
       "    </tr>\n",
       "    <tr>\n",
       "      <th>25</th>\n",
       "      <td>Dingle United FC</td>\n",
       "      <td>away</td>\n",
       "      <td>3</td>\n",
       "      <td>12</td>\n",
       "      <td>6</td>\n",
       "      <td>8</td>\n",
       "      <td>1</td>\n",
       "      <td>0</td>\n",
       "    </tr>\n",
       "    <tr>\n",
       "      <th>27</th>\n",
       "      <td>Cashel Celtic</td>\n",
       "      <td>away</td>\n",
       "      <td>3</td>\n",
       "      <td>13</td>\n",
       "      <td>2</td>\n",
       "      <td>4</td>\n",
       "      <td>1</td>\n",
       "      <td>0</td>\n",
       "    </tr>\n",
       "    <tr>\n",
       "      <th>29</th>\n",
       "      <td>Carnlough Rovers</td>\n",
       "      <td>away</td>\n",
       "      <td>3</td>\n",
       "      <td>14</td>\n",
       "      <td>9</td>\n",
       "      <td>7</td>\n",
       "      <td>2</td>\n",
       "      <td>1</td>\n",
       "    </tr>\n",
       "    <tr>\n",
       "      <th>30</th>\n",
       "      <td>Ayrfield United</td>\n",
       "      <td>away</td>\n",
       "      <td>0</td>\n",
       "      <td>13</td>\n",
       "      <td>4</td>\n",
       "      <td>3</td>\n",
       "      <td>1</td>\n",
       "      <td>0</td>\n",
       "    </tr>\n",
       "    <tr>\n",
       "      <th>31</th>\n",
       "      <td>DAA FC</td>\n",
       "      <td>away</td>\n",
       "      <td>3</td>\n",
       "      <td>12</td>\n",
       "      <td>4</td>\n",
       "      <td>7</td>\n",
       "      <td>2</td>\n",
       "      <td>0</td>\n",
       "    </tr>\n",
       "    <tr>\n",
       "      <th>40</th>\n",
       "      <td>Belvedere FC</td>\n",
       "      <td>away</td>\n",
       "      <td>3</td>\n",
       "      <td>16</td>\n",
       "      <td>4</td>\n",
       "      <td>5</td>\n",
       "      <td>0</td>\n",
       "      <td>0</td>\n",
       "    </tr>\n",
       "    <tr>\n",
       "      <th>41</th>\n",
       "      <td>Bluebell United</td>\n",
       "      <td>away</td>\n",
       "      <td>0</td>\n",
       "      <td>11</td>\n",
       "      <td>7</td>\n",
       "      <td>8</td>\n",
       "      <td>4</td>\n",
       "      <td>0</td>\n",
       "    </tr>\n",
       "    <tr>\n",
       "      <th>48</th>\n",
       "      <td>Bath Markievicz FC</td>\n",
       "      <td>away</td>\n",
       "      <td>3</td>\n",
       "      <td>10</td>\n",
       "      <td>3</td>\n",
       "      <td>7</td>\n",
       "      <td>2</td>\n",
       "      <td>2</td>\n",
       "    </tr>\n",
       "    <tr>\n",
       "      <th>52</th>\n",
       "      <td>Fettercairn FC</td>\n",
       "      <td>away</td>\n",
       "      <td>3</td>\n",
       "      <td>11</td>\n",
       "      <td>5</td>\n",
       "      <td>7</td>\n",
       "      <td>0</td>\n",
       "      <td>0</td>\n",
       "    </tr>\n",
       "    <tr>\n",
       "      <th>54</th>\n",
       "      <td>Beechwood FC</td>\n",
       "      <td>away</td>\n",
       "      <td>3</td>\n",
       "      <td>11</td>\n",
       "      <td>7</td>\n",
       "      <td>7</td>\n",
       "      <td>1</td>\n",
       "      <td>0</td>\n",
       "    </tr>\n",
       "    <tr>\n",
       "      <th>59</th>\n",
       "      <td>Balally Celtic FC</td>\n",
       "      <td>away</td>\n",
       "      <td>3</td>\n",
       "      <td>14</td>\n",
       "      <td>4</td>\n",
       "      <td>7</td>\n",
       "      <td>1</td>\n",
       "      <td>0</td>\n",
       "    </tr>\n",
       "    <tr>\n",
       "      <th>61</th>\n",
       "      <td>Broadford Rovers FC</td>\n",
       "      <td>away</td>\n",
       "      <td>3</td>\n",
       "      <td>6</td>\n",
       "      <td>6</td>\n",
       "      <td>8</td>\n",
       "      <td>2</td>\n",
       "      <td>2</td>\n",
       "    </tr>\n",
       "    <tr>\n",
       "      <th>63</th>\n",
       "      <td>Clarehall Celtic FC</td>\n",
       "      <td>away</td>\n",
       "      <td>3</td>\n",
       "      <td>13</td>\n",
       "      <td>5</td>\n",
       "      <td>12</td>\n",
       "      <td>0</td>\n",
       "      <td>1</td>\n",
       "    </tr>\n",
       "    <tr>\n",
       "      <th>64</th>\n",
       "      <td>Clonee United</td>\n",
       "      <td>away</td>\n",
       "      <td>3</td>\n",
       "      <td>17</td>\n",
       "      <td>6</td>\n",
       "      <td>6</td>\n",
       "      <td>3</td>\n",
       "      <td>1</td>\n",
       "    </tr>\n",
       "    <tr>\n",
       "      <th>67</th>\n",
       "      <td>Bluebell Maryland FC</td>\n",
       "      <td>away</td>\n",
       "      <td>0</td>\n",
       "      <td>10</td>\n",
       "      <td>3</td>\n",
       "      <td>4</td>\n",
       "      <td>1</td>\n",
       "      <td>1</td>\n",
       "    </tr>\n",
       "    <tr>\n",
       "      <th>69</th>\n",
       "      <td>Coolock Town FC</td>\n",
       "      <td>away</td>\n",
       "      <td>0</td>\n",
       "      <td>8</td>\n",
       "      <td>4</td>\n",
       "      <td>5</td>\n",
       "      <td>2</td>\n",
       "      <td>1</td>\n",
       "    </tr>\n",
       "    <tr>\n",
       "      <th>72</th>\n",
       "      <td>Cherry Orchard FC</td>\n",
       "      <td>away</td>\n",
       "      <td>0</td>\n",
       "      <td>7</td>\n",
       "      <td>3</td>\n",
       "      <td>8</td>\n",
       "      <td>3</td>\n",
       "      <td>0</td>\n",
       "    </tr>\n",
       "    <tr>\n",
       "      <th>73</th>\n",
       "      <td>Dalkey United</td>\n",
       "      <td>away</td>\n",
       "      <td>3</td>\n",
       "      <td>16</td>\n",
       "      <td>4</td>\n",
       "      <td>8</td>\n",
       "      <td>0</td>\n",
       "      <td>1</td>\n",
       "    </tr>\n",
       "    <tr>\n",
       "      <th>76</th>\n",
       "      <td>Clontarf FC</td>\n",
       "      <td>away</td>\n",
       "      <td>3</td>\n",
       "      <td>14</td>\n",
       "      <td>5</td>\n",
       "      <td>4</td>\n",
       "      <td>0</td>\n",
       "      <td>1</td>\n",
       "    </tr>\n",
       "    <tr>\n",
       "      <th>81</th>\n",
       "      <td>Coolock Town</td>\n",
       "      <td>away</td>\n",
       "      <td>3</td>\n",
       "      <td>13</td>\n",
       "      <td>4</td>\n",
       "      <td>4</td>\n",
       "      <td>0</td>\n",
       "      <td>0</td>\n",
       "    </tr>\n",
       "    <tr>\n",
       "      <th>82</th>\n",
       "      <td>Club Everton</td>\n",
       "      <td>away</td>\n",
       "      <td>3</td>\n",
       "      <td>17</td>\n",
       "      <td>4</td>\n",
       "      <td>3</td>\n",
       "      <td>1</td>\n",
       "      <td>1</td>\n",
       "    </tr>\n",
       "    <tr>\n",
       "      <th>83</th>\n",
       "      <td>Finglas United</td>\n",
       "      <td>away</td>\n",
       "      <td>0</td>\n",
       "      <td>13</td>\n",
       "      <td>4</td>\n",
       "      <td>9</td>\n",
       "      <td>1</td>\n",
       "      <td>6</td>\n",
       "    </tr>\n",
       "    <tr>\n",
       "      <th>85</th>\n",
       "      <td>Aungier Celtic FC</td>\n",
       "      <td>away</td>\n",
       "      <td>3</td>\n",
       "      <td>5</td>\n",
       "      <td>6</td>\n",
       "      <td>3</td>\n",
       "      <td>1</td>\n",
       "      <td>0</td>\n",
       "    </tr>\n",
       "    <tr>\n",
       "      <th>89</th>\n",
       "      <td>Belclare Celtic FC</td>\n",
       "      <td>away</td>\n",
       "      <td>3</td>\n",
       "      <td>7</td>\n",
       "      <td>6</td>\n",
       "      <td>7</td>\n",
       "      <td>0</td>\n",
       "      <td>1</td>\n",
       "    </tr>\n",
       "    <tr>\n",
       "      <th>90</th>\n",
       "      <td>Corduff FC</td>\n",
       "      <td>away</td>\n",
       "      <td>3</td>\n",
       "      <td>16</td>\n",
       "      <td>4</td>\n",
       "      <td>8</td>\n",
       "      <td>0</td>\n",
       "      <td>1</td>\n",
       "    </tr>\n",
       "    <tr>\n",
       "      <th>91</th>\n",
       "      <td>FC Ailesbury</td>\n",
       "      <td>away</td>\n",
       "      <td>0</td>\n",
       "      <td>11</td>\n",
       "      <td>4</td>\n",
       "      <td>6</td>\n",
       "      <td>1</td>\n",
       "      <td>0</td>\n",
       "    </tr>\n",
       "    <tr>\n",
       "      <th>92</th>\n",
       "      <td>Belcamp Rovers FC</td>\n",
       "      <td>away</td>\n",
       "      <td>0</td>\n",
       "      <td>8</td>\n",
       "      <td>6</td>\n",
       "      <td>5</td>\n",
       "      <td>2</td>\n",
       "      <td>1</td>\n",
       "    </tr>\n",
       "    <tr>\n",
       "      <th>94</th>\n",
       "      <td>Charlestown Celtic FC</td>\n",
       "      <td>away</td>\n",
       "      <td>3</td>\n",
       "      <td>13</td>\n",
       "      <td>2</td>\n",
       "      <td>6</td>\n",
       "      <td>1</td>\n",
       "      <td>1</td>\n",
       "    </tr>\n",
       "    <tr>\n",
       "      <th>95</th>\n",
       "      <td>Baldoyle United FC</td>\n",
       "      <td>away</td>\n",
       "      <td>3</td>\n",
       "      <td>10</td>\n",
       "      <td>6</td>\n",
       "      <td>5</td>\n",
       "      <td>1</td>\n",
       "      <td>0</td>\n",
       "    </tr>\n",
       "    <tr>\n",
       "      <th>96</th>\n",
       "      <td>AZ Alpine</td>\n",
       "      <td>away</td>\n",
       "      <td>0</td>\n",
       "      <td>10</td>\n",
       "      <td>1</td>\n",
       "      <td>4</td>\n",
       "      <td>3</td>\n",
       "      <td>0</td>\n",
       "    </tr>\n",
       "    <tr>\n",
       "      <th>97</th>\n",
       "      <td>Athletico HP FC</td>\n",
       "      <td>away</td>\n",
       "      <td>3</td>\n",
       "      <td>9</td>\n",
       "      <td>5</td>\n",
       "      <td>7</td>\n",
       "      <td>3</td>\n",
       "      <td>0</td>\n",
       "    </tr>\n",
       "    <tr>\n",
       "      <th>98</th>\n",
       "      <td>Frankfort FC</td>\n",
       "      <td>away</td>\n",
       "      <td>0</td>\n",
       "      <td>21</td>\n",
       "      <td>0</td>\n",
       "      <td>5</td>\n",
       "      <td>2</td>\n",
       "      <td>0</td>\n",
       "    </tr>\n",
       "  </tbody>\n",
       "</table>\n",
       "</div>"
      ],
      "text/plain": [
       "                       team played  points  shots  shots on target  corners  \\\n",
       "2   Eastwall Bessborough FC   away       3     18                4        6   \n",
       "3            Donnycarney FC   away       3     17                9        7   \n",
       "5        Firhouse Carmel FC   away       0      9                5        2   \n",
       "11    Ballyfermot United FC   away       0     12                2        5   \n",
       "13        Conwell Rovers FC   away       0     10               10        7   \n",
       "14      Ballyowen Celtic FC   away       3     14                3        6   \n",
       "15      Clondalkin Athletic   away       3     14                4        6   \n",
       "20             AFC Belgrave   away       3     11                3        5   \n",
       "21        Drumcondra Celtic   away       3     11                5        3   \n",
       "23          Esker Celtic FC   away       3     11                4        5   \n",
       "25         Dingle United FC   away       3     12                6        8   \n",
       "27            Cashel Celtic   away       3     13                2        4   \n",
       "29         Carnlough Rovers   away       3     14                9        7   \n",
       "30          Ayrfield United   away       0     13                4        3   \n",
       "31                   DAA FC   away       3     12                4        7   \n",
       "40             Belvedere FC   away       3     16                4        5   \n",
       "41          Bluebell United   away       0     11                7        8   \n",
       "48       Bath Markievicz FC   away       3     10                3        7   \n",
       "52           Fettercairn FC   away       3     11                5        7   \n",
       "54             Beechwood FC   away       3     11                7        7   \n",
       "59        Balally Celtic FC   away       3     14                4        7   \n",
       "61      Broadford Rovers FC   away       3      6                6        8   \n",
       "63      Clarehall Celtic FC   away       3     13                5       12   \n",
       "64            Clonee United   away       3     17                6        6   \n",
       "67     Bluebell Maryland FC   away       0     10                3        4   \n",
       "69          Coolock Town FC   away       0      8                4        5   \n",
       "72        Cherry Orchard FC   away       0      7                3        8   \n",
       "73            Dalkey United   away       3     16                4        8   \n",
       "76              Clontarf FC   away       3     14                5        4   \n",
       "81             Coolock Town   away       3     13                4        4   \n",
       "82             Club Everton   away       3     17                4        3   \n",
       "83           Finglas United   away       0     13                4        9   \n",
       "85        Aungier Celtic FC   away       3      5                6        3   \n",
       "89       Belclare Celtic FC   away       3      7                6        7   \n",
       "90               Corduff FC   away       3     16                4        8   \n",
       "91             FC Ailesbury   away       0     11                4        6   \n",
       "92        Belcamp Rovers FC   away       0      8                6        5   \n",
       "94    Charlestown Celtic FC   away       3     13                2        6   \n",
       "95       Baldoyle United FC   away       3     10                6        5   \n",
       "96                AZ Alpine   away       0     10                1        4   \n",
       "97          Athletico HP FC   away       3      9                5        7   \n",
       "98             Frankfort FC   away       0     21                0        5   \n",
       "\n",
       "    yellow cards  red cards  \n",
       "2              0          0  \n",
       "3              0          0  \n",
       "5              0          1  \n",
       "11             3          0  \n",
       "13             5          2  \n",
       "14             2          0  \n",
       "15             1          0  \n",
       "20             0          1  \n",
       "21             0          0  \n",
       "23             0          0  \n",
       "25             1          0  \n",
       "27             1          0  \n",
       "29             2          1  \n",
       "30             1          0  \n",
       "31             2          0  \n",
       "40             0          0  \n",
       "41             4          0  \n",
       "48             2          2  \n",
       "52             0          0  \n",
       "54             1          0  \n",
       "59             1          0  \n",
       "61             2          2  \n",
       "63             0          1  \n",
       "64             3          1  \n",
       "67             1          1  \n",
       "69             2          1  \n",
       "72             3          0  \n",
       "73             0          1  \n",
       "76             0          1  \n",
       "81             0          0  \n",
       "82             1          1  \n",
       "83             1          6  \n",
       "85             1          0  \n",
       "89             0          1  \n",
       "90             0          1  \n",
       "91             1          0  \n",
       "92             2          1  \n",
       "94             1          1  \n",
       "95             1          0  \n",
       "96             3          0  \n",
       "97             3          0  \n",
       "98             2          0  "
      ]
     },
     "execution_count": 589,
     "metadata": {},
     "output_type": "execute_result"
    }
   ],
   "source": [
    "df[df['played'] == 'away']"
   ]
  },
  {
   "cell_type": "markdown",
   "id": "dda1790d-cac9-4092-bdff-7c91ebb14bdb",
   "metadata": {},
   "source": [
    "<br>"
   ]
  },
  {
   "cell_type": "markdown",
   "id": "e469d943-6341-4f47-9225-ada35e1c6bc6",
   "metadata": {},
   "source": [
    "<br>"
   ]
  },
  {
   "cell_type": "markdown",
   "id": "f9c8759e-6fb0-4ec2-a192-3476f75798f3",
   "metadata": {},
   "source": [
    "<br>"
   ]
  },
  {
   "cell_type": "markdown",
   "id": "ac640d9b-7f6b-4adc-b9bb-12ce2a545eb9",
   "metadata": {},
   "source": [
    "#### Real World Data"
   ]
  },
  {
   "cell_type": "markdown",
   "id": "f5c63c44-4002-45a1-97f9-013fa1a6ec16",
   "metadata": {},
   "source": [
    "<br>"
   ]
  },
  {
   "cell_type": "markdown",
   "id": "718c8eaf-1815-4ed7-95e7-d33eeba54b8c",
   "metadata": {},
   "source": [
    "To help simulate a dataset we will need to analyse a real life dataset to help understand the relationship between variables. The dataset I have found for this can be [found here](https://www.kaggle.com/adityadesai13/european-football-database-20192020). The dataset contains data for the 2019/2020 Premier League Season."
   ]
  },
  {
   "cell_type": "markdown",
   "id": "7f13c909-07c8-4720-be04-1d9284631ad4",
   "metadata": {},
   "source": [
    "<br>"
   ]
  },
  {
   "cell_type": "code",
   "execution_count": 506,
   "id": "b00ad337-f013-45fb-80e6-02d8a3b88f11",
   "metadata": {},
   "outputs": [],
   "source": [
    "# Loading the data\n",
    "epl = pd.read_excel('sample_data/all-euro-data-2019-2020.xlsx')"
   ]
  },
  {
   "cell_type": "code",
   "execution_count": 567,
   "id": "19816a6e-0e05-45ce-aa13-843d036c09e6",
   "metadata": {},
   "outputs": [
    {
     "data": {
      "text/html": [
       "<div>\n",
       "<style scoped>\n",
       "    .dataframe tbody tr th:only-of-type {\n",
       "        vertical-align: middle;\n",
       "    }\n",
       "\n",
       "    .dataframe tbody tr th {\n",
       "        vertical-align: top;\n",
       "    }\n",
       "\n",
       "    .dataframe thead th {\n",
       "        text-align: right;\n",
       "    }\n",
       "</style>\n",
       "<table border=\"1\" class=\"dataframe\">\n",
       "  <thead>\n",
       "    <tr style=\"text-align: right;\">\n",
       "      <th></th>\n",
       "      <th>HomeTeam</th>\n",
       "      <th>AwayTeam</th>\n",
       "      <th>FTR</th>\n",
       "      <th>HS</th>\n",
       "      <th>AS</th>\n",
       "      <th>HST</th>\n",
       "      <th>AST</th>\n",
       "      <th>HC</th>\n",
       "      <th>AC</th>\n",
       "      <th>HY</th>\n",
       "      <th>AY</th>\n",
       "      <th>HR</th>\n",
       "      <th>AR</th>\n",
       "    </tr>\n",
       "  </thead>\n",
       "  <tbody>\n",
       "    <tr>\n",
       "      <th>0</th>\n",
       "      <td>Liverpool</td>\n",
       "      <td>Norwich</td>\n",
       "      <td>H</td>\n",
       "      <td>15</td>\n",
       "      <td>12</td>\n",
       "      <td>7</td>\n",
       "      <td>5</td>\n",
       "      <td>11</td>\n",
       "      <td>2</td>\n",
       "      <td>0</td>\n",
       "      <td>2</td>\n",
       "      <td>0</td>\n",
       "      <td>0</td>\n",
       "    </tr>\n",
       "    <tr>\n",
       "      <th>1</th>\n",
       "      <td>West Ham</td>\n",
       "      <td>Man City</td>\n",
       "      <td>A</td>\n",
       "      <td>5</td>\n",
       "      <td>14</td>\n",
       "      <td>3</td>\n",
       "      <td>9</td>\n",
       "      <td>1</td>\n",
       "      <td>1</td>\n",
       "      <td>2</td>\n",
       "      <td>2</td>\n",
       "      <td>0</td>\n",
       "      <td>0</td>\n",
       "    </tr>\n",
       "    <tr>\n",
       "      <th>2</th>\n",
       "      <td>Bournemouth</td>\n",
       "      <td>Sheffield United</td>\n",
       "      <td>D</td>\n",
       "      <td>13</td>\n",
       "      <td>8</td>\n",
       "      <td>3</td>\n",
       "      <td>3</td>\n",
       "      <td>3</td>\n",
       "      <td>4</td>\n",
       "      <td>2</td>\n",
       "      <td>1</td>\n",
       "      <td>0</td>\n",
       "      <td>0</td>\n",
       "    </tr>\n",
       "    <tr>\n",
       "      <th>3</th>\n",
       "      <td>Burnley</td>\n",
       "      <td>Southampton</td>\n",
       "      <td>H</td>\n",
       "      <td>10</td>\n",
       "      <td>11</td>\n",
       "      <td>4</td>\n",
       "      <td>3</td>\n",
       "      <td>2</td>\n",
       "      <td>7</td>\n",
       "      <td>0</td>\n",
       "      <td>0</td>\n",
       "      <td>0</td>\n",
       "      <td>0</td>\n",
       "    </tr>\n",
       "    <tr>\n",
       "      <th>4</th>\n",
       "      <td>Crystal Palace</td>\n",
       "      <td>Everton</td>\n",
       "      <td>D</td>\n",
       "      <td>6</td>\n",
       "      <td>10</td>\n",
       "      <td>2</td>\n",
       "      <td>3</td>\n",
       "      <td>6</td>\n",
       "      <td>2</td>\n",
       "      <td>2</td>\n",
       "      <td>1</td>\n",
       "      <td>0</td>\n",
       "      <td>1</td>\n",
       "    </tr>\n",
       "    <tr>\n",
       "      <th>...</th>\n",
       "      <td>...</td>\n",
       "      <td>...</td>\n",
       "      <td>...</td>\n",
       "      <td>...</td>\n",
       "      <td>...</td>\n",
       "      <td>...</td>\n",
       "      <td>...</td>\n",
       "      <td>...</td>\n",
       "      <td>...</td>\n",
       "      <td>...</td>\n",
       "      <td>...</td>\n",
       "      <td>...</td>\n",
       "      <td>...</td>\n",
       "    </tr>\n",
       "    <tr>\n",
       "      <th>315</th>\n",
       "      <td>Bournemouth</td>\n",
       "      <td>Newcastle</td>\n",
       "      <td>A</td>\n",
       "      <td>12</td>\n",
       "      <td>12</td>\n",
       "      <td>1</td>\n",
       "      <td>7</td>\n",
       "      <td>6</td>\n",
       "      <td>3</td>\n",
       "      <td>2</td>\n",
       "      <td>0</td>\n",
       "      <td>0</td>\n",
       "      <td>0</td>\n",
       "    </tr>\n",
       "    <tr>\n",
       "      <th>316</th>\n",
       "      <td>Everton</td>\n",
       "      <td>Leicester</td>\n",
       "      <td>H</td>\n",
       "      <td>7</td>\n",
       "      <td>15</td>\n",
       "      <td>2</td>\n",
       "      <td>3</td>\n",
       "      <td>3</td>\n",
       "      <td>5</td>\n",
       "      <td>1</td>\n",
       "      <td>1</td>\n",
       "      <td>0</td>\n",
       "      <td>0</td>\n",
       "    </tr>\n",
       "    <tr>\n",
       "      <th>317</th>\n",
       "      <td>West Ham</td>\n",
       "      <td>Chelsea</td>\n",
       "      <td>H</td>\n",
       "      <td>10</td>\n",
       "      <td>17</td>\n",
       "      <td>4</td>\n",
       "      <td>6</td>\n",
       "      <td>2</td>\n",
       "      <td>3</td>\n",
       "      <td>2</td>\n",
       "      <td>1</td>\n",
       "      <td>0</td>\n",
       "      <td>0</td>\n",
       "    </tr>\n",
       "    <tr>\n",
       "      <th>318</th>\n",
       "      <td>Sheffield United</td>\n",
       "      <td>Tottenham</td>\n",
       "      <td>H</td>\n",
       "      <td>7</td>\n",
       "      <td>9</td>\n",
       "      <td>5</td>\n",
       "      <td>2</td>\n",
       "      <td>1</td>\n",
       "      <td>6</td>\n",
       "      <td>2</td>\n",
       "      <td>0</td>\n",
       "      <td>0</td>\n",
       "      <td>0</td>\n",
       "    </tr>\n",
       "    <tr>\n",
       "      <th>319</th>\n",
       "      <td>Man City</td>\n",
       "      <td>Liverpool</td>\n",
       "      <td>H</td>\n",
       "      <td>14</td>\n",
       "      <td>11</td>\n",
       "      <td>6</td>\n",
       "      <td>3</td>\n",
       "      <td>3</td>\n",
       "      <td>3</td>\n",
       "      <td>2</td>\n",
       "      <td>2</td>\n",
       "      <td>0</td>\n",
       "      <td>0</td>\n",
       "    </tr>\n",
       "  </tbody>\n",
       "</table>\n",
       "<p>320 rows × 13 columns</p>\n",
       "</div>"
      ],
      "text/plain": [
       "             HomeTeam          AwayTeam FTR  HS  AS  HST  AST  HC  AC  HY  AY  \\\n",
       "0           Liverpool           Norwich   H  15  12    7    5  11   2   0   2   \n",
       "1            West Ham          Man City   A   5  14    3    9   1   1   2   2   \n",
       "2         Bournemouth  Sheffield United   D  13   8    3    3   3   4   2   1   \n",
       "3             Burnley       Southampton   H  10  11    4    3   2   7   0   0   \n",
       "4      Crystal Palace           Everton   D   6  10    2    3   6   2   2   1   \n",
       "..                ...               ...  ..  ..  ..  ...  ...  ..  ..  ..  ..   \n",
       "315       Bournemouth         Newcastle   A  12  12    1    7   6   3   2   0   \n",
       "316           Everton         Leicester   H   7  15    2    3   3   5   1   1   \n",
       "317          West Ham           Chelsea   H  10  17    4    6   2   3   2   1   \n",
       "318  Sheffield United         Tottenham   H   7   9    5    2   1   6   2   0   \n",
       "319          Man City         Liverpool   H  14  11    6    3   3   3   2   2   \n",
       "\n",
       "     HR  AR  \n",
       "0     0   0  \n",
       "1     0   0  \n",
       "2     0   0  \n",
       "3     0   0  \n",
       "4     0   1  \n",
       "..   ..  ..  \n",
       "315   0   0  \n",
       "316   0   0  \n",
       "317   0   0  \n",
       "318   0   0  \n",
       "319   0   0  \n",
       "\n",
       "[320 rows x 13 columns]"
      ]
     },
     "execution_count": 567,
     "metadata": {},
     "output_type": "execute_result"
    }
   ],
   "source": [
    "# Selecting Columns to use\n",
    "data = epl[['HomeTeam', 'AwayTeam','FTR','HS','AS', 'HST', 'AST','HC','AC', 'HY','AY', 'HR', 'AR']]\n",
    "data"
   ]
  },
  {
   "cell_type": "markdown",
   "id": "0e996c50-6b37-4db4-b53f-76e5a00084be",
   "metadata": {},
   "source": [
    "<br>"
   ]
  },
  {
   "cell_type": "markdown",
   "id": "b6e29f66-2720-46ed-bd47-5ae4e4c896fd",
   "metadata": {},
   "source": [
    "- HomeTeam = Home Team\n",
    "- AwayTeam = Away Team\n",
    "- FTR = Full Time Result (H=Home Win, D=Draw, A=Away Win)\n",
    "- HS = Home Team Shots\n",
    "- AS = Away Team Shots\n",
    "- HST = Home Team Shots on Target\n",
    "- AST = Away Team Shots on Target\n",
    "- HC = Home Team Corners\n",
    "- AC = Away Team Corners\n",
    "- HY = Home Team Yellow Cards\n",
    "- AY = Away Team Yellow Cards\n",
    "- HR = Home Team Red Cards\n",
    "- AR = Away Team Red Cards"
   ]
  },
  {
   "cell_type": "markdown",
   "id": "13736b4a-38b4-4143-903b-16273ad58d30",
   "metadata": {},
   "source": [
    "<br>"
   ]
  },
  {
   "cell_type": "markdown",
   "id": "46dccd98-b18b-4833-92f8-d5fe60695220",
   "metadata": {},
   "source": [
    "<br>"
   ]
  },
  {
   "cell_type": "markdown",
   "id": "050abbda-ba42-4a8d-806f-1aab40bc2504",
   "metadata": {},
   "source": [
    "Let's check how many of the games where won by the home and away teams or, if the match ended in a draw. "
   ]
  },
  {
   "cell_type": "markdown",
   "id": "78bcd3e1-4de0-41ae-9773-96052b5db0ce",
   "metadata": {},
   "source": [
    "<br>"
   ]
  },
  {
   "cell_type": "code",
   "execution_count": 511,
   "id": "c7708fcc-d300-4e00-8031-6a0d85b039d3",
   "metadata": {},
   "outputs": [
    {
     "data": {
      "text/plain": [
       "H    144\n",
       "A     98\n",
       "D     78\n",
       "Name: FTR, dtype: int64"
      ]
     },
     "execution_count": 511,
     "metadata": {},
     "output_type": "execute_result"
    }
   ],
   "source": [
    "# How Home or away wins or draws\n",
    "diff_count = data['FTR'].value_counts()\n",
    "diff_count"
   ]
  },
  {
   "cell_type": "markdown",
   "id": "d1526ff6-29a6-4f41-8c5e-18ebecadca0e",
   "metadata": {},
   "source": [
    "<br>"
   ]
  },
  {
   "cell_type": "code",
   "execution_count": 512,
   "id": "36f19168-4b12-438c-9bbd-2bacfe8076ba",
   "metadata": {},
   "outputs": [
    {
     "data": {
      "text/plain": [
       "<matplotlib.patches.Circle at 0x228a6c4d370>"
      ]
     },
     "execution_count": 512,
     "metadata": {},
     "output_type": "execute_result"
    },
    {
     "data": {
      "image/png": "[encoded data removed]",
      "text/plain": [
       "<Figure size 1080x720 with 1 Axes>"
      ]
     },
     "metadata": {},
     "output_type": "display_data"
    }
   ],
   "source": [
    "# Setting Labels\n",
    "diff_count_labels = ['Home Win', 'Away Win', 'Draw']\n",
    "\n",
    "# Generating a piechart\n",
    "plt.pie(diff_count, labels=diff_count_labels, autopct='%1.1f%%') # Data, lables, colours, %\n",
    "\n",
    "# Adding a title\n",
    "plt.title('Full Time Result')\n",
    "\n",
    "# Adding a circle at the center to make it a donut chart\n",
    "my_circle=plt.Circle( (0,0), 0.8, color='white')\n",
    "\n",
    "# Current figure\n",
    "p=plt.gcf()\n",
    "p.gca().add_artivvvst(my_circle)"
   ]
  },
  {
   "cell_type": "markdown",
   "id": "7a070301-0a4b-40c1-a8de-abb986e6f3d4",
   "metadata": {},
   "source": [
    "<br>"
   ]
  },
  {
   "cell_type": "markdown",
   "id": "0542551c-9534-4f9a-98f7-24f1a8c1b213",
   "metadata": {},
   "source": [
    "As we can see, the majority of games ended in a home win."
   ]
  },
  {
   "cell_type": "markdown",
   "id": "86a728ff-65b2-4a96-bd55-7f5164e0c404",
   "metadata": {},
   "source": [
    "<br>"
   ]
  },
  {
   "cell_type": "markdown",
   "id": "5f6c82a1-e2c3-4ba4-aed1-1fc9cdf1847b",
   "metadata": {},
   "source": [
    "<br>"
   ]
  },
  {
   "cell_type": "markdown",
   "id": "a9e158a0-d3b0-4050-99f6-827a412c73af",
   "metadata": {},
   "source": [
    "<br>"
   ]
  },
  {
   "cell_type": "markdown",
   "id": "713cb086-3a64-4b79-84d1-4f59f79faaf9",
   "metadata": {},
   "source": [
    "<br>"
   ]
  },
  {
   "cell_type": "code",
   "execution_count": 447,
   "id": "59702109-ef12-4a4d-9eea-c33400ae382d",
   "metadata": {},
   "outputs": [],
   "source": [
    "# win, lose, draw\n",
    "wld = [3, 0, 1]"
   ]
  },
  {
   "cell_type": "code",
   "execution_count": 448,
   "id": "886b378a-9271-4cb0-9327-b15b9cc9f83a",
   "metadata": {},
   "outputs": [
    {
     "data": {
      "text/plain": [
       "[3, 0, 1]"
      ]
     },
     "execution_count": 448,
     "metadata": {},
     "output_type": "execute_result"
    }
   ],
   "source": [
    "wld"
   ]
  },
  {
   "cell_type": "markdown",
   "id": "4cf2d885-4ff9-4d53-88ee-0fe7ea52b76e",
   "metadata": {},
   "source": [
    "<br>"
   ]
  },
  {
   "cell_type": "code",
   "execution_count": 449,
   "id": "c280a5e7-b02b-4270-9477-2336548ef10b",
   "metadata": {},
   "outputs": [],
   "source": [
    "# Generating point outcome for home or away team\n",
    "home_outcome = rng.choice(wld,  p=[0.6,0.1,0.3])\n"
   ]
  },
  {
   "cell_type": "code",
   "execution_count": 450,
   "id": "77c8e832-4a2f-46ce-812c-d39fc2d40abc",
   "metadata": {},
   "outputs": [
    {
     "data": {
      "text/plain": [
       "3"
      ]
     },
     "execution_count": 450,
     "metadata": {},
     "output_type": "execute_result"
    }
   ],
   "source": [
    "home_outcome"
   ]
  },
  {
   "cell_type": "code",
   "execution_count": 451,
   "id": "1742835b-fa90-4c0a-ac2e-6b63fce61083",
   "metadata": {},
   "outputs": [],
   "source": [
    "away_outcome = rng.choice(wld, p=[0.1,0.6,0.3])"
   ]
  },
  {
   "cell_type": "code",
   "execution_count": 452,
   "id": "b88b9b29-3630-494d-818b-3dd44298fc51",
   "metadata": {},
   "outputs": [
    {
     "data": {
      "text/plain": [
       "0"
      ]
     },
     "execution_count": 452,
     "metadata": {},
     "output_type": "execute_result"
    }
   ],
   "source": [
    "away_outcome"
   ]
  },
  {
   "cell_type": "markdown",
   "id": "75c26a11-e43b-43c5-b236-4e6fd779f24d",
   "metadata": {},
   "source": [
    "<br>"
   ]
  },
  {
   "cell_type": "markdown",
   "id": "14e6298c-5ea4-4bda-bfde-3e4ec869fb31",
   "metadata": {},
   "source": [
    "<br>"
   ]
  },
  {
   "cell_type": "markdown",
   "id": "3abee3b2-c147-4cea-b36f-db412f465993",
   "metadata": {},
   "source": [
    "<br>"
   ]
  },
  {
   "cell_type": "markdown",
   "id": "023c28f4-8da5-460e-b0da-172dd9d348a3",
   "metadata": {},
   "source": [
    "<br>"
   ]
  },
  {
   "cell_type": "code",
   "execution_count": 224,
   "id": "927b7976-4397-484b-b6f0-154e6c6cd33b",
   "metadata": {},
   "outputs": [
    {
     "data": {
      "text/plain": [
       "5.89375"
      ]
     },
     "execution_count": 224,
     "metadata": {},
     "output_type": "execute_result"
    }
   ],
   "source": [
    "# Average goals scored at home = total home goals scored in the season / total number of home games\n",
    "\n",
    "data['HC'].mean()"
   ]
  },
  {
   "cell_type": "code",
   "execution_count": 225,
   "id": "dc5af889-d28c-435e-8af1-d051a923faa7",
   "metadata": {},
   "outputs": [
    {
     "data": {
      "text/plain": [
       "4.9"
      ]
     },
     "execution_count": 225,
     "metadata": {},
     "output_type": "execute_result"
    }
   ],
   "source": [
    "data['AC'].mean()"
   ]
  },
  {
   "cell_type": "code",
   "execution_count": 227,
   "id": "8cfdf05d-e4af-4279-9ba1-e22eaf2fbea5",
   "metadata": {},
   "outputs": [
    {
     "data": {
      "text/plain": [
       "array([ 6,  8,  6,  5,  6,  9,  6,  4,  4,  5,  3,  6,  3,  6,  8,  6,  8,\n",
       "        7,  0,  4,  3,  2,  3,  8,  7,  2,  7,  4,  4,  8,  6,  5,  7,  7,\n",
       "        8,  5, 10,  9,  7, 11,  6,  5,  9,  5,  5,  7,  8,  5,  4,  6,  6,\n",
       "        8,  4,  6,  7,  1,  4,  8,  2,  4, 10,  4,  9,  5,  3,  6,  4,  5,\n",
       "        6,  6,  4,  5,  6,  6,  5,  6,  6,  5,  1,  3,  4,  4,  5,  5,  4,\n",
       "        4,  1,  8,  7,  3,  5,  6,  5,  4,  6,  6,  2,  8,  3,  5],\n",
       "      dtype=int64)"
      ]
     },
     "execution_count": 227,
     "metadata": {},
     "output_type": "execute_result"
    }
   ],
   "source": [
    "rng.poisson(5, 100)"
   ]
  },
  {
   "cell_type": "markdown",
   "id": "403763ac-924d-449f-a070-c4284e3c2f78",
   "metadata": {},
   "source": [
    "<br>"
   ]
  },
  {
   "cell_type": "markdown",
   "id": "60c16563-5cc9-4f0e-bcbd-b35f781efe29",
   "metadata": {},
   "source": [
    "### Corners"
   ]
  },
  {
   "cell_type": "code",
   "execution_count": 472,
   "id": "d864249a-7275-42b9-8855-6faf9ff9daa7",
   "metadata": {},
   "outputs": [
    {
     "data": {
      "text/plain": [
       "<matplotlib.legend.Legend at 0x228a97cab50>"
      ]
     },
     "execution_count": 472,
     "metadata": {},
     "output_type": "execute_result"
    },
    {
     "data": {
      "image/png": "[encoded data removed]",
      "text/plain": [
       "<Figure size 1080x720 with 1 Axes>"
      ]
     },
     "metadata": {},
     "output_type": "display_data"
    }
   ],
   "source": [
    "data['HC'].plot.kde()\n",
    "data['AC'].plot.kde()\n",
    "\n",
    "plt.legend()"
   ]
  },
  {
   "cell_type": "markdown",
   "id": "17ef9371-744a-44cc-badb-8b3dafa6d0f4",
   "metadata": {},
   "source": [
    "<br>"
   ]
  },
  {
   "cell_type": "markdown",
   "id": "8f309265-fcdf-4761-affd-0dcb8f6c07d4",
   "metadata": {},
   "source": [
    "<br>"
   ]
  },
  {
   "cell_type": "code",
   "execution_count": 473,
   "id": "29b7f786-eb40-4760-8cfa-350b75c7d22e",
   "metadata": {},
   "outputs": [
    {
     "name": "stdout",
     "output_type": "stream",
     "text": [
      "Home shots skewness: 0.717723\n",
      "Home shots kurtosis: 0.465799\n",
      "***************************************************\n",
      "Away shots skewness: 0.674291\n",
      "Away shots kurtosis: 0.788109\n"
     ]
    }
   ],
   "source": [
    "# Getting skew and kurtosis for \n",
    "print(\"Home shots skewness: %f\" % data['HC'].skew())\n",
    "print(\"Home shots kurtosis: %f\" % data['HC'].kurt())\n",
    "print('***************************************************')\n",
    "# Getting skew and kurtosis for \n",
    "print(\"Away shots skewness: %f\" % data['AC'].skew())\n",
    "print(\"Away shots kurtosis: %f\" % data['AC'].kurt())"
   ]
  },
  {
   "cell_type": "markdown",
   "id": "41bc75a6-531a-4906-9c3d-f095c3000c24",
   "metadata": {},
   "source": [
    "<br>"
   ]
  },
  {
   "cell_type": "code",
   "execution_count": 474,
   "id": "47bad31e-b562-4bb6-9bc6-48640fa66d0c",
   "metadata": {},
   "outputs": [],
   "source": [
    "def corner(playing):\n",
    "    \n",
    "        if playing['played'] == 'home':\n",
    "            a =  rng.poisson(lam=6, size=90)\n",
    "            return rng.choice(a)\n",
    "        elif playing['played'] == 'away':\n",
    "            b =  rng.poisson(lam=5, size=90)\n",
    "            return rng.choice(b)"
   ]
  },
  {
   "cell_type": "code",
   "execution_count": 475,
   "id": "b43c6e7c-b120-4da6-aeca-64df58c49b45",
   "metadata": {},
   "outputs": [],
   "source": [
    "# Applying function \n",
    "df['corners'] = df.apply(lambda playing: corner(playing), axis=1)"
   ]
  },
  {
   "cell_type": "code",
   "execution_count": 476,
   "id": "72c638a1-ef38-4552-a744-68ccc4b9261a",
   "metadata": {},
   "outputs": [
    {
     "data": {
      "text/html": [
       "<div>\n",
       "<style scoped>\n",
       "    .dataframe tbody tr th:only-of-type {\n",
       "        vertical-align: middle;\n",
       "    }\n",
       "\n",
       "    .dataframe tbody tr th {\n",
       "        vertical-align: top;\n",
       "    }\n",
       "\n",
       "    .dataframe thead th {\n",
       "        text-align: right;\n",
       "    }\n",
       "</style>\n",
       "<table border=\"1\" class=\"dataframe\">\n",
       "  <thead>\n",
       "    <tr style=\"text-align: right;\">\n",
       "      <th></th>\n",
       "      <th>team</th>\n",
       "      <th>played</th>\n",
       "      <th>points</th>\n",
       "      <th>shots</th>\n",
       "      <th>shots on target</th>\n",
       "      <th>corners</th>\n",
       "      <th>yellow cards</th>\n",
       "      <th>red cards</th>\n",
       "    </tr>\n",
       "  </thead>\n",
       "  <tbody>\n",
       "    <tr>\n",
       "      <th>0</th>\n",
       "      <td>1</td>\n",
       "      <td>home</td>\n",
       "      <td>3</td>\n",
       "      <td>NaN</td>\n",
       "      <td>NaN</td>\n",
       "      <td>3</td>\n",
       "      <td>1</td>\n",
       "      <td>0</td>\n",
       "    </tr>\n",
       "    <tr>\n",
       "      <th>1</th>\n",
       "      <td>2</td>\n",
       "      <td>home</td>\n",
       "      <td>3</td>\n",
       "      <td>NaN</td>\n",
       "      <td>NaN</td>\n",
       "      <td>4</td>\n",
       "      <td>1</td>\n",
       "      <td>2</td>\n",
       "    </tr>\n",
       "    <tr>\n",
       "      <th>2</th>\n",
       "      <td>3</td>\n",
       "      <td>home</td>\n",
       "      <td>3</td>\n",
       "      <td>NaN</td>\n",
       "      <td>NaN</td>\n",
       "      <td>6</td>\n",
       "      <td>0</td>\n",
       "      <td>0</td>\n",
       "    </tr>\n",
       "    <tr>\n",
       "      <th>3</th>\n",
       "      <td>4</td>\n",
       "      <td>home</td>\n",
       "      <td>3</td>\n",
       "      <td>NaN</td>\n",
       "      <td>NaN</td>\n",
       "      <td>7</td>\n",
       "      <td>0</td>\n",
       "      <td>0</td>\n",
       "    </tr>\n",
       "    <tr>\n",
       "      <th>4</th>\n",
       "      <td>5</td>\n",
       "      <td>away</td>\n",
       "      <td>0</td>\n",
       "      <td>NaN</td>\n",
       "      <td>NaN</td>\n",
       "      <td>1</td>\n",
       "      <td>0</td>\n",
       "      <td>0</td>\n",
       "    </tr>\n",
       "    <tr>\n",
       "      <th>...</th>\n",
       "      <td>...</td>\n",
       "      <td>...</td>\n",
       "      <td>...</td>\n",
       "      <td>...</td>\n",
       "      <td>...</td>\n",
       "      <td>...</td>\n",
       "      <td>...</td>\n",
       "      <td>...</td>\n",
       "    </tr>\n",
       "    <tr>\n",
       "      <th>95</th>\n",
       "      <td>96</td>\n",
       "      <td>home</td>\n",
       "      <td>3</td>\n",
       "      <td>NaN</td>\n",
       "      <td>NaN</td>\n",
       "      <td>5</td>\n",
       "      <td>1</td>\n",
       "      <td>0</td>\n",
       "    </tr>\n",
       "    <tr>\n",
       "      <th>96</th>\n",
       "      <td>97</td>\n",
       "      <td>away</td>\n",
       "      <td>0</td>\n",
       "      <td>NaN</td>\n",
       "      <td>NaN</td>\n",
       "      <td>4</td>\n",
       "      <td>3</td>\n",
       "      <td>0</td>\n",
       "    </tr>\n",
       "    <tr>\n",
       "      <th>97</th>\n",
       "      <td>98</td>\n",
       "      <td>home</td>\n",
       "      <td>3</td>\n",
       "      <td>NaN</td>\n",
       "      <td>NaN</td>\n",
       "      <td>7</td>\n",
       "      <td>3</td>\n",
       "      <td>0</td>\n",
       "    </tr>\n",
       "    <tr>\n",
       "      <th>98</th>\n",
       "      <td>99</td>\n",
       "      <td>away</td>\n",
       "      <td>0</td>\n",
       "      <td>NaN</td>\n",
       "      <td>NaN</td>\n",
       "      <td>5</td>\n",
       "      <td>2</td>\n",
       "      <td>0</td>\n",
       "    </tr>\n",
       "    <tr>\n",
       "      <th>99</th>\n",
       "      <td>100</td>\n",
       "      <td>away</td>\n",
       "      <td>0</td>\n",
       "      <td>NaN</td>\n",
       "      <td>NaN</td>\n",
       "      <td>5</td>\n",
       "      <td>2</td>\n",
       "      <td>1</td>\n",
       "    </tr>\n",
       "  </tbody>\n",
       "</table>\n",
       "<p>100 rows × 8 columns</p>\n",
       "</div>"
      ],
      "text/plain": [
       "    team played  points shots shots on target  corners  yellow cards  \\\n",
       "0      1   home       3   NaN             NaN        3             1   \n",
       "1      2   home       3   NaN             NaN        4             1   \n",
       "2      3   home       3   NaN             NaN        6             0   \n",
       "3      4   home       3   NaN             NaN        7             0   \n",
       "4      5   away       0   NaN             NaN        1             0   \n",
       "..   ...    ...     ...   ...             ...      ...           ...   \n",
       "95    96   home       3   NaN             NaN        5             1   \n",
       "96    97   away       0   NaN             NaN        4             3   \n",
       "97    98   home       3   NaN             NaN        7             3   \n",
       "98    99   away       0   NaN             NaN        5             2   \n",
       "99   100   away       0   NaN             NaN        5             2   \n",
       "\n",
       "    red cards  \n",
       "0           0  \n",
       "1           2  \n",
       "2           0  \n",
       "3           0  \n",
       "4           0  \n",
       "..        ...  \n",
       "95          0  \n",
       "96          0  \n",
       "97          0  \n",
       "98          0  \n",
       "99          1  \n",
       "\n",
       "[100 rows x 8 columns]"
      ]
     },
     "execution_count": 476,
     "metadata": {},
     "output_type": "execute_result"
    }
   ],
   "source": [
    "df"
   ]
  },
  {
   "cell_type": "code",
   "execution_count": 477,
   "id": "875ebfef-1c97-4544-a013-30d1e5a5786c",
   "metadata": {},
   "outputs": [
    {
     "data": {
      "text/plain": [
       "6     18\n",
       "7     17\n",
       "4     16\n",
       "5     12\n",
       "8     10\n",
       "3      8\n",
       "2      7\n",
       "9      4\n",
       "1      3\n",
       "10     2\n",
       "13     1\n",
       "0      1\n",
       "12     1\n",
       "Name: corners, dtype: int64"
      ]
     },
     "execution_count": 477,
     "metadata": {},
     "output_type": "execute_result"
    }
   ],
   "source": [
    "df['corners'].value_counts()\n"
   ]
  },
  {
   "cell_type": "markdown",
   "id": "64b96757-e623-42c1-99ee-48d2ebc4b5b2",
   "metadata": {},
   "source": [
    "<br>"
   ]
  },
  {
   "cell_type": "markdown",
   "id": "a4a828d5-43b8-4c8d-bed5-567b95ceb4b8",
   "metadata": {},
   "source": [
    "<br>"
   ]
  },
  {
   "cell_type": "markdown",
   "id": "4d352512-f498-48bb-adb6-da4da402d284",
   "metadata": {},
   "source": [
    "### Shots & Shots On Target"
   ]
  },
  {
   "cell_type": "markdown",
   "id": "c00744e1-0696-4ebd-bde5-93f02a77a4ae",
   "metadata": {},
   "source": [
    "<br>"
   ]
  },
  {
   "cell_type": "code",
   "execution_count": 478,
   "id": "e8baf1b7-b377-4bdb-97b2-5dee09081823",
   "metadata": {},
   "outputs": [
    {
     "data": {
      "text/plain": [
       "<matplotlib.legend.Legend at 0x228a98dd1c0>"
      ]
     },
     "execution_count": 478,
     "metadata": {},
     "output_type": "execute_result"
    },
    {
     "data": {
      "image/png": "[encoded data removed]",
      "text/plain": [
       "<Figure size 1080x720 with 1 Axes>"
      ]
     },
     "metadata": {},
     "output_type": "display_data"
    }
   ],
   "source": [
    "data['HS'].plot.kde()\n",
    "data['AS'].plot.kde()\n",
    "\n",
    "plt.legend()"
   ]
  },
  {
   "cell_type": "markdown",
   "id": "da9aeb9f-e77b-416c-8e1b-5d802ae52106",
   "metadata": {},
   "source": [
    "<br>"
   ]
  },
  {
   "cell_type": "code",
   "execution_count": 479,
   "id": "37afcb06-1c5a-4625-a247-7f975ddc01b4",
   "metadata": {},
   "outputs": [
    {
     "data": {
      "text/plain": [
       "13.56875"
      ]
     },
     "execution_count": 479,
     "metadata": {},
     "output_type": "execute_result"
    }
   ],
   "source": [
    "data['HS'].mean()\n"
   ]
  },
  {
   "cell_type": "code",
   "execution_count": 480,
   "id": "17dd93ec-76e8-42a9-9f65-bfafaf01c252",
   "metadata": {},
   "outputs": [
    {
     "data": {
      "text/plain": [
       "11.2875"
      ]
     },
     "execution_count": 480,
     "metadata": {},
     "output_type": "execute_result"
    }
   ],
   "source": [
    "data['AS'].mean()"
   ]
  },
  {
   "cell_type": "code",
   "execution_count": 481,
   "id": "7d65519a-0988-4b1c-8010-c73a87f9cba3",
   "metadata": {},
   "outputs": [
    {
     "data": {
      "text/plain": [
       "3"
      ]
     },
     "execution_count": 481,
     "metadata": {},
     "output_type": "execute_result"
    }
   ],
   "source": [
    "data['HS'].min()"
   ]
  },
  {
   "cell_type": "code",
   "execution_count": 482,
   "id": "31353df3-13c0-401f-ac77-1db75e9e2e21",
   "metadata": {},
   "outputs": [
    {
     "data": {
      "text/plain": [
       "1"
      ]
     },
     "execution_count": 482,
     "metadata": {},
     "output_type": "execute_result"
    }
   ],
   "source": [
    "data['AS'].min()"
   ]
  },
  {
   "cell_type": "markdown",
   "id": "8c4c256d-ea82-4cd5-be2e-6eea82461a02",
   "metadata": {},
   "source": [
    "<br>"
   ]
  },
  {
   "cell_type": "code",
   "execution_count": 483,
   "id": "c6ef5d04-a736-4464-a7f7-7042a1ed1539",
   "metadata": {},
   "outputs": [
    {
     "name": "stdout",
     "output_type": "stream",
     "text": [
      "Home shots skewness: 0.561730\n",
      "Home shots kurtosis: 0.327604\n",
      "***************************************************\n",
      "Away shots skewness: 0.533887\n",
      "Away shots kurtosis: -0.120357\n"
     ]
    }
   ],
   "source": [
    "# Getting skew and kurtosis for \n",
    "print(\"Home shots skewness: %f\" % data['HS'].skew())\n",
    "print(\"Home shots kurtosis: %f\" % data['HS'].kurt())\n",
    "print('***************************************************')\n",
    "# Getting skew and kurtosis for \n",
    "print(\"Away shots skewness: %f\" % data['AS'].skew())\n",
    "print(\"Away shots kurtosis: %f\" % data['AS'].kurt())"
   ]
  },
  {
   "cell_type": "markdown",
   "id": "109dddbc-81ae-4715-9ed6-313f8319c71c",
   "metadata": {},
   "source": [
    "<br>"
   ]
  },
  {
   "cell_type": "markdown",
   "id": "2aa06952-4350-4cd6-82cc-74805250118d",
   "metadata": {},
   "source": [
    "- Kurtosis: This is how heavily the tails of a distribution differ from those of a normal distribution i.e. if the tails have extreme values [32]. \n",
    "- Skewness: This is measure of the symmetry of a distribution."
   ]
  },
  {
   "cell_type": "markdown",
   "id": "340ac5e8-a509-490c-97d0-a71cb8d24124",
   "metadata": {},
   "source": [
    "- A skewness value greater than 1 or less than -1 indicates a highly skewed distribution. \n",
    "- A value between 0.5 and 1 or -0.5 and -1 is moderately skewed. \n",
    "- A value between -0.5 and 0.5 indicates that the distribution is fairly symmetrical [33]"
   ]
  },
  {
   "cell_type": "markdown",
   "id": "1410b606-06d8-4715-a61b-f819007fd845",
   "metadata": {},
   "source": [
    "<br>"
   ]
  },
  {
   "cell_type": "markdown",
   "id": "d3c84a72-181a-4be1-9393-9539854600d1",
   "metadata": {},
   "source": [
    "Based on the above we can say that both moderatley postively skewed. We can say it is a normal distrbution."
   ]
  },
  {
   "cell_type": "code",
   "execution_count": 484,
   "id": "2320847a-6826-4715-9fec-c15b457f3e6f",
   "metadata": {},
   "outputs": [],
   "source": [
    "def shot(playing):\n",
    "        if playing['played'] == 'home':\n",
    "            a =  rng.poisson(lam=14, size=90)\n",
    "            return rng.choice(a)\n",
    "        elif playing['played'] == 'away':\n",
    "            b =  rng.poisson(lam=11, size=90)\n",
    "            return rng.choice(b)\n",
    "        \n",
    "        "
   ]
  },
  {
   "cell_type": "code",
   "execution_count": 485,
   "id": "147d5c3b-f740-438b-8f31-9b563ec4d6ed",
   "metadata": {},
   "outputs": [],
   "source": [
    "# Applying function \n",
    "df['shots'] = df.apply(lambda playing: shot(playing), axis=1)"
   ]
  },
  {
   "cell_type": "code",
   "execution_count": 486,
   "id": "cc3de27f-20bc-433c-bda3-ef435d1958cf",
   "metadata": {},
   "outputs": [
    {
     "data": {
      "text/html": [
       "<div>\n",
       "<style scoped>\n",
       "    .dataframe tbody tr th:only-of-type {\n",
       "        vertical-align: middle;\n",
       "    }\n",
       "\n",
       "    .dataframe tbody tr th {\n",
       "        vertical-align: top;\n",
       "    }\n",
       "\n",
       "    .dataframe thead th {\n",
       "        text-align: right;\n",
       "    }\n",
       "</style>\n",
       "<table border=\"1\" class=\"dataframe\">\n",
       "  <thead>\n",
       "    <tr style=\"text-align: right;\">\n",
       "      <th></th>\n",
       "      <th>team</th>\n",
       "      <th>played</th>\n",
       "      <th>points</th>\n",
       "      <th>shots</th>\n",
       "      <th>shots on target</th>\n",
       "      <th>corners</th>\n",
       "      <th>yellow cards</th>\n",
       "      <th>red cards</th>\n",
       "    </tr>\n",
       "  </thead>\n",
       "  <tbody>\n",
       "    <tr>\n",
       "      <th>0</th>\n",
       "      <td>1</td>\n",
       "      <td>home</td>\n",
       "      <td>3</td>\n",
       "      <td>14</td>\n",
       "      <td>NaN</td>\n",
       "      <td>3</td>\n",
       "      <td>1</td>\n",
       "      <td>0</td>\n",
       "    </tr>\n",
       "    <tr>\n",
       "      <th>1</th>\n",
       "      <td>2</td>\n",
       "      <td>home</td>\n",
       "      <td>3</td>\n",
       "      <td>17</td>\n",
       "      <td>NaN</td>\n",
       "      <td>4</td>\n",
       "      <td>1</td>\n",
       "      <td>2</td>\n",
       "    </tr>\n",
       "    <tr>\n",
       "      <th>2</th>\n",
       "      <td>3</td>\n",
       "      <td>home</td>\n",
       "      <td>3</td>\n",
       "      <td>18</td>\n",
       "      <td>NaN</td>\n",
       "      <td>6</td>\n",
       "      <td>0</td>\n",
       "      <td>0</td>\n",
       "    </tr>\n",
       "    <tr>\n",
       "      <th>3</th>\n",
       "      <td>4</td>\n",
       "      <td>home</td>\n",
       "      <td>3</td>\n",
       "      <td>17</td>\n",
       "      <td>NaN</td>\n",
       "      <td>7</td>\n",
       "      <td>0</td>\n",
       "      <td>0</td>\n",
       "    </tr>\n",
       "    <tr>\n",
       "      <th>4</th>\n",
       "      <td>5</td>\n",
       "      <td>away</td>\n",
       "      <td>0</td>\n",
       "      <td>9</td>\n",
       "      <td>NaN</td>\n",
       "      <td>1</td>\n",
       "      <td>0</td>\n",
       "      <td>0</td>\n",
       "    </tr>\n",
       "    <tr>\n",
       "      <th>...</th>\n",
       "      <td>...</td>\n",
       "      <td>...</td>\n",
       "      <td>...</td>\n",
       "      <td>...</td>\n",
       "      <td>...</td>\n",
       "      <td>...</td>\n",
       "      <td>...</td>\n",
       "      <td>...</td>\n",
       "    </tr>\n",
       "    <tr>\n",
       "      <th>95</th>\n",
       "      <td>96</td>\n",
       "      <td>home</td>\n",
       "      <td>3</td>\n",
       "      <td>10</td>\n",
       "      <td>NaN</td>\n",
       "      <td>5</td>\n",
       "      <td>1</td>\n",
       "      <td>0</td>\n",
       "    </tr>\n",
       "    <tr>\n",
       "      <th>96</th>\n",
       "      <td>97</td>\n",
       "      <td>away</td>\n",
       "      <td>0</td>\n",
       "      <td>10</td>\n",
       "      <td>NaN</td>\n",
       "      <td>4</td>\n",
       "      <td>3</td>\n",
       "      <td>0</td>\n",
       "    </tr>\n",
       "    <tr>\n",
       "      <th>97</th>\n",
       "      <td>98</td>\n",
       "      <td>home</td>\n",
       "      <td>3</td>\n",
       "      <td>9</td>\n",
       "      <td>NaN</td>\n",
       "      <td>7</td>\n",
       "      <td>3</td>\n",
       "      <td>0</td>\n",
       "    </tr>\n",
       "    <tr>\n",
       "      <th>98</th>\n",
       "      <td>99</td>\n",
       "      <td>away</td>\n",
       "      <td>0</td>\n",
       "      <td>21</td>\n",
       "      <td>NaN</td>\n",
       "      <td>5</td>\n",
       "      <td>2</td>\n",
       "      <td>0</td>\n",
       "    </tr>\n",
       "    <tr>\n",
       "      <th>99</th>\n",
       "      <td>100</td>\n",
       "      <td>away</td>\n",
       "      <td>0</td>\n",
       "      <td>7</td>\n",
       "      <td>NaN</td>\n",
       "      <td>5</td>\n",
       "      <td>2</td>\n",
       "      <td>1</td>\n",
       "    </tr>\n",
       "  </tbody>\n",
       "</table>\n",
       "<p>100 rows × 8 columns</p>\n",
       "</div>"
      ],
      "text/plain": [
       "    team played  points  shots shots on target  corners  yellow cards  \\\n",
       "0      1   home       3     14             NaN        3             1   \n",
       "1      2   home       3     17             NaN        4             1   \n",
       "2      3   home       3     18             NaN        6             0   \n",
       "3      4   home       3     17             NaN        7             0   \n",
       "4      5   away       0      9             NaN        1             0   \n",
       "..   ...    ...     ...    ...             ...      ...           ...   \n",
       "95    96   home       3     10             NaN        5             1   \n",
       "96    97   away       0     10             NaN        4             3   \n",
       "97    98   home       3      9             NaN        7             3   \n",
       "98    99   away       0     21             NaN        5             2   \n",
       "99   100   away       0      7             NaN        5             2   \n",
       "\n",
       "    red cards  \n",
       "0           0  \n",
       "1           2  \n",
       "2           0  \n",
       "3           0  \n",
       "4           0  \n",
       "..        ...  \n",
       "95          0  \n",
       "96          0  \n",
       "97          0  \n",
       "98          0  \n",
       "99          1  \n",
       "\n",
       "[100 rows x 8 columns]"
      ]
     },
     "execution_count": 486,
     "metadata": {},
     "output_type": "execute_result"
    }
   ],
   "source": [
    "df"
   ]
  },
  {
   "cell_type": "code",
   "execution_count": 487,
   "id": "c0d45c0e-c750-433c-96d1-4fa6a006f70d",
   "metadata": {},
   "outputs": [
    {
     "data": {
      "text/plain": [
       "13    17\n",
       "14    11\n",
       "17    11\n",
       "10    11\n",
       "11    10\n",
       "9      7\n",
       "18     6\n",
       "12     6\n",
       "7      6\n",
       "16     5\n",
       "15     2\n",
       "6      2\n",
       "5      2\n",
       "8      2\n",
       "19     1\n",
       "21     1\n",
       "Name: shots, dtype: int64"
      ]
     },
     "execution_count": 487,
     "metadata": {},
     "output_type": "execute_result"
    }
   ],
   "source": [
    "df['shots'].value_counts()"
   ]
  },
  {
   "cell_type": "markdown",
   "id": "3596ba59-4412-40f6-8df5-63976e91c79e",
   "metadata": {},
   "source": [
    "<br>"
   ]
  },
  {
   "cell_type": "markdown",
   "id": "dc43d5dc-10f1-40a6-9c97-b9e4d2728ab4",
   "metadata": {},
   "source": [
    "<br>"
   ]
  },
  {
   "cell_type": "markdown",
   "id": "90d16519-4976-4143-95eb-29117576dea9",
   "metadata": {},
   "source": [
    "<br>"
   ]
  },
  {
   "cell_type": "markdown",
   "id": "8ca4d462-6f75-4d8e-9d48-a0c293c9944f",
   "metadata": {},
   "source": [
    "<br>"
   ]
  },
  {
   "cell_type": "markdown",
   "id": "443511cc-16c1-4879-99b9-8facf4cb14d4",
   "metadata": {},
   "source": [
    "<br>"
   ]
  },
  {
   "cell_type": "code",
   "execution_count": 488,
   "id": "15fd696e-5676-44d8-a743-fea18bc85266",
   "metadata": {},
   "outputs": [
    {
     "data": {
      "text/plain": [
       "<matplotlib.legend.Legend at 0x228a98e1ac0>"
      ]
     },
     "execution_count": 488,
     "metadata": {},
     "output_type": "execute_result"
    },
    {
     "data": {
      "image/png": "[encoded data removed]",
      "text/plain": [
       "<Figure size 1080x720 with 1 Axes>"
      ]
     },
     "metadata": {},
     "output_type": "display_data"
    }
   ],
   "source": [
    "data['HST'].plot.hist()\n",
    "data['AST'].plot.hist()\n",
    "\n",
    "plt.legend()"
   ]
  },
  {
   "cell_type": "markdown",
   "id": "35f5ab48-10c6-4858-9bb7-7b0741065433",
   "metadata": {},
   "source": [
    "<br>"
   ]
  },
  {
   "cell_type": "code",
   "execution_count": 489,
   "id": "39a2acf1-8d11-4b96-8389-cae3d1faf985",
   "metadata": {},
   "outputs": [
    {
     "name": "stdout",
     "output_type": "stream",
     "text": [
      "Home shots skewness: 0.578841\n",
      "Home shots kurtosis: 0.163859\n",
      "***************************************************\n",
      "Away shots skewness: 0.959737\n",
      "Away shots kurtosis: 1.115015\n"
     ]
    }
   ],
   "source": [
    "# Getting skew and kurtosis for \n",
    "print(\"Home shots skewness: %f\" % data['HST'].skew())\n",
    "print(\"Home shots kurtosis: %f\" % data['HST'].kurt())\n",
    "print('***************************************************')\n",
    "# Getting skew and kurtosis for \n",
    "print(\"Away shots skewness: %f\" % data['AST'].skew())\n",
    "print(\"Away shots kurtosis: %f\" % data['AST'].kurt())"
   ]
  },
  {
   "cell_type": "markdown",
   "id": "540dc813-e575-4e29-aeec-be564c03212c",
   "metadata": {},
   "source": [
    "<br>"
   ]
  },
  {
   "cell_type": "code",
   "execution_count": 490,
   "id": "5f03784c-400b-451b-9f5e-e82d827fbb5f",
   "metadata": {},
   "outputs": [],
   "source": [
    "def target(playing):\n",
    "        if playing['played'] == 'home':\n",
    "            a =  rng.poisson(lam=5, size=90)\n",
    "            return rng.choice(a)\n",
    "        elif playing['played'] == 'away':\n",
    "            b =  rng.poisson(lam=4, size=90)\n",
    "            return rng.choice(b)"
   ]
  },
  {
   "cell_type": "code",
   "execution_count": 491,
   "id": "9ef1e2da-e90d-459d-af53-aa28de31bb73",
   "metadata": {},
   "outputs": [],
   "source": [
    "# Applying function \n",
    "df['shots on target'] = round(df.apply(lambda playing: target(playing), axis=1))"
   ]
  },
  {
   "cell_type": "code",
   "execution_count": 492,
   "id": "06d14db4-b485-41df-bcac-f085b8e165cb",
   "metadata": {},
   "outputs": [
    {
     "data": {
      "text/html": [
       "<div>\n",
       "<style scoped>\n",
       "    .dataframe tbody tr th:only-of-type {\n",
       "        vertical-align: middle;\n",
       "    }\n",
       "\n",
       "    .dataframe tbody tr th {\n",
       "        vertical-align: top;\n",
       "    }\n",
       "\n",
       "    .dataframe thead th {\n",
       "        text-align: right;\n",
       "    }\n",
       "</style>\n",
       "<table border=\"1\" class=\"dataframe\">\n",
       "  <thead>\n",
       "    <tr style=\"text-align: right;\">\n",
       "      <th></th>\n",
       "      <th>team</th>\n",
       "      <th>played</th>\n",
       "      <th>points</th>\n",
       "      <th>shots</th>\n",
       "      <th>shots on target</th>\n",
       "      <th>corners</th>\n",
       "      <th>yellow cards</th>\n",
       "      <th>red cards</th>\n",
       "    </tr>\n",
       "  </thead>\n",
       "  <tbody>\n",
       "    <tr>\n",
       "      <th>0</th>\n",
       "      <td>1</td>\n",
       "      <td>home</td>\n",
       "      <td>3</td>\n",
       "      <td>14</td>\n",
       "      <td>7</td>\n",
       "      <td>3</td>\n",
       "      <td>1</td>\n",
       "      <td>0</td>\n",
       "    </tr>\n",
       "    <tr>\n",
       "      <th>1</th>\n",
       "      <td>2</td>\n",
       "      <td>home</td>\n",
       "      <td>3</td>\n",
       "      <td>17</td>\n",
       "      <td>4</td>\n",
       "      <td>4</td>\n",
       "      <td>1</td>\n",
       "      <td>2</td>\n",
       "    </tr>\n",
       "    <tr>\n",
       "      <th>2</th>\n",
       "      <td>3</td>\n",
       "      <td>home</td>\n",
       "      <td>3</td>\n",
       "      <td>18</td>\n",
       "      <td>4</td>\n",
       "      <td>6</td>\n",
       "      <td>0</td>\n",
       "      <td>0</td>\n",
       "    </tr>\n",
       "    <tr>\n",
       "      <th>3</th>\n",
       "      <td>4</td>\n",
       "      <td>home</td>\n",
       "      <td>3</td>\n",
       "      <td>17</td>\n",
       "      <td>9</td>\n",
       "      <td>7</td>\n",
       "      <td>0</td>\n",
       "      <td>0</td>\n",
       "    </tr>\n",
       "    <tr>\n",
       "      <th>4</th>\n",
       "      <td>5</td>\n",
       "      <td>away</td>\n",
       "      <td>0</td>\n",
       "      <td>9</td>\n",
       "      <td>2</td>\n",
       "      <td>1</td>\n",
       "      <td>0</td>\n",
       "      <td>0</td>\n",
       "    </tr>\n",
       "    <tr>\n",
       "      <th>...</th>\n",
       "      <td>...</td>\n",
       "      <td>...</td>\n",
       "      <td>...</td>\n",
       "      <td>...</td>\n",
       "      <td>...</td>\n",
       "      <td>...</td>\n",
       "      <td>...</td>\n",
       "      <td>...</td>\n",
       "    </tr>\n",
       "    <tr>\n",
       "      <th>95</th>\n",
       "      <td>96</td>\n",
       "      <td>home</td>\n",
       "      <td>3</td>\n",
       "      <td>10</td>\n",
       "      <td>6</td>\n",
       "      <td>5</td>\n",
       "      <td>1</td>\n",
       "      <td>0</td>\n",
       "    </tr>\n",
       "    <tr>\n",
       "      <th>96</th>\n",
       "      <td>97</td>\n",
       "      <td>away</td>\n",
       "      <td>0</td>\n",
       "      <td>10</td>\n",
       "      <td>1</td>\n",
       "      <td>4</td>\n",
       "      <td>3</td>\n",
       "      <td>0</td>\n",
       "    </tr>\n",
       "    <tr>\n",
       "      <th>97</th>\n",
       "      <td>98</td>\n",
       "      <td>home</td>\n",
       "      <td>3</td>\n",
       "      <td>9</td>\n",
       "      <td>5</td>\n",
       "      <td>7</td>\n",
       "      <td>3</td>\n",
       "      <td>0</td>\n",
       "    </tr>\n",
       "    <tr>\n",
       "      <th>98</th>\n",
       "      <td>99</td>\n",
       "      <td>away</td>\n",
       "      <td>0</td>\n",
       "      <td>21</td>\n",
       "      <td>0</td>\n",
       "      <td>5</td>\n",
       "      <td>2</td>\n",
       "      <td>0</td>\n",
       "    </tr>\n",
       "    <tr>\n",
       "      <th>99</th>\n",
       "      <td>100</td>\n",
       "      <td>away</td>\n",
       "      <td>0</td>\n",
       "      <td>7</td>\n",
       "      <td>3</td>\n",
       "      <td>5</td>\n",
       "      <td>2</td>\n",
       "      <td>1</td>\n",
       "    </tr>\n",
       "  </tbody>\n",
       "</table>\n",
       "<p>100 rows × 8 columns</p>\n",
       "</div>"
      ],
      "text/plain": [
       "    team played  points  shots  shots on target  corners  yellow cards  \\\n",
       "0      1   home       3     14                7        3             1   \n",
       "1      2   home       3     17                4        4             1   \n",
       "2      3   home       3     18                4        6             0   \n",
       "3      4   home       3     17                9        7             0   \n",
       "4      5   away       0      9                2        1             0   \n",
       "..   ...    ...     ...    ...              ...      ...           ...   \n",
       "95    96   home       3     10                6        5             1   \n",
       "96    97   away       0     10                1        4             3   \n",
       "97    98   home       3      9                5        7             3   \n",
       "98    99   away       0     21                0        5             2   \n",
       "99   100   away       0      7                3        5             2   \n",
       "\n",
       "    red cards  \n",
       "0           0  \n",
       "1           2  \n",
       "2           0  \n",
       "3           0  \n",
       "4           0  \n",
       "..        ...  \n",
       "95          0  \n",
       "96          0  \n",
       "97          0  \n",
       "98          0  \n",
       "99          1  \n",
       "\n",
       "[100 rows x 8 columns]"
      ]
     },
     "execution_count": 492,
     "metadata": {},
     "output_type": "execute_result"
    }
   ],
   "source": [
    "df"
   ]
  },
  {
   "cell_type": "code",
   "execution_count": 493,
   "id": "63bc2cdf-af46-459e-b52f-e0ad176d61ab",
   "metadata": {},
   "outputs": [
    {
     "data": {
      "text/plain": [
       "4     22\n",
       "3     18\n",
       "6     18\n",
       "2     17\n",
       "5      8\n",
       "7      5\n",
       "1      5\n",
       "9      3\n",
       "8      2\n",
       "10     1\n",
       "0      1\n",
       "Name: shots on target, dtype: int64"
      ]
     },
     "execution_count": 493,
     "metadata": {},
     "output_type": "execute_result"
    }
   ],
   "source": [
    "df['shots on target'].value_counts()"
   ]
  },
  {
   "cell_type": "code",
   "execution_count": 494,
   "id": "8db4ec95-9330-4e03-a0aa-446b810679c1",
   "metadata": {},
   "outputs": [
    {
     "data": {
      "text/html": [
       "<div>\n",
       "<style scoped>\n",
       "    .dataframe tbody tr th:only-of-type {\n",
       "        vertical-align: middle;\n",
       "    }\n",
       "\n",
       "    .dataframe tbody tr th {\n",
       "        vertical-align: top;\n",
       "    }\n",
       "\n",
       "    .dataframe thead th {\n",
       "        text-align: right;\n",
       "    }\n",
       "</style>\n",
       "<table border=\"1\" class=\"dataframe\">\n",
       "  <thead>\n",
       "    <tr style=\"text-align: right;\">\n",
       "      <th></th>\n",
       "      <th>team</th>\n",
       "      <th>played</th>\n",
       "      <th>points</th>\n",
       "      <th>shots</th>\n",
       "      <th>shots on target</th>\n",
       "      <th>corners</th>\n",
       "      <th>yellow cards</th>\n",
       "      <th>red cards</th>\n",
       "    </tr>\n",
       "  </thead>\n",
       "  <tbody>\n",
       "    <tr>\n",
       "      <th>98</th>\n",
       "      <td>99</td>\n",
       "      <td>away</td>\n",
       "      <td>0</td>\n",
       "      <td>21</td>\n",
       "      <td>0</td>\n",
       "      <td>5</td>\n",
       "      <td>2</td>\n",
       "      <td>0</td>\n",
       "    </tr>\n",
       "  </tbody>\n",
       "</table>\n",
       "</div>"
      ],
      "text/plain": [
       "    team played  points  shots  shots on target  corners  yellow cards  \\\n",
       "98    99   away       0     21                0        5             2   \n",
       "\n",
       "    red cards  \n",
       "98          0  "
      ]
     },
     "execution_count": 494,
     "metadata": {},
     "output_type": "execute_result"
    }
   ],
   "source": [
    "df.loc[df['shots on target'] == 0]"
   ]
  },
  {
   "cell_type": "markdown",
   "id": "c7717200-38f0-49c7-8b3e-55259541925d",
   "metadata": {},
   "source": [
    "<br>"
   ]
  },
  {
   "cell_type": "markdown",
   "id": "0795b2e5-073e-496c-afb1-3156c326108a",
   "metadata": {},
   "source": [
    "<br>"
   ]
  },
  {
   "cell_type": "code",
   "execution_count": 495,
   "id": "44609283-ec89-4d24-9e2c-791d04053e5b",
   "metadata": {},
   "outputs": [
    {
     "data": {
      "text/plain": [
       "4.640625"
      ]
     },
     "execution_count": 495,
     "metadata": {},
     "output_type": "execute_result"
    }
   ],
   "source": [
    "data['HST'].mean()"
   ]
  },
  {
   "cell_type": "code",
   "execution_count": 496,
   "id": "bd7e315f-f59a-465c-a335-ffabfe21ab33",
   "metadata": {},
   "outputs": [
    {
     "data": {
      "text/plain": [
       "3.996875"
      ]
     },
     "execution_count": 496,
     "metadata": {},
     "output_type": "execute_result"
    }
   ],
   "source": [
    "data['AST'].mean()"
   ]
  },
  {
   "cell_type": "code",
   "execution_count": 497,
   "id": "9d5a1b1a-6378-4db5-8cfd-d4e6ef3d4c43",
   "metadata": {},
   "outputs": [
    {
     "data": {
      "text/plain": [
       "13"
      ]
     },
     "execution_count": 497,
     "metadata": {},
     "output_type": "execute_result"
    }
   ],
   "source": [
    "data['HST'].max()"
   ]
  },
  {
   "cell_type": "code",
   "execution_count": 498,
   "id": "01c0dccd-7665-43a9-9d2d-0dd471ea4112",
   "metadata": {},
   "outputs": [
    {
     "data": {
      "text/plain": [
       "0"
      ]
     },
     "execution_count": 498,
     "metadata": {},
     "output_type": "execute_result"
    }
   ],
   "source": [
    "data['HST'].min()"
   ]
  },
  {
   "cell_type": "code",
   "execution_count": 499,
   "id": "5dbd3d5e-b987-4bfa-8abb-6ed52e7bc2b3",
   "metadata": {},
   "outputs": [
    {
     "data": {
      "text/plain": [
       "15"
      ]
     },
     "execution_count": 499,
     "metadata": {},
     "output_type": "execute_result"
    }
   ],
   "source": [
    "data['AST'].max()"
   ]
  },
  {
   "cell_type": "code",
   "execution_count": 500,
   "id": "13e9b287-db6b-4620-900b-83356bf692ad",
   "metadata": {},
   "outputs": [
    {
     "data": {
      "text/plain": [
       "0"
      ]
     },
     "execution_count": 500,
     "metadata": {},
     "output_type": "execute_result"
    }
   ],
   "source": [
    "data['AST'].min()"
   ]
  },
  {
   "cell_type": "markdown",
   "id": "c01cefef-1d28-4379-8855-ef4d7fa42efd",
   "metadata": {},
   "source": [
    "<br>"
   ]
  },
  {
   "cell_type": "markdown",
   "id": "0ea5f8c5-3a02-41a9-9e4a-e3d01c166e8e",
   "metadata": {},
   "source": [
    "<br>"
   ]
  },
  {
   "cell_type": "markdown",
   "id": "c6466eac-96ae-4b74-9903-f3177be8676f",
   "metadata": {},
   "source": [
    "<br>"
   ]
  },
  {
   "cell_type": "markdown",
   "id": "59d5aed5-af65-4654-9ad8-88c5bda8845e",
   "metadata": {},
   "source": [
    "<br>"
   ]
  },
  {
   "cell_type": "markdown",
   "id": "3f2f0da5-8a39-4c76-bfcd-c8386f7be8ab",
   "metadata": {},
   "source": [
    "<br>"
   ]
  },
  {
   "cell_type": "markdown",
   "id": "3a4adb94-0521-446e-a255-883aba941443",
   "metadata": {},
   "source": [
    "<br>"
   ]
  },
  {
   "cell_type": "code",
   "execution_count": 444,
   "id": "386dba8a-156e-437c-a366-e4ae3a82f38a",
   "metadata": {},
   "outputs": [],
   "source": [
    "df = pd.DataFrame(columns=['team', 'played', 'points', 'shots', 'shots on target', 'corners', 'yellow cards', 'red cards'])"
   ]
  },
  {
   "cell_type": "markdown",
   "id": "cb5277fc-3ec5-4770-afe9-f6e0cb8f61f9",
   "metadata": {},
   "source": [
    "<br>"
   ]
  },
  {
   "cell_type": "markdown",
   "id": "3d6a89e0-a5a2-45e1-ab55-e5c256b8fb76",
   "metadata": {},
   "source": [
    "<br>"
   ]
  },
  {
   "cell_type": "code",
   "execution_count": 453,
   "id": "b54d6da6-d066-4fbb-b94b-fe27db373d2d",
   "metadata": {},
   "outputs": [],
   "source": [
    "# Creating a function to detemine points\n",
    "def points(row): \n",
    "    if row['played'] == 'home':\n",
    "        return home_outcome\n",
    "    if row['played'] == 'away':\n",
    "        return away_outcome"
   ]
  },
  {
   "cell_type": "code",
   "execution_count": 454,
   "id": "90ac98f7-f5a6-4b2f-9af3-e8dd5b151a99",
   "metadata": {},
   "outputs": [],
   "source": [
    "# Applying function \n",
    "df['points'] = df.apply(lambda row: points(row), axis=1)"
   ]
  },
  {
   "cell_type": "code",
   "execution_count": null,
   "id": "0f2a2131-6762-42b4-bb21-1d503de04e58",
   "metadata": {},
   "outputs": [],
   "source": []
  },
  {
   "cell_type": "code",
   "execution_count": 455,
   "id": "af69f824-866d-4bf5-ab15-6caa2958571a",
   "metadata": {},
   "outputs": [
    {
     "data": {
      "text/html": [
       "<div>\n",
       "<style scoped>\n",
       "    .dataframe tbody tr th:only-of-type {\n",
       "        vertical-align: middle;\n",
       "    }\n",
       "\n",
       "    .dataframe tbody tr th {\n",
       "        vertical-align: top;\n",
       "    }\n",
       "\n",
       "    .dataframe thead th {\n",
       "        text-align: right;\n",
       "    }\n",
       "</style>\n",
       "<table border=\"1\" class=\"dataframe\">\n",
       "  <thead>\n",
       "    <tr style=\"text-align: right;\">\n",
       "      <th></th>\n",
       "      <th>team</th>\n",
       "      <th>played</th>\n",
       "      <th>points</th>\n",
       "      <th>shots</th>\n",
       "      <th>shots on target</th>\n",
       "      <th>corners</th>\n",
       "      <th>yellow cards</th>\n",
       "      <th>red cards</th>\n",
       "    </tr>\n",
       "  </thead>\n",
       "  <tbody>\n",
       "    <tr>\n",
       "      <th>0</th>\n",
       "      <td>1</td>\n",
       "      <td>home</td>\n",
       "      <td>3</td>\n",
       "      <td>NaN</td>\n",
       "      <td>NaN</td>\n",
       "      <td>NaN</td>\n",
       "      <td>NaN</td>\n",
       "      <td>NaN</td>\n",
       "    </tr>\n",
       "    <tr>\n",
       "      <th>1</th>\n",
       "      <td>2</td>\n",
       "      <td>home</td>\n",
       "      <td>3</td>\n",
       "      <td>NaN</td>\n",
       "      <td>NaN</td>\n",
       "      <td>NaN</td>\n",
       "      <td>NaN</td>\n",
       "      <td>NaN</td>\n",
       "    </tr>\n",
       "    <tr>\n",
       "      <th>2</th>\n",
       "      <td>3</td>\n",
       "      <td>home</td>\n",
       "      <td>3</td>\n",
       "      <td>NaN</td>\n",
       "      <td>NaN</td>\n",
       "      <td>NaN</td>\n",
       "      <td>NaN</td>\n",
       "      <td>NaN</td>\n",
       "    </tr>\n",
       "    <tr>\n",
       "      <th>3</th>\n",
       "      <td>4</td>\n",
       "      <td>home</td>\n",
       "      <td>3</td>\n",
       "      <td>NaN</td>\n",
       "      <td>NaN</td>\n",
       "      <td>NaN</td>\n",
       "      <td>NaN</td>\n",
       "      <td>NaN</td>\n",
       "    </tr>\n",
       "    <tr>\n",
       "      <th>4</th>\n",
       "      <td>5</td>\n",
       "      <td>away</td>\n",
       "      <td>0</td>\n",
       "      <td>NaN</td>\n",
       "      <td>NaN</td>\n",
       "      <td>NaN</td>\n",
       "      <td>NaN</td>\n",
       "      <td>NaN</td>\n",
       "    </tr>\n",
       "    <tr>\n",
       "      <th>...</th>\n",
       "      <td>...</td>\n",
       "      <td>...</td>\n",
       "      <td>...</td>\n",
       "      <td>...</td>\n",
       "      <td>...</td>\n",
       "      <td>...</td>\n",
       "      <td>...</td>\n",
       "      <td>...</td>\n",
       "    </tr>\n",
       "    <tr>\n",
       "      <th>95</th>\n",
       "      <td>96</td>\n",
       "      <td>home</td>\n",
       "      <td>3</td>\n",
       "      <td>NaN</td>\n",
       "      <td>NaN</td>\n",
       "      <td>NaN</td>\n",
       "      <td>NaN</td>\n",
       "      <td>NaN</td>\n",
       "    </tr>\n",
       "    <tr>\n",
       "      <th>96</th>\n",
       "      <td>97</td>\n",
       "      <td>away</td>\n",
       "      <td>0</td>\n",
       "      <td>NaN</td>\n",
       "      <td>NaN</td>\n",
       "      <td>NaN</td>\n",
       "      <td>NaN</td>\n",
       "      <td>NaN</td>\n",
       "    </tr>\n",
       "    <tr>\n",
       "      <th>97</th>\n",
       "      <td>98</td>\n",
       "      <td>home</td>\n",
       "      <td>3</td>\n",
       "      <td>NaN</td>\n",
       "      <td>NaN</td>\n",
       "      <td>NaN</td>\n",
       "      <td>NaN</td>\n",
       "      <td>NaN</td>\n",
       "    </tr>\n",
       "    <tr>\n",
       "      <th>98</th>\n",
       "      <td>99</td>\n",
       "      <td>away</td>\n",
       "      <td>0</td>\n",
       "      <td>NaN</td>\n",
       "      <td>NaN</td>\n",
       "      <td>NaN</td>\n",
       "      <td>NaN</td>\n",
       "      <td>NaN</td>\n",
       "    </tr>\n",
       "    <tr>\n",
       "      <th>99</th>\n",
       "      <td>100</td>\n",
       "      <td>away</td>\n",
       "      <td>0</td>\n",
       "      <td>NaN</td>\n",
       "      <td>NaN</td>\n",
       "      <td>NaN</td>\n",
       "      <td>NaN</td>\n",
       "      <td>NaN</td>\n",
       "    </tr>\n",
       "  </tbody>\n",
       "</table>\n",
       "<p>100 rows × 8 columns</p>\n",
       "</div>"
      ],
      "text/plain": [
       "    team played  points shots shots on target corners yellow cards red cards\n",
       "0      1   home       3   NaN             NaN     NaN          NaN       NaN\n",
       "1      2   home       3   NaN             NaN     NaN          NaN       NaN\n",
       "2      3   home       3   NaN             NaN     NaN          NaN       NaN\n",
       "3      4   home       3   NaN             NaN     NaN          NaN       NaN\n",
       "4      5   away       0   NaN             NaN     NaN          NaN       NaN\n",
       "..   ...    ...     ...   ...             ...     ...          ...       ...\n",
       "95    96   home       3   NaN             NaN     NaN          NaN       NaN\n",
       "96    97   away       0   NaN             NaN     NaN          NaN       NaN\n",
       "97    98   home       3   NaN             NaN     NaN          NaN       NaN\n",
       "98    99   away       0   NaN             NaN     NaN          NaN       NaN\n",
       "99   100   away       0   NaN             NaN     NaN          NaN       NaN\n",
       "\n",
       "[100 rows x 8 columns]"
      ]
     },
     "execution_count": 455,
     "metadata": {},
     "output_type": "execute_result"
    }
   ],
   "source": [
    "df"
   ]
  },
  {
   "cell_type": "markdown",
   "id": "8af4a131-a7fb-4bee-8597-1aca27f8aaea",
   "metadata": {},
   "source": [
    "<br>"
   ]
  },
  {
   "cell_type": "markdown",
   "id": "1a0b6d95-10d6-4859-9b62-d4321919ba61",
   "metadata": {},
   "source": [
    "#### Cards"
   ]
  },
  {
   "cell_type": "markdown",
   "id": "4eddee0b-f13b-42bd-a30f-623bd7586e93",
   "metadata": {},
   "source": [
    "<br>"
   ]
  },
  {
   "cell_type": "markdown",
   "id": "6d1d7484-2b38-4906-9ad7-0839c89b6b2d",
   "metadata": {},
   "source": [
    "Using a study which investigated the number and type of cards handed out by referee's throughout 101,491 games played in different football confederations [31] we will find the average and then apply the it to our dataset."
   ]
  },
  {
   "cell_type": "markdown",
   "id": "ef83828a-eccc-4fe1-be5b-a2bf99f69854",
   "metadata": {},
   "source": [
    "<br>"
   ]
  },
  {
   "cell_type": "markdown",
   "id": "5471b655-0450-4f9a-9bc3-f75ea314def1",
   "metadata": {},
   "source": [
    "![img](images/cards.png)"
   ]
  },
  {
   "cell_type": "markdown",
   "id": "7c9f2dac-15ec-428e-b0ef-9ebc0c398044",
   "metadata": {},
   "source": [
    "<br>"
   ]
  },
  {
   "cell_type": "code",
   "execution_count": 456,
   "id": "464c0014-1add-4ec1-92a3-fc00bdbdf4e1",
   "metadata": {},
   "outputs": [
    {
     "data": {
      "text/plain": [
       "4"
      ]
     },
     "execution_count": 456,
     "metadata": {},
     "output_type": "execute_result"
    }
   ],
   "source": [
    "# Total average cards rounded\n",
    "round((4.28+3.82+5.44+4.82+3.82+3.98)/6)"
   ]
  },
  {
   "cell_type": "code",
   "execution_count": 457,
   "id": "6c4f00ea-841e-400c-9c89-bdef7b27e35d",
   "metadata": {},
   "outputs": [
    {
     "data": {
      "text/plain": [
       "0.25833333333333336"
      ]
     },
     "execution_count": 457,
     "metadata": {},
     "output_type": "execute_result"
    }
   ],
   "source": [
    "# red\n",
    "(0.21+0.18+0.39+0.36+0.19+0.22)/6"
   ]
  },
  {
   "cell_type": "code",
   "execution_count": 458,
   "id": "3fa29964-78da-42c5-986c-28b24cf33d3c",
   "metadata": {},
   "outputs": [
    {
     "data": {
      "text/plain": [
       "52"
      ]
     },
     "execution_count": 458,
     "metadata": {},
     "output_type": "execute_result"
    }
   ],
   "source": [
    "# Total average for away team\n",
    "round((52.8+51.9+53.2+53+52.9+50.1)/6)"
   ]
  },
  {
   "cell_type": "markdown",
   "id": "f89bc9bb-02e2-4516-aa59-0967f2b5348c",
   "metadata": {},
   "source": [
    "<br>"
   ]
  },
  {
   "cell_type": "markdown",
   "id": "c8f1f23f-cebf-425e-aba1-a0f33dd71dae",
   "metadata": {},
   "source": [
    "On average a referee will hand out 4 yellow cards per game with 52% of them being shown to the away team. "
   ]
  },
  {
   "cell_type": "markdown",
   "id": "212ac84f-7ff1-42f4-a465-b1a11b2938db",
   "metadata": {},
   "source": [
    "<br>"
   ]
  },
  {
   "cell_type": "code",
   "execution_count": 459,
   "id": "5eb4dd3c-3cc9-4180-b094-149b76aee32b",
   "metadata": {},
   "outputs": [],
   "source": [
    "yellow_card = rng.poisson(2, 100)\n",
    "red_card = rng.poisson(3, 100)"
   ]
  },
  {
   "cell_type": "code",
   "execution_count": 460,
   "id": "4253dfd1-7bf6-4360-bae8-dd5415bc20ae",
   "metadata": {},
   "outputs": [
    {
     "data": {
      "text/plain": [
       "array([2, 1, 4, 1, 1, 2, 2, 3, 4, 2, 1, 2, 1, 3, 1, 1, 1, 2, 2, 2, 1, 4,\n",
       "       1, 2, 3, 4, 1, 2, 0, 7, 4, 2, 2, 2, 5, 1, 1, 2, 3, 2, 1, 1, 2, 2,\n",
       "       4, 0, 1, 1, 1, 4, 2, 5, 4, 3, 2, 5, 1, 2, 4, 2, 2, 2, 3, 2, 4, 5,\n",
       "       3, 4, 0, 0, 2, 1, 3, 4, 2, 1, 3, 1, 1, 1, 1, 1, 0, 2, 1, 4, 3, 2,\n",
       "       1, 4, 4, 4, 1, 1, 4, 1, 1, 3, 3, 5], dtype=int64)"
      ]
     },
     "execution_count": 460,
     "metadata": {},
     "output_type": "execute_result"
    }
   ],
   "source": [
    "yellow_card"
   ]
  },
  {
   "cell_type": "markdown",
   "id": "2a76cfa8-fe09-4a85-ba70-c06800e7dfa4",
   "metadata": {},
   "source": [
    "<br>"
   ]
  },
  {
   "cell_type": "code",
   "execution_count": 461,
   "id": "1b5e8ac9-cf52-42d5-bf0c-52ab71183512",
   "metadata": {},
   "outputs": [],
   "source": [
    "# Generating point outcome for home or away team\n",
    "yellow_card = rng.choice(yellow_card)\n",
    "red_card = rng.choice(red_card)"
   ]
  },
  {
   "cell_type": "markdown",
   "id": "6072b91d-c8fa-4a95-8402-04002aade658",
   "metadata": {},
   "source": [
    "<br>"
   ]
  },
  {
   "cell_type": "markdown",
   "id": "88e22c86-c907-4dfc-8c6e-0a12ae516f26",
   "metadata": {},
   "source": [
    "<br>"
   ]
  },
  {
   "cell_type": "markdown",
   "id": "df4532af-fcbc-4d7c-96e9-77dcb96efd52",
   "metadata": {},
   "source": [
    "<br>"
   ]
  },
  {
   "cell_type": "markdown",
   "id": "ba69acb3-f357-464f-8329-e920f4bf36f4",
   "metadata": {},
   "source": [
    "<br>"
   ]
  },
  {
   "cell_type": "code",
   "execution_count": 462,
   "id": "dc395988-e718-4341-9f5f-506755cbee13",
   "metadata": {},
   "outputs": [
    {
     "data": {
      "text/plain": [
       "1.6"
      ]
     },
     "execution_count": 462,
     "metadata": {},
     "output_type": "execute_result"
    }
   ],
   "source": [
    "data['HY'].mean()"
   ]
  },
  {
   "cell_type": "code",
   "execution_count": 463,
   "id": "6e59daac-594f-442f-846c-6deab9d90497",
   "metadata": {},
   "outputs": [
    {
     "data": {
      "text/plain": [
       "1.803125"
      ]
     },
     "execution_count": 463,
     "metadata": {},
     "output_type": "execute_result"
    }
   ],
   "source": [
    "data['AY'].mean()"
   ]
  },
  {
   "cell_type": "markdown",
   "id": "41943d32-aa25-4e15-a73a-05d57f02ca78",
   "metadata": {},
   "source": [
    "<br>"
   ]
  },
  {
   "cell_type": "code",
   "execution_count": 464,
   "id": "2a01a547-20ea-48f6-be13-13bb3eaabbec",
   "metadata": {},
   "outputs": [],
   "source": [
    "# Creating a function to detemine points\n",
    "def y_card(playing): \n",
    "    if playing['played'] == 'home':\n",
    "            a =  rng.poisson(lam=1, size=90)\n",
    "            return rng.choice(a)\n",
    "    elif playing['played'] == 'away':\n",
    "            b =  rng.poisson(lam=2, size=90)\n",
    "            return rng.choice(b)"
   ]
  },
  {
   "cell_type": "code",
   "execution_count": 465,
   "id": "e3a3b7af-796e-4e0a-8e3f-59e086d2580e",
   "metadata": {},
   "outputs": [],
   "source": [
    "df['yellow cards'] = df.apply(lambda playing: y_card(playing), axis=1)\n"
   ]
  },
  {
   "cell_type": "code",
   "execution_count": 466,
   "id": "92601340-1e0c-4c05-9f91-5bc9140da2ac",
   "metadata": {},
   "outputs": [
    {
     "data": {
      "text/html": [
       "<div>\n",
       "<style scoped>\n",
       "    .dataframe tbody tr th:only-of-type {\n",
       "        vertical-align: middle;\n",
       "    }\n",
       "\n",
       "    .dataframe tbody tr th {\n",
       "        vertical-align: top;\n",
       "    }\n",
       "\n",
       "    .dataframe thead th {\n",
       "        text-align: right;\n",
       "    }\n",
       "</style>\n",
       "<table border=\"1\" class=\"dataframe\">\n",
       "  <thead>\n",
       "    <tr style=\"text-align: right;\">\n",
       "      <th></th>\n",
       "      <th>team</th>\n",
       "      <th>played</th>\n",
       "      <th>points</th>\n",
       "      <th>shots</th>\n",
       "      <th>shots on target</th>\n",
       "      <th>corners</th>\n",
       "      <th>yellow cards</th>\n",
       "      <th>red cards</th>\n",
       "    </tr>\n",
       "  </thead>\n",
       "  <tbody>\n",
       "    <tr>\n",
       "      <th>0</th>\n",
       "      <td>1</td>\n",
       "      <td>home</td>\n",
       "      <td>3</td>\n",
       "      <td>NaN</td>\n",
       "      <td>NaN</td>\n",
       "      <td>NaN</td>\n",
       "      <td>1</td>\n",
       "      <td>NaN</td>\n",
       "    </tr>\n",
       "    <tr>\n",
       "      <th>1</th>\n",
       "      <td>2</td>\n",
       "      <td>home</td>\n",
       "      <td>3</td>\n",
       "      <td>NaN</td>\n",
       "      <td>NaN</td>\n",
       "      <td>NaN</td>\n",
       "      <td>1</td>\n",
       "      <td>NaN</td>\n",
       "    </tr>\n",
       "    <tr>\n",
       "      <th>2</th>\n",
       "      <td>3</td>\n",
       "      <td>home</td>\n",
       "      <td>3</td>\n",
       "      <td>NaN</td>\n",
       "      <td>NaN</td>\n",
       "      <td>NaN</td>\n",
       "      <td>0</td>\n",
       "      <td>NaN</td>\n",
       "    </tr>\n",
       "    <tr>\n",
       "      <th>3</th>\n",
       "      <td>4</td>\n",
       "      <td>home</td>\n",
       "      <td>3</td>\n",
       "      <td>NaN</td>\n",
       "      <td>NaN</td>\n",
       "      <td>NaN</td>\n",
       "      <td>0</td>\n",
       "      <td>NaN</td>\n",
       "    </tr>\n",
       "    <tr>\n",
       "      <th>4</th>\n",
       "      <td>5</td>\n",
       "      <td>away</td>\n",
       "      <td>0</td>\n",
       "      <td>NaN</td>\n",
       "      <td>NaN</td>\n",
       "      <td>NaN</td>\n",
       "      <td>0</td>\n",
       "      <td>NaN</td>\n",
       "    </tr>\n",
       "    <tr>\n",
       "      <th>...</th>\n",
       "      <td>...</td>\n",
       "      <td>...</td>\n",
       "      <td>...</td>\n",
       "      <td>...</td>\n",
       "      <td>...</td>\n",
       "      <td>...</td>\n",
       "      <td>...</td>\n",
       "      <td>...</td>\n",
       "    </tr>\n",
       "    <tr>\n",
       "      <th>95</th>\n",
       "      <td>96</td>\n",
       "      <td>home</td>\n",
       "      <td>3</td>\n",
       "      <td>NaN</td>\n",
       "      <td>NaN</td>\n",
       "      <td>NaN</td>\n",
       "      <td>1</td>\n",
       "      <td>NaN</td>\n",
       "    </tr>\n",
       "    <tr>\n",
       "      <th>96</th>\n",
       "      <td>97</td>\n",
       "      <td>away</td>\n",
       "      <td>0</td>\n",
       "      <td>NaN</td>\n",
       "      <td>NaN</td>\n",
       "      <td>NaN</td>\n",
       "      <td>3</td>\n",
       "      <td>NaN</td>\n",
       "    </tr>\n",
       "    <tr>\n",
       "      <th>97</th>\n",
       "      <td>98</td>\n",
       "      <td>home</td>\n",
       "      <td>3</td>\n",
       "      <td>NaN</td>\n",
       "      <td>NaN</td>\n",
       "      <td>NaN</td>\n",
       "      <td>3</td>\n",
       "      <td>NaN</td>\n",
       "    </tr>\n",
       "    <tr>\n",
       "      <th>98</th>\n",
       "      <td>99</td>\n",
       "      <td>away</td>\n",
       "      <td>0</td>\n",
       "      <td>NaN</td>\n",
       "      <td>NaN</td>\n",
       "      <td>NaN</td>\n",
       "      <td>2</td>\n",
       "      <td>NaN</td>\n",
       "    </tr>\n",
       "    <tr>\n",
       "      <th>99</th>\n",
       "      <td>100</td>\n",
       "      <td>away</td>\n",
       "      <td>0</td>\n",
       "      <td>NaN</td>\n",
       "      <td>NaN</td>\n",
       "      <td>NaN</td>\n",
       "      <td>2</td>\n",
       "      <td>NaN</td>\n",
       "    </tr>\n",
       "  </tbody>\n",
       "</table>\n",
       "<p>100 rows × 8 columns</p>\n",
       "</div>"
      ],
      "text/plain": [
       "    team played  points shots shots on target corners  yellow cards red cards\n",
       "0      1   home       3   NaN             NaN     NaN             1       NaN\n",
       "1      2   home       3   NaN             NaN     NaN             1       NaN\n",
       "2      3   home       3   NaN             NaN     NaN             0       NaN\n",
       "3      4   home       3   NaN             NaN     NaN             0       NaN\n",
       "4      5   away       0   NaN             NaN     NaN             0       NaN\n",
       "..   ...    ...     ...   ...             ...     ...           ...       ...\n",
       "95    96   home       3   NaN             NaN     NaN             1       NaN\n",
       "96    97   away       0   NaN             NaN     NaN             3       NaN\n",
       "97    98   home       3   NaN             NaN     NaN             3       NaN\n",
       "98    99   away       0   NaN             NaN     NaN             2       NaN\n",
       "99   100   away       0   NaN             NaN     NaN             2       NaN\n",
       "\n",
       "[100 rows x 8 columns]"
      ]
     },
     "execution_count": 466,
     "metadata": {},
     "output_type": "execute_result"
    }
   ],
   "source": [
    "df"
   ]
  },
  {
   "cell_type": "markdown",
   "id": "468e4cd5-fddd-4318-a653-5e2c2e27b865",
   "metadata": {},
   "source": [
    "<br>"
   ]
  },
  {
   "cell_type": "markdown",
   "id": "3f076557-7d9b-49cf-b871-0c00d0ecd648",
   "metadata": {},
   "source": [
    "<br>"
   ]
  },
  {
   "cell_type": "code",
   "execution_count": 467,
   "id": "00607544-ece1-46d5-8997-06925222fcea",
   "metadata": {},
   "outputs": [],
   "source": [
    "# Creating a function to detemine points\n",
    "def red_card(playing): \n",
    "    if playing['played'] == 'home':\n",
    "            a =  rng.poisson(lam=0.6, size=90)\n",
    "            return rng.choice(a)\n",
    "    elif playing['played'] == 'away':\n",
    "            b =  rng.poisson(lam=0.8, size=90)\n",
    "            return rng.choice(b)"
   ]
  },
  {
   "cell_type": "code",
   "execution_count": 468,
   "id": "31e708f9-8f36-4cbf-88bd-406513d06d92",
   "metadata": {},
   "outputs": [],
   "source": [
    "df['red cards'] = df.apply(lambda playing: red_card(playing), axis=1)"
   ]
  },
  {
   "cell_type": "markdown",
   "id": "ab62f5b2-1a58-4fd4-a6a1-829970b9ada6",
   "metadata": {},
   "source": [
    "<br>"
   ]
  },
  {
   "cell_type": "code",
   "execution_count": 469,
   "id": "9c438a92-f83c-458a-8904-26320f01c8e0",
   "metadata": {},
   "outputs": [
    {
     "data": {
      "text/html": [
       "<div>\n",
       "<style scoped>\n",
       "    .dataframe tbody tr th:only-of-type {\n",
       "        vertical-align: middle;\n",
       "    }\n",
       "\n",
       "    .dataframe tbody tr th {\n",
       "        vertical-align: top;\n",
       "    }\n",
       "\n",
       "    .dataframe thead th {\n",
       "        text-align: right;\n",
       "    }\n",
       "</style>\n",
       "<table border=\"1\" class=\"dataframe\">\n",
       "  <thead>\n",
       "    <tr style=\"text-align: right;\">\n",
       "      <th></th>\n",
       "      <th>team</th>\n",
       "      <th>played</th>\n",
       "      <th>points</th>\n",
       "      <th>shots</th>\n",
       "      <th>shots on target</th>\n",
       "      <th>corners</th>\n",
       "      <th>yellow cards</th>\n",
       "      <th>red cards</th>\n",
       "    </tr>\n",
       "  </thead>\n",
       "  <tbody>\n",
       "    <tr>\n",
       "      <th>5</th>\n",
       "      <td>6</td>\n",
       "      <td>away</td>\n",
       "      <td>0</td>\n",
       "      <td>NaN</td>\n",
       "      <td>NaN</td>\n",
       "      <td>NaN</td>\n",
       "      <td>0</td>\n",
       "      <td>1</td>\n",
       "    </tr>\n",
       "    <tr>\n",
       "      <th>10</th>\n",
       "      <td>11</td>\n",
       "      <td>home</td>\n",
       "      <td>3</td>\n",
       "      <td>NaN</td>\n",
       "      <td>NaN</td>\n",
       "      <td>NaN</td>\n",
       "      <td>0</td>\n",
       "      <td>1</td>\n",
       "    </tr>\n",
       "    <tr>\n",
       "      <th>16</th>\n",
       "      <td>17</td>\n",
       "      <td>home</td>\n",
       "      <td>3</td>\n",
       "      <td>NaN</td>\n",
       "      <td>NaN</td>\n",
       "      <td>NaN</td>\n",
       "      <td>0</td>\n",
       "      <td>1</td>\n",
       "    </tr>\n",
       "    <tr>\n",
       "      <th>19</th>\n",
       "      <td>20</td>\n",
       "      <td>away</td>\n",
       "      <td>0</td>\n",
       "      <td>NaN</td>\n",
       "      <td>NaN</td>\n",
       "      <td>NaN</td>\n",
       "      <td>2</td>\n",
       "      <td>1</td>\n",
       "    </tr>\n",
       "    <tr>\n",
       "      <th>20</th>\n",
       "      <td>21</td>\n",
       "      <td>home</td>\n",
       "      <td>3</td>\n",
       "      <td>NaN</td>\n",
       "      <td>NaN</td>\n",
       "      <td>NaN</td>\n",
       "      <td>0</td>\n",
       "      <td>1</td>\n",
       "    </tr>\n",
       "    <tr>\n",
       "      <th>22</th>\n",
       "      <td>23</td>\n",
       "      <td>home</td>\n",
       "      <td>3</td>\n",
       "      <td>NaN</td>\n",
       "      <td>NaN</td>\n",
       "      <td>NaN</td>\n",
       "      <td>1</td>\n",
       "      <td>1</td>\n",
       "    </tr>\n",
       "    <tr>\n",
       "      <th>24</th>\n",
       "      <td>25</td>\n",
       "      <td>home</td>\n",
       "      <td>3</td>\n",
       "      <td>NaN</td>\n",
       "      <td>NaN</td>\n",
       "      <td>NaN</td>\n",
       "      <td>1</td>\n",
       "      <td>1</td>\n",
       "    </tr>\n",
       "    <tr>\n",
       "      <th>28</th>\n",
       "      <td>29</td>\n",
       "      <td>home</td>\n",
       "      <td>3</td>\n",
       "      <td>NaN</td>\n",
       "      <td>NaN</td>\n",
       "      <td>NaN</td>\n",
       "      <td>1</td>\n",
       "      <td>1</td>\n",
       "    </tr>\n",
       "    <tr>\n",
       "      <th>29</th>\n",
       "      <td>30</td>\n",
       "      <td>home</td>\n",
       "      <td>3</td>\n",
       "      <td>NaN</td>\n",
       "      <td>NaN</td>\n",
       "      <td>NaN</td>\n",
       "      <td>2</td>\n",
       "      <td>1</td>\n",
       "    </tr>\n",
       "    <tr>\n",
       "      <th>38</th>\n",
       "      <td>39</td>\n",
       "      <td>away</td>\n",
       "      <td>0</td>\n",
       "      <td>NaN</td>\n",
       "      <td>NaN</td>\n",
       "      <td>NaN</td>\n",
       "      <td>3</td>\n",
       "      <td>1</td>\n",
       "    </tr>\n",
       "    <tr>\n",
       "      <th>44</th>\n",
       "      <td>45</td>\n",
       "      <td>away</td>\n",
       "      <td>0</td>\n",
       "      <td>NaN</td>\n",
       "      <td>NaN</td>\n",
       "      <td>NaN</td>\n",
       "      <td>1</td>\n",
       "      <td>1</td>\n",
       "    </tr>\n",
       "    <tr>\n",
       "      <th>47</th>\n",
       "      <td>48</td>\n",
       "      <td>home</td>\n",
       "      <td>3</td>\n",
       "      <td>NaN</td>\n",
       "      <td>NaN</td>\n",
       "      <td>NaN</td>\n",
       "      <td>1</td>\n",
       "      <td>1</td>\n",
       "    </tr>\n",
       "    <tr>\n",
       "      <th>50</th>\n",
       "      <td>51</td>\n",
       "      <td>home</td>\n",
       "      <td>3</td>\n",
       "      <td>NaN</td>\n",
       "      <td>NaN</td>\n",
       "      <td>NaN</td>\n",
       "      <td>2</td>\n",
       "      <td>1</td>\n",
       "    </tr>\n",
       "    <tr>\n",
       "      <th>55</th>\n",
       "      <td>56</td>\n",
       "      <td>home</td>\n",
       "      <td>3</td>\n",
       "      <td>NaN</td>\n",
       "      <td>NaN</td>\n",
       "      <td>NaN</td>\n",
       "      <td>2</td>\n",
       "      <td>1</td>\n",
       "    </tr>\n",
       "    <tr>\n",
       "      <th>56</th>\n",
       "      <td>57</td>\n",
       "      <td>away</td>\n",
       "      <td>0</td>\n",
       "      <td>NaN</td>\n",
       "      <td>NaN</td>\n",
       "      <td>NaN</td>\n",
       "      <td>1</td>\n",
       "      <td>1</td>\n",
       "    </tr>\n",
       "    <tr>\n",
       "      <th>60</th>\n",
       "      <td>61</td>\n",
       "      <td>home</td>\n",
       "      <td>3</td>\n",
       "      <td>NaN</td>\n",
       "      <td>NaN</td>\n",
       "      <td>NaN</td>\n",
       "      <td>1</td>\n",
       "      <td>1</td>\n",
       "    </tr>\n",
       "    <tr>\n",
       "      <th>63</th>\n",
       "      <td>64</td>\n",
       "      <td>home</td>\n",
       "      <td>3</td>\n",
       "      <td>NaN</td>\n",
       "      <td>NaN</td>\n",
       "      <td>NaN</td>\n",
       "      <td>0</td>\n",
       "      <td>1</td>\n",
       "    </tr>\n",
       "    <tr>\n",
       "      <th>64</th>\n",
       "      <td>65</td>\n",
       "      <td>home</td>\n",
       "      <td>3</td>\n",
       "      <td>NaN</td>\n",
       "      <td>NaN</td>\n",
       "      <td>NaN</td>\n",
       "      <td>3</td>\n",
       "      <td>1</td>\n",
       "    </tr>\n",
       "    <tr>\n",
       "      <th>67</th>\n",
       "      <td>68</td>\n",
       "      <td>away</td>\n",
       "      <td>0</td>\n",
       "      <td>NaN</td>\n",
       "      <td>NaN</td>\n",
       "      <td>NaN</td>\n",
       "      <td>1</td>\n",
       "      <td>1</td>\n",
       "    </tr>\n",
       "    <tr>\n",
       "      <th>69</th>\n",
       "      <td>70</td>\n",
       "      <td>away</td>\n",
       "      <td>0</td>\n",
       "      <td>NaN</td>\n",
       "      <td>NaN</td>\n",
       "      <td>NaN</td>\n",
       "      <td>2</td>\n",
       "      <td>1</td>\n",
       "    </tr>\n",
       "    <tr>\n",
       "      <th>70</th>\n",
       "      <td>71</td>\n",
       "      <td>home</td>\n",
       "      <td>3</td>\n",
       "      <td>NaN</td>\n",
       "      <td>NaN</td>\n",
       "      <td>NaN</td>\n",
       "      <td>1</td>\n",
       "      <td>1</td>\n",
       "    </tr>\n",
       "    <tr>\n",
       "      <th>71</th>\n",
       "      <td>72</td>\n",
       "      <td>home</td>\n",
       "      <td>3</td>\n",
       "      <td>NaN</td>\n",
       "      <td>NaN</td>\n",
       "      <td>NaN</td>\n",
       "      <td>1</td>\n",
       "      <td>1</td>\n",
       "    </tr>\n",
       "    <tr>\n",
       "      <th>73</th>\n",
       "      <td>74</td>\n",
       "      <td>home</td>\n",
       "      <td>3</td>\n",
       "      <td>NaN</td>\n",
       "      <td>NaN</td>\n",
       "      <td>NaN</td>\n",
       "      <td>0</td>\n",
       "      <td>1</td>\n",
       "    </tr>\n",
       "    <tr>\n",
       "      <th>76</th>\n",
       "      <td>77</td>\n",
       "      <td>home</td>\n",
       "      <td>3</td>\n",
       "      <td>NaN</td>\n",
       "      <td>NaN</td>\n",
       "      <td>NaN</td>\n",
       "      <td>0</td>\n",
       "      <td>1</td>\n",
       "    </tr>\n",
       "    <tr>\n",
       "      <th>82</th>\n",
       "      <td>83</td>\n",
       "      <td>home</td>\n",
       "      <td>3</td>\n",
       "      <td>NaN</td>\n",
       "      <td>NaN</td>\n",
       "      <td>NaN</td>\n",
       "      <td>1</td>\n",
       "      <td>1</td>\n",
       "    </tr>\n",
       "    <tr>\n",
       "      <th>89</th>\n",
       "      <td>90</td>\n",
       "      <td>home</td>\n",
       "      <td>3</td>\n",
       "      <td>NaN</td>\n",
       "      <td>NaN</td>\n",
       "      <td>NaN</td>\n",
       "      <td>0</td>\n",
       "      <td>1</td>\n",
       "    </tr>\n",
       "    <tr>\n",
       "      <th>90</th>\n",
       "      <td>91</td>\n",
       "      <td>home</td>\n",
       "      <td>3</td>\n",
       "      <td>NaN</td>\n",
       "      <td>NaN</td>\n",
       "      <td>NaN</td>\n",
       "      <td>0</td>\n",
       "      <td>1</td>\n",
       "    </tr>\n",
       "    <tr>\n",
       "      <th>92</th>\n",
       "      <td>93</td>\n",
       "      <td>away</td>\n",
       "      <td>0</td>\n",
       "      <td>NaN</td>\n",
       "      <td>NaN</td>\n",
       "      <td>NaN</td>\n",
       "      <td>2</td>\n",
       "      <td>1</td>\n",
       "    </tr>\n",
       "    <tr>\n",
       "      <th>94</th>\n",
       "      <td>95</td>\n",
       "      <td>home</td>\n",
       "      <td>3</td>\n",
       "      <td>NaN</td>\n",
       "      <td>NaN</td>\n",
       "      <td>NaN</td>\n",
       "      <td>1</td>\n",
       "      <td>1</td>\n",
       "    </tr>\n",
       "    <tr>\n",
       "      <th>99</th>\n",
       "      <td>100</td>\n",
       "      <td>away</td>\n",
       "      <td>0</td>\n",
       "      <td>NaN</td>\n",
       "      <td>NaN</td>\n",
       "      <td>NaN</td>\n",
       "      <td>2</td>\n",
       "      <td>1</td>\n",
       "    </tr>\n",
       "  </tbody>\n",
       "</table>\n",
       "</div>"
      ],
      "text/plain": [
       "    team played  points shots shots on target corners  yellow cards  red cards\n",
       "5      6   away       0   NaN             NaN     NaN             0          1\n",
       "10    11   home       3   NaN             NaN     NaN             0          1\n",
       "16    17   home       3   NaN             NaN     NaN             0          1\n",
       "19    20   away       0   NaN             NaN     NaN             2          1\n",
       "20    21   home       3   NaN             NaN     NaN             0          1\n",
       "22    23   home       3   NaN             NaN     NaN             1          1\n",
       "24    25   home       3   NaN             NaN     NaN             1          1\n",
       "28    29   home       3   NaN             NaN     NaN             1          1\n",
       "29    30   home       3   NaN             NaN     NaN             2          1\n",
       "38    39   away       0   NaN             NaN     NaN             3          1\n",
       "44    45   away       0   NaN             NaN     NaN             1          1\n",
       "47    48   home       3   NaN             NaN     NaN             1          1\n",
       "50    51   home       3   NaN             NaN     NaN             2          1\n",
       "55    56   home       3   NaN             NaN     NaN             2          1\n",
       "56    57   away       0   NaN             NaN     NaN             1          1\n",
       "60    61   home       3   NaN             NaN     NaN             1          1\n",
       "63    64   home       3   NaN             NaN     NaN             0          1\n",
       "64    65   home       3   NaN             NaN     NaN             3          1\n",
       "67    68   away       0   NaN             NaN     NaN             1          1\n",
       "69    70   away       0   NaN             NaN     NaN             2          1\n",
       "70    71   home       3   NaN             NaN     NaN             1          1\n",
       "71    72   home       3   NaN             NaN     NaN             1          1\n",
       "73    74   home       3   NaN             NaN     NaN             0          1\n",
       "76    77   home       3   NaN             NaN     NaN             0          1\n",
       "82    83   home       3   NaN             NaN     NaN             1          1\n",
       "89    90   home       3   NaN             NaN     NaN             0          1\n",
       "90    91   home       3   NaN             NaN     NaN             0          1\n",
       "92    93   away       0   NaN             NaN     NaN             2          1\n",
       "94    95   home       3   NaN             NaN     NaN             1          1\n",
       "99   100   away       0   NaN             NaN     NaN             2          1"
      ]
     },
     "execution_count": 469,
     "metadata": {},
     "output_type": "execute_result"
    }
   ],
   "source": [
    "df[df['red cards'] == 1 ]"
   ]
  },
  {
   "cell_type": "markdown",
   "id": "411b3f09-463f-4d0b-b394-d390445035e1",
   "metadata": {},
   "source": [
    "<br>"
   ]
  },
  {
   "cell_type": "code",
   "execution_count": 470,
   "id": "817ae79f-135b-49e8-b309-f490770b6641",
   "metadata": {},
   "outputs": [
    {
     "data": {
      "text/html": [
       "<div>\n",
       "<style scoped>\n",
       "    .dataframe tbody tr th:only-of-type {\n",
       "        vertical-align: middle;\n",
       "    }\n",
       "\n",
       "    .dataframe tbody tr th {\n",
       "        vertical-align: top;\n",
       "    }\n",
       "\n",
       "    .dataframe thead th {\n",
       "        text-align: right;\n",
       "    }\n",
       "</style>\n",
       "<table border=\"1\" class=\"dataframe\">\n",
       "  <thead>\n",
       "    <tr style=\"text-align: right;\">\n",
       "      <th></th>\n",
       "      <th>team</th>\n",
       "      <th>played</th>\n",
       "      <th>points</th>\n",
       "      <th>shots</th>\n",
       "      <th>shots on target</th>\n",
       "      <th>corners</th>\n",
       "      <th>yellow cards</th>\n",
       "      <th>red cards</th>\n",
       "    </tr>\n",
       "  </thead>\n",
       "  <tbody>\n",
       "    <tr>\n",
       "      <th>0</th>\n",
       "      <td>1</td>\n",
       "      <td>home</td>\n",
       "      <td>3</td>\n",
       "      <td>NaN</td>\n",
       "      <td>NaN</td>\n",
       "      <td>NaN</td>\n",
       "      <td>1</td>\n",
       "      <td>0</td>\n",
       "    </tr>\n",
       "    <tr>\n",
       "      <th>2</th>\n",
       "      <td>3</td>\n",
       "      <td>home</td>\n",
       "      <td>3</td>\n",
       "      <td>NaN</td>\n",
       "      <td>NaN</td>\n",
       "      <td>NaN</td>\n",
       "      <td>0</td>\n",
       "      <td>0</td>\n",
       "    </tr>\n",
       "    <tr>\n",
       "      <th>3</th>\n",
       "      <td>4</td>\n",
       "      <td>home</td>\n",
       "      <td>3</td>\n",
       "      <td>NaN</td>\n",
       "      <td>NaN</td>\n",
       "      <td>NaN</td>\n",
       "      <td>0</td>\n",
       "      <td>0</td>\n",
       "    </tr>\n",
       "    <tr>\n",
       "      <th>4</th>\n",
       "      <td>5</td>\n",
       "      <td>away</td>\n",
       "      <td>0</td>\n",
       "      <td>NaN</td>\n",
       "      <td>NaN</td>\n",
       "      <td>NaN</td>\n",
       "      <td>0</td>\n",
       "      <td>0</td>\n",
       "    </tr>\n",
       "    <tr>\n",
       "      <th>6</th>\n",
       "      <td>7</td>\n",
       "      <td>away</td>\n",
       "      <td>0</td>\n",
       "      <td>NaN</td>\n",
       "      <td>NaN</td>\n",
       "      <td>NaN</td>\n",
       "      <td>4</td>\n",
       "      <td>0</td>\n",
       "    </tr>\n",
       "    <tr>\n",
       "      <th>8</th>\n",
       "      <td>9</td>\n",
       "      <td>away</td>\n",
       "      <td>0</td>\n",
       "      <td>NaN</td>\n",
       "      <td>NaN</td>\n",
       "      <td>NaN</td>\n",
       "      <td>5</td>\n",
       "      <td>0</td>\n",
       "    </tr>\n",
       "    <tr>\n",
       "      <th>9</th>\n",
       "      <td>10</td>\n",
       "      <td>home</td>\n",
       "      <td>3</td>\n",
       "      <td>NaN</td>\n",
       "      <td>NaN</td>\n",
       "      <td>NaN</td>\n",
       "      <td>1</td>\n",
       "      <td>0</td>\n",
       "    </tr>\n",
       "    <tr>\n",
       "      <th>11</th>\n",
       "      <td>12</td>\n",
       "      <td>away</td>\n",
       "      <td>0</td>\n",
       "      <td>NaN</td>\n",
       "      <td>NaN</td>\n",
       "      <td>NaN</td>\n",
       "      <td>3</td>\n",
       "      <td>0</td>\n",
       "    </tr>\n",
       "    <tr>\n",
       "      <th>12</th>\n",
       "      <td>13</td>\n",
       "      <td>away</td>\n",
       "      <td>0</td>\n",
       "      <td>NaN</td>\n",
       "      <td>NaN</td>\n",
       "      <td>NaN</td>\n",
       "      <td>2</td>\n",
       "      <td>0</td>\n",
       "    </tr>\n",
       "    <tr>\n",
       "      <th>14</th>\n",
       "      <td>15</td>\n",
       "      <td>home</td>\n",
       "      <td>3</td>\n",
       "      <td>NaN</td>\n",
       "      <td>NaN</td>\n",
       "      <td>NaN</td>\n",
       "      <td>2</td>\n",
       "      <td>0</td>\n",
       "    </tr>\n",
       "    <tr>\n",
       "      <th>15</th>\n",
       "      <td>16</td>\n",
       "      <td>home</td>\n",
       "      <td>3</td>\n",
       "      <td>NaN</td>\n",
       "      <td>NaN</td>\n",
       "      <td>NaN</td>\n",
       "      <td>1</td>\n",
       "      <td>0</td>\n",
       "    </tr>\n",
       "    <tr>\n",
       "      <th>18</th>\n",
       "      <td>19</td>\n",
       "      <td>home</td>\n",
       "      <td>3</td>\n",
       "      <td>NaN</td>\n",
       "      <td>NaN</td>\n",
       "      <td>NaN</td>\n",
       "      <td>0</td>\n",
       "      <td>0</td>\n",
       "    </tr>\n",
       "    <tr>\n",
       "      <th>21</th>\n",
       "      <td>22</td>\n",
       "      <td>home</td>\n",
       "      <td>3</td>\n",
       "      <td>NaN</td>\n",
       "      <td>NaN</td>\n",
       "      <td>NaN</td>\n",
       "      <td>0</td>\n",
       "      <td>0</td>\n",
       "    </tr>\n",
       "    <tr>\n",
       "      <th>23</th>\n",
       "      <td>24</td>\n",
       "      <td>home</td>\n",
       "      <td>3</td>\n",
       "      <td>NaN</td>\n",
       "      <td>NaN</td>\n",
       "      <td>NaN</td>\n",
       "      <td>0</td>\n",
       "      <td>0</td>\n",
       "    </tr>\n",
       "    <tr>\n",
       "      <th>25</th>\n",
       "      <td>26</td>\n",
       "      <td>home</td>\n",
       "      <td>3</td>\n",
       "      <td>NaN</td>\n",
       "      <td>NaN</td>\n",
       "      <td>NaN</td>\n",
       "      <td>1</td>\n",
       "      <td>0</td>\n",
       "    </tr>\n",
       "    <tr>\n",
       "      <th>26</th>\n",
       "      <td>27</td>\n",
       "      <td>home</td>\n",
       "      <td>3</td>\n",
       "      <td>NaN</td>\n",
       "      <td>NaN</td>\n",
       "      <td>NaN</td>\n",
       "      <td>0</td>\n",
       "      <td>0</td>\n",
       "    </tr>\n",
       "    <tr>\n",
       "      <th>27</th>\n",
       "      <td>28</td>\n",
       "      <td>home</td>\n",
       "      <td>3</td>\n",
       "      <td>NaN</td>\n",
       "      <td>NaN</td>\n",
       "      <td>NaN</td>\n",
       "      <td>1</td>\n",
       "      <td>0</td>\n",
       "    </tr>\n",
       "    <tr>\n",
       "      <th>30</th>\n",
       "      <td>31</td>\n",
       "      <td>away</td>\n",
       "      <td>0</td>\n",
       "      <td>NaN</td>\n",
       "      <td>NaN</td>\n",
       "      <td>NaN</td>\n",
       "      <td>1</td>\n",
       "      <td>0</td>\n",
       "    </tr>\n",
       "    <tr>\n",
       "      <th>31</th>\n",
       "      <td>32</td>\n",
       "      <td>home</td>\n",
       "      <td>3</td>\n",
       "      <td>NaN</td>\n",
       "      <td>NaN</td>\n",
       "      <td>NaN</td>\n",
       "      <td>2</td>\n",
       "      <td>0</td>\n",
       "    </tr>\n",
       "    <tr>\n",
       "      <th>32</th>\n",
       "      <td>33</td>\n",
       "      <td>home</td>\n",
       "      <td>3</td>\n",
       "      <td>NaN</td>\n",
       "      <td>NaN</td>\n",
       "      <td>NaN</td>\n",
       "      <td>0</td>\n",
       "      <td>0</td>\n",
       "    </tr>\n",
       "    <tr>\n",
       "      <th>34</th>\n",
       "      <td>35</td>\n",
       "      <td>away</td>\n",
       "      <td>0</td>\n",
       "      <td>NaN</td>\n",
       "      <td>NaN</td>\n",
       "      <td>NaN</td>\n",
       "      <td>2</td>\n",
       "      <td>0</td>\n",
       "    </tr>\n",
       "    <tr>\n",
       "      <th>37</th>\n",
       "      <td>38</td>\n",
       "      <td>home</td>\n",
       "      <td>3</td>\n",
       "      <td>NaN</td>\n",
       "      <td>NaN</td>\n",
       "      <td>NaN</td>\n",
       "      <td>1</td>\n",
       "      <td>0</td>\n",
       "    </tr>\n",
       "    <tr>\n",
       "      <th>39</th>\n",
       "      <td>40</td>\n",
       "      <td>away</td>\n",
       "      <td>0</td>\n",
       "      <td>NaN</td>\n",
       "      <td>NaN</td>\n",
       "      <td>NaN</td>\n",
       "      <td>5</td>\n",
       "      <td>0</td>\n",
       "    </tr>\n",
       "    <tr>\n",
       "      <th>40</th>\n",
       "      <td>41</td>\n",
       "      <td>home</td>\n",
       "      <td>3</td>\n",
       "      <td>NaN</td>\n",
       "      <td>NaN</td>\n",
       "      <td>NaN</td>\n",
       "      <td>0</td>\n",
       "      <td>0</td>\n",
       "    </tr>\n",
       "    <tr>\n",
       "      <th>41</th>\n",
       "      <td>42</td>\n",
       "      <td>away</td>\n",
       "      <td>0</td>\n",
       "      <td>NaN</td>\n",
       "      <td>NaN</td>\n",
       "      <td>NaN</td>\n",
       "      <td>4</td>\n",
       "      <td>0</td>\n",
       "    </tr>\n",
       "    <tr>\n",
       "      <th>42</th>\n",
       "      <td>43</td>\n",
       "      <td>home</td>\n",
       "      <td>3</td>\n",
       "      <td>NaN</td>\n",
       "      <td>NaN</td>\n",
       "      <td>NaN</td>\n",
       "      <td>1</td>\n",
       "      <td>0</td>\n",
       "    </tr>\n",
       "    <tr>\n",
       "      <th>43</th>\n",
       "      <td>44</td>\n",
       "      <td>home</td>\n",
       "      <td>3</td>\n",
       "      <td>NaN</td>\n",
       "      <td>NaN</td>\n",
       "      <td>NaN</td>\n",
       "      <td>2</td>\n",
       "      <td>0</td>\n",
       "    </tr>\n",
       "    <tr>\n",
       "      <th>45</th>\n",
       "      <td>46</td>\n",
       "      <td>home</td>\n",
       "      <td>3</td>\n",
       "      <td>NaN</td>\n",
       "      <td>NaN</td>\n",
       "      <td>NaN</td>\n",
       "      <td>0</td>\n",
       "      <td>0</td>\n",
       "    </tr>\n",
       "    <tr>\n",
       "      <th>46</th>\n",
       "      <td>47</td>\n",
       "      <td>home</td>\n",
       "      <td>3</td>\n",
       "      <td>NaN</td>\n",
       "      <td>NaN</td>\n",
       "      <td>NaN</td>\n",
       "      <td>0</td>\n",
       "      <td>0</td>\n",
       "    </tr>\n",
       "    <tr>\n",
       "      <th>49</th>\n",
       "      <td>50</td>\n",
       "      <td>away</td>\n",
       "      <td>0</td>\n",
       "      <td>NaN</td>\n",
       "      <td>NaN</td>\n",
       "      <td>NaN</td>\n",
       "      <td>0</td>\n",
       "      <td>0</td>\n",
       "    </tr>\n",
       "    <tr>\n",
       "      <th>51</th>\n",
       "      <td>52</td>\n",
       "      <td>home</td>\n",
       "      <td>3</td>\n",
       "      <td>NaN</td>\n",
       "      <td>NaN</td>\n",
       "      <td>NaN</td>\n",
       "      <td>3</td>\n",
       "      <td>0</td>\n",
       "    </tr>\n",
       "    <tr>\n",
       "      <th>52</th>\n",
       "      <td>53</td>\n",
       "      <td>home</td>\n",
       "      <td>3</td>\n",
       "      <td>NaN</td>\n",
       "      <td>NaN</td>\n",
       "      <td>NaN</td>\n",
       "      <td>0</td>\n",
       "      <td>0</td>\n",
       "    </tr>\n",
       "    <tr>\n",
       "      <th>54</th>\n",
       "      <td>55</td>\n",
       "      <td>home</td>\n",
       "      <td>3</td>\n",
       "      <td>NaN</td>\n",
       "      <td>NaN</td>\n",
       "      <td>NaN</td>\n",
       "      <td>1</td>\n",
       "      <td>0</td>\n",
       "    </tr>\n",
       "    <tr>\n",
       "      <th>57</th>\n",
       "      <td>58</td>\n",
       "      <td>home</td>\n",
       "      <td>3</td>\n",
       "      <td>NaN</td>\n",
       "      <td>NaN</td>\n",
       "      <td>NaN</td>\n",
       "      <td>1</td>\n",
       "      <td>0</td>\n",
       "    </tr>\n",
       "    <tr>\n",
       "      <th>58</th>\n",
       "      <td>59</td>\n",
       "      <td>away</td>\n",
       "      <td>0</td>\n",
       "      <td>NaN</td>\n",
       "      <td>NaN</td>\n",
       "      <td>NaN</td>\n",
       "      <td>3</td>\n",
       "      <td>0</td>\n",
       "    </tr>\n",
       "    <tr>\n",
       "      <th>59</th>\n",
       "      <td>60</td>\n",
       "      <td>home</td>\n",
       "      <td>3</td>\n",
       "      <td>NaN</td>\n",
       "      <td>NaN</td>\n",
       "      <td>NaN</td>\n",
       "      <td>1</td>\n",
       "      <td>0</td>\n",
       "    </tr>\n",
       "    <tr>\n",
       "      <th>62</th>\n",
       "      <td>63</td>\n",
       "      <td>away</td>\n",
       "      <td>0</td>\n",
       "      <td>NaN</td>\n",
       "      <td>NaN</td>\n",
       "      <td>NaN</td>\n",
       "      <td>1</td>\n",
       "      <td>0</td>\n",
       "    </tr>\n",
       "    <tr>\n",
       "      <th>65</th>\n",
       "      <td>66</td>\n",
       "      <td>away</td>\n",
       "      <td>0</td>\n",
       "      <td>NaN</td>\n",
       "      <td>NaN</td>\n",
       "      <td>NaN</td>\n",
       "      <td>3</td>\n",
       "      <td>0</td>\n",
       "    </tr>\n",
       "    <tr>\n",
       "      <th>66</th>\n",
       "      <td>67</td>\n",
       "      <td>away</td>\n",
       "      <td>0</td>\n",
       "      <td>NaN</td>\n",
       "      <td>NaN</td>\n",
       "      <td>NaN</td>\n",
       "      <td>1</td>\n",
       "      <td>0</td>\n",
       "    </tr>\n",
       "    <tr>\n",
       "      <th>68</th>\n",
       "      <td>69</td>\n",
       "      <td>home</td>\n",
       "      <td>3</td>\n",
       "      <td>NaN</td>\n",
       "      <td>NaN</td>\n",
       "      <td>NaN</td>\n",
       "      <td>3</td>\n",
       "      <td>0</td>\n",
       "    </tr>\n",
       "    <tr>\n",
       "      <th>72</th>\n",
       "      <td>73</td>\n",
       "      <td>away</td>\n",
       "      <td>0</td>\n",
       "      <td>NaN</td>\n",
       "      <td>NaN</td>\n",
       "      <td>NaN</td>\n",
       "      <td>3</td>\n",
       "      <td>0</td>\n",
       "    </tr>\n",
       "    <tr>\n",
       "      <th>74</th>\n",
       "      <td>75</td>\n",
       "      <td>away</td>\n",
       "      <td>0</td>\n",
       "      <td>NaN</td>\n",
       "      <td>NaN</td>\n",
       "      <td>NaN</td>\n",
       "      <td>2</td>\n",
       "      <td>0</td>\n",
       "    </tr>\n",
       "    <tr>\n",
       "      <th>75</th>\n",
       "      <td>76</td>\n",
       "      <td>away</td>\n",
       "      <td>0</td>\n",
       "      <td>NaN</td>\n",
       "      <td>NaN</td>\n",
       "      <td>NaN</td>\n",
       "      <td>3</td>\n",
       "      <td>0</td>\n",
       "    </tr>\n",
       "    <tr>\n",
       "      <th>77</th>\n",
       "      <td>78</td>\n",
       "      <td>home</td>\n",
       "      <td>3</td>\n",
       "      <td>NaN</td>\n",
       "      <td>NaN</td>\n",
       "      <td>NaN</td>\n",
       "      <td>0</td>\n",
       "      <td>0</td>\n",
       "    </tr>\n",
       "    <tr>\n",
       "      <th>80</th>\n",
       "      <td>81</td>\n",
       "      <td>home</td>\n",
       "      <td>3</td>\n",
       "      <td>NaN</td>\n",
       "      <td>NaN</td>\n",
       "      <td>NaN</td>\n",
       "      <td>0</td>\n",
       "      <td>0</td>\n",
       "    </tr>\n",
       "    <tr>\n",
       "      <th>81</th>\n",
       "      <td>82</td>\n",
       "      <td>home</td>\n",
       "      <td>3</td>\n",
       "      <td>NaN</td>\n",
       "      <td>NaN</td>\n",
       "      <td>NaN</td>\n",
       "      <td>0</td>\n",
       "      <td>0</td>\n",
       "    </tr>\n",
       "    <tr>\n",
       "      <th>84</th>\n",
       "      <td>85</td>\n",
       "      <td>away</td>\n",
       "      <td>0</td>\n",
       "      <td>NaN</td>\n",
       "      <td>NaN</td>\n",
       "      <td>NaN</td>\n",
       "      <td>1</td>\n",
       "      <td>0</td>\n",
       "    </tr>\n",
       "    <tr>\n",
       "      <th>85</th>\n",
       "      <td>86</td>\n",
       "      <td>home</td>\n",
       "      <td>3</td>\n",
       "      <td>NaN</td>\n",
       "      <td>NaN</td>\n",
       "      <td>NaN</td>\n",
       "      <td>1</td>\n",
       "      <td>0</td>\n",
       "    </tr>\n",
       "    <tr>\n",
       "      <th>88</th>\n",
       "      <td>89</td>\n",
       "      <td>home</td>\n",
       "      <td>3</td>\n",
       "      <td>NaN</td>\n",
       "      <td>NaN</td>\n",
       "      <td>NaN</td>\n",
       "      <td>2</td>\n",
       "      <td>0</td>\n",
       "    </tr>\n",
       "    <tr>\n",
       "      <th>91</th>\n",
       "      <td>92</td>\n",
       "      <td>away</td>\n",
       "      <td>0</td>\n",
       "      <td>NaN</td>\n",
       "      <td>NaN</td>\n",
       "      <td>NaN</td>\n",
       "      <td>1</td>\n",
       "      <td>0</td>\n",
       "    </tr>\n",
       "    <tr>\n",
       "      <th>93</th>\n",
       "      <td>94</td>\n",
       "      <td>home</td>\n",
       "      <td>3</td>\n",
       "      <td>NaN</td>\n",
       "      <td>NaN</td>\n",
       "      <td>NaN</td>\n",
       "      <td>1</td>\n",
       "      <td>0</td>\n",
       "    </tr>\n",
       "    <tr>\n",
       "      <th>95</th>\n",
       "      <td>96</td>\n",
       "      <td>home</td>\n",
       "      <td>3</td>\n",
       "      <td>NaN</td>\n",
       "      <td>NaN</td>\n",
       "      <td>NaN</td>\n",
       "      <td>1</td>\n",
       "      <td>0</td>\n",
       "    </tr>\n",
       "    <tr>\n",
       "      <th>96</th>\n",
       "      <td>97</td>\n",
       "      <td>away</td>\n",
       "      <td>0</td>\n",
       "      <td>NaN</td>\n",
       "      <td>NaN</td>\n",
       "      <td>NaN</td>\n",
       "      <td>3</td>\n",
       "      <td>0</td>\n",
       "    </tr>\n",
       "    <tr>\n",
       "      <th>97</th>\n",
       "      <td>98</td>\n",
       "      <td>home</td>\n",
       "      <td>3</td>\n",
       "      <td>NaN</td>\n",
       "      <td>NaN</td>\n",
       "      <td>NaN</td>\n",
       "      <td>3</td>\n",
       "      <td>0</td>\n",
       "    </tr>\n",
       "    <tr>\n",
       "      <th>98</th>\n",
       "      <td>99</td>\n",
       "      <td>away</td>\n",
       "      <td>0</td>\n",
       "      <td>NaN</td>\n",
       "      <td>NaN</td>\n",
       "      <td>NaN</td>\n",
       "      <td>2</td>\n",
       "      <td>0</td>\n",
       "    </tr>\n",
       "  </tbody>\n",
       "</table>\n",
       "</div>"
      ],
      "text/plain": [
       "    team played  points shots shots on target corners  yellow cards  red cards\n",
       "0      1   home       3   NaN             NaN     NaN             1          0\n",
       "2      3   home       3   NaN             NaN     NaN             0          0\n",
       "3      4   home       3   NaN             NaN     NaN             0          0\n",
       "4      5   away       0   NaN             NaN     NaN             0          0\n",
       "6      7   away       0   NaN             NaN     NaN             4          0\n",
       "8      9   away       0   NaN             NaN     NaN             5          0\n",
       "9     10   home       3   NaN             NaN     NaN             1          0\n",
       "11    12   away       0   NaN             NaN     NaN             3          0\n",
       "12    13   away       0   NaN             NaN     NaN             2          0\n",
       "14    15   home       3   NaN             NaN     NaN             2          0\n",
       "15    16   home       3   NaN             NaN     NaN             1          0\n",
       "18    19   home       3   NaN             NaN     NaN             0          0\n",
       "21    22   home       3   NaN             NaN     NaN             0          0\n",
       "23    24   home       3   NaN             NaN     NaN             0          0\n",
       "25    26   home       3   NaN             NaN     NaN             1          0\n",
       "26    27   home       3   NaN             NaN     NaN             0          0\n",
       "27    28   home       3   NaN             NaN     NaN             1          0\n",
       "30    31   away       0   NaN             NaN     NaN             1          0\n",
       "31    32   home       3   NaN             NaN     NaN             2          0\n",
       "32    33   home       3   NaN             NaN     NaN             0          0\n",
       "34    35   away       0   NaN             NaN     NaN             2          0\n",
       "37    38   home       3   NaN             NaN     NaN             1          0\n",
       "39    40   away       0   NaN             NaN     NaN             5          0\n",
       "40    41   home       3   NaN             NaN     NaN             0          0\n",
       "41    42   away       0   NaN             NaN     NaN             4          0\n",
       "42    43   home       3   NaN             NaN     NaN             1          0\n",
       "43    44   home       3   NaN             NaN     NaN             2          0\n",
       "45    46   home       3   NaN             NaN     NaN             0          0\n",
       "46    47   home       3   NaN             NaN     NaN             0          0\n",
       "49    50   away       0   NaN             NaN     NaN             0          0\n",
       "51    52   home       3   NaN             NaN     NaN             3          0\n",
       "52    53   home       3   NaN             NaN     NaN             0          0\n",
       "54    55   home       3   NaN             NaN     NaN             1          0\n",
       "57    58   home       3   NaN             NaN     NaN             1          0\n",
       "58    59   away       0   NaN             NaN     NaN             3          0\n",
       "59    60   home       3   NaN             NaN     NaN             1          0\n",
       "62    63   away       0   NaN             NaN     NaN             1          0\n",
       "65    66   away       0   NaN             NaN     NaN             3          0\n",
       "66    67   away       0   NaN             NaN     NaN             1          0\n",
       "68    69   home       3   NaN             NaN     NaN             3          0\n",
       "72    73   away       0   NaN             NaN     NaN             3          0\n",
       "74    75   away       0   NaN             NaN     NaN             2          0\n",
       "75    76   away       0   NaN             NaN     NaN             3          0\n",
       "77    78   home       3   NaN             NaN     NaN             0          0\n",
       "80    81   home       3   NaN             NaN     NaN             0          0\n",
       "81    82   home       3   NaN             NaN     NaN             0          0\n",
       "84    85   away       0   NaN             NaN     NaN             1          0\n",
       "85    86   home       3   NaN             NaN     NaN             1          0\n",
       "88    89   home       3   NaN             NaN     NaN             2          0\n",
       "91    92   away       0   NaN             NaN     NaN             1          0\n",
       "93    94   home       3   NaN             NaN     NaN             1          0\n",
       "95    96   home       3   NaN             NaN     NaN             1          0\n",
       "96    97   away       0   NaN             NaN     NaN             3          0\n",
       "97    98   home       3   NaN             NaN     NaN             3          0\n",
       "98    99   away       0   NaN             NaN     NaN             2          0"
      ]
     },
     "execution_count": 470,
     "metadata": {},
     "output_type": "execute_result"
    }
   ],
   "source": [
    "df.loc[df['red cards'] == 0]\n"
   ]
  },
  {
   "cell_type": "markdown",
   "id": "fc39290e-d65d-420a-80e5-fd1e294edbcc",
   "metadata": {},
   "source": [
    "<br>"
   ]
  },
  {
   "cell_type": "markdown",
   "id": "cb184a64-ce40-40fd-8ce3-2cbddde2e2de",
   "metadata": {},
   "source": [
    "<br>"
   ]
  },
  {
   "cell_type": "code",
   "execution_count": 471,
   "id": "c1cc1670-fb2c-4ec9-beaa-f0db3ea01939",
   "metadata": {},
   "outputs": [
    {
     "data": {
      "text/html": [
       "<div>\n",
       "<style scoped>\n",
       "    .dataframe tbody tr th:only-of-type {\n",
       "        vertical-align: middle;\n",
       "    }\n",
       "\n",
       "    .dataframe tbody tr th {\n",
       "        vertical-align: top;\n",
       "    }\n",
       "\n",
       "    .dataframe thead th {\n",
       "        text-align: right;\n",
       "    }\n",
       "</style>\n",
       "<table border=\"1\" class=\"dataframe\">\n",
       "  <thead>\n",
       "    <tr style=\"text-align: right;\">\n",
       "      <th></th>\n",
       "      <th>team</th>\n",
       "      <th>played</th>\n",
       "      <th>points</th>\n",
       "      <th>shots</th>\n",
       "      <th>shots on target</th>\n",
       "      <th>corners</th>\n",
       "      <th>yellow cards</th>\n",
       "      <th>red cards</th>\n",
       "    </tr>\n",
       "  </thead>\n",
       "  <tbody>\n",
       "    <tr>\n",
       "      <th>7</th>\n",
       "      <td>8</td>\n",
       "      <td>home</td>\n",
       "      <td>3</td>\n",
       "      <td>NaN</td>\n",
       "      <td>NaN</td>\n",
       "      <td>NaN</td>\n",
       "      <td>2</td>\n",
       "      <td>2</td>\n",
       "    </tr>\n",
       "    <tr>\n",
       "      <th>12</th>\n",
       "      <td>13</td>\n",
       "      <td>away</td>\n",
       "      <td>0</td>\n",
       "      <td>NaN</td>\n",
       "      <td>NaN</td>\n",
       "      <td>NaN</td>\n",
       "      <td>2</td>\n",
       "      <td>0</td>\n",
       "    </tr>\n",
       "    <tr>\n",
       "      <th>14</th>\n",
       "      <td>15</td>\n",
       "      <td>home</td>\n",
       "      <td>3</td>\n",
       "      <td>NaN</td>\n",
       "      <td>NaN</td>\n",
       "      <td>NaN</td>\n",
       "      <td>2</td>\n",
       "      <td>0</td>\n",
       "    </tr>\n",
       "    <tr>\n",
       "      <th>17</th>\n",
       "      <td>18</td>\n",
       "      <td>home</td>\n",
       "      <td>3</td>\n",
       "      <td>NaN</td>\n",
       "      <td>NaN</td>\n",
       "      <td>NaN</td>\n",
       "      <td>2</td>\n",
       "      <td>3</td>\n",
       "    </tr>\n",
       "    <tr>\n",
       "      <th>19</th>\n",
       "      <td>20</td>\n",
       "      <td>away</td>\n",
       "      <td>0</td>\n",
       "      <td>NaN</td>\n",
       "      <td>NaN</td>\n",
       "      <td>NaN</td>\n",
       "      <td>2</td>\n",
       "      <td>1</td>\n",
       "    </tr>\n",
       "    <tr>\n",
       "      <th>29</th>\n",
       "      <td>30</td>\n",
       "      <td>home</td>\n",
       "      <td>3</td>\n",
       "      <td>NaN</td>\n",
       "      <td>NaN</td>\n",
       "      <td>NaN</td>\n",
       "      <td>2</td>\n",
       "      <td>1</td>\n",
       "    </tr>\n",
       "    <tr>\n",
       "      <th>31</th>\n",
       "      <td>32</td>\n",
       "      <td>home</td>\n",
       "      <td>3</td>\n",
       "      <td>NaN</td>\n",
       "      <td>NaN</td>\n",
       "      <td>NaN</td>\n",
       "      <td>2</td>\n",
       "      <td>0</td>\n",
       "    </tr>\n",
       "    <tr>\n",
       "      <th>34</th>\n",
       "      <td>35</td>\n",
       "      <td>away</td>\n",
       "      <td>0</td>\n",
       "      <td>NaN</td>\n",
       "      <td>NaN</td>\n",
       "      <td>NaN</td>\n",
       "      <td>2</td>\n",
       "      <td>0</td>\n",
       "    </tr>\n",
       "    <tr>\n",
       "      <th>36</th>\n",
       "      <td>37</td>\n",
       "      <td>home</td>\n",
       "      <td>3</td>\n",
       "      <td>NaN</td>\n",
       "      <td>NaN</td>\n",
       "      <td>NaN</td>\n",
       "      <td>2</td>\n",
       "      <td>2</td>\n",
       "    </tr>\n",
       "    <tr>\n",
       "      <th>43</th>\n",
       "      <td>44</td>\n",
       "      <td>home</td>\n",
       "      <td>3</td>\n",
       "      <td>NaN</td>\n",
       "      <td>NaN</td>\n",
       "      <td>NaN</td>\n",
       "      <td>2</td>\n",
       "      <td>0</td>\n",
       "    </tr>\n",
       "    <tr>\n",
       "      <th>48</th>\n",
       "      <td>49</td>\n",
       "      <td>home</td>\n",
       "      <td>3</td>\n",
       "      <td>NaN</td>\n",
       "      <td>NaN</td>\n",
       "      <td>NaN</td>\n",
       "      <td>2</td>\n",
       "      <td>2</td>\n",
       "    </tr>\n",
       "    <tr>\n",
       "      <th>50</th>\n",
       "      <td>51</td>\n",
       "      <td>home</td>\n",
       "      <td>3</td>\n",
       "      <td>NaN</td>\n",
       "      <td>NaN</td>\n",
       "      <td>NaN</td>\n",
       "      <td>2</td>\n",
       "      <td>1</td>\n",
       "    </tr>\n",
       "    <tr>\n",
       "      <th>53</th>\n",
       "      <td>54</td>\n",
       "      <td>away</td>\n",
       "      <td>0</td>\n",
       "      <td>NaN</td>\n",
       "      <td>NaN</td>\n",
       "      <td>NaN</td>\n",
       "      <td>2</td>\n",
       "      <td>3</td>\n",
       "    </tr>\n",
       "    <tr>\n",
       "      <th>55</th>\n",
       "      <td>56</td>\n",
       "      <td>home</td>\n",
       "      <td>3</td>\n",
       "      <td>NaN</td>\n",
       "      <td>NaN</td>\n",
       "      <td>NaN</td>\n",
       "      <td>2</td>\n",
       "      <td>1</td>\n",
       "    </tr>\n",
       "    <tr>\n",
       "      <th>61</th>\n",
       "      <td>62</td>\n",
       "      <td>home</td>\n",
       "      <td>3</td>\n",
       "      <td>NaN</td>\n",
       "      <td>NaN</td>\n",
       "      <td>NaN</td>\n",
       "      <td>2</td>\n",
       "      <td>2</td>\n",
       "    </tr>\n",
       "    <tr>\n",
       "      <th>69</th>\n",
       "      <td>70</td>\n",
       "      <td>away</td>\n",
       "      <td>0</td>\n",
       "      <td>NaN</td>\n",
       "      <td>NaN</td>\n",
       "      <td>NaN</td>\n",
       "      <td>2</td>\n",
       "      <td>1</td>\n",
       "    </tr>\n",
       "    <tr>\n",
       "      <th>74</th>\n",
       "      <td>75</td>\n",
       "      <td>away</td>\n",
       "      <td>0</td>\n",
       "      <td>NaN</td>\n",
       "      <td>NaN</td>\n",
       "      <td>NaN</td>\n",
       "      <td>2</td>\n",
       "      <td>0</td>\n",
       "    </tr>\n",
       "    <tr>\n",
       "      <th>88</th>\n",
       "      <td>89</td>\n",
       "      <td>home</td>\n",
       "      <td>3</td>\n",
       "      <td>NaN</td>\n",
       "      <td>NaN</td>\n",
       "      <td>NaN</td>\n",
       "      <td>2</td>\n",
       "      <td>0</td>\n",
       "    </tr>\n",
       "    <tr>\n",
       "      <th>92</th>\n",
       "      <td>93</td>\n",
       "      <td>away</td>\n",
       "      <td>0</td>\n",
       "      <td>NaN</td>\n",
       "      <td>NaN</td>\n",
       "      <td>NaN</td>\n",
       "      <td>2</td>\n",
       "      <td>1</td>\n",
       "    </tr>\n",
       "    <tr>\n",
       "      <th>98</th>\n",
       "      <td>99</td>\n",
       "      <td>away</td>\n",
       "      <td>0</td>\n",
       "      <td>NaN</td>\n",
       "      <td>NaN</td>\n",
       "      <td>NaN</td>\n",
       "      <td>2</td>\n",
       "      <td>0</td>\n",
       "    </tr>\n",
       "    <tr>\n",
       "      <th>99</th>\n",
       "      <td>100</td>\n",
       "      <td>away</td>\n",
       "      <td>0</td>\n",
       "      <td>NaN</td>\n",
       "      <td>NaN</td>\n",
       "      <td>NaN</td>\n",
       "      <td>2</td>\n",
       "      <td>1</td>\n",
       "    </tr>\n",
       "  </tbody>\n",
       "</table>\n",
       "</div>"
      ],
      "text/plain": [
       "    team played  points shots shots on target corners  yellow cards  red cards\n",
       "7      8   home       3   NaN             NaN     NaN             2          2\n",
       "12    13   away       0   NaN             NaN     NaN             2          0\n",
       "14    15   home       3   NaN             NaN     NaN             2          0\n",
       "17    18   home       3   NaN             NaN     NaN             2          3\n",
       "19    20   away       0   NaN             NaN     NaN             2          1\n",
       "29    30   home       3   NaN             NaN     NaN             2          1\n",
       "31    32   home       3   NaN             NaN     NaN             2          0\n",
       "34    35   away       0   NaN             NaN     NaN             2          0\n",
       "36    37   home       3   NaN             NaN     NaN             2          2\n",
       "43    44   home       3   NaN             NaN     NaN             2          0\n",
       "48    49   home       3   NaN             NaN     NaN             2          2\n",
       "50    51   home       3   NaN             NaN     NaN             2          1\n",
       "53    54   away       0   NaN             NaN     NaN             2          3\n",
       "55    56   home       3   NaN             NaN     NaN             2          1\n",
       "61    62   home       3   NaN             NaN     NaN             2          2\n",
       "69    70   away       0   NaN             NaN     NaN             2          1\n",
       "74    75   away       0   NaN             NaN     NaN             2          0\n",
       "88    89   home       3   NaN             NaN     NaN             2          0\n",
       "92    93   away       0   NaN             NaN     NaN             2          1\n",
       "98    99   away       0   NaN             NaN     NaN             2          0\n",
       "99   100   away       0   NaN             NaN     NaN             2          1"
      ]
     },
     "execution_count": 471,
     "metadata": {},
     "output_type": "execute_result"
    }
   ],
   "source": [
    "df.loc[df['yellow cards'] == 2]"
   ]
  },
  {
   "cell_type": "code",
   "execution_count": 501,
   "id": "961f73ee-d320-4264-8749-b920748331d4",
   "metadata": {},
   "outputs": [
    {
     "data": {
      "text/html": [
       "<div>\n",
       "<style scoped>\n",
       "    .dataframe tbody tr th:only-of-type {\n",
       "        vertical-align: middle;\n",
       "    }\n",
       "\n",
       "    .dataframe tbody tr th {\n",
       "        vertical-align: top;\n",
       "    }\n",
       "\n",
       "    .dataframe thead th {\n",
       "        text-align: right;\n",
       "    }\n",
       "</style>\n",
       "<table border=\"1\" class=\"dataframe\">\n",
       "  <thead>\n",
       "    <tr style=\"text-align: right;\">\n",
       "      <th></th>\n",
       "      <th>team</th>\n",
       "      <th>played</th>\n",
       "      <th>points</th>\n",
       "      <th>shots</th>\n",
       "      <th>shots on target</th>\n",
       "      <th>corners</th>\n",
       "      <th>yellow cards</th>\n",
       "      <th>red cards</th>\n",
       "    </tr>\n",
       "  </thead>\n",
       "  <tbody>\n",
       "    <tr>\n",
       "      <th>0</th>\n",
       "      <td>1</td>\n",
       "      <td>home</td>\n",
       "      <td>3</td>\n",
       "      <td>14</td>\n",
       "      <td>7</td>\n",
       "      <td>3</td>\n",
       "      <td>1</td>\n",
       "      <td>0</td>\n",
       "    </tr>\n",
       "    <tr>\n",
       "      <th>1</th>\n",
       "      <td>2</td>\n",
       "      <td>home</td>\n",
       "      <td>3</td>\n",
       "      <td>17</td>\n",
       "      <td>4</td>\n",
       "      <td>4</td>\n",
       "      <td>1</td>\n",
       "      <td>2</td>\n",
       "    </tr>\n",
       "    <tr>\n",
       "      <th>2</th>\n",
       "      <td>3</td>\n",
       "      <td>home</td>\n",
       "      <td>3</td>\n",
       "      <td>18</td>\n",
       "      <td>4</td>\n",
       "      <td>6</td>\n",
       "      <td>0</td>\n",
       "      <td>0</td>\n",
       "    </tr>\n",
       "    <tr>\n",
       "      <th>3</th>\n",
       "      <td>4</td>\n",
       "      <td>home</td>\n",
       "      <td>3</td>\n",
       "      <td>17</td>\n",
       "      <td>9</td>\n",
       "      <td>7</td>\n",
       "      <td>0</td>\n",
       "      <td>0</td>\n",
       "    </tr>\n",
       "    <tr>\n",
       "      <th>4</th>\n",
       "      <td>5</td>\n",
       "      <td>away</td>\n",
       "      <td>0</td>\n",
       "      <td>9</td>\n",
       "      <td>2</td>\n",
       "      <td>1</td>\n",
       "      <td>0</td>\n",
       "      <td>0</td>\n",
       "    </tr>\n",
       "    <tr>\n",
       "      <th>...</th>\n",
       "      <td>...</td>\n",
       "      <td>...</td>\n",
       "      <td>...</td>\n",
       "      <td>...</td>\n",
       "      <td>...</td>\n",
       "      <td>...</td>\n",
       "      <td>...</td>\n",
       "      <td>...</td>\n",
       "    </tr>\n",
       "    <tr>\n",
       "      <th>95</th>\n",
       "      <td>96</td>\n",
       "      <td>home</td>\n",
       "      <td>3</td>\n",
       "      <td>10</td>\n",
       "      <td>6</td>\n",
       "      <td>5</td>\n",
       "      <td>1</td>\n",
       "      <td>0</td>\n",
       "    </tr>\n",
       "    <tr>\n",
       "      <th>96</th>\n",
       "      <td>97</td>\n",
       "      <td>away</td>\n",
       "      <td>0</td>\n",
       "      <td>10</td>\n",
       "      <td>1</td>\n",
       "      <td>4</td>\n",
       "      <td>3</td>\n",
       "      <td>0</td>\n",
       "    </tr>\n",
       "    <tr>\n",
       "      <th>97</th>\n",
       "      <td>98</td>\n",
       "      <td>home</td>\n",
       "      <td>3</td>\n",
       "      <td>9</td>\n",
       "      <td>5</td>\n",
       "      <td>7</td>\n",
       "      <td>3</td>\n",
       "      <td>0</td>\n",
       "    </tr>\n",
       "    <tr>\n",
       "      <th>98</th>\n",
       "      <td>99</td>\n",
       "      <td>away</td>\n",
       "      <td>0</td>\n",
       "      <td>21</td>\n",
       "      <td>0</td>\n",
       "      <td>5</td>\n",
       "      <td>2</td>\n",
       "      <td>0</td>\n",
       "    </tr>\n",
       "    <tr>\n",
       "      <th>99</th>\n",
       "      <td>100</td>\n",
       "      <td>away</td>\n",
       "      <td>0</td>\n",
       "      <td>7</td>\n",
       "      <td>3</td>\n",
       "      <td>5</td>\n",
       "      <td>2</td>\n",
       "      <td>1</td>\n",
       "    </tr>\n",
       "  </tbody>\n",
       "</table>\n",
       "<p>100 rows × 8 columns</p>\n",
       "</div>"
      ],
      "text/plain": [
       "    team played  points  shots  shots on target  corners  yellow cards  \\\n",
       "0      1   home       3     14                7        3             1   \n",
       "1      2   home       3     17                4        4             1   \n",
       "2      3   home       3     18                4        6             0   \n",
       "3      4   home       3     17                9        7             0   \n",
       "4      5   away       0      9                2        1             0   \n",
       "..   ...    ...     ...    ...              ...      ...           ...   \n",
       "95    96   home       3     10                6        5             1   \n",
       "96    97   away       0     10                1        4             3   \n",
       "97    98   home       3      9                5        7             3   \n",
       "98    99   away       0     21                0        5             2   \n",
       "99   100   away       0      7                3        5             2   \n",
       "\n",
       "    red cards  \n",
       "0           0  \n",
       "1           2  \n",
       "2           0  \n",
       "3           0  \n",
       "4           0  \n",
       "..        ...  \n",
       "95          0  \n",
       "96          0  \n",
       "97          0  \n",
       "98          0  \n",
       "99          1  \n",
       "\n",
       "[100 rows x 8 columns]"
      ]
     },
     "execution_count": 501,
     "metadata": {},
     "output_type": "execute_result"
    }
   ],
   "source": [
    "df"
   ]
  },
  {
   "cell_type": "markdown",
   "id": "963f0e82-0b3a-4f27-aa9f-53f9e56d251e",
   "metadata": {},
   "source": [
    "<br>"
   ]
  },
  {
   "cell_type": "markdown",
   "id": "e746eafd-d084-4613-a73f-c0a0d85d0030",
   "metadata": {},
   "source": [
    "***\n",
    "\n",
    "## References \n",
    "\n",
    "***"
   ]
  },
  {
   "cell_type": "markdown",
   "id": "4ce719d8-66b1-493b-9c1e-0b4291e36c46",
   "metadata": {},
   "source": [
    "<br>"
   ]
  },
  {
   "cell_type": "code",
   "execution_count": null,
   "id": "fc60f047-0d9a-4fc0-b04e-46830f78c5af",
   "metadata": {},
   "outputs": [],
   "source": []
  },
  {
   "cell_type": "markdown",
   "id": "bb9cf742-f78a-4eaa-ac9b-9da46c0957c3",
   "metadata": {},
   "source": [
    "<br>"
   ]
  },
  {
   "cell_type": "markdown",
   "id": "97985a6f-fa66-4a6e-bca3-2f7b4f109bb3",
   "metadata": {},
   "source": [
    "<br>"
   ]
  },
  {
   "cell_type": "markdown",
   "id": "c8ee100a-5fd9-46b9-8abf-241986311aee",
   "metadata": {
    "tags": []
   },
   "source": [
    "#### Images\n",
    "\n",
    "- [12th Man](https://sites.psu.edu/siowfa16/files/2016/10/homeofthe12thman-638x300-p8niz2.jpg)\n",
    "- [Alex Ferguson](https://talksport.com/wp-content/uploads/sites/5/2013/04/Fergie20watch.jpg?strip=all&w=700)\n",
    "- [Liverpool Fans](https://www.rousingthekop.com/static/uploads/4/2021/07/GettyImages-1143394495.jpg)\n",
    "- [Ref](https://i2-prod.liverpoolecho.co.uk/incoming/article11616488.ece/ALTERNATES/s1200c/0_PA-2325788.jpg)\n",
    "- [Brazil Player](https://a.espncdn.com/photo/2021/0222/r817983_1296x729_16-9.jpg)"
   ]
  },
  {
   "cell_type": "markdown",
   "id": "a59cd0f0-f0c8-4fb3-a4b9-95de1af8505c",
   "metadata": {},
   "source": [
    "<br>"
   ]
  },
  {
   "cell_type": "markdown",
   "id": "7561fba0-4aee-40ae-a9c5-1efa36bd7a15",
   "metadata": {},
   "source": [
    "<br>"
   ]
  },
  {
   "cell_type": "markdown",
   "id": "bea522f1-50cc-4314-8904-e176481c9917",
   "metadata": {},
   "source": [
    "<br>"
   ]
  },
  {
   "cell_type": "markdown",
   "id": "a3c25bd6-310c-4b6e-abd5-71bfeeb840a7",
   "metadata": {},
   "source": [
    "<br>"
   ]
  },
  {
   "cell_type": "markdown",
   "id": "2e6f8e0b-fa33-4f53-a5a3-311069879c7a",
   "metadata": {
    "tags": []
   },
   "source": [
    "***\n",
    "\n",
    "# End\n",
    "\n",
    "***"
   ]
  }
 ],
 "metadata": {
  "kernelspec": {
   "display_name": "Python 3 (ipykernel)",
   "language": "python",
   "name": "python3"
  },
  "language_info": {
   "codemirror_mode": {
    "name": "ipython",
    "version": 3
   },
   "file_extension": ".py",
   "mimetype": "text/x-python",
   "name": "python",
   "nbconvert_exporter": "python",
   "pygments_lexer": "ipython3",
   "version": "3.8.11"
  }
 },
 "nbformat": 4,
 "nbformat_minor": 5
}
