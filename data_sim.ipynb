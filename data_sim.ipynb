{
 "cells": [
  {
   "cell_type": "markdown",
   "id": "35d02e26-19c3-4d85-933b-53244825485a",
   "metadata": {},
   "source": [
    "***\n",
    "\n",
    "# Programming For Data Analysis - Project\n",
    "\n",
    "***"
   ]
  },
  {
   "cell_type": "markdown",
   "id": "b3843c09-f4e9-48c2-8685-e690644c47a1",
   "metadata": {},
   "source": [
    "<br>"
   ]
  },
  {
   "cell_type": "markdown",
   "id": "343c124d-f6fd-43b3-a979-e324c6f6c179",
   "metadata": {},
   "source": [
    "<br>"
   ]
  },
  {
   "cell_type": "markdown",
   "id": "36e25ffd-6a13-47c1-97ef-12312ac8d2d7",
   "metadata": {},
   "source": [
    "The real world phenomenon topic I have chosen for this project is the supposed home advantage in sports. The reason I have chosen this as my topic is because as an avid sports fan and that  I certainly noticed a difference in the impact having no spectators has had on sporting events during the Covid-19 pandemic, where fans were unable to enter grounds.  It certainly seemed that the sports phenomena of having the upper hand over your opponent when the game is being played on your own turf was neutralised. \n",
    "\n",
    "I plan to research if there is data to support the claim that playing at your own ground gives a team an advantage and then using my findings to then simulate a dataset using `numpy.random`. \n"
   ]
  },
  {
   "cell_type": "markdown",
   "id": "e4c876ba-27f9-4756-9091-c8a42dcf2695",
   "metadata": {},
   "source": [
    "<br>"
   ]
  },
  {
   "cell_type": "markdown",
   "id": "b5f29dbd-28fc-4f52-87c6-f53b01391498",
   "metadata": {},
   "source": [
    "<br>"
   ]
  },
  {
   "cell_type": "markdown",
   "id": "ac8b59b0-e3a7-4079-93ef-5fc4976bc047",
   "metadata": {},
   "source": [
    "![img](images/12th_man.jpg)"
   ]
  },
  {
   "cell_type": "markdown",
   "id": "682d8ccd-e892-4e3d-9d03-89fa77bf223e",
   "metadata": {},
   "source": [
    "<br>"
   ]
  },
  {
   "cell_type": "markdown",
   "id": "fafb4729-2b1d-423a-9e76-f30a09f9e5ff",
   "metadata": {},
   "source": [
    "One of the oldest phenomenon's in sport is the home advantage. The idea that the crowd is \"12th man\" (refering to football). \"Home advantage in sports, that is, the higher probability of success when playing at home than away from home\" [18].\n",
    "\n",
    "<br>\n",
    "\n",
    "The home advantage theory refers to the phenomenon which is the tendency that sporting athletes are likely to win more often when competing at their home field [19]. Many studies across professional, third level, and high school sports have consistently found that the home athletes winning their opposing counterparts in more than 50% of games played. \"The aggregated winning percentages of home performers vary between sports and across eras, but they typically range from just above 50% to as high as 70%\" [20]. \n",
    "\n",
    "<br>\n",
    "\n",
    "See the table [16] below which shows the results of a study titled \"Home advantage in sport: an overview of studies on the advantage of playing at home\" [21].\n",
    "\n"
   ]
  },
  {
   "cell_type": "markdown",
   "id": "06095cb1-8b56-45da-91ef-b5e8e46086cc",
   "metadata": {},
   "source": [
    "<br>"
   ]
  },
  {
   "cell_type": "markdown",
   "id": "bd96367b-50d8-4f09-8aa6-5c5758595ebf",
   "metadata": {},
   "source": [
    "<br>"
   ]
  },
  {
   "cell_type": "markdown",
   "id": "de92fe1a-0de4-496f-9ffe-355a34ccaa6b",
   "metadata": {},
   "source": [
    "![img](images/winning_numbers.PNG)"
   ]
  },
  {
   "cell_type": "markdown",
   "id": "2d791507-0a3d-4ded-8f0e-51fb2eb4088e",
   "metadata": {},
   "source": [
    "<br>"
   ]
  },
  {
   "cell_type": "markdown",
   "id": "83661aab-2cff-4b22-96de-0baead824e04",
   "metadata": {},
   "source": [
    "In the main it is team sports such as football, rugby, basketball, etc. that reap the most benefits as opposed to individual sports such as athletics.\n",
    "\n",
    "\"The association of being at home with feelings of increased physical comfort, safety, and psychological well-being are reflected in a wealth of popular expressions andsayings, such as Home free; Home is where the heart is; East–west, home is best; Home sweet home; There's no place like home. Thus, it is hardly surprising that the term home advantage has been adopted in sport to represent two related phenomena—both of which are founded on the belief that a team's own park, stadia, or venue is, indeed, a good place in which to compete\" [17]."
   ]
  },
  {
   "cell_type": "markdown",
   "id": "6e909be2-abbc-447a-a011-3b9ba200451a",
   "metadata": {},
   "source": [
    "<br>"
   ]
  },
  {
   "cell_type": "markdown",
   "id": "17e09bfa-9800-498b-996d-6f57261cae38",
   "metadata": {},
   "source": [
    "As it is one of my favourites, the sport I have chosen to research and use for this project is football. \n",
    "\n",
    "Apart from the rare instances where a team is playing in neutral venues the latter rounds of cup competitions - football matches for the most part involve one team playing in their home stadium. This means that the home team plays in familiar surroundings, has the vast majority of fans in the stadium and does not have to travel to a different ground. On the other hand, the away team has to travel, has to deal with rowdy home support, in some cases adjusting to different climates and/or time zones and the possibility of refereeing bias - “Fergie-time” anyone?"
   ]
  },
  {
   "cell_type": "markdown",
   "id": "5a4c0b6c-baa8-44d7-aacb-d34502ac3f91",
   "metadata": {},
   "source": [
    "<br>"
   ]
  },
  {
   "cell_type": "markdown",
   "id": "6d6c0796-973d-430a-b20d-f7f588c77c86",
   "metadata": {},
   "source": [
    "<br>"
   ]
  },
  {
   "cell_type": "markdown",
   "id": "1e6ce0ab-c54f-4404-93f5-e1c8ea815938",
   "metadata": {},
   "source": [
    "<div>\n",
    "<img src=\"images/fergie-time.jpg\" width=\"400\" height='300'/>\n",
    "</div>\n"
   ]
  },
  {
   "cell_type": "markdown",
   "id": "72b98d06-85ec-489f-81d4-5a7224b1bde7",
   "metadata": {},
   "source": [
    "<br>"
   ]
  },
  {
   "cell_type": "markdown",
   "id": "7324f7d8-ef65-4ded-a8e9-d85923cf7b66",
   "metadata": {},
   "source": [
    "<br>"
   ]
  },
  {
   "cell_type": "markdown",
   "id": "fa07464f-948c-4116-a022-717aed97b175",
   "metadata": {},
   "source": [
    "<i>“It’s horrible to play without fans. It’s not a nice feeling. Not seeing anyone in the stadium makes it like training, and it takes a lot to get into the game at the beginning”</i> - Lionel Messi [1].\n"
   ]
  },
  {
   "cell_type": "markdown",
   "id": "d812444c-6dab-4fbb-950a-dedcb54c0da9",
   "metadata": {},
   "source": [
    "<br>"
   ]
  },
  {
   "cell_type": "markdown",
   "id": "fab10cac-feb1-4830-bc59-e421dbde4594",
   "metadata": {},
   "source": [
    "<br>"
   ]
  },
  {
   "cell_type": "markdown",
   "id": "a433ce9c-85dc-4ff4-8b43-bc3cff12334d",
   "metadata": {},
   "source": [
    "Football's ruling bodies have often used playing closed door matches as a punishment for clubs and supporters for gross misconducted for incidents related to racism, violence or corruption [29]. These matches are played behind \"closed doors\" where the home teams supporters are barred from the stadium."
   ]
  },
  {
   "cell_type": "markdown",
   "id": "95952deb-bd96-4119-9eb9-c2015410f3b0",
   "metadata": {},
   "source": [
    "<br>"
   ]
  },
  {
   "cell_type": "markdown",
   "id": "ade74479-b3e1-4685-8f5c-595a279c16f1",
   "metadata": {},
   "source": [
    "Research has shown that this sanction almost completley voids home advantage. \"Historically, home teams win 46% of the time in matches with fans, but only 36% of the time when there are no fans. The away team wins 26% of the time with fans, and 34% without fans\" [26]. "
   ]
  },
  {
   "cell_type": "markdown",
   "id": "8a910ee0-ac7a-4904-a6d4-1366d95794c4",
   "metadata": {},
   "source": [
    "<br>"
   ]
  },
  {
   "cell_type": "markdown",
   "id": "e3d107ff-68b5-4e2c-89c0-0c28a84fb3dc",
   "metadata": {},
   "source": [
    "![img](images\\closed_doors.png)"
   ]
  },
  {
   "cell_type": "markdown",
   "id": "e67e3933-d007-4955-a480-bded0ba66c5d",
   "metadata": {},
   "source": [
    "<br>"
   ]
  },
  {
   "cell_type": "markdown",
   "id": "f6822ba2-bc89-446c-9284-3139b518da32",
   "metadata": {},
   "source": [
    "<br>"
   ]
  },
  {
   "cell_type": "markdown",
   "id": "4f504362-39dc-4a50-a39a-f3188f40bc75",
   "metadata": {},
   "source": [
    "The above figure is taken from the same investigation. It shows \"the outcomes in closed doors matches vs in all others since the beginning of the 2002-03 European football season. Bands show 95% confidence intervals\" [26]."
   ]
  },
  {
   "cell_type": "markdown",
   "id": "4f65e4ae-8fe7-4cf8-bd14-ef6524f140d3",
   "metadata": {},
   "source": [
    "<br>"
   ]
  },
  {
   "cell_type": "markdown",
   "id": "5a78e7f3-fbec-4a87-8802-183b69244159",
   "metadata": {},
   "source": [
    "Up until the banning of supporters from sport events due to Covid-19, closed door matches where really only the main insight we had into the effect not having home support had on a team. "
   ]
  },
  {
   "cell_type": "markdown",
   "id": "e99b7037-4719-45b3-9450-fd2cd1b7f5ae",
   "metadata": {},
   "source": [
    "<br>"
   ]
  },
  {
   "cell_type": "markdown",
   "id": "710c78e1-d9c0-4834-aa5a-ac2760fcd428",
   "metadata": {},
   "source": [
    "On 13 March 2020, following an emergency meeting between the Premier League, The Football Association (FA), the English Football League and the FA Women's Super League, it was unanimously decided that professional football in England would be suspended until at least 4 April 2020, this was further extended,  the 2019-2020 season finally resumed on 17 June 2020 with the absence of fans [2]. This pattern of fixtures \"behind closed-doors\" was one seen all over Europe. "
   ]
  },
  {
   "cell_type": "markdown",
   "id": "bc3af8d9-c8d4-4d1e-a653-44577c981dbb",
   "metadata": {},
   "source": [
    "<br>"
   ]
  },
  {
   "cell_type": "markdown",
   "id": "7d6bb1b7-827e-48b3-ad4a-5469b5e2fcd4",
   "metadata": {},
   "source": [
    "The early Covid-19 restrictions on supporters from entering stadiums allowed for researchers to investigate the sporting phenomena that is home advantage and for the first time we have solid data that can be explored in relation to advantages that playing in front of a home crowd can give a team. "
   ]
  },
  {
   "cell_type": "markdown",
   "id": "6e9e6f4f-91b2-4174-84d4-d9c666f55902",
   "metadata": {},
   "source": [
    "<br>"
   ]
  },
  {
   "cell_type": "markdown",
   "id": "8198754c-a2da-43ad-8f7a-bd4551b2562b",
   "metadata": {},
   "source": [
    "<br>"
   ]
  },
  {
   "cell_type": "markdown",
   "id": "22e9f705-bc15-4b50-ab09-a2abef0eb191",
   "metadata": {},
   "source": [
    "***"
   ]
  },
  {
   "cell_type": "markdown",
   "id": "df7bbeba-641b-43fa-82e3-98f9bc3d3986",
   "metadata": {},
   "source": [
    "<br>"
   ]
  },
  {
   "cell_type": "markdown",
   "id": "f06361f9-e82d-46f3-858e-800805e95f3f",
   "metadata": {},
   "source": [
    "## Investigation"
   ]
  },
  {
   "cell_type": "markdown",
   "id": "4b4a3a8a-d1e6-44ea-a04d-e321d93491f0",
   "metadata": {},
   "source": [
    "<br>"
   ]
  },
  {
   "cell_type": "markdown",
   "id": "8184ada2-4cfe-43dc-84c4-e9880ff4de2a",
   "metadata": {},
   "source": [
    "<br>"
   ]
  },
  {
   "cell_type": "markdown",
   "id": "7ceb8383-bb28-4f47-b66c-d6fa46498a32",
   "metadata": {},
   "source": [
    "<br>"
   ]
  },
  {
   "cell_type": "markdown",
   "id": "98375515-f93d-44c3-a150-a4be5d43c43e",
   "metadata": {},
   "source": [
    "In order to generate a simulated dataset we need to research the phenomena and investigate real world datasets on the subject to know the distribution and variables to inculde. "
   ]
  },
  {
   "cell_type": "markdown",
   "id": "3e1360da-9d32-4340-b855-4800044805ff",
   "metadata": {},
   "source": [
    "<br>"
   ]
  },
  {
   "cell_type": "markdown",
   "id": "fac94f59-a0ea-44cd-ac24-a587c4c209ae",
   "metadata": {},
   "source": [
    " Since these “ghost games”, research into the impact of empty stadia has jumped, many researchers have “... attempted to understand the impact that eliminating fans had on game outcomes, including scoring, fouls, and differences in team performances” [3]. The majority of these studies overwhelmingly propose that playing matches behind closed doors had a particularly negative effect on home teams.\n",
    "\n",
    "<br> \n",
    "\n",
    "The 2019-2020 footballing season was the first time in history that England's top four football divisions recorded more away than home wins [4]. When restrictions eased and supporters were allowed entry back into stadiums in a limited capacity from May 17th 2021 results “... returned to pre-COVID levels with 40% won by home teams and 31% by the visitors.\" [4].\n",
    "\n",
    "<br>\n",
    "\n",
    "The biggest study on the sporting phenomena of \"home advantage\" during these \"ghost games\" was conducted by the University of Leeds and Northumbria University. \"Researchers used the unique opportunity presented by the COVID-19 pandemic to test whether home advantage applies when fans are not present in the stands\" [5]. The study is the first of its kind in that it also considers \"...whether home advantage affects a team's dominance over a game\" [5]. \n",
    "\n",
    "A teams dominance was determined by:\n",
    " - number of corners\n",
    " - shots off and on target in a given match [5]. "
   ]
  },
  {
   "cell_type": "markdown",
   "id": "7b8f5b6d-09c7-4840-9dbe-2ab0fb35b602",
   "metadata": {},
   "source": [
    "<br>"
   ]
  },
  {
   "cell_type": "markdown",
   "id": "253f3bfd-1a4c-4a23-b35d-fb54b535486f",
   "metadata": {},
   "source": [
    "In the study titled \"Home advantage during the COVID-19 pandemic: Analyses of European football leagues\" [6], researchers complied the data from Football-Data.co.uk and an online database provided by FiveThirtyEight to assess at 4,844 games across 11 countries, including the England Premier League and Championship, Germany Bundesliga 1 and 2, Spanish La Liga 1 and 2, Italian Serie A and B, Portuguese Primeira Liga, Greek Super League, Turkish Super Lig, Austrian Bundesliga, Danish Superligaen, Russian Premier League and Swiss Super League.\n"
   ]
  },
  {
   "cell_type": "markdown",
   "id": "bbb6cbd1-30a3-4b98-bbd0-7d2224e8024e",
   "metadata": {},
   "source": [
    "<br>"
   ]
  },
  {
   "cell_type": "markdown",
   "id": "96c558bb-a753-4115-83ab-3e40bb409c39",
   "metadata": {},
   "source": [
    "Of the study lead reseacher Dane McCarrick said \"When it returned, the remainder of the games took place behind closed doors with no fans present. This provided an unintentional, and unique, opportunity to examine one of the most talked about and empirically studied phenomena in professional team sport: the home advantage...\n",
    "\n",
    "This new knowledge reveals that in the most basic sense, fans attendance matters.\" [7]"
   ]
  },
  {
   "cell_type": "markdown",
   "id": "21e13915-b461-4715-a760-2de3417afe85",
   "metadata": {},
   "source": [
    "<br>"
   ]
  },
  {
   "cell_type": "markdown",
   "id": "713b430f-dade-4000-9808-ea17f7dae7d3",
   "metadata": {},
   "source": [
    "<br>"
   ]
  },
  {
   "cell_type": "markdown",
   "id": "0490cd2f-a568-4f6e-bebf-e8cdc370fc22",
   "metadata": {},
   "source": [
    "The main findings from the study [6]:"
   ]
  },
  {
   "cell_type": "markdown",
   "id": "5b118610-1677-4c31-8cbd-bde64aa51af8",
   "metadata": {},
   "source": [
    "- On average with fans present: \n",
    "     - When teams played at home they won 0.39 points more per game than when playing away.\n",
    "     - Home teams scored 0.29 goals more per game than the away teams."
   ]
  },
  {
   "cell_type": "markdown",
   "id": "c77d8f38-2fe1-4565-9133-013061de5b91",
   "metadata": {},
   "source": [
    "<br>"
   ]
  },
  {
   "cell_type": "markdown",
   "id": "f3dff99c-fd21-43f6-8876-ca0f78485190",
   "metadata": {},
   "source": [
    "- On average without fans present:\n",
    "    - The points won by teams when playing at home dropped almost half to 0.22 points.  \n",
    "    - Home teams scored 0.15 goals more per game than the away teams. Again, almost a 50% drop than with fans. "
   ]
  },
  {
   "cell_type": "markdown",
   "id": "fd077727-d861-42a2-b9be-3e9dd53d07a3",
   "metadata": {},
   "source": [
    "<br>"
   ]
  },
  {
   "cell_type": "markdown",
   "id": "02f22593-fdf8-443d-a958-b057148ded10",
   "metadata": {},
   "source": [
    "- Referee's gave:\n",
    "    - More fouls against the home team without fans present.\n",
    "    - A similar number of fouls against the away team in empty stadiums.\n",
    "    - A similar number of yellow cards against the home team in empty stadiums, even though they committed more fouls.\n",
    "    - Red cards - although less commonplace during games - followed this pattern."
   ]
  },
  {
   "cell_type": "markdown",
   "id": "868b5ea6-4199-4b0f-a6da-9a267abd65ef",
   "metadata": {},
   "source": [
    "<br>"
   ]
  },
  {
   "cell_type": "markdown",
   "id": "3fc6aa08-baf2-4124-81f3-3530dd82cfe3",
   "metadata": {},
   "source": [
    "- How a home teams dominance was effected on average without fans present: \n",
    "    - Teams won 0.7 fewer corners.\n",
    "    - Teams had 1.3 fewer shots attempts.\n",
    "    - Teams had 0.4 fewer shots on target. "
   ]
  },
  {
   "cell_type": "markdown",
   "id": "806f55f2-7793-4a58-ba60-594bf94b0b5b",
   "metadata": {},
   "source": [
    "<br>"
   ]
  },
  {
   "cell_type": "markdown",
   "id": "51271acd-bc33-43fe-aeb1-c44c95263a7d",
   "metadata": {},
   "source": [
    "- How an away teams dominance was effected on average without fans present: \n",
    "    - Teams won 0.10 more corners.\n",
    "    - Teams had 0.17 more shots attempts.\n",
    "    - Teams had 0.20 more shots on target. "
   ]
  },
  {
   "cell_type": "markdown",
   "id": "61f7c48d-0162-4d2e-b6de-3a86df7eb3db",
   "metadata": {},
   "source": [
    "<br>"
   ]
  },
  {
   "cell_type": "markdown",
   "id": "495e4974-26d6-4733-8784-4f35e9a397d9",
   "metadata": {},
   "source": [
    "<br>"
   ]
  },
  {
   "cell_type": "markdown",
   "id": "2e210654-dec3-4812-bbbc-fa27a45f66ed",
   "metadata": {},
   "source": [
    "#### Variables"
   ]
  },
  {
   "cell_type": "markdown",
   "id": "0fddcb7f-2d04-4640-b26d-0500b5dbd205",
   "metadata": {},
   "source": [
    "<br>"
   ]
  },
  {
   "cell_type": "markdown",
   "id": "b2b56cf0-c704-4a23-93b9-c618933982e9",
   "metadata": {},
   "source": [
    "After researchng the various studies the variables that we will be using to simulate the dataset are:\n",
    "\n",
    "- Is the team playing home or away (categorical).\n",
    "- Number of points.\n",
    "- Referee behaviour: \n",
    "    - Number of yellow/red cards shown to the home team.\n",
    "    - Number of yellow/red cards shown to the away team.\n",
    "- Teams dominance: \n",
    "    - Number of goals scored for the home team.\n",
    "    - Number of goals scored for the away team.\n",
    "    - Number of corners and shots for the home team.\n",
    "    - Number of corners and shots for the away team.\n"
   ]
  },
  {
   "cell_type": "markdown",
   "id": "5f6a2d7e-0120-4d3c-b1f2-06fa40a73823",
   "metadata": {},
   "source": [
    "<br>"
   ]
  },
  {
   "cell_type": "markdown",
   "id": "3dc8b185-2ad6-4173-88ed-ced63c9fc347",
   "metadata": {},
   "source": [
    "<br>"
   ]
  },
  {
   "cell_type": "markdown",
   "id": "b1b755fc-b0c3-465b-9583-096c6f5bdcfc",
   "metadata": {},
   "source": [
    "### Home or Away"
   ]
  },
  {
   "cell_type": "markdown",
   "id": "ef594be3-9f84-4629-b899-6a168051498f",
   "metadata": {},
   "source": [
    "<br>"
   ]
  },
  {
   "cell_type": "markdown",
   "id": "84f275be-f770-4a17-a322-1267c363ec93",
   "metadata": {},
   "source": [
    "<br>"
   ]
  },
  {
   "cell_type": "markdown",
   "id": "1997977b-60c6-40a7-b7d0-51ee0efcfa9c",
   "metadata": {},
   "source": [
    "<div>\n",
    "<img src=\"images/fans.jpg\" width=\"400\" height='300'/>\n",
    "</div>\n"
   ]
  },
  {
   "cell_type": "markdown",
   "id": "1657db38-3924-4668-b653-40768e8f02e3",
   "metadata": {},
   "source": [
    "<br>"
   ]
  },
  {
   "cell_type": "markdown",
   "id": "affe4ef3-1130-4308-a121-002ae51c83a9",
   "metadata": {},
   "source": [
    "<br>"
   ]
  },
  {
   "cell_type": "markdown",
   "id": "2564a089-d1a0-4b41-bcd9-39aa76f8d6e6",
   "metadata": {},
   "source": [
    "\"In the attempt to curb violence related to soccer events, especially after the tragedy of the Heysel Stadium in 1985 in the early Nineties Italian stadiums were required all-seater accommodations and separate sectors\n",
    "between home and visiting supporters\" [26]. After a number of tragdies football stadiums became fully seated - this is currently being reviewed by a number of footballing bodies - and home and away supporters are seperated due to safety concerns. This results in the clubs issuing the majority of tickets to their own supporters and a small section of a given stadium is reserved for the away teams fans. This results in the home teams support by far outweighing that of their oppoistion. \n"
   ]
  },
  {
   "cell_type": "markdown",
   "id": "174237f1-01e1-49b4-b8bf-4d88b73a9256",
   "metadata": {},
   "source": [
    "<br>"
   ]
  },
  {
   "cell_type": "markdown",
   "id": "28263b40-e47c-4804-8ca5-383fab65ef59",
   "metadata": {},
   "source": [
    "A home team overwhelmingly can expect to receive a stronger support from the crowd than their opponents. It is thought that this noise can help fire up players and  make the away team uneasy and shaky. \n"
   ]
  },
  {
   "cell_type": "markdown",
   "id": "077a6218-0e13-40e2-a15f-4ad5aed4aa74",
   "metadata": {},
   "source": [
    "<br>"
   ]
  },
  {
   "cell_type": "markdown",
   "id": "3232ecd6-4300-4898-9f1a-a4ab597731c1",
   "metadata": {},
   "source": [
    "A performer's arousal intensifies in the presence of others [8] i.e you are more likely to put more care/effort into what you’re doing when you’re being watched. If we apply this to athletes, it can suggest that effort and motivation will increase if a supportive crowd is present, which in turn results in increased performance [9]."
   ]
  },
  {
   "cell_type": "markdown",
   "id": "0ea76227-ab7e-446b-bf8e-91283680007f",
   "metadata": {},
   "source": [
    "<br>"
   ]
  },
  {
   "cell_type": "markdown",
   "id": "e0f77ea3-874d-43d7-8c3a-ad077aaff641",
   "metadata": {},
   "source": [
    "Another caveat of playing at home is familiarity with the stadium [3]. Some of the advantages for the home team are; football pitches have a minimum and maximum dimensions that they can be, meaning size of pitches vary, some stadiums have fans closer to the pitch than others and different pitches have different playing surfaces [9]. I know my home team - Dundalk F.C - are the only team in the League of Ireland whose home pitch is artificial, it is often a contentious issue where opponents complain about it. The ball bounces and moves differently and faster on an artificial surface than on real grass. This is often seen as giving Dundalk an unfair advantage when playing at home as they are used to it. "
   ]
  },
  {
   "cell_type": "markdown",
   "id": "1f113bdd-d693-4405-92e7-17e240182e1a",
   "metadata": {},
   "source": [
    "<br>"
   ]
  },
  {
   "cell_type": "markdown",
   "id": "8cf064ee-0ea3-4bb6-8f74-31d88d71f1f7",
   "metadata": {},
   "source": [
    "Last but not least, the home team does not have to travel. This has been investigated as a reason behind home advantage several times. In his study titled “The Impact of Visiting Team Travel on Game Outcome and Biases in NFL Betting Markets”, Mark Nichols examined data on the football seasons from 1981-2004 and found that away teams traveling through a minimum of one time zone gave a substandard performance and significantly increased the probability of a home win [10].\n",
    "\n",
    "I know this study is in reference to US Football which is not the same as “soccer” but, a study on “Home advantage in Australian soccer” by Chris Goumas arrived at the same conclusion “HA [Home Advantage] increased significantly with increasing number of time zones crossed by away teams (p<0.001)” [11].\n",
    "\n",
    "Additionally, in their paper “Home ground advantage of individual clubs in English soccer'' Stephen Clarke and John Norman found that “home advantage” increased the further the distance the away team had to travel from [12]. \n"
   ]
  },
  {
   "cell_type": "markdown",
   "id": "021d72b7-db93-40a0-8317-885c060e912d",
   "metadata": {},
   "source": [
    "<br>"
   ]
  },
  {
   "cell_type": "markdown",
   "id": "3f7e78de-85be-4db8-9b2f-19721383fe64",
   "metadata": {},
   "source": [
    "<br>"
   ]
  },
  {
   "cell_type": "markdown",
   "id": "e5d3ea67-bd4b-4d33-a73c-3c63ff3d723c",
   "metadata": {},
   "source": [
    "Another explaination for \"Home Advantage\" may be the animalistic protection of ones territory. \n",
    "\n",
    "\"Territoriality is prevalent amongst manyanimal species, which typically display agonistic behavioursand attack more readily and with greater vigour when defending a home territory... several studies have showna ‘home advantage’ for an animal when its territory isthreatened or attacked, even when the defender is smallerthan the rival, suggesting an important motivational incent-ive in territorial defense\" [27].  In the study \"Testosterone, territoriality, and the ‘home advantage’\" Neave and Wolfson found that a male football players testosterone levels had  \"...an increase before home games but no differencebetween levels before training and away games\" [27], given weight to the point of players raising their performance at their home turf."
   ]
  },
  {
   "cell_type": "markdown",
   "id": "0dd5b28c-c948-4898-a544-f8bdede9b642",
   "metadata": {},
   "source": [
    "<br>"
   ]
  },
  {
   "cell_type": "markdown",
   "id": "14645a4b-9783-4bb5-a84f-fe616f443a1e",
   "metadata": {},
   "source": [
    "<br>"
   ]
  },
  {
   "cell_type": "markdown",
   "id": "9626b271-54aa-4eb5-992c-3c5a90a48f58",
   "metadata": {},
   "source": [
    "<br>"
   ]
  },
  {
   "cell_type": "markdown",
   "id": "e2e798dc-8d1c-483d-adf3-6b25632373dc",
   "metadata": {},
   "source": [
    "### Points"
   ]
  },
  {
   "cell_type": "markdown",
   "id": "f8e72b3c-db2e-4ecf-be15-635c9fa0adb8",
   "metadata": {},
   "source": [
    "<br>"
   ]
  },
  {
   "cell_type": "markdown",
   "id": "5c860f22-d992-4afd-b7d0-07a4edd3f846",
   "metadata": {},
   "source": [
    "This variable is our way to measure if a team has won, drawn or lost a match. In league football or in the group stages of a cup competition a team is awarded:\n",
    "- 3 points for winning.\n",
    "- 1 point for drawing.\n",
    "- 0 points for losing. \n",
    "\n",
    "\n",
    "The study \"Home advantage during the COVID-19 pandemic: Analyses of European football leagues\" [6] found on average with a crowd present, home teams won 0.39 points more per game than when they played away. When fan free \"ghost games\" took place this dropped to 0.22 points, that is just under a 50% dip in points won.\n",
    "\n",
    "The below figure is from that study."
   ]
  },
  {
   "cell_type": "markdown",
   "id": "1ab97fc9-fc12-470c-968d-7c7292f6a067",
   "metadata": {},
   "source": [
    "<br>"
   ]
  },
  {
   "cell_type": "markdown",
   "id": "76f923df-e075-43f5-8302-fdd7effffe94",
   "metadata": {},
   "source": [
    "<br>"
   ]
  },
  {
   "cell_type": "markdown",
   "id": "dbc1f7e2-2e81-4e3c-bcb5-38380c3ee920",
   "metadata": {},
   "source": [
    "![img](images/pre_post_covid.PNG)"
   ]
  },
  {
   "cell_type": "markdown",
   "id": "99fbdf23-cf78-48c5-a49d-e3a45c89951f",
   "metadata": {},
   "source": [
    "<br>"
   ]
  },
  {
   "cell_type": "markdown",
   "id": "80b04a6b-dfc9-47e8-ba1a-da91805e9430",
   "metadata": {},
   "source": [
    "<br>"
   ]
  },
  {
   "cell_type": "markdown",
   "id": "bdc0a2b1-d013-44d2-858d-d5fba1e63224",
   "metadata": {},
   "source": [
    "We can see that the home teams points and goal accumulation dropped while the away teams grew slightly \n",
    "\n",
    "\n",
    "Home advantage remains in European top-class football matches played without spectators during the COVID-19 pandemic\" where researchers  analysed \"...more than 40,000 matches before and during the pandemic, including more than 1,000 professional matches without spectators across the main \n",
    "European football leagues\" [14]. \n"
   ]
  },
  {
   "cell_type": "markdown",
   "id": "f4b5860f-2c3c-4129-ac20-dd7c175d2ae8",
   "metadata": {},
   "source": [
    "<br>"
   ]
  },
  {
   "cell_type": "markdown",
   "id": "fdd793e9-8bad-4d37-93e9-0fc8f5a53db5",
   "metadata": {},
   "source": [
    "<br>"
   ]
  },
  {
   "cell_type": "markdown",
   "id": "43c93e04-522a-47d2-a5a4-886a65fe283d",
   "metadata": {},
   "source": [
    "<br>"
   ]
  },
  {
   "cell_type": "markdown",
   "id": "27c618f1-b7fb-4d37-a0d4-c3b65e8cf4a8",
   "metadata": {
    "tags": []
   },
   "source": [
    "### Referee Behavior"
   ]
  },
  {
   "cell_type": "markdown",
   "id": "d8102e55-5f7e-4296-96f7-62310af24a2d",
   "metadata": {},
   "source": [
    "<br>"
   ]
  },
  {
   "cell_type": "markdown",
   "id": "6495afcd-c704-4380-a4c5-b4cfaa779547",
   "metadata": {},
   "source": [
    "<div>\n",
    "<img src=\"images/ref.jpg\" width=\"400\" height='300'/>\n",
    "</div>"
   ]
  },
  {
   "cell_type": "markdown",
   "id": "a8c7616c-76ac-4928-9150-3372756ff06d",
   "metadata": {},
   "source": [
    "<br>"
   ]
  },
  {
   "cell_type": "markdown",
   "id": "e7eda3d3-72ef-4328-8f32-cd363f7f047b",
   "metadata": {},
   "source": [
    "To measure the variable of referee behaviour we will account for the number of yellow and red cards, shown to the home and away teams."
   ]
  },
  {
   "cell_type": "markdown",
   "id": "cbb9dd0b-3ac7-45e3-9d33-dc686655fca7",
   "metadata": {},
   "source": [
    "<br>"
   ]
  },
  {
   "cell_type": "markdown",
   "id": "5f67e608-ef7d-4c41-a960-fbbf3b02501b",
   "metadata": {},
   "source": [
    "Besides the atmosphere and lift of energy a supportive home crowd can inspire in the home team's performance, their reactions can subconsciously influence a referee's decisions with a bias towards the home team [13]. There is evidence to points towards how the impact of a can have an affect on a referee's decisions over the course of a match. This may be due to the noise generated by the crowd or \"...by the referees' perception that they are being monitored\" [18]."
   ]
  },
  {
   "cell_type": "markdown",
   "id": "74136179-c680-443e-85f8-5d8ac708eb17",
   "metadata": {},
   "source": [
    "<br>"
   ]
  },
  {
   "cell_type": "markdown",
   "id": "b4c2a3d6-f6be-4c1e-b978-805debb94c4f",
   "metadata": {},
   "source": [
    "\"The phenomenon of social pressure on the behaviour of individuals has always played a critical role in most areas of society, and affects the outcome of important events. In fact, in many situations each single individual is encouraged bysocial pressure to make decisions which, although against their own inclinations, conform to the expectations of the group they are in, thus looking to avoid disapproval and being judged\" [22]. "
   ]
  },
  {
   "cell_type": "markdown",
   "id": "4be46bf0-3209-466a-8d91-debb3d218030",
   "metadata": {},
   "source": [
    "<br>"
   ]
  },
  {
   "cell_type": "markdown",
   "id": "35a84eeb-b1b5-4064-8230-966a60b14e10",
   "metadata": {},
   "source": [
    "Referee's have a pivitol role, they act as impartial enforcers of the rules of a game and with the aim of making a match fair. There is huge pressure on referee's to make the correct desision, as at the highest level their rulings are the difference between winning a championship and relagation, winning millions in prize money or massive drops in revenue [23].\n",
    "\n",
    "In football, referee's make on average 200 non observational and observational descisions during a match [24]. Although their role is to be impartial that does not stop opposing teams, fans, managers etc. from trying to infulence their decisions [24].\n",
    " \n",
    "\"...a certain level of favouritism on the part of the referee towards the home team due to the pressure exerted by the fans of this team, because of their majority presence. Such a phenomenon is commonly defined as home bias and this, in turn, creates what is known as home advantage\" [22]. An example of this is in a 50/50 tackle or if linesperson is in two minds about who got the last touch on the ball, a louder claims and noise from the home fans may infulence enough that they come out of the situation on top.\n"
   ]
  },
  {
   "cell_type": "markdown",
   "id": "6fd4bdc8-d720-4696-ba3e-3fe909bf4f2f",
   "metadata": {},
   "source": [
    "<br>"
   ]
  },
  {
   "cell_type": "markdown",
   "id": "1f3fa8eb-d154-4cac-b944-eef79a5181d9",
   "metadata": {},
   "source": [
    "In his study “Home advantage and referee bias in European football” [14] Chris Goumas used match data from the 2009/2010 and 2010/2011 Champions League and UEFA Cup (now Europa League) competitions to examine “referee bias in terms of the association between match location (home vs. away) and disciplinary sanctions used by football referees” [14]. The study found that in the Champions League referee’s issued 25% (p<0.001)  more yellow cards to the away side, and in the UEFA Cup the number was 10% (p=0.002) [14]. \n",
    "“The higher level of home team bias in the Champions League appeared to be mainly due to higher crowd densities. In a combined analysis of both UEFA leagues the magnitude of referee bias increased with increasing crowd density” [14]."
   ]
  },
  {
   "cell_type": "markdown",
   "id": "9c3aadb8-c2cb-481a-8387-fb9d1b841e38",
   "metadata": {},
   "source": [
    "<br>"
   ]
  },
  {
   "cell_type": "markdown",
   "id": "6519f3bf-d227-4c65-9c90-42adf3b504a7",
   "metadata": {},
   "source": [
    "Another study conducted during the time fans where restricted from entering stadiums due to Covid-19 restrictions “results support the notion of a crowd-induced referee bias as the increased sanctioning of away teams disappears in the absence of spectators with regard to fouls (p < .001), yellow cards (p < .001), and red cards (p < .05)” [15].\n"
   ]
  },
  {
   "cell_type": "markdown",
   "id": "5717defb-912e-4aa1-881d-84972f28f499",
   "metadata": {},
   "source": [
    "<br>"
   ]
  },
  {
   "cell_type": "markdown",
   "id": "5faf02f7-3122-410f-945a-0e564ed096c7",
   "metadata": {},
   "source": [
    "There is an arguement put forward in the paper \"A multiple-cue learning approach as the basis for understanding and improving soccer referees' decision making\" [25] that referees' decision-making is on a base level automatic rather than deliberate. And that these decisions made by referees are based on multiple cues rather than a singular one. This claim was backed when by Memmert and Unkelbach found that situational cues such as crowd noise are a likely reasoning behind home team referee bias [13]."
   ]
  },
  {
   "cell_type": "markdown",
   "id": "470808f2-4cc0-4c2b-a8d2-53eb631d1e8a",
   "metadata": {},
   "source": [
    "<br>"
   ]
  },
  {
   "cell_type": "markdown",
   "id": "bc57dd11-0401-4b04-88c2-415608c950d1",
   "metadata": {},
   "source": [
    "<br>"
   ]
  },
  {
   "cell_type": "markdown",
   "id": "09294643-3869-4c37-8085-1d60db633804",
   "metadata": {},
   "source": [
    "### Dominance"
   ]
  },
  {
   "cell_type": "markdown",
   "id": "d50f260c-ef99-4ec7-bd1b-3f6ccb05f2d0",
   "metadata": {},
   "source": [
    "<br>"
   ]
  },
  {
   "cell_type": "markdown",
   "id": "3cfd220d-29e5-471b-b570-facae4a75a07",
   "metadata": {},
   "source": [
    "<div>\n",
    "<img src=\"images\\dominace_2.jpg\"\" width=\"400\" height='300'/>\n",
    "</div>"
   ]
  },
  {
   "cell_type": "markdown",
   "id": "01809455-64b8-4314-bea6-5d5ae881a0b7",
   "metadata": {},
   "source": [
    "<br>"
   ]
  },
  {
   "cell_type": "markdown",
   "id": "23d6fd4c-a4f2-413f-a7c2-533e1ff03074",
   "metadata": {},
   "source": [
    "Dominance is defined as \"the quality of being more important, strong, or successful than anything else of the same type\" [28]. "
   ]
  },
  {
   "cell_type": "markdown",
   "id": "d1767ff2-7b62-4288-97cf-0d25141b341f",
   "metadata": {},
   "source": [
    "<br>"
   ]
  },
  {
   "cell_type": "markdown",
   "id": "5e0029d0-df52-4cbf-9088-368102742538",
   "metadata": {},
   "source": [
    "\"Home advantage during the COVID-19 pandemic: Analyses of European football leagues\" [6] was the first study of its kind to factor in a teams' dominance when investigating the theory of \"Home Advantage\".  \n",
    "\n",
    "In the context of this study, the researchers at the University of Leeds' School of Psychology, measured a teams dominance by the number of corners won, shots and shots on target. "
   ]
  },
  {
   "cell_type": "markdown",
   "id": "99a68d82-6a89-439f-afe9-6ee1a10b8830",
   "metadata": {},
   "source": [
    "<br>"
   ]
  },
  {
   "cell_type": "markdown",
   "id": "a07ade74-35d0-4c23-9312-b9611276ea74",
   "metadata": {},
   "source": [
    "![img](images\\dominace.PNG)"
   ]
  },
  {
   "cell_type": "markdown",
   "id": "721f67ee-0e95-4bba-9553-5bedab2d1947",
   "metadata": {},
   "source": [
    "<br>"
   ]
  },
  {
   "cell_type": "markdown",
   "id": "8688096b-11e6-4ca8-ab59-c2e86cacb225",
   "metadata": {},
   "source": [
    "The research found (above figure) that without a home supporters present the home team on average had 1.3 fewer attempts on goal and 0.4 less shots on target. They also won 0.7 less corners [6].\n",
    "\n",
    "<br>\n",
    "\n",
    "On the otherhand the away teams dominance didn't vary as much. They won 0.10 more corners and had an increase of 0.17 shots of which, 0.20 where on target [6]."
   ]
  },
  {
   "cell_type": "markdown",
   "id": "3fb7cb23-308d-4bdd-9ef7-2bb2d2d094be",
   "metadata": {},
   "source": [
    "<br>"
   ]
  },
  {
   "cell_type": "markdown",
   "id": "99f05404-6d31-4bd4-9605-4a91f143ccda",
   "metadata": {},
   "source": [
    "<br>"
   ]
  },
  {
   "cell_type": "markdown",
   "id": "1dd858c7-c801-4d88-8b4a-8debb31d35ed",
   "metadata": {},
   "source": [
    "***"
   ]
  },
  {
   "cell_type": "markdown",
   "id": "00a3ea7a-be5c-476d-aac7-7930197ff2bb",
   "metadata": {},
   "source": [
    "## Simulating The Data"
   ]
  },
  {
   "cell_type": "markdown",
   "id": "5db31381-0569-406f-934f-74dc57fb152e",
   "metadata": {},
   "source": [
    "***"
   ]
  },
  {
   "cell_type": "markdown",
   "id": "26eee699-10b1-4d2d-a1dc-f5e6b4a24184",
   "metadata": {},
   "source": [
    "<br>"
   ]
  },
  {
   "cell_type": "markdown",
   "id": "36ca98da-fbe2-415c-bd62-e3fb129bb385",
   "metadata": {},
   "source": [
    "#### Importing Libaries"
   ]
  },
  {
   "cell_type": "markdown",
   "id": "775a88b9-4f57-4503-be37-a94579ed103e",
   "metadata": {},
   "source": [
    "<br>"
   ]
  },
  {
   "cell_type": "code",
   "execution_count": 1,
   "id": "1ccc84a1-50e7-474c-9966-43adf25bfeba",
   "metadata": {},
   "outputs": [],
   "source": [
    "# Random\n",
    "import random\n",
    "\n",
    "# To work with data\n",
    "import numpy as np\n",
    "\n",
    "# To work with data\n",
    "import pandas as pd"
   ]
  },
  {
   "cell_type": "markdown",
   "id": "b5f30512-7536-4ce3-859b-3feb25833b2c",
   "metadata": {},
   "source": [
    "<br>"
   ]
  },
  {
   "cell_type": "code",
   "execution_count": 2,
   "id": "dbd5801d-0394-408f-a22b-8390dd874ea6",
   "metadata": {},
   "outputs": [],
   "source": [
    "# Visualising data\n",
    "import matplotlib.pyplot as plt\n",
    "\n",
    "# Configures matplotlib to show figures embedded in the notebook. \n",
    "%matplotlib inline\n",
    "\n",
    "# Standard plot size.\n",
    "plt.rcParams['figure.figsize'] = (15, 10)\n",
    "\n",
    "# Selecting a colour scheme.\n",
    "plt.style.use('ggplot')"
   ]
  },
  {
   "cell_type": "markdown",
   "id": "e5d56a62-775e-4916-8a7d-f96abe28ddf4",
   "metadata": {},
   "source": [
    "<br>"
   ]
  },
  {
   "cell_type": "markdown",
   "id": "fbbed44d-b98c-4177-ad32-8c09bdc29c7a",
   "metadata": {},
   "source": [
    "Numpy has recently updated the method it uses to generate random numbers. Previously, Numpy employed the Mersenne Twister pseudo-random number generator (MT19937) refered to as legacy random state - This method can still be used. It has updated to the Permutation Congruential generator (PCG-64) method. PCG-64 is a 128-bit implementation of O’Neill’s permutation congruential generator [30]."
   ]
  },
  {
   "cell_type": "markdown",
   "id": "83f5365c-4d48-4ead-a934-c0943d426af0",
   "metadata": {},
   "source": [
    "<br>"
   ]
  },
  {
   "cell_type": "code",
   "execution_count": 3,
   "id": "5a726559-51ca-4b50-94bd-f4c3afe95b43",
   "metadata": {},
   "outputs": [],
   "source": [
    "# Setting the PRNG as PCG-64\n",
    "rng = np.random.default_rng()"
   ]
  },
  {
   "cell_type": "code",
   "execution_count": 36,
   "id": "386dba8a-156e-437c-a366-e4ae3a82f38a",
   "metadata": {},
   "outputs": [],
   "source": [
    "df = pd.DataFrame(columns=['team', 'played', 'points', 'yellow cards', 'corners', 'shots'])"
   ]
  },
  {
   "cell_type": "markdown",
   "id": "cb5277fc-3ec5-4770-afe9-f6e0cb8f61f9",
   "metadata": {},
   "source": [
    "<br>"
   ]
  },
  {
   "cell_type": "markdown",
   "id": "4cff3367-e7ec-4cf1-b406-5bd7a4177aa4",
   "metadata": {
    "tags": []
   },
   "source": [
    "#### The Teams"
   ]
  },
  {
   "cell_type": "markdown",
   "id": "5d1195f6-8036-4cc4-aced-a4e6130eedc4",
   "metadata": {},
   "source": [
    "<br>"
   ]
  },
  {
   "cell_type": "code",
   "execution_count": 39,
   "id": "0ad0f140-de02-4902-83cd-d4e904c07401",
   "metadata": {},
   "outputs": [],
   "source": [
    "# Generating a list of numbers from 1-100\n",
    "df['team'] =  list(range(1, 101))    "
   ]
  },
  {
   "cell_type": "markdown",
   "id": "81868f63-3579-4927-83c6-d6f3a502ece1",
   "metadata": {},
   "source": [
    "<br>"
   ]
  },
  {
   "cell_type": "markdown",
   "id": "dda1790d-cac9-4092-bdff-7c91ebb14bdb",
   "metadata": {},
   "source": [
    "<br>"
   ]
  },
  {
   "cell_type": "code",
   "execution_count": 144,
   "id": "4fd66d58-f11c-4192-94e3-2e56832c7ac5",
   "metadata": {},
   "outputs": [],
   "source": [
    "# List to choose if a team is home or away\n",
    "home_away = ['home', 'away']\n",
    "\n",
    "# Generating a list to choose between home or away \n",
    "df['played'] = np.array(rng.choice(home_away, 100, p =[0.6, 0.4]) )"
   ]
  },
  {
   "cell_type": "markdown",
   "id": "5f6c82a1-e2c3-4ba4-aed1-1fc9cdf1847b",
   "metadata": {},
   "source": [
    "<br>"
   ]
  },
  {
   "cell_type": "markdown",
   "id": "a9e158a0-d3b0-4050-99f6-827a412c73af",
   "metadata": {},
   "source": [
    "<br>"
   ]
  },
  {
   "cell_type": "code",
   "execution_count": 188,
   "id": "fc6c0e4f-594c-493f-ae16-94e8f9a293bf",
   "metadata": {},
   "outputs": [],
   "source": [
    "# Setting the seed as 5\n",
    "rng = np.random.default_rng(seed=5)"
   ]
  },
  {
   "cell_type": "markdown",
   "id": "713cb086-3a64-4b79-84d1-4f59f79faaf9",
   "metadata": {},
   "source": [
    "<br>"
   ]
  },
  {
   "cell_type": "code",
   "execution_count": 132,
   "id": "59702109-ef12-4a4d-9eea-c33400ae382d",
   "metadata": {},
   "outputs": [],
   "source": [
    "\n",
    "wld = [3, 0, 1]"
   ]
  },
  {
   "cell_type": "markdown",
   "id": "4cf2d885-4ff9-4d53-88ee-0fe7ea52b76e",
   "metadata": {},
   "source": [
    "<br>"
   ]
  },
  {
   "cell_type": "code",
   "execution_count": 197,
   "id": "471aff5b-89dd-44c6-8178-4d94b6601b38",
   "metadata": {},
   "outputs": [
    {
     "data": {
      "text/plain": [
       "array([3, 3, 3, 3, 3, 0, 1, 1, 3, 0, 1, 3, 1, 3, 1, 3, 0, 3, 3, 1, 1, 3,\n",
       "       3, 1, 3, 1, 3, 3, 3, 3, 3, 3, 3, 3, 3, 3, 3, 1, 3, 3, 1, 3, 3, 1,\n",
       "       3, 3, 1, 0, 3, 3, 3, 1, 1, 3, 3, 3, 3, 1, 1, 3, 3, 3, 3, 0, 1, 3,\n",
       "       3, 3, 3, 1, 3, 3, 0, 3, 1, 3, 3, 1, 3, 1, 3, 1, 3, 3, 1, 3, 3, 3,\n",
       "       3, 1, 3, 1, 3, 1, 1, 0, 3, 0, 3, 3])"
      ]
     },
     "execution_count": 197,
     "metadata": {},
     "output_type": "execute_result"
    }
   ],
   "source": [
    "home_outcome\n"
   ]
  },
  {
   "cell_type": "code",
   "execution_count": 209,
   "id": "c280a5e7-b02b-4270-9477-2336548ef10b",
   "metadata": {},
   "outputs": [],
   "source": [
    "home_outcome = rng.choice(wld,  p=[0.6,0.1,0.3])\n",
    "away_outcome = rng.choice(wld, p=[0.3,0.1,0.6])"
   ]
  },
  {
   "cell_type": "markdown",
   "id": "3d6a89e0-a5a2-45e1-ab55-e5c256b8fb76",
   "metadata": {},
   "source": [
    "<br>"
   ]
  },
  {
   "cell_type": "code",
   "execution_count": 213,
   "id": "b54d6da6-d066-4fbb-b94b-fe27db373d2d",
   "metadata": {},
   "outputs": [],
   "source": [
    "# Creating a function to detemine points\n",
    "def points(row): \n",
    "    if row['played'] == 'home':\n",
    "        return home_outcome\n",
    "    if row['played'] == 'away':\n",
    "        return away_outcome"
   ]
  },
  {
   "cell_type": "code",
   "execution_count": 214,
   "id": "90ac98f7-f5a6-4b2f-9af3-e8dd5b151a99",
   "metadata": {},
   "outputs": [
    {
     "data": {
      "text/plain": [
       "0     3\n",
       "1     3\n",
       "2     3\n",
       "3     3\n",
       "4     3\n",
       "     ..\n",
       "95    3\n",
       "96    3\n",
       "97    3\n",
       "98    3\n",
       "99    3\n",
       "Length: 100, dtype: int32"
      ]
     },
     "execution_count": 214,
     "metadata": {},
     "output_type": "execute_result"
    }
   ],
   "source": [
    "# Applying function \n",
    "df.apply(lambda row: points(row), axis=1)"
   ]
  },
  {
   "cell_type": "code",
   "execution_count": 215,
   "id": "464c0014-1add-4ec1-92a3-fc00bdbdf4e1",
   "metadata": {},
   "outputs": [
    {
     "data": {
      "text/html": [
       "<div>\n",
       "<style scoped>\n",
       "    .dataframe tbody tr th:only-of-type {\n",
       "        vertical-align: middle;\n",
       "    }\n",
       "\n",
       "    .dataframe tbody tr th {\n",
       "        vertical-align: top;\n",
       "    }\n",
       "\n",
       "    .dataframe thead th {\n",
       "        text-align: right;\n",
       "    }\n",
       "</style>\n",
       "<table border=\"1\" class=\"dataframe\">\n",
       "  <thead>\n",
       "    <tr style=\"text-align: right;\">\n",
       "      <th></th>\n",
       "      <th>team</th>\n",
       "      <th>played</th>\n",
       "      <th>points</th>\n",
       "      <th>yellow cards</th>\n",
       "      <th>corners</th>\n",
       "      <th>shots</th>\n",
       "      <th>outcome</th>\n",
       "    </tr>\n",
       "  </thead>\n",
       "  <tbody>\n",
       "    <tr>\n",
       "      <th>0</th>\n",
       "      <td>1</td>\n",
       "      <td>home</td>\n",
       "      <td>3</td>\n",
       "      <td>NaN</td>\n",
       "      <td>NaN</td>\n",
       "      <td>NaN</td>\n",
       "      <td>NaN</td>\n",
       "    </tr>\n",
       "    <tr>\n",
       "      <th>1</th>\n",
       "      <td>2</td>\n",
       "      <td>home</td>\n",
       "      <td>3</td>\n",
       "      <td>NaN</td>\n",
       "      <td>NaN</td>\n",
       "      <td>NaN</td>\n",
       "      <td>NaN</td>\n",
       "    </tr>\n",
       "    <tr>\n",
       "      <th>2</th>\n",
       "      <td>3</td>\n",
       "      <td>home</td>\n",
       "      <td>3</td>\n",
       "      <td>NaN</td>\n",
       "      <td>NaN</td>\n",
       "      <td>NaN</td>\n",
       "      <td>NaN</td>\n",
       "    </tr>\n",
       "    <tr>\n",
       "      <th>3</th>\n",
       "      <td>4</td>\n",
       "      <td>home</td>\n",
       "      <td>3</td>\n",
       "      <td>NaN</td>\n",
       "      <td>NaN</td>\n",
       "      <td>NaN</td>\n",
       "      <td>NaN</td>\n",
       "    </tr>\n",
       "    <tr>\n",
       "      <th>4</th>\n",
       "      <td>5</td>\n",
       "      <td>away</td>\n",
       "      <td>1</td>\n",
       "      <td>NaN</td>\n",
       "      <td>NaN</td>\n",
       "      <td>NaN</td>\n",
       "      <td>NaN</td>\n",
       "    </tr>\n",
       "    <tr>\n",
       "      <th>...</th>\n",
       "      <td>...</td>\n",
       "      <td>...</td>\n",
       "      <td>...</td>\n",
       "      <td>...</td>\n",
       "      <td>...</td>\n",
       "      <td>...</td>\n",
       "      <td>...</td>\n",
       "    </tr>\n",
       "    <tr>\n",
       "      <th>95</th>\n",
       "      <td>96</td>\n",
       "      <td>home</td>\n",
       "      <td>1</td>\n",
       "      <td>NaN</td>\n",
       "      <td>NaN</td>\n",
       "      <td>NaN</td>\n",
       "      <td>NaN</td>\n",
       "    </tr>\n",
       "    <tr>\n",
       "      <th>96</th>\n",
       "      <td>97</td>\n",
       "      <td>home</td>\n",
       "      <td>3</td>\n",
       "      <td>NaN</td>\n",
       "      <td>NaN</td>\n",
       "      <td>NaN</td>\n",
       "      <td>NaN</td>\n",
       "    </tr>\n",
       "    <tr>\n",
       "      <th>97</th>\n",
       "      <td>98</td>\n",
       "      <td>home</td>\n",
       "      <td>3</td>\n",
       "      <td>NaN</td>\n",
       "      <td>NaN</td>\n",
       "      <td>NaN</td>\n",
       "      <td>NaN</td>\n",
       "    </tr>\n",
       "    <tr>\n",
       "      <th>98</th>\n",
       "      <td>99</td>\n",
       "      <td>away</td>\n",
       "      <td>3</td>\n",
       "      <td>NaN</td>\n",
       "      <td>NaN</td>\n",
       "      <td>NaN</td>\n",
       "      <td>NaN</td>\n",
       "    </tr>\n",
       "    <tr>\n",
       "      <th>99</th>\n",
       "      <td>100</td>\n",
       "      <td>home</td>\n",
       "      <td>3</td>\n",
       "      <td>NaN</td>\n",
       "      <td>NaN</td>\n",
       "      <td>NaN</td>\n",
       "      <td>NaN</td>\n",
       "    </tr>\n",
       "  </tbody>\n",
       "</table>\n",
       "<p>100 rows × 7 columns</p>\n",
       "</div>"
      ],
      "text/plain": [
       "    team played  points yellow cards corners shots  outcome\n",
       "0      1   home       3          NaN     NaN   NaN      NaN\n",
       "1      2   home       3          NaN     NaN   NaN      NaN\n",
       "2      3   home       3          NaN     NaN   NaN      NaN\n",
       "3      4   home       3          NaN     NaN   NaN      NaN\n",
       "4      5   away       1          NaN     NaN   NaN      NaN\n",
       "..   ...    ...     ...          ...     ...   ...      ...\n",
       "95    96   home       1          NaN     NaN   NaN      NaN\n",
       "96    97   home       3          NaN     NaN   NaN      NaN\n",
       "97    98   home       3          NaN     NaN   NaN      NaN\n",
       "98    99   away       3          NaN     NaN   NaN      NaN\n",
       "99   100   home       3          NaN     NaN   NaN      NaN\n",
       "\n",
       "[100 rows x 7 columns]"
      ]
     },
     "execution_count": 215,
     "metadata": {},
     "output_type": "execute_result"
    }
   ],
   "source": [
    "df"
   ]
  },
  {
   "cell_type": "code",
   "execution_count": 218,
   "id": "4ea2d461-a2e2-49bb-92f6-def2d4944e5d",
   "metadata": {},
   "outputs": [
    {
     "data": {
      "text/plain": [
       "team              50\n",
       "played          home\n",
       "points             0\n",
       "yellow cards     NaN\n",
       "corners          NaN\n",
       "shots            NaN\n",
       "outcome          NaN\n",
       "Name: 49, dtype: object"
      ]
     },
     "execution_count": 218,
     "metadata": {},
     "output_type": "execute_result"
    }
   ],
   "source": [
    "# Checking random row\n",
    "df.iloc[49]"
   ]
  },
  {
   "cell_type": "markdown",
   "id": "f89bc9bb-02e2-4516-aa59-0967f2b5348c",
   "metadata": {},
   "source": [
    "<br>"
   ]
  },
  {
   "cell_type": "markdown",
   "id": "c8f1f23f-cebf-425e-aba1-a0f33dd71dae",
   "metadata": {},
   "source": [
    "<br>"
   ]
  },
  {
   "cell_type": "markdown",
   "id": "e746eafd-d084-4613-a73f-c0a0d85d0030",
   "metadata": {},
   "source": [
    "***\n",
    "\n",
    "## References \n",
    "\n",
    "***"
   ]
  },
  {
   "cell_type": "markdown",
   "id": "4ce719d8-66b1-493b-9c1e-0b4291e36c46",
   "metadata": {},
   "source": [
    "<br>"
   ]
  },
  {
   "cell_type": "code",
   "execution_count": null,
   "id": "fc60f047-0d9a-4fc0-b04e-46830f78c5af",
   "metadata": {},
   "outputs": [],
   "source": []
  },
  {
   "cell_type": "markdown",
   "id": "bb9cf742-f78a-4eaa-ac9b-9da46c0957c3",
   "metadata": {},
   "source": [
    "<br>"
   ]
  },
  {
   "cell_type": "markdown",
   "id": "97985a6f-fa66-4a6e-bca3-2f7b4f109bb3",
   "metadata": {},
   "source": [
    "<br>"
   ]
  },
  {
   "cell_type": "markdown",
   "id": "c8ee100a-5fd9-46b9-8abf-241986311aee",
   "metadata": {
    "tags": []
   },
   "source": [
    "#### Images\n",
    "\n",
    "- [12th Man](https://sites.psu.edu/siowfa16/files/2016/10/homeofthe12thman-638x300-p8niz2.jpg)\n",
    "- [Alex Ferguson](https://talksport.com/wp-content/uploads/sites/5/2013/04/Fergie20watch.jpg?strip=all&w=700)\n",
    "- [Liverpool Fans](https://www.rousingthekop.com/static/uploads/4/2021/07/GettyImages-1143394495.jpg)\n",
    "- [Ref](https://i2-prod.liverpoolecho.co.uk/incoming/article11616488.ece/ALTERNATES/s1200c/0_PA-2325788.jpg)\n",
    "- [Brazil Player](https://a.espncdn.com/photo/2021/0222/r817983_1296x729_16-9.jpg)"
   ]
  },
  {
   "cell_type": "markdown",
   "id": "a59cd0f0-f0c8-4fb3-a4b9-95de1af8505c",
   "metadata": {},
   "source": [
    "<br>"
   ]
  },
  {
   "cell_type": "markdown",
   "id": "7561fba0-4aee-40ae-a9c5-1efa36bd7a15",
   "metadata": {},
   "source": [
    "<br>"
   ]
  },
  {
   "cell_type": "markdown",
   "id": "bea522f1-50cc-4314-8904-e176481c9917",
   "metadata": {},
   "source": [
    "<br>"
   ]
  },
  {
   "cell_type": "markdown",
   "id": "a3c25bd6-310c-4b6e-abd5-71bfeeb840a7",
   "metadata": {},
   "source": [
    "<br>"
   ]
  },
  {
   "cell_type": "markdown",
   "id": "2e6f8e0b-fa33-4f53-a5a3-311069879c7a",
   "metadata": {
    "tags": []
   },
   "source": [
    "***\n",
    "\n",
    "# End\n",
    "\n",
    "***"
   ]
  }
 ],
 "metadata": {
  "kernelspec": {
   "display_name": "Python 3 (ipykernel)",
   "language": "python",
   "name": "python3"
  },
  "language_info": {
   "codemirror_mode": {
    "name": "ipython",
    "version": 3
   },
   "file_extension": ".py",
   "mimetype": "text/x-python",
   "name": "python",
   "nbconvert_exporter": "python",
   "pygments_lexer": "ipython3",
   "version": "3.8.11"
  }
 },
 "nbformat": 4,
 "nbformat_minor": 5
}
