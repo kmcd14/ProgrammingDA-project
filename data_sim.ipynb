{
 "cells": [
  {
   "cell_type": "markdown",
   "id": "35d02e26-19c3-4d85-933b-53244825485a",
   "metadata": {},
   "source": [
    "***\n",
    "\n",
    "# Programming For Data Analysis - Project\n",
    "\n",
    "***"
   ]
  },
  {
   "cell_type": "markdown",
   "id": "b3843c09-f4e9-48c2-8685-e690644c47a1",
   "metadata": {},
   "source": [
    "<br>"
   ]
  },
  {
   "cell_type": "markdown",
   "id": "343c124d-f6fd-43b3-a979-e324c6f6c179",
   "metadata": {},
   "source": [
    "<br>"
   ]
  },
  {
   "cell_type": "markdown",
   "id": "42666ff4-3b46-4046-9117-24e5897e033c",
   "metadata": {},
   "source": [
    "<br>"
   ]
  },
  {
   "cell_type": "markdown",
   "id": "36e25ffd-6a13-47c1-97ef-12312ac8d2d7",
   "metadata": {},
   "source": [
    "The real-world phenomenon topic I have chosen for this project is the supposed home advantage in sports. The reason I have chosen this as my topic is because as an avid sports fan and that I certainly noticed a difference in the impact having no spectators has had on sporting events during the Covid-19 pandemic, where fans were unable to enter grounds.  It certainly seemed that the sports phenomena of having the upper hand over your opponent when the game is being played on your own turf was neutralised. \n",
    "\n",
    "<br>\n",
    "\n",
    "I plan to research if there is data to support the claim that playing at your own ground gives a team an advantage. I will then use the findings to then simulate a dataset showing how 100 football teams fared in the match using `numpy.random`."
   ]
  },
  {
   "cell_type": "markdown",
   "id": "e4c876ba-27f9-4756-9091-c8a42dcf2695",
   "metadata": {},
   "source": [
    "<br>"
   ]
  },
  {
   "cell_type": "markdown",
   "id": "b5f29dbd-28fc-4f52-87c6-f53b01391498",
   "metadata": {},
   "source": [
    "<br>"
   ]
  },
  {
   "cell_type": "markdown",
   "id": "ac8b59b0-e3a7-4079-93ef-5fc4976bc047",
   "metadata": {},
   "source": [
    "![img](images/12th_man.jpg)!"
   ]
  },
  {
   "cell_type": "markdown",
   "id": "682d8ccd-e892-4e3d-9d03-89fa77bf223e",
   "metadata": {},
   "source": [
    "<br>"
   ]
  },
  {
   "cell_type": "markdown",
   "id": "fafb4729-2b1d-423a-9e76-f30a09f9e5ff",
   "metadata": {},
   "source": [
    "One of the oldest phenomena in sport is the home advantage. Home advantage is <i>\"...the higher probability of success when playing at home than away from home\" </i>[1]. Often, the home crowd is referred to as <i>\"the 12th man\"</i> (in reference to football), meaning that the home fans play an important role in motivating and encouraging their team to perform better [2].\n",
    "\n",
    "The home advantage theory refers to the phenomenon which is the tendency that sporting athletes are likely to win more often when competing at their home field [3]. Many studies across professional, third level, and high school sports have consistently found that the home athletes winning their opposing counterparts in more than 50% of games played.<i> \"The aggregated winning percentages of home performers vary between sports and across eras, but they typically range from just above 50% to as high as 70%\"</i> [4]."
   ]
  },
  {
   "cell_type": "markdown",
   "id": "83661aab-2cff-4b22-96de-0baead824e04",
   "metadata": {},
   "source": [
    "<i>\"The association of being at home with feelings of increased physical comfort, safety, and psychological well-being are reflected in a wealth of popular expressions and sayings, such as Home free; Home is where the heart is; East–west, home is best; Home sweet home; There's no place like home. Thus, it is hardly surprising that the term home advantage has been adopted in sport to represent two related phenomena—both of which are founded on the belief that a team's own park, stadia, or venue is, indeed, a good place in which to compete\"<i> [5].\n",
    "\n",
    "<br>\n",
    "\n",
    "In the main it is team sports such as football, rugby, basketball, etc. that reap the most benefits as opposed to individual sports such as athletics. See the table [6] below which shows the results of a study titled <i>\"Home advantage in sport: an overview of studies on the advantage of playing at home\"</i> [7]. As we can see in the table, home advantage is seen across several team sports."
   ]
  },
  {
   "cell_type": "markdown",
   "id": "bd96367b-50d8-4f09-8aa6-5c5758595ebf",
   "metadata": {},
   "source": [
    "<br>"
   ]
  },
  {
   "cell_type": "markdown",
   "id": "5788f2a5-38dc-4a37-8ea3-19db5f286157",
   "metadata": {},
   "source": [
    "<br>"
   ]
  },
  {
   "cell_type": "markdown",
   "id": "de92fe1a-0de4-496f-9ffe-355a34ccaa6b",
   "metadata": {},
   "source": [
    "![img](images/winning_numbers.PNG)"
   ]
  },
  {
   "cell_type": "markdown",
   "id": "6e909be2-abbc-447a-a011-3b9ba200451a",
   "metadata": {},
   "source": [
    "<br>"
   ]
  },
  {
   "cell_type": "markdown",
   "id": "17e09bfa-9800-498b-996d-6f57261cae38",
   "metadata": {},
   "source": [
    "As it is one of my favourites, the sport I have chosen to research and use for this project is football. \n",
    "\n",
    "Apart from the rare instances where a team is playing in neutral venues the latter rounds of cup competitions - football matches for the most part involve one team playing in their home stadium. This means that the home team plays in familiar surroundings, has the support of most fans in the stadium and does not have to travel to a different ground. On the other hand, the away team must travel, deal with rowdy home support, in some cases adjust to different climates and/or time zones and the possibility of refereeing bias - “Fergie-time” anyone?"
   ]
  },
  {
   "cell_type": "markdown",
   "id": "5a4c0b6c-baa8-44d7-aacb-d34502ac3f91",
   "metadata": {},
   "source": [
    "<br>"
   ]
  },
  {
   "cell_type": "markdown",
   "id": "6d6c0796-973d-430a-b20d-f7f588c77c86",
   "metadata": {},
   "source": [
    "<br>"
   ]
  },
  {
   "cell_type": "markdown",
   "id": "1e6ce0ab-c54f-4404-93f5-e1c8ea815938",
   "metadata": {},
   "source": [
    "<div>\n",
    "<img src=\"images/fergie-time.jpg\" width=\"400\" height='300'/>\n",
    "</div>\n"
   ]
  },
  {
   "cell_type": "markdown",
   "id": "72b98d06-85ec-489f-81d4-5a7224b1bde7",
   "metadata": {},
   "source": [
    "<br>"
   ]
  },
  {
   "cell_type": "markdown",
   "id": "7324f7d8-ef65-4ded-a8e9-d85923cf7b66",
   "metadata": {},
   "source": [
    "<br>"
   ]
  },
  {
   "cell_type": "markdown",
   "id": "b50f4675-d2ae-4d6c-9d32-5566b84d337e",
   "metadata": {},
   "source": [
    "<br>"
   ]
  },
  {
   "cell_type": "markdown",
   "id": "fa07464f-948c-4116-a022-717aed97b175",
   "metadata": {},
   "source": [
    "<i>“It's horrible to play without fans. It's not a nice feeling. Not seeing anyone in the stadium makes it like training, and it takes a lot to get into the game at the beginning”</i> - Lionel Messi [8]."
   ]
  },
  {
   "cell_type": "markdown",
   "id": "fab10cac-feb1-4830-bc59-e421dbde4594",
   "metadata": {},
   "source": [
    "<br>"
   ]
  },
  {
   "cell_type": "markdown",
   "id": "a433ce9c-85dc-4ff4-8b43-bc3cff12334d",
   "metadata": {},
   "source": [
    "Football's ruling bodies have often used playing closed door matches as a punishment for clubs and supporters for gross misconducted for incidents related to racism, violence or corruption [9]. These matches are played behind \"closed doors\" where the home teams supporters are barred from the stadium. Research has shown that this sanction almost completely voids home advantage. <i>\"Historically, home teams win 46% of the time in matches with fans, but only 36% of the time when there are no fans. The away team wins 26% of the time with fans, and 34% without fans\"</i> [10]."
   ]
  },
  {
   "cell_type": "markdown",
   "id": "8a910ee0-ac7a-4904-a6d4-1366d95794c4",
   "metadata": {},
   "source": [
    "<br>"
   ]
  },
  {
   "cell_type": "markdown",
   "id": "f5a1dc38-c0de-4735-a30a-02ff05d3fd8b",
   "metadata": {},
   "source": [
    "<br>"
   ]
  },
  {
   "cell_type": "markdown",
   "id": "e3d107ff-68b5-4e2c-89c0-0c28a84fb3dc",
   "metadata": {},
   "source": [
    "![img](images\\closed_doors.png)"
   ]
  },
  {
   "cell_type": "markdown",
   "id": "e67e3933-d007-4955-a480-bded0ba66c5d",
   "metadata": {},
   "source": [
    "<br>"
   ]
  },
  {
   "cell_type": "markdown",
   "id": "e1dad1ce-8df8-42d9-9695-131bd8c4d9bc",
   "metadata": {},
   "source": [
    "<br>"
   ]
  },
  {
   "cell_type": "markdown",
   "id": "f6822ba2-bc89-446c-9284-3139b518da32",
   "metadata": {},
   "source": [
    "<br>"
   ]
  },
  {
   "cell_type": "markdown",
   "id": "4f504362-39dc-4a50-a39a-f3188f40bc75",
   "metadata": {},
   "source": [
    "The above figure is taken from the same investigation. It shows <i> \"the outcomes in closed doors matches vs in all others since the beginning of the 2002-03 European football season. Bands show 95% confidence intervals\" </i> [10]. Up until the banning of supporters from sport events due to Covid-19, closed door matches where really only the main insight we had into the effect not having home support had on a team. "
   ]
  },
  {
   "cell_type": "markdown",
   "id": "e99b7037-4719-45b3-9450-fd2cd1b7f5ae",
   "metadata": {},
   "source": [
    "<br>"
   ]
  },
  {
   "cell_type": "markdown",
   "id": "861288bb-8c69-49fa-ab2a-9288b4bcf225",
   "metadata": {},
   "source": [
    "<br>"
   ]
  },
  {
   "cell_type": "markdown",
   "id": "1bc06d22-f209-40af-8375-5e1b44cade25",
   "metadata": {},
   "source": [
    "<br>"
   ]
  },
  {
   "cell_type": "markdown",
   "id": "22e9f705-bc15-4b50-ab09-a2abef0eb191",
   "metadata": {},
   "source": [
    "***"
   ]
  },
  {
   "cell_type": "markdown",
   "id": "f06361f9-e82d-46f3-858e-800805e95f3f",
   "metadata": {},
   "source": [
    "## Investigation"
   ]
  },
  {
   "cell_type": "markdown",
   "id": "4b4a3a8a-d1e6-44ea-a04d-e321d93491f0",
   "metadata": {},
   "source": [
    "***"
   ]
  },
  {
   "cell_type": "markdown",
   "id": "7ceb8383-bb28-4f47-b66c-d6fa46498a32",
   "metadata": {},
   "source": [
    "<br>"
   ]
  },
  {
   "cell_type": "markdown",
   "id": "b84fb07a-b821-4000-9c3e-768e6f2862d0",
   "metadata": {},
   "source": [
    "<br>"
   ]
  },
  {
   "cell_type": "markdown",
   "id": "c08365ba-2348-4639-8b38-5703e4076c09",
   "metadata": {},
   "source": [
    "The early Covid-19 restrictions on supporters from entering stadiums provided researchers with the opportunity to investigate the sporting phenomena that is home advantage. The effects not having <i>\"the 12th man\"</i> behind the home team and if there are advantages to playing in front of a home crowd can provide a team. "
   ]
  },
  {
   "cell_type": "markdown",
   "id": "d254b142-15a1-4310-af5f-8ffadf5e94a0",
   "metadata": {},
   "source": [
    "On 13 March 2020, following an emergency meeting between the Premier League, The Football Association (FA), the English Football League and the FA Women's Super League, it was unanimously decided that professional football in England would be suspended until at least 4 April 2020, this was further extended, and the 2019-2020 season finally resumed on 17 June 2020 with the absence of fans [11]. This pattern of fixtures \"behind closed-doors\" was one seen all over Europe. \n",
    "\n",
    " Since these “ghost games”, research into the impact of empty stadia has jumped, many researchers have <i>“... attempted to understand the impact that eliminating fans had on game outcomes, including scoring, fouls, and differences in team performances” </i>[12]. Many of these studies overwhelmingly propose that playing matches behind closed doors had a particularly negative effect on home teams."
   ]
  },
  {
   "cell_type": "markdown",
   "id": "fac94f59-a0ea-44cd-ac24-a587c4c209ae",
   "metadata": {},
   "source": [
    "The 2019-2020 footballing season was the first time in history that England's top four football divisions recorded more away than home wins [13]. When restrictions eased and supporters were allowed entry back into stadiums in a limited capacity from May 17th, 2021 results<i> “... returned to pre-COVID levels with 40% won by home teams and 31% by the visitors.\"</i> [13].\n",
    "\n",
    "\n",
    "The biggest study on the sporting phenomena of \"home advantage\" during these \"ghost games\" was conducted by the University of Leeds and Northumbria University. \n",
    "\n",
    "<i>\"Researchers used the unique opportunity presented by the COVID-19 pandemic to test whether home advantage applies when fans are not present in the stands\"</i> [14]. The study is the first of its kind in that it also considers <i>\"...whether home advantage affects a team's dominance over a game\"</i> [14]. \n",
    "\n",
    "A team’s dominance was determined by:\n",
    " - number of corners\n",
    " - shots off and on target in a given match [14].\n"
   ]
  },
  {
   "cell_type": "markdown",
   "id": "92778580-226d-46fd-b4c3-91fe875411e2",
   "metadata": {},
   "source": [
    "<br>"
   ]
  },
  {
   "cell_type": "markdown",
   "id": "253f3bfd-1a4c-4a23-b35d-fb54b535486f",
   "metadata": {},
   "source": [
    "In this study, titled <i>\"Home advantage during the COVID-19 pandemic: Analyses of European football leagues\"</i> [15], researchers complied the data from Football-Data.co.uk and an online database provided by FiveThirtyEight to assess at 4,844 games across 11 countries, including the England Premier League and Championship, Germany Bundesliga 1 and 2, Spanish La Liga 1 and 2, Italian Serie A and B, Portuguese Primeira Liga, Greek Super League, Turkish Super Lig, Austrian Bundesliga, Danish Superligaen, Russian Premier League and Swiss Super League.\n",
    "\n",
    "\n",
    "Of the study lead researcher Dane McCarrick said <i>\"When it returned, the remainder of the games took place behind closed doors with no fans present. This provided an unintentional, and unique, opportunity to examine one of the most talked about and empirically studied phenomena in professional team sport: the home advantage... This new knowledge reveals that in the most basic sense, fans attendance matters.\" </i>[16]."
   ]
  },
  {
   "cell_type": "markdown",
   "id": "17a2d9dd-dc22-41aa-bc61-f6c317309c53",
   "metadata": {},
   "source": [
    "<br>"
   ]
  },
  {
   "cell_type": "markdown",
   "id": "0490cd2f-a568-4f6e-bebf-e8cdc370fc22",
   "metadata": {},
   "source": [
    "The main findings from the study [15]:"
   ]
  },
  {
   "cell_type": "markdown",
   "id": "5b118610-1677-4c31-8cbd-bde64aa51af8",
   "metadata": {},
   "source": [
    "- On average with fans present: \n",
    "     - When teams played at home, they won 0.39 points more per game than when playing away.\n",
    "     - Home teams scored 0.29 goals more per game than the away teams."
   ]
  },
  {
   "cell_type": "markdown",
   "id": "f3dff99c-fd21-43f6-8876-ca0f78485190",
   "metadata": {},
   "source": [
    "- On average without fans present:\n",
    "    - The points won by teams when playing at home dropped almost half to 0.22 points.  \n",
    "    - Home teams scored 0.15 goals more per game than the away teams. Again, almost a 50% drop than with fans. "
   ]
  },
  {
   "cell_type": "markdown",
   "id": "02f22593-fdf8-443d-a958-b057148ded10",
   "metadata": {},
   "source": [
    "- Referees gave:\n",
    "    - More fouls against the home team without fans present.\n",
    "    - A similar number of fouls against the away team in empty stadiums.\n",
    "    - A similar number of yellow cards against the home team in empty stadiums, even though they committed more fouls.\n",
    "    - Red cards - although less commonplace during games - followed this pattern."
   ]
  },
  {
   "cell_type": "markdown",
   "id": "3fc6aa08-baf2-4124-81f3-3530dd82cfe3",
   "metadata": {},
   "source": [
    "- How a home teams’ dominance was affected on average without fans present: \n",
    "    - Teams won 0.7 fewer corners.\n",
    "    - Teams had 1.3 fewer shots attempts.\n",
    "    - Teams had 0.4 fewer shots on target."
   ]
  },
  {
   "cell_type": "markdown",
   "id": "51271acd-bc33-43fe-aeb1-c44c95263a7d",
   "metadata": {},
   "source": [
    "- How an away teams’ dominance was affected on average without fans present: \n",
    "    - Teams won 0.10 more corners.\n",
    "    - Teams had 0.17 more shots attempts.\n",
    "    - Teams had 0.20 more shots on target."
   ]
  },
  {
   "cell_type": "markdown",
   "id": "61f7c48d-0162-4d2e-b6de-3a86df7eb3db",
   "metadata": {},
   "source": [
    "<br>"
   ]
  },
  {
   "cell_type": "markdown",
   "id": "97ea156f-e4dd-4c7c-8f70-1e95ed44f930",
   "metadata": {},
   "source": [
    "<br>"
   ]
  },
  {
   "cell_type": "markdown",
   "id": "495e4974-26d6-4733-8784-4f35e9a397d9",
   "metadata": {},
   "source": [
    "<br>"
   ]
  },
  {
   "cell_type": "markdown",
   "id": "2e210654-dec3-4812-bbbc-fa27a45f66ed",
   "metadata": {},
   "source": [
    "## Variables\n",
    "***"
   ]
  },
  {
   "cell_type": "markdown",
   "id": "0fddcb7f-2d04-4640-b26d-0500b5dbd205",
   "metadata": {},
   "source": [
    "<br>"
   ]
  },
  {
   "cell_type": "markdown",
   "id": "b2b56cf0-c704-4a23-93b9-c618933982e9",
   "metadata": {},
   "source": [
    "After researching the various studies, the variables that we will be using to simulate the dataset are:\n",
    "\n",
    "- Is the team playing home or away (categorical).\n",
    "- Number of points (discrete):\n",
    "    - Number of goals scored for the home team.\n",
    "    - Number of goals scored for the away team.\n",
    "- Referee behaviour (discrete): \n",
    "    - Number of yellow/red cards shown to the home team.\n",
    "    - Number of yellow/red cards shown to the away team.\n",
    "- Team’s dominance (discrete): \n",
    "    - Number of corners and shots for the home team.\n",
    "    - Number of corners and shots for the away team."
   ]
  },
  {
   "cell_type": "markdown",
   "id": "5f6a2d7e-0120-4d3c-b1f2-06fa40a73823",
   "metadata": {},
   "source": [
    "<br>"
   ]
  },
  {
   "cell_type": "markdown",
   "id": "3dc8b185-2ad6-4173-88ed-ced63c9fc347",
   "metadata": {},
   "source": [
    "<br>"
   ]
  },
  {
   "cell_type": "markdown",
   "id": "b1b755fc-b0c3-465b-9583-096c6f5bdcfc",
   "metadata": {},
   "source": [
    "### 1. Home or Away"
   ]
  },
  {
   "cell_type": "markdown",
   "id": "84f275be-f770-4a17-a322-1267c363ec93",
   "metadata": {},
   "source": [
    "<br>"
   ]
  },
  {
   "cell_type": "markdown",
   "id": "1997977b-60c6-40a7-b7d0-51ee0efcfa9c",
   "metadata": {},
   "source": [
    "<div>\n",
    "<img src=\"images/fans.jpg\" width=\"400\" height='300'/>\n",
    "</div>\n"
   ]
  },
  {
   "cell_type": "markdown",
   "id": "1657db38-3924-4668-b653-40768e8f02e3",
   "metadata": {},
   "source": [
    "<br>"
   ]
  },
  {
   "cell_type": "markdown",
   "id": "affe4ef3-1130-4308-a121-002ae51c83a9",
   "metadata": {},
   "source": [
    "<br>"
   ]
  },
  {
   "cell_type": "markdown",
   "id": "2564a089-d1a0-4b41-bcd9-39aa76f8d6e6",
   "metadata": {},
   "source": [
    "<i>\"In the attempt to curb violence related to soccer events, especially after the tragedy of the Heysel Stadium in 1985 in the early Nineties Italian stadiums were required all-seater accommodations and separate sectors\n",
    "between home and visiting supporters\"</i> [10]. After a number of tragedies football stadiums became fully seated - this is currently being reviewed by a number of footballing bodies - and home and away supporters are separated due to safety concerns. This results in the clubs issuing the majority of tickets to their own supporters and a small section of a given stadium is reserved for the away teams’ fans. This results in the home teams support by far outweighing that of their opposition. Thus, a home team overwhelmingly can expect to receive a stronger support from the crowd than their opponents. It is thought that this noise can help fire up players and make the away team uneasy and shaky."
   ]
  },
  {
   "cell_type": "markdown",
   "id": "3232ecd6-4300-4898-9f1a-a4ab597731c1",
   "metadata": {},
   "source": [
    "A performer's arousal intensifies in the presence of others [17] i.e. you are more likely to put more care/effort into what you're doing when you're being watched. If we apply this to athletes, it can suggest that effort and motivation will increase if a supportive crowd is present, which in turn results in increased performance level [18]. You can often see this in the closing stages of matches, where if the home team is drawing or losing by a goal, the home crowd cheer louder and encourage the team to attack, which more often than not results in their team mounting increasing pressure on their opponent’s defence."
   ]
  },
  {
   "cell_type": "markdown",
   "id": "6eb72724-d3f3-4ffe-a435-6bf9a825f4a8",
   "metadata": {},
   "source": [
    "<br>"
   ]
  },
  {
   "cell_type": "markdown",
   "id": "e0f77ea3-874d-43d7-8c3a-ad077aaff641",
   "metadata": {},
   "source": [
    "Another caveat of playing at home is familiarity with the stadium [12]. Some of the advantages for the home team are football pitches have a minimum and maximum dimensions that they can be, meaning size of pitches vary, some stadiums have fans closer to the pitch than others and different pitches have different playing surfaces [18]. I know my home team - Dundalk F.C - are the only team in the League of Ireland whose home pitch is artificial, it is often a contentious issue where opponents complain about it. The ball bounces and moves differently and faster on an artificial surface than on real grass. This is often seen as giving Dundalk an unfair advantage when playing at home as they are used to it."
   ]
  },
  {
   "cell_type": "markdown",
   "id": "8678fe1a-bad0-4124-b1ed-5979679354b1",
   "metadata": {},
   "source": [
    "<br>"
   ]
  },
  {
   "cell_type": "markdown",
   "id": "8cf064ee-0ea3-4bb6-8f74-31d88d71f1f7",
   "metadata": {},
   "source": [
    "Additionally, the home team does not have to travel. This has been investigated as a reason behind home advantage several times. In his study titled <i> “The Impact of Visiting Team Travel on Game Outcome and Biases in NFL Betting Markets”</i>, Mark Nichols examined data on the football seasons from 1981-2004 and found that away teams traveling through a minimum of one time zone gave a substandard performance and significantly increased the probability of a home win [19].\n",
    "\n",
    "I know this study is in reference to US Football which is not the same as “soccer” but we can look at the study <i>“Home advantage in Australian soccer”</i> by Chris Goumas arrived at the same conclusion. <i>“HA [Home Advantage] increased significantly with increasing number of time zones crossed by away teams (p<0.001)”</i> [20]. Additionally, in their paper <i>“Home ground advantage of individual clubs in English soccer\"</i> Stephen Clarke and John Norman found that “home advantage” increased the further the distance the away team had to travel from [21]. "
   ]
  },
  {
   "cell_type": "markdown",
   "id": "3a328d99-f8c1-4aea-8276-14a084ed025b",
   "metadata": {},
   "source": [
    "<br>"
   ]
  },
  {
   "cell_type": "markdown",
   "id": "e5d3ea67-bd4b-4d33-a73c-3c63ff3d723c",
   "metadata": {},
   "source": [
    "Another explanation for \"Home Advantage\" may be the animalistic protection of one’s territory. <i>\"Territoriality is prevalent amongst many animal species, which typically display agonistic behaviours and attack more readily and with greater vigour when defending a home territory... several studies have shown 'home advantage' for an animal when its territory is threatened or attacked, even when the defender is smaller than the rival, suggesting an important motivational incentive in territorial defence\"</i> [22].  In the study <i>\"Testosterone, territoriality, and the 'home advantage'\"</i> Neave and Wolfson found that a male football players testosterone levels had  <i>\"...an increase before home games but no difference between levels before training and away games\"</i> [22], given weight to the point of players raising their performance at their home turf. An example of this is the 2006 All Ireland final where during the warm-up Mayo, who entered the field first warmed up in front of Hill 16, which is traditionally full of Dublin supporters. When the Dublin team emerged from the tunnel, they confronted the Mayo team and a brawl broke out."
   ]
  },
  {
   "cell_type": "markdown",
   "id": "0dd5b28c-c948-4898-a544-f8bdede9b642",
   "metadata": {},
   "source": [
    "<br>"
   ]
  },
  {
   "cell_type": "markdown",
   "id": "9626b271-54aa-4eb5-992c-3c5a90a48f58",
   "metadata": {},
   "source": [
    "<br>"
   ]
  },
  {
   "cell_type": "markdown",
   "id": "e2e798dc-8d1c-483d-adf3-6b25632373dc",
   "metadata": {},
   "source": [
    "### 2. Points"
   ]
  },
  {
   "cell_type": "markdown",
   "id": "f8e72b3c-db2e-4ecf-be15-635c9fa0adb8",
   "metadata": {},
   "source": [
    "<br>"
   ]
  },
  {
   "cell_type": "markdown",
   "id": "5c860f22-d992-4afd-b7d0-07a4edd3f846",
   "metadata": {},
   "source": [
    "This variable is our way to measure if a team has won, drawn or lost a match. In league football or in the group stages of a cup competition a team is awarded:\n",
    "- 3 points for winning.\n",
    "- 1 point for drawing.\n",
    "- 0 points for losing. \n",
    "\n",
    "\n",
    "The study <i>\"Home advantage during the COVID-19 pandemic: Analyses of European football leagues\"</i> [15] found that on average with a crowd present, home teams won 0.39 points more per game than when they played away. When fan free \"ghost games\" took place, this dropped to 0.22 points, that is just under a 50% dip in points won. The below figure is from that study. We can see that the home teams points and goal accumulation dropped while the away teams grew slightly."
   ]
  },
  {
   "cell_type": "markdown",
   "id": "1ab97fc9-fc12-470c-968d-7c7292f6a067",
   "metadata": {},
   "source": [
    "<br>"
   ]
  },
  {
   "cell_type": "markdown",
   "id": "dbc1f7e2-2e81-4e3c-bcb5-38380c3ee920",
   "metadata": {},
   "source": [
    "![img](images/pre_post_covid.PNG)"
   ]
  },
  {
   "cell_type": "markdown",
   "id": "99fbdf23-cf78-48c5-a49d-e3a45c89951f",
   "metadata": {},
   "source": [
    "<br>"
   ]
  },
  {
   "cell_type": "markdown",
   "id": "80b04a6b-dfc9-47e8-ba1a-da91805e9430",
   "metadata": {},
   "source": [
    "I am also including the number of goals scored by home and away teams under this heading as goals equate to the number of points a team is awarded. \n",
    "If you score more goals than the opposing team, you get 3 points. If both teams fail to score a goal or score the same number of goals, both are awarded 1 point and finally, if you score less goals than your opponent a team receives 0 points."
   ]
  },
  {
   "cell_type": "markdown",
   "id": "edf49e92-d40e-4434-8e26-f0725cd31274",
   "metadata": {},
   "source": [
    "<br>"
   ]
  },
  {
   "cell_type": "markdown",
   "id": "0e84807a-27f5-4c64-8d0d-597fd009cdbd",
   "metadata": {},
   "source": [
    "The same study as the aforementioned found that universally home teams were scored more goals than away teams. Home teams scored on average 0.29 more goals per game than away teams when a crowd was in the stadium [15]. During Covid entry restrictions to stadiums, the advantage decreased; <i>\"The same home teams scored only 0.15 goals more than the visitors when the audience was absent</i> [15]."
   ]
  },
  {
   "cell_type": "markdown",
   "id": "bdc0a2b1-d013-44d2-858d-d5fba1e63224",
   "metadata": {},
   "source": [
    "\n",
    "\n"
   ]
  },
  {
   "cell_type": "markdown",
   "id": "f4b5860f-2c3c-4129-ac20-dd7c175d2ae8",
   "metadata": {},
   "source": [
    "<br>"
   ]
  },
  {
   "cell_type": "markdown",
   "id": "27c618f1-b7fb-4d37-a0d4-c3b65e8cf4a8",
   "metadata": {
    "tags": []
   },
   "source": [
    "### 3.  Referee Behavior"
   ]
  },
  {
   "cell_type": "markdown",
   "id": "d8102e55-5f7e-4296-96f7-62310af24a2d",
   "metadata": {},
   "source": [
    "<br>"
   ]
  },
  {
   "cell_type": "markdown",
   "id": "6495afcd-c704-4380-a4c5-b4cfaa779547",
   "metadata": {},
   "source": [
    "<div>\n",
    "<img src=\"images/ref.jpg\" width=\"400\" height='300'/>\n",
    "</div>"
   ]
  },
  {
   "cell_type": "markdown",
   "id": "a8c7616c-76ac-4928-9150-3372756ff06d",
   "metadata": {},
   "source": [
    "<br>"
   ]
  },
  {
   "cell_type": "markdown",
   "id": "1954eee0-f247-46e8-8e37-2c0821384a4d",
   "metadata": {},
   "source": [
    "<br>"
   ]
  },
  {
   "cell_type": "markdown",
   "id": "e7eda3d3-72ef-4328-8f32-cd363f7f047b",
   "metadata": {},
   "source": [
    "To measure the variable of referee behaviour we will account for the number of yellow and red cards, shown to the home and away teams."
   ]
  },
  {
   "cell_type": "markdown",
   "id": "b4c2a3d6-f6be-4c1e-b978-805debb94c4f",
   "metadata": {},
   "source": [
    "\"The phenomenon of social pressure on the behaviour of individuals has always played a critical role in most areas of society and affects the outcome of important events. In fact, in many situations each single individual is encouraged by social pressure to make decisions which, although against their own inclinations, conform to the expectations of the group they are in, thus looking to avoid disapproval and being judged\" [23]."
   ]
  },
  {
   "cell_type": "markdown",
   "id": "5f67e608-ef7d-4c41-a960-fbbf3b02501b",
   "metadata": {},
   "source": [
    "Besides the atmosphere and lift of energy a supportive home crowd can inspire in the home team's performance, their reactions can subconsciously influence a referee's decisions with a bias towards the home team [24]. There is evidence to points towards how the impact of a can have an effect on a referee's decisions over the course of a match. This may be due to the noise generated by the crowd or <i>\"...by the referees' perception that they are being monitored\"</i> [1]."
   ]
  },
  {
   "cell_type": "markdown",
   "id": "4be46bf0-3209-466a-8d91-debb3d218030",
   "metadata": {},
   "source": [
    "<br>"
   ]
  },
  {
   "cell_type": "markdown",
   "id": "35a84eeb-b1b5-4064-8230-966a60b14e10",
   "metadata": {},
   "source": [
    "Referees have a pivotal role; they act as impartial enforcers of the rules of a game and with the aim of making a match fair. There is huge pressure on referees to make the correct decision, as at the highest level their rulings are the difference between winning a championship and relegation, winning millions in prize money or massive drops in revenue [25]. There is an argument put forward in the paper <i>\"A multiple-cue learning approach as the basis for understanding and improving soccer referees' decision making\"</i>. [26] that referees' decision-making is on a base level automatic rather than deliberate. And that these decisions made by referees are based on multiple cues rather than a singular one. This claim was backed when by Memmert and Unkelbach [24] found that situational cues such as crowd noise are a likely reasoning behind home team referee bias [13].\n",
    "\n",
    "In football, referee's make on average 200 non observational and observational decisions during a match [27]. Although their role is to be impartial that does not stop opposing teams, fans, managers etc. from trying to influence their decisions [27].\n",
    "<i>\"...a certain level of favouritism on the part of the referee towards the home team due to the pressure exerted by the fans of this team, because of their majority presence. Such a phenomenon is commonly defined as home bias and this, in turn, creates what is known as home advantage\"</i> [23]. An example of this is in a 50/50 tackle or if linesperson is in two minds about who got the last touch on the ball, a louder claims and noise from the home fans may influence enough that they come out of the situation on top."
   ]
  },
  {
   "cell_type": "markdown",
   "id": "6fd4bdc8-d720-4696-ba3e-3fe909bf4f2f",
   "metadata": {},
   "source": [
    "<br>"
   ]
  },
  {
   "cell_type": "markdown",
   "id": "a0f90ed3-d540-4383-befd-c78d0652fa9d",
   "metadata": {},
   "source": [
    "The table [28] is taken from an investigation into the number and type of cards handed out by referees throughout 101,491 games played in different football confederations. We can see that over 50% of the cards shown by referees are given to the away team."
   ]
  },
  {
   "cell_type": "markdown",
   "id": "7441d154-d5d4-48e3-accd-71e89c4a28d9",
   "metadata": {},
   "source": [
    "![img](images/cards.png)"
   ]
  },
  {
   "cell_type": "markdown",
   "id": "9c3aadb8-c2cb-481a-8387-fb9d1b841e38",
   "metadata": {},
   "source": [
    "<br>"
   ]
  },
  {
   "cell_type": "markdown",
   "id": "6519f3bf-d227-4c65-9c90-42adf3b504a7",
   "metadata": {},
   "source": [
    "Another study conducted during the time fans where restricted from entering stadiums due to Covid-19 restrictions found that <i>“...results support the notion of a crowd-induced referee bias as the increased sanctioning of away teams disappears in the absence of spectators with regard to fouls (p < .001), yellow cards (p < .001), and red cards (p < .05)” </i>[29].\n"
   ]
  },
  {
   "cell_type": "markdown",
   "id": "1f3fa8eb-d154-4cac-b944-eef79a5181d9",
   "metadata": {},
   "source": [
    "In the study <i>“Home advantage and referee bias in European football”</i> [20] Chris Goumas used match data from the 2009/2010 and 2010/2011 Champions League and UEFA Cup (now Europa League) competitions to examine <i>“referee bias in terms of the association between match location (home vs. away) and disciplinary sanctions used by football referees”</i> [20]. The study found that in the Champions League referee's issued 25% (p<0.001) more yellow cards to the away side, and in the UEFA Cup the number was 10% (p=0.002) [20]. \n",
    "<i>“The higher level of home team bias in the Champions League appeared to be mainly due to higher crowd densities. In a combined analysis of both UEFA leagues the magnitude of referee bias increased with increasing crowd density”</i> [20]. This correlates home advantage to referee bias."
   ]
  },
  {
   "cell_type": "markdown",
   "id": "5717defb-912e-4aa1-881d-84972f28f499",
   "metadata": {},
   "source": [
    "<br>"
   ]
  },
  {
   "cell_type": "markdown",
   "id": "470808f2-4cc0-4c2b-a8d2-53eb631d1e8a",
   "metadata": {},
   "source": [
    "<br>"
   ]
  },
  {
   "cell_type": "markdown",
   "id": "09294643-3869-4c37-8085-1d60db633804",
   "metadata": {},
   "source": [
    "### 4. Dominance"
   ]
  },
  {
   "cell_type": "markdown",
   "id": "d50f260c-ef99-4ec7-bd1b-3f6ccb05f2d0",
   "metadata": {},
   "source": [
    "<br>"
   ]
  },
  {
   "cell_type": "markdown",
   "id": "3cfd220d-29e5-471b-b570-facae4a75a07",
   "metadata": {},
   "source": [
    "<div>\n",
    "<img src=\"images\\dominace_2.jpg\"\" width=\"400\" height='300'/>\n",
    "</div>"
   ]
  },
  {
   "cell_type": "markdown",
   "id": "01809455-64b8-4314-bea6-5d5ae881a0b7",
   "metadata": {},
   "source": [
    "<br>"
   ]
  },
  {
   "cell_type": "markdown",
   "id": "8d6e71dc-9225-4204-82f0-f0ab4df9835e",
   "metadata": {},
   "source": [
    "<br>"
   ]
  },
  {
   "cell_type": "markdown",
   "id": "23d6fd4c-a4f2-413f-a7c2-533e1ff03074",
   "metadata": {},
   "source": [
    "Dominance is defined as <i>\"the quality of being more important, strong, or successful than anything else of the same type\" </i>[30]. "
   ]
  },
  {
   "cell_type": "markdown",
   "id": "5e0029d0-df52-4cbf-9088-368102742538",
   "metadata": {},
   "source": [
    "<i>\"Home advantage during the COVID-19 pandemic: Analyses of European football leagues\" </i>[15] was the first study of its kind to factor in a teams' dominance when investigating the theory of \"Home Advantage\".  In the context of this study, the researchers at the University of Leeds' School of Psychology, measured a team’s dominance by the number of corners won, shots and shots on target."
   ]
  },
  {
   "cell_type": "markdown",
   "id": "99a68d82-6a89-439f-afe9-6ee1a10b8830",
   "metadata": {},
   "source": [
    "<br>"
   ]
  },
  {
   "cell_type": "markdown",
   "id": "a07ade74-35d0-4c23-9312-b9611276ea74",
   "metadata": {},
   "source": [
    "![img](images\\dominace.PNG)"
   ]
  },
  {
   "cell_type": "markdown",
   "id": "721f67ee-0e95-4bba-9553-5bedab2d1947",
   "metadata": {},
   "source": [
    "<br>"
   ]
  },
  {
   "cell_type": "markdown",
   "id": "8688096b-11e6-4ca8-ab59-c2e86cacb225",
   "metadata": {},
   "source": [
    "The research found (above figure) that without home support present the home team on average had 1.3 fewer attempts on goal and 0.4 less shots on target. They also won 0.7 less corners [15]. On the other hand, the away team’s dominance didn't vary as much. They won 0.10 more corners and had an increase of 0.17 shots of which, 0.20 were on target [15]."
   ]
  },
  {
   "cell_type": "markdown",
   "id": "3fb7cb23-308d-4bdd-9ef7-2bb2d2d094be",
   "metadata": {},
   "source": [
    "<br>"
   ]
  },
  {
   "cell_type": "markdown",
   "id": "99f05404-6d31-4bd4-9605-4a91f143ccda",
   "metadata": {},
   "source": [
    "A team’s dominance is related to the other variables as the more dominant a team is i.e., the more shots the have - specifically shots on target - the likelihood of a goal increases. If a team scores more goals than their opponent, they will accumulate more points i.e., winning more games."
   ]
  },
  {
   "cell_type": "markdown",
   "id": "845a3590-e6c4-4487-8b75-418ba165982d",
   "metadata": {},
   "source": [
    "<br>"
   ]
  },
  {
   "cell_type": "markdown",
   "id": "3b63a887-b048-4efe-abf4-5d68777a8be3",
   "metadata": {},
   "source": [
    "<br>"
   ]
  },
  {
   "cell_type": "markdown",
   "id": "d9ef78c0-5edc-4ecf-9d1d-5e0f1d2ba684",
   "metadata": {},
   "source": [
    "<br>"
   ]
  },
  {
   "cell_type": "markdown",
   "id": "c05dcc5e-fa42-40b7-ac85-deaa62d4c02a",
   "metadata": {},
   "source": [
    "<br>"
   ]
  },
  {
   "cell_type": "markdown",
   "id": "cd4081aa-c8d0-444e-bf31-ba74e7d4d0f7",
   "metadata": {},
   "source": [
    "## Distribution\n",
    "***"
   ]
  },
  {
   "cell_type": "markdown",
   "id": "65a3b0ce-7dc6-4ead-9397-6167af9f4e19",
   "metadata": {},
   "source": [
    "<br>"
   ]
  },
  {
   "cell_type": "markdown",
   "id": "78c70a1c-1d9e-413f-b92c-5d917aef82a0",
   "metadata": {},
   "source": [
    "The distribution which the majority of our data will be following is the Poisson distribution. A Poisson distribution can be employed to measure the probability of independent events occurring a certain number of times a given period [31]. So, when you know the average number of times an event is likely to occur, the Poisson distribution can be used to calculate the likelihood of how <i>\"... other outcomes deviate from this average\"</i> [31]. \n",
    "\n",
    "In our case, the number of goals scored, shots a team has and cards a team is shown.  It can be used to do this by converting averages into a probability for the changeable outcomes."
   ]
  },
  {
   "cell_type": "markdown",
   "id": "10914721-b1bf-45ee-9df1-3cac194e31ed",
   "metadata": {},
   "source": [
    "<br>"
   ]
  },
  {
   "cell_type": "markdown",
   "id": "0fa5aeac-151f-435b-b77f-7b54d4b43561",
   "metadata": {},
   "source": [
    "Named after French mathematician Siméon Denis Poisson, the Poisson distribution is a discrete probability distribution that expresses the probability of a given number of events occurring in a fixed interval of time or space if these events occur with a known constant mean rate and independently of the time since the last event [32].  When the total number of occurrences of the event is unknown, we can think of it as a random variable. \n",
    "\n",
    "<i>\"Discrete variables are countable in a finite amount of time\"</i> [33]. For example, we can count the number of times a team wins a corner in a 90-minute football match. \n",
    "\n",
    "Features of a Poisson Process:\n",
    "\n",
    "The important point is we know the average time between events, but they are randomly spaced (stochastic). We might have back-to-back failures, but we could also go years between failures due to the randomness of the process. A Poisson Process meets the following criteria (many phenomena modelled as Poisson processes don’t meet these exactly):\n",
    "- Events are independent of each other. The occurrence of one event does not affect the probability another event will occur. E.g., Just because a team has more shots, doesn't mean they will score more goals than their opponent.\n",
    "- The average rate (events per time period) is constant. A standard football game is 90 minutes, all events have an equally chance of happening within this timeframe. \n",
    "- Two events cannot occur at the same time [34]. E.g., a team cannot, win, lose and draw.\n",
    "\n",
    "\n",
    "We need to apply the Poisson Distribution to a Poisson Process to do interesting things like finding the probability of a number of events in a time period or finding the probability of waiting some time until the next event.\n",
    "\n",
    "![img](images/poisson.PNG)\n",
    "\n",
    "k: The number of occurrences of an event for which Poisson distribution has to be found\n",
    "λ: The expected number of event occurrences in the given interval\n",
    "e: It is the Euler’s constant whose approximate value is 2.72.\n",
    "Parameters:\n",
    "\n",
    "lam: It is a float value or an array of float values. The lam corresponds to the λ value in the Poisson distribution formula. It denotes the expected number of event occurrences for a given time interval. Its value should be greater than or equal to zero since no event can occur a negative number of times.\n",
    "\n",
    "size: It is an optional parameter whose default value is ‘None’. For None, it will return a single value as a sample. If you pass any (x,y) value, then x * y samples will be drawn from the Poisson distribution. If any other value n is passed, then n samples would be drawn from it. [35]"
   ]
  },
  {
   "cell_type": "markdown",
   "id": "316b1a1e-48b9-494d-afd9-9a6365586c6b",
   "metadata": {},
   "source": [
    "<br>"
   ]
  },
  {
   "cell_type": "markdown",
   "id": "455971ec-34ea-427b-8358-72776453db80",
   "metadata": {},
   "source": [
    "<br>"
   ]
  },
  {
   "cell_type": "markdown",
   "id": "be5bd85f-e0da-4ea5-978b-5ab7b53b9285",
   "metadata": {},
   "source": [
    "<br>"
   ]
  },
  {
   "cell_type": "markdown",
   "id": "159b19c0-3e94-4fce-bb4c-c58f42b276a4",
   "metadata": {},
   "source": [
    "<br>"
   ]
  },
  {
   "cell_type": "markdown",
   "id": "1dd858c7-c801-4d88-8b4a-8debb31d35ed",
   "metadata": {},
   "source": [
    "***"
   ]
  },
  {
   "cell_type": "markdown",
   "id": "00a3ea7a-be5c-476d-aac7-7930197ff2bb",
   "metadata": {},
   "source": [
    "## Simulating The Data"
   ]
  },
  {
   "cell_type": "markdown",
   "id": "5db31381-0569-406f-934f-74dc57fb152e",
   "metadata": {},
   "source": [
    "***"
   ]
  },
  {
   "cell_type": "markdown",
   "id": "c542a021-d59b-45df-8dfd-dd78ab01b74e",
   "metadata": {},
   "source": [
    "<br>"
   ]
  },
  {
   "cell_type": "markdown",
   "id": "36ca98da-fbe2-415c-bd62-e3fb129bb385",
   "metadata": {},
   "source": [
    "#### Importing Libaries"
   ]
  },
  {
   "cell_type": "markdown",
   "id": "775a88b9-4f57-4503-be37-a94579ed103e",
   "metadata": {},
   "source": [
    "<br>"
   ]
  },
  {
   "cell_type": "code",
   "execution_count": 1,
   "id": "1ccc84a1-50e7-474c-9966-43adf25bfeba",
   "metadata": {},
   "outputs": [],
   "source": [
    "# Random\n",
    "import random\n",
    "\n",
    "# To work with data\n",
    "import numpy as np\n",
    "\n",
    "# To work with data\n",
    "import pandas as pd"
   ]
  },
  {
   "cell_type": "markdown",
   "id": "b5f30512-7536-4ce3-859b-3feb25833b2c",
   "metadata": {},
   "source": [
    "<br>"
   ]
  },
  {
   "cell_type": "code",
   "execution_count": 2,
   "id": "dbd5801d-0394-408f-a22b-8390dd874ea6",
   "metadata": {},
   "outputs": [],
   "source": [
    "# Visualising data\n",
    "import matplotlib.pyplot as plt\n",
    "\n",
    "# Visualising data\n",
    "import seaborn as sns\n",
    "\n",
    "# Configures matplotlib to show figures embedded in the notebook. \n",
    "%matplotlib inline\n",
    "\n",
    "# Standard plot size.\n",
    "plt.rcParams['figure.figsize'] = (15, 10)\n",
    "\n",
    "# Selecting a colour scheme.\n",
    "plt.style.use('ggplot')"
   ]
  },
  {
   "cell_type": "markdown",
   "id": "e5d56a62-775e-4916-8a7d-f96abe28ddf4",
   "metadata": {},
   "source": [
    "<br>"
   ]
  },
  {
   "cell_type": "markdown",
   "id": "fbbed44d-b98c-4177-ad32-8c09bdc29c7a",
   "metadata": {},
   "source": [
    "`Numpy` has recently updated the method it uses to generate random numbers. Previously, `Numpy` employed the Mersenne Twister pseudo-random number generator (MT19937) referred to as legacy random state - This method can still be used. It has updated to the Permutation Congruential generator (PCG-64) method. PCG-64 is a 128-bit implementation of O'Neill's permutation congruential generator [36]."
   ]
  },
  {
   "cell_type": "markdown",
   "id": "83f5365c-4d48-4ead-a934-c0943d426af0",
   "metadata": {},
   "source": [
    "<br>"
   ]
  },
  {
   "cell_type": "code",
   "execution_count": 3,
   "id": "5a726559-51ca-4b50-94bd-f4c3afe95b43",
   "metadata": {},
   "outputs": [],
   "source": [
    "# Setting the PRNG as PCG-64\n",
    "rng = np.random.default_rng()"
   ]
  },
  {
   "cell_type": "markdown",
   "id": "eea71a5a-dc26-4cc9-bceb-f09492d3d29c",
   "metadata": {},
   "source": [
    "<br>"
   ]
  },
  {
   "cell_type": "markdown",
   "id": "26c2013d-4adb-4638-bcab-a2eaf99e71ef",
   "metadata": {},
   "source": [
    "<br>"
   ]
  },
  {
   "cell_type": "markdown",
   "id": "8df42c92-d5bd-42d9-8d22-45d7062d5114",
   "metadata": {},
   "source": [
    "<br>"
   ]
  },
  {
   "cell_type": "markdown",
   "id": "b1d4265b-b4a7-49c0-a22b-a3bd33cf5164",
   "metadata": {
    "tags": []
   },
   "source": [
    "### Real World Data"
   ]
  },
  {
   "cell_type": "markdown",
   "id": "4c5f1a91-1e29-4594-901d-5d91338592a8",
   "metadata": {},
   "source": [
    "<br>"
   ]
  },
  {
   "cell_type": "markdown",
   "id": "f9937b01-a571-4f68-8b9f-7534866211a1",
   "metadata": {},
   "source": [
    "To help simulate a dataset we will need to analyse a real-life dataset to help understand the relationship between variables and find the averages to use. The dataset I have found for this can be [found here](https://www.kaggle.com/adityadesai13/european-football-database-20192020). The dataset contains data for the 2019/2020 Premier League Season."
   ]
  },
  {
   "cell_type": "markdown",
   "id": "a6929e42-c108-420d-8f9a-a6b1142f85ce",
   "metadata": {},
   "source": [
    "<br>"
   ]
  },
  {
   "cell_type": "code",
   "execution_count": 4,
   "id": "272fa141-b99a-4457-a0cf-e246086dbdae",
   "metadata": {},
   "outputs": [],
   "source": [
    "# Loading the data\n",
    "epl = pd.read_excel('sample_data/all-euro-data-2019-2020.xlsx')"
   ]
  },
  {
   "cell_type": "code",
   "execution_count": 5,
   "id": "5aac95cd-45c7-4256-a82e-f81689dd6ac6",
   "metadata": {},
   "outputs": [
    {
     "data": {
      "text/html": [
       "<div>\n",
       "<style scoped>\n",
       "    .dataframe tbody tr th:only-of-type {\n",
       "        vertical-align: middle;\n",
       "    }\n",
       "\n",
       "    .dataframe tbody tr th {\n",
       "        vertical-align: top;\n",
       "    }\n",
       "\n",
       "    .dataframe thead th {\n",
       "        text-align: right;\n",
       "    }\n",
       "</style>\n",
       "<table border=\"1\" class=\"dataframe\">\n",
       "  <thead>\n",
       "    <tr style=\"text-align: right;\">\n",
       "      <th></th>\n",
       "      <th>HomeTeam</th>\n",
       "      <th>AwayTeam</th>\n",
       "      <th>FTHG</th>\n",
       "      <th>FTAG</th>\n",
       "      <th>FTR</th>\n",
       "      <th>HS</th>\n",
       "      <th>AS</th>\n",
       "      <th>HST</th>\n",
       "      <th>AST</th>\n",
       "      <th>HC</th>\n",
       "      <th>AC</th>\n",
       "      <th>HY</th>\n",
       "      <th>AY</th>\n",
       "      <th>HR</th>\n",
       "      <th>AR</th>\n",
       "    </tr>\n",
       "  </thead>\n",
       "  <tbody>\n",
       "    <tr>\n",
       "      <th>0</th>\n",
       "      <td>Liverpool</td>\n",
       "      <td>Norwich</td>\n",
       "      <td>4</td>\n",
       "      <td>1</td>\n",
       "      <td>H</td>\n",
       "      <td>15</td>\n",
       "      <td>12</td>\n",
       "      <td>7</td>\n",
       "      <td>5</td>\n",
       "      <td>11</td>\n",
       "      <td>2</td>\n",
       "      <td>0</td>\n",
       "      <td>2</td>\n",
       "      <td>0</td>\n",
       "      <td>0</td>\n",
       "    </tr>\n",
       "    <tr>\n",
       "      <th>1</th>\n",
       "      <td>West Ham</td>\n",
       "      <td>Man City</td>\n",
       "      <td>0</td>\n",
       "      <td>5</td>\n",
       "      <td>A</td>\n",
       "      <td>5</td>\n",
       "      <td>14</td>\n",
       "      <td>3</td>\n",
       "      <td>9</td>\n",
       "      <td>1</td>\n",
       "      <td>1</td>\n",
       "      <td>2</td>\n",
       "      <td>2</td>\n",
       "      <td>0</td>\n",
       "      <td>0</td>\n",
       "    </tr>\n",
       "    <tr>\n",
       "      <th>2</th>\n",
       "      <td>Bournemouth</td>\n",
       "      <td>Sheffield United</td>\n",
       "      <td>1</td>\n",
       "      <td>1</td>\n",
       "      <td>D</td>\n",
       "      <td>13</td>\n",
       "      <td>8</td>\n",
       "      <td>3</td>\n",
       "      <td>3</td>\n",
       "      <td>3</td>\n",
       "      <td>4</td>\n",
       "      <td>2</td>\n",
       "      <td>1</td>\n",
       "      <td>0</td>\n",
       "      <td>0</td>\n",
       "    </tr>\n",
       "    <tr>\n",
       "      <th>3</th>\n",
       "      <td>Burnley</td>\n",
       "      <td>Southampton</td>\n",
       "      <td>3</td>\n",
       "      <td>0</td>\n",
       "      <td>H</td>\n",
       "      <td>10</td>\n",
       "      <td>11</td>\n",
       "      <td>4</td>\n",
       "      <td>3</td>\n",
       "      <td>2</td>\n",
       "      <td>7</td>\n",
       "      <td>0</td>\n",
       "      <td>0</td>\n",
       "      <td>0</td>\n",
       "      <td>0</td>\n",
       "    </tr>\n",
       "    <tr>\n",
       "      <th>4</th>\n",
       "      <td>Crystal Palace</td>\n",
       "      <td>Everton</td>\n",
       "      <td>0</td>\n",
       "      <td>0</td>\n",
       "      <td>D</td>\n",
       "      <td>6</td>\n",
       "      <td>10</td>\n",
       "      <td>2</td>\n",
       "      <td>3</td>\n",
       "      <td>6</td>\n",
       "      <td>2</td>\n",
       "      <td>2</td>\n",
       "      <td>1</td>\n",
       "      <td>0</td>\n",
       "      <td>1</td>\n",
       "    </tr>\n",
       "    <tr>\n",
       "      <th>...</th>\n",
       "      <td>...</td>\n",
       "      <td>...</td>\n",
       "      <td>...</td>\n",
       "      <td>...</td>\n",
       "      <td>...</td>\n",
       "      <td>...</td>\n",
       "      <td>...</td>\n",
       "      <td>...</td>\n",
       "      <td>...</td>\n",
       "      <td>...</td>\n",
       "      <td>...</td>\n",
       "      <td>...</td>\n",
       "      <td>...</td>\n",
       "      <td>...</td>\n",
       "      <td>...</td>\n",
       "    </tr>\n",
       "    <tr>\n",
       "      <th>315</th>\n",
       "      <td>Bournemouth</td>\n",
       "      <td>Newcastle</td>\n",
       "      <td>1</td>\n",
       "      <td>4</td>\n",
       "      <td>A</td>\n",
       "      <td>12</td>\n",
       "      <td>12</td>\n",
       "      <td>1</td>\n",
       "      <td>7</td>\n",
       "      <td>6</td>\n",
       "      <td>3</td>\n",
       "      <td>2</td>\n",
       "      <td>0</td>\n",
       "      <td>0</td>\n",
       "      <td>0</td>\n",
       "    </tr>\n",
       "    <tr>\n",
       "      <th>316</th>\n",
       "      <td>Everton</td>\n",
       "      <td>Leicester</td>\n",
       "      <td>2</td>\n",
       "      <td>1</td>\n",
       "      <td>H</td>\n",
       "      <td>7</td>\n",
       "      <td>15</td>\n",
       "      <td>2</td>\n",
       "      <td>3</td>\n",
       "      <td>3</td>\n",
       "      <td>5</td>\n",
       "      <td>1</td>\n",
       "      <td>1</td>\n",
       "      <td>0</td>\n",
       "      <td>0</td>\n",
       "    </tr>\n",
       "    <tr>\n",
       "      <th>317</th>\n",
       "      <td>West Ham</td>\n",
       "      <td>Chelsea</td>\n",
       "      <td>3</td>\n",
       "      <td>2</td>\n",
       "      <td>H</td>\n",
       "      <td>10</td>\n",
       "      <td>17</td>\n",
       "      <td>4</td>\n",
       "      <td>6</td>\n",
       "      <td>2</td>\n",
       "      <td>3</td>\n",
       "      <td>2</td>\n",
       "      <td>1</td>\n",
       "      <td>0</td>\n",
       "      <td>0</td>\n",
       "    </tr>\n",
       "    <tr>\n",
       "      <th>318</th>\n",
       "      <td>Sheffield United</td>\n",
       "      <td>Tottenham</td>\n",
       "      <td>3</td>\n",
       "      <td>1</td>\n",
       "      <td>H</td>\n",
       "      <td>7</td>\n",
       "      <td>9</td>\n",
       "      <td>5</td>\n",
       "      <td>2</td>\n",
       "      <td>1</td>\n",
       "      <td>6</td>\n",
       "      <td>2</td>\n",
       "      <td>0</td>\n",
       "      <td>0</td>\n",
       "      <td>0</td>\n",
       "    </tr>\n",
       "    <tr>\n",
       "      <th>319</th>\n",
       "      <td>Man City</td>\n",
       "      <td>Liverpool</td>\n",
       "      <td>4</td>\n",
       "      <td>0</td>\n",
       "      <td>H</td>\n",
       "      <td>14</td>\n",
       "      <td>11</td>\n",
       "      <td>6</td>\n",
       "      <td>3</td>\n",
       "      <td>3</td>\n",
       "      <td>3</td>\n",
       "      <td>2</td>\n",
       "      <td>2</td>\n",
       "      <td>0</td>\n",
       "      <td>0</td>\n",
       "    </tr>\n",
       "  </tbody>\n",
       "</table>\n",
       "<p>320 rows × 15 columns</p>\n",
       "</div>"
      ],
      "text/plain": [
       "             HomeTeam          AwayTeam  FTHG  FTAG FTR  HS  AS  HST  AST  HC  \\\n",
       "0           Liverpool           Norwich     4     1   H  15  12    7    5  11   \n",
       "1            West Ham          Man City     0     5   A   5  14    3    9   1   \n",
       "2         Bournemouth  Sheffield United     1     1   D  13   8    3    3   3   \n",
       "3             Burnley       Southampton     3     0   H  10  11    4    3   2   \n",
       "4      Crystal Palace           Everton     0     0   D   6  10    2    3   6   \n",
       "..                ...               ...   ...   ...  ..  ..  ..  ...  ...  ..   \n",
       "315       Bournemouth         Newcastle     1     4   A  12  12    1    7   6   \n",
       "316           Everton         Leicester     2     1   H   7  15    2    3   3   \n",
       "317          West Ham           Chelsea     3     2   H  10  17    4    6   2   \n",
       "318  Sheffield United         Tottenham     3     1   H   7   9    5    2   1   \n",
       "319          Man City         Liverpool     4     0   H  14  11    6    3   3   \n",
       "\n",
       "     AC  HY  AY  HR  AR  \n",
       "0     2   0   2   0   0  \n",
       "1     1   2   2   0   0  \n",
       "2     4   2   1   0   0  \n",
       "3     7   0   0   0   0  \n",
       "4     2   2   1   0   1  \n",
       "..   ..  ..  ..  ..  ..  \n",
       "315   3   2   0   0   0  \n",
       "316   5   1   1   0   0  \n",
       "317   3   2   1   0   0  \n",
       "318   6   2   0   0   0  \n",
       "319   3   2   2   0   0  \n",
       "\n",
       "[320 rows x 15 columns]"
      ]
     },
     "execution_count": 5,
     "metadata": {},
     "output_type": "execute_result"
    }
   ],
   "source": [
    "# Selecting Columns to use\n",
    "data = epl[['HomeTeam', 'AwayTeam','FTHG', 'FTAG', 'FTR','HS','AS', 'HST', 'AST','HC','AC', 'HY','AY', 'HR', 'AR']]\n",
    "data"
   ]
  },
  {
   "cell_type": "markdown",
   "id": "d3c7ad48-92cf-4a12-92fb-5f40df3bebbb",
   "metadata": {},
   "source": [
    "<br>"
   ]
  },
  {
   "cell_type": "markdown",
   "id": "d461f691-6e28-4923-a950-e624af73f17c",
   "metadata": {},
   "source": [
    "- HomeTeam = Home Team\n",
    "- AwayTeam = Away Team\n",
    "- FTHG = Full Time Home Team Goals\n",
    "- FTAG = Full Time Away Team Goals\n",
    "- FTR = Full Time Result (H=Home Win, D=Draw, A=Away Win)\n",
    "- HS = Home Team Shots\n",
    "- AS = Away Team Shots\n",
    "- HST = Home Team Shots on Target\n",
    "- AST = Away Team Shots on Target\n",
    "- HC = Home Team Corners\n",
    "- AC = Away Team Corners\n",
    "- HY = Home Team Yellow Cards\n",
    "- AY = Away Team Yellow Cards\n",
    "- HR = Home Team Red Cards\n",
    "- AR = Away Team Red Cards"
   ]
  },
  {
   "cell_type": "markdown",
   "id": "08d6d486-29a4-40d9-a008-4d28868b4f7e",
   "metadata": {},
   "source": [
    "<br>"
   ]
  },
  {
   "cell_type": "markdown",
   "id": "b72113a9-23e6-4bfc-b648-c590161f3bae",
   "metadata": {},
   "source": [
    "<br>"
   ]
  },
  {
   "cell_type": "markdown",
   "id": "55bf5109-ed81-4917-8fe7-106b7e553ef9",
   "metadata": {},
   "source": [
    "Let's check how many of the games where won by the home and away teams or, if the match ended in a draw. "
   ]
  },
  {
   "cell_type": "markdown",
   "id": "e1be52e0-8173-4690-a71f-b81d34bf30af",
   "metadata": {},
   "source": [
    "<br>"
   ]
  },
  {
   "cell_type": "code",
   "execution_count": 6,
   "id": "ea849845-dbbb-44c0-b2fb-2a66dcc48ccb",
   "metadata": {},
   "outputs": [
    {
     "data": {
      "text/plain": [
       "H    144\n",
       "A     98\n",
       "D     78\n",
       "Name: FTR, dtype: int64"
      ]
     },
     "execution_count": 6,
     "metadata": {},
     "output_type": "execute_result"
    }
   ],
   "source": [
    "# How Home or away wins or draws\n",
    "diff_count = data['FTR'].value_counts()\n",
    "diff_count"
   ]
  },
  {
   "cell_type": "markdown",
   "id": "b759c58c-effa-46fb-9702-b92d4b5d57bf",
   "metadata": {},
   "source": [
    "<br>"
   ]
  },
  {
   "cell_type": "code",
   "execution_count": 7,
   "id": "37aaaccc-12f4-49e3-a69d-e6358d1638d8",
   "metadata": {},
   "outputs": [
    {
     "data": {
      "text/plain": [
       "<matplotlib.patches.Circle at 0x1bce8f5b190>"
      ]
     },
     "execution_count": 7,
     "metadata": {},
     "output_type": "execute_result"
    },
    {
     "data": {
      "image/png": "[encoded data removed]",
      "text/plain": [
       "<Figure size 1080x720 with 1 Axes>"
      ]
     },
     "metadata": {},
     "output_type": "display_data"
    }
   ],
   "source": [
    "# Setting Labels\n",
    "diff_count_labels = ['Home Win', 'Away Win', 'Draw']\n",
    "\n",
    "# Generating a piechart\n",
    "plt.pie(diff_count, labels=diff_count_labels, autopct='%1.1f%%') # Data, lables, colours, %\n",
    "\n",
    "# Adding a title\n",
    "plt.title('Full Time Result')\n",
    "\n",
    "# Adding a circle at the center to make it a donut chart\n",
    "my_circle=plt.Circle( (0,0), 0.8, color='white')\n",
    "\n",
    "# Current figure\n",
    "p=plt.gcf()\n",
    "p.gca().add_artist(my_circle)"
   ]
  },
  {
   "cell_type": "markdown",
   "id": "b640344d-6b68-442a-ad80-83c80d4d79c1",
   "metadata": {},
   "source": [
    "<br>"
   ]
  },
  {
   "cell_type": "markdown",
   "id": "416a34bf-bed4-493b-a9b4-c3d8fb0c0d24",
   "metadata": {},
   "source": [
    "As we can see, the majority of games ended in a home win."
   ]
  },
  {
   "cell_type": "markdown",
   "id": "535d4306-abd8-40d9-b864-960ce22be25a",
   "metadata": {},
   "source": [
    "<br>"
   ]
  },
  {
   "cell_type": "markdown",
   "id": "2b91513d-7327-47b9-aa75-9bd1552e369f",
   "metadata": {},
   "source": [
    "<br>"
   ]
  },
  {
   "cell_type": "markdown",
   "id": "64f951a0-02b4-4351-b413-8dbe701940e8",
   "metadata": {},
   "source": [
    "#### Goals"
   ]
  },
  {
   "cell_type": "markdown",
   "id": "21d68033-f0b1-4a02-b917-6641c6a88aa0",
   "metadata": {},
   "source": [
    "<br>"
   ]
  },
  {
   "cell_type": "code",
   "execution_count": 8,
   "id": "b2c7a1f7-609c-4bb1-bf56-8ac65eadecd9",
   "metadata": {},
   "outputs": [
    {
     "data": {
      "text/plain": [
       "<matplotlib.legend.Legend at 0x1bce8795e80>"
      ]
     },
     "execution_count": 8,
     "metadata": {},
     "output_type": "execute_result"
    },
    {
     "data": {
      "image/png": "[encoded data removed]",
      "text/plain": [
       "<Figure size 1080x720 with 1 Axes>"
      ]
     },
     "metadata": {},
     "output_type": "display_data"
    }
   ],
   "source": [
    "# Checking distribution from real world dataset\n",
    "data['FTHG'].plot.hist(alpha=0.5)\n",
    "data['FTAG'].plot.hist(alpha=0.5)\n",
    "\n",
    "plt.legend()"
   ]
  },
  {
   "cell_type": "markdown",
   "id": "ab99f8f3-2e77-481f-853b-119a76c625a0",
   "metadata": {},
   "source": [
    "<br>"
   ]
  },
  {
   "cell_type": "markdown",
   "id": "1f67dc23-119c-489e-8f85-3f5207eec79d",
   "metadata": {},
   "source": [
    "<br>"
   ]
  },
  {
   "cell_type": "code",
   "execution_count": 9,
   "id": "266764ae-2ea0-4b84-b3a8-70961af61979",
   "metadata": {},
   "outputs": [
    {
     "data": {
      "text/plain": [
       "1.50625"
      ]
     },
     "execution_count": 9,
     "metadata": {},
     "output_type": "execute_result"
    }
   ],
   "source": [
    "# Average of home goals\n",
    "data['FTHG'].mean()"
   ]
  },
  {
   "cell_type": "markdown",
   "id": "1d7b668b-f18c-4c03-b7bb-ceb04a96ecd1",
   "metadata": {},
   "source": [
    "<br>"
   ]
  },
  {
   "cell_type": "code",
   "execution_count": 10,
   "id": "1ae04200-f92c-4b67-92be-a2b698b024fc",
   "metadata": {},
   "outputs": [
    {
     "data": {
      "text/plain": [
       "1.196875"
      ]
     },
     "execution_count": 10,
     "metadata": {},
     "output_type": "execute_result"
    }
   ],
   "source": [
    "# Average of away goals\n",
    "data['FTAG'].mean()"
   ]
  },
  {
   "cell_type": "markdown",
   "id": "c5b1e385-11e9-4b7e-8bae-be1b70b2c5f4",
   "metadata": {},
   "source": [
    "<br>"
   ]
  },
  {
   "cell_type": "markdown",
   "id": "c5ba95c5-5278-4c44-be48-4faff089ea4f",
   "metadata": {},
   "source": [
    "<br>"
   ]
  },
  {
   "cell_type": "markdown",
   "id": "47ba2841-dece-470f-829c-57ecae29fb97",
   "metadata": {
    "tags": []
   },
   "source": [
    "#### Shots"
   ]
  },
  {
   "cell_type": "markdown",
   "id": "98840d11-046c-4f96-aed5-fa60c04fffa6",
   "metadata": {},
   "source": [
    "<br>"
   ]
  },
  {
   "cell_type": "code",
   "execution_count": 11,
   "id": "001509f8-aa29-453f-b9ad-4ece5385570e",
   "metadata": {},
   "outputs": [
    {
     "data": {
      "text/plain": [
       "<matplotlib.legend.Legend at 0x1bce8dc5490>"
      ]
     },
     "execution_count": 11,
     "metadata": {},
     "output_type": "execute_result"
    },
    {
     "data": {
      "image/png": "[encoded data removed]",
      "text/plain": [
       "<Figure size 1080x720 with 1 Axes>"
      ]
     },
     "metadata": {},
     "output_type": "display_data"
    }
   ],
   "source": [
    "# Checking distribution from real world dataset\n",
    "data['HS'].plot.hist(alpha=0.5)\n",
    "data['AS'].plot.hist(alpha=0.5)\n",
    "\n",
    "plt.legend()"
   ]
  },
  {
   "cell_type": "markdown",
   "id": "574aeb28-5444-48cb-9dc7-11eeac276a7c",
   "metadata": {},
   "source": [
    "<br>"
   ]
  },
  {
   "cell_type": "markdown",
   "id": "58137c19-f04f-4a91-925c-20bd5ec47b79",
   "metadata": {},
   "source": [
    "<br>"
   ]
  },
  {
   "cell_type": "code",
   "execution_count": 12,
   "id": "49e8ed04-4155-4035-bfb3-675fe143c2a8",
   "metadata": {},
   "outputs": [
    {
     "data": {
      "text/plain": [
       "13.56875"
      ]
     },
     "execution_count": 12,
     "metadata": {},
     "output_type": "execute_result"
    }
   ],
   "source": [
    "# Average of home shots\n",
    "data['HS'].mean()"
   ]
  },
  {
   "cell_type": "markdown",
   "id": "16e9b464-c9ce-44cf-9887-c6a277969831",
   "metadata": {},
   "source": [
    "<br>"
   ]
  },
  {
   "cell_type": "code",
   "execution_count": 13,
   "id": "aea13736-1fa8-48da-a501-5b8eaf7de55a",
   "metadata": {},
   "outputs": [
    {
     "data": {
      "text/plain": [
       "11.2875"
      ]
     },
     "execution_count": 13,
     "metadata": {},
     "output_type": "execute_result"
    }
   ],
   "source": [
    "# Average of away shots\n",
    "data['AS'].mean()"
   ]
  },
  {
   "cell_type": "markdown",
   "id": "94a7551c-ca9f-4e1d-9670-9fe5139fa713",
   "metadata": {},
   "source": [
    "<br>"
   ]
  },
  {
   "cell_type": "markdown",
   "id": "f25db5e1-e4b7-4ee5-9027-53ede9dd3056",
   "metadata": {},
   "source": [
    "<br>"
   ]
  },
  {
   "cell_type": "markdown",
   "id": "3e02878a-3d68-4b6e-8989-1674b0b7f017",
   "metadata": {},
   "source": [
    "<br>"
   ]
  },
  {
   "cell_type": "markdown",
   "id": "401e415b-4c8e-420f-a45a-3ebe9d749e4c",
   "metadata": {},
   "source": [
    "#### Shots On Target"
   ]
  },
  {
   "cell_type": "markdown",
   "id": "8d2c6ca4-57c5-4241-b613-15a392649fc4",
   "metadata": {},
   "source": [
    "<br>"
   ]
  },
  {
   "cell_type": "markdown",
   "id": "7553dc5f-1c28-4c32-857c-ba6368b2d380",
   "metadata": {},
   "source": [
    "<br>"
   ]
  },
  {
   "cell_type": "code",
   "execution_count": 14,
   "id": "47ffcc09-539e-4d96-9455-d85d8c1939df",
   "metadata": {},
   "outputs": [
    {
     "data": {
      "text/plain": [
       "<matplotlib.legend.Legend at 0x1bce8d81160>"
      ]
     },
     "execution_count": 14,
     "metadata": {},
     "output_type": "execute_result"
    },
    {
     "data": {
      "image/png": "[encoded data removed]",
      "text/plain": [
       "<Figure size 1080x720 with 1 Axes>"
      ]
     },
     "metadata": {},
     "output_type": "display_data"
    }
   ],
   "source": [
    "data['HST'].plot.hist(alpha=0.5)\n",
    "data['AST'].plot.hist(alpha=0.5)\n",
    "\n",
    "plt.legend()"
   ]
  },
  {
   "cell_type": "markdown",
   "id": "f74eb12a-24bd-429b-877e-96fafc08ad25",
   "metadata": {},
   "source": [
    "<br>"
   ]
  },
  {
   "cell_type": "markdown",
   "id": "67f69200-537a-4286-a919-b798b0859530",
   "metadata": {},
   "source": [
    "<br>"
   ]
  },
  {
   "cell_type": "markdown",
   "id": "92e72618-3cca-488e-9465-98be33c48055",
   "metadata": {},
   "source": [
    "<br>"
   ]
  },
  {
   "cell_type": "markdown",
   "id": "bc642259-3d93-4764-a059-03c8aa4c695e",
   "metadata": {},
   "source": [
    "<br>"
   ]
  },
  {
   "cell_type": "code",
   "execution_count": 15,
   "id": "0422c85f-5789-4786-a5ce-f335098a7598",
   "metadata": {},
   "outputs": [
    {
     "data": {
      "text/plain": [
       "4.640625"
      ]
     },
     "execution_count": 15,
     "metadata": {},
     "output_type": "execute_result"
    }
   ],
   "source": [
    "# Average home shots on target\n",
    "data['HST'].mean()"
   ]
  },
  {
   "cell_type": "markdown",
   "id": "fc871f13-8ca2-4804-935e-1f88fd9cf829",
   "metadata": {},
   "source": [
    "<br>"
   ]
  },
  {
   "cell_type": "code",
   "execution_count": 16,
   "id": "e43ec3c0-2a93-46a0-be42-83d14f99c592",
   "metadata": {},
   "outputs": [
    {
     "data": {
      "text/plain": [
       "3.996875"
      ]
     },
     "execution_count": 16,
     "metadata": {},
     "output_type": "execute_result"
    }
   ],
   "source": [
    "# Average away shots on target\n",
    "data['AST'].mean()"
   ]
  },
  {
   "cell_type": "markdown",
   "id": "0be7c7e9-92c4-4051-9295-02bf601abfce",
   "metadata": {},
   "source": [
    "<br>"
   ]
  },
  {
   "cell_type": "markdown",
   "id": "75619d5b-1f2f-4e0a-8206-fdf4a7c61bc6",
   "metadata": {},
   "source": [
    "<br>"
   ]
  },
  {
   "cell_type": "markdown",
   "id": "fa5975b9-988c-4704-b678-7989447f74a8",
   "metadata": {},
   "source": [
    "<br>"
   ]
  },
  {
   "cell_type": "markdown",
   "id": "c36aaac4-7abf-4fc5-97c4-131fb12a5dd8",
   "metadata": {},
   "source": [
    "#### Corners"
   ]
  },
  {
   "cell_type": "markdown",
   "id": "484cc4de-228f-4dbb-b184-cc7da73c8b51",
   "metadata": {},
   "source": [
    "<br>"
   ]
  },
  {
   "cell_type": "code",
   "execution_count": 17,
   "id": "c39eb4b9-ec83-433b-bd43-93490680fdaf",
   "metadata": {},
   "outputs": [
    {
     "data": {
      "text/plain": [
       "<matplotlib.legend.Legend at 0x1bce9b6bb20>"
      ]
     },
     "execution_count": 17,
     "metadata": {},
     "output_type": "execute_result"
    },
    {
     "data": {
      "image/png": "[encoded data removed]",
      "text/plain": [
       "<Figure size 1080x720 with 1 Axes>"
      ]
     },
     "metadata": {},
     "output_type": "display_data"
    }
   ],
   "source": [
    "data['HC'].plot.hist(alpha=0.5)\n",
    "data['AC'].plot.hist(alpha=0.5)\n",
    "\n",
    "plt.legend()"
   ]
  },
  {
   "cell_type": "markdown",
   "id": "6bb51f4e-3ba1-4fc9-8aaf-e16c67deae4b",
   "metadata": {},
   "source": [
    "<br>"
   ]
  },
  {
   "cell_type": "markdown",
   "id": "f85c106c-c06d-4bb8-a676-4645a65e64fc",
   "metadata": {},
   "source": [
    "<br>"
   ]
  },
  {
   "cell_type": "code",
   "execution_count": 18,
   "id": "9b11b234-d284-4d87-894c-3da2f58a8cc1",
   "metadata": {},
   "outputs": [
    {
     "data": {
      "text/plain": [
       "5.89375"
      ]
     },
     "execution_count": 18,
     "metadata": {},
     "output_type": "execute_result"
    }
   ],
   "source": [
    "# Average corners won by home team\n",
    "data['HC'].mean()"
   ]
  },
  {
   "cell_type": "code",
   "execution_count": 19,
   "id": "007b73f3-fdb1-4164-af5e-05ba8831f268",
   "metadata": {},
   "outputs": [
    {
     "data": {
      "text/plain": [
       "4.9"
      ]
     },
     "execution_count": 19,
     "metadata": {},
     "output_type": "execute_result"
    }
   ],
   "source": [
    "# Average corners won by away team\n",
    "data['AC'].mean()"
   ]
  },
  {
   "cell_type": "markdown",
   "id": "4c47f1f8-6ecd-45c2-b576-a9fb8c9749b9",
   "metadata": {},
   "source": [
    "<br>"
   ]
  },
  {
   "cell_type": "markdown",
   "id": "8afbbe68-8da8-4407-a77f-4f78298c96e4",
   "metadata": {},
   "source": [
    "<br>"
   ]
  },
  {
   "cell_type": "markdown",
   "id": "a38a8281-a185-4d56-9c59-44c1c8057618",
   "metadata": {},
   "source": [
    "#### Yellow Cards"
   ]
  },
  {
   "cell_type": "markdown",
   "id": "e97d2da7-e56f-4abf-b337-fc1251be06fc",
   "metadata": {},
   "source": [
    "<br>"
   ]
  },
  {
   "cell_type": "code",
   "execution_count": 20,
   "id": "3bc05d5d-f9f0-4187-b119-a4ddcf528cd8",
   "metadata": {},
   "outputs": [
    {
     "data": {
      "text/plain": [
       "<matplotlib.legend.Legend at 0x1bce9dfa8b0>"
      ]
     },
     "execution_count": 20,
     "metadata": {},
     "output_type": "execute_result"
    },
    {
     "data": {
      "image/png": "[encoded data removed]",
      "text/plain": [
       "<Figure size 1080x720 with 1 Axes>"
      ]
     },
     "metadata": {},
     "output_type": "display_data"
    }
   ],
   "source": [
    "# Generating histograms\n",
    "data['HY'].plot.hist(alpha=0.5)\n",
    "data['AY'].plot.hist(alpha=0.5)\n",
    "\n",
    "# Adding a legend\n",
    "plt.legend()"
   ]
  },
  {
   "cell_type": "markdown",
   "id": "e75b3a4f-a65f-42ee-b837-aee896c2ccdb",
   "metadata": {},
   "source": [
    "<br>"
   ]
  },
  {
   "cell_type": "markdown",
   "id": "69efa05c-17ea-417f-af90-1255d35174df",
   "metadata": {},
   "source": [
    "<br>"
   ]
  },
  {
   "cell_type": "code",
   "execution_count": 21,
   "id": "f95cb700-8383-4e2a-8ec0-09808b4a8dee",
   "metadata": {
    "tags": []
   },
   "outputs": [
    {
     "data": {
      "text/plain": [
       "1.6"
      ]
     },
     "execution_count": 21,
     "metadata": {},
     "output_type": "execute_result"
    }
   ],
   "source": [
    "# Average yellow cards for home team\n",
    "data['HY'].mean()"
   ]
  },
  {
   "cell_type": "markdown",
   "id": "fcb44f62-be2c-44df-903c-eff17f9151be",
   "metadata": {},
   "source": [
    "<br>"
   ]
  },
  {
   "cell_type": "code",
   "execution_count": 22,
   "id": "3a5d8909-67fa-4440-a795-5678891f4b57",
   "metadata": {},
   "outputs": [
    {
     "data": {
      "text/plain": [
       "1.803125"
      ]
     },
     "execution_count": 22,
     "metadata": {},
     "output_type": "execute_result"
    }
   ],
   "source": [
    "# Average yellow cards for away team\n",
    "data['AY'].mean()"
   ]
  },
  {
   "cell_type": "markdown",
   "id": "4044d482-9a6f-40b3-b81c-0de8c772875f",
   "metadata": {},
   "source": [
    "<br>"
   ]
  },
  {
   "cell_type": "markdown",
   "id": "47532a76-e818-4127-a682-1b355427bd92",
   "metadata": {},
   "source": [
    "<br>"
   ]
  },
  {
   "cell_type": "markdown",
   "id": "d5b84a72-39d7-4d02-9ce8-b5d825325418",
   "metadata": {
    "tags": []
   },
   "source": [
    "#### Red Cards"
   ]
  },
  {
   "cell_type": "markdown",
   "id": "07b3c4d1-381f-4352-ad01-4304e18cca28",
   "metadata": {},
   "source": [
    "<br>"
   ]
  },
  {
   "cell_type": "code",
   "execution_count": 23,
   "id": "fe7cf10c-38fd-4479-9380-d1c53ebd4686",
   "metadata": {},
   "outputs": [
    {
     "data": {
      "text/plain": [
       "<matplotlib.legend.Legend at 0x1bcea2ec610>"
      ]
     },
     "execution_count": 23,
     "metadata": {},
     "output_type": "execute_result"
    },
    {
     "data": {
      "image/png": "[encoded data removed]",
      "text/plain": [
       "<Figure size 1080x720 with 1 Axes>"
      ]
     },
     "metadata": {},
     "output_type": "display_data"
    }
   ],
   "source": [
    "# Generating histograms\n",
    "data['HR'].plot.hist(alpha=0.5)\n",
    "data['AR'].plot.hist(alpha=0.5)\n",
    "\n",
    "# Adding a legend\n",
    "plt.legend()"
   ]
  },
  {
   "cell_type": "markdown",
   "id": "f31f3e33-47a1-47ab-b8e3-fd795a1db5e3",
   "metadata": {},
   "source": [
    "<br>"
   ]
  },
  {
   "cell_type": "code",
   "execution_count": 24,
   "id": "862c1a87-cac2-4aa2-942b-08f79576243c",
   "metadata": {},
   "outputs": [
    {
     "data": {
      "text/plain": [
       "0.05625"
      ]
     },
     "execution_count": 24,
     "metadata": {},
     "output_type": "execute_result"
    }
   ],
   "source": [
    "# Average red cards for home team\n",
    "data['HR'].mean()"
   ]
  },
  {
   "cell_type": "markdown",
   "id": "37a87811-5f08-4dc0-bf47-abb68544a9ce",
   "metadata": {},
   "source": [
    "<br>"
   ]
  },
  {
   "cell_type": "code",
   "execution_count": 25,
   "id": "346fcd3d-f47d-4f6a-b3b5-c054ed5ecf0b",
   "metadata": {},
   "outputs": [
    {
     "data": {
      "text/plain": [
       "0.065625"
      ]
     },
     "execution_count": 25,
     "metadata": {},
     "output_type": "execute_result"
    }
   ],
   "source": [
    "# Average red cards for away team\n",
    "data['AR'].mean()"
   ]
  },
  {
   "cell_type": "markdown",
   "id": "ad1f561b-e967-4325-a080-2c5b42258412",
   "metadata": {},
   "source": [
    "<br>"
   ]
  },
  {
   "cell_type": "markdown",
   "id": "bfc658f2-3bfe-4ff5-9864-b840cd7047a9",
   "metadata": {},
   "source": [
    "<br>"
   ]
  },
  {
   "cell_type": "markdown",
   "id": "e2dc520e-75c6-4939-a046-5f8432eae726",
   "metadata": {},
   "source": [
    "Let's apply this to the data we will be simulating."
   ]
  },
  {
   "cell_type": "markdown",
   "id": "a7571be1-68ce-4203-ba1d-9d06fe4e02e2",
   "metadata": {},
   "source": [
    "<br>"
   ]
  },
  {
   "cell_type": "markdown",
   "id": "0e999fea-6b3e-4243-85b5-66387fc6c5a4",
   "metadata": {},
   "source": [
    "<br>"
   ]
  },
  {
   "cell_type": "markdown",
   "id": "3932929d-0688-4c7d-848f-6e871f736dfc",
   "metadata": {},
   "source": [
    "<br>"
   ]
  },
  {
   "cell_type": "markdown",
   "id": "4cff3367-e7ec-4cf1-b406-5bd7a4177aa4",
   "metadata": {
    "tags": []
   },
   "source": [
    "### Creating The Dataset"
   ]
  },
  {
   "cell_type": "markdown",
   "id": "858d8b8e-aa93-4219-b5d2-ec1790b6a61f",
   "metadata": {},
   "source": [
    "<br>"
   ]
  },
  {
   "cell_type": "code",
   "execution_count": 26,
   "id": "386dba8a-156e-437c-a366-e4ae3a82f38a",
   "metadata": {},
   "outputs": [],
   "source": [
    "# Creating the dataframe\n",
    "df = pd.DataFrame(columns=['team', 'played', 'goals scored', 'points', 'shots', 'shots on target', 'corners', 'yellow cards', 'red cards'])"
   ]
  },
  {
   "cell_type": "markdown",
   "id": "719ad897-bdd4-4beb-ad0e-bda91b534b1f",
   "metadata": {},
   "source": [
    "<br>"
   ]
  },
  {
   "cell_type": "markdown",
   "id": "caee5a1b-5cad-4d4e-8919-f5b0457952d1",
   "metadata": {},
   "source": [
    "Team names have been taken from soccer-ireland.com. A full list of all names can be found [here.](http://www.soccer-ireland.com/dublin-football-clubs/index-f-g-h-i.htm)"
   ]
  },
  {
   "cell_type": "markdown",
   "id": "f5d11b91-6078-40a1-81eb-e3701f7a04bd",
   "metadata": {},
   "source": [
    "<br>"
   ]
  },
  {
   "cell_type": "code",
   "execution_count": 27,
   "id": "685b34af-9f7f-4f98-8814-0a00e9811886",
   "metadata": {},
   "outputs": [],
   "source": [
    "# List of 100 team names\n",
    "name = ['AFC Belgrave',  'Artane Athletic FC',  'Artane Beaumont FC',  'Artane Celtic', 'Arthur Griffith Park FC', 'Ashwood FC', 'Athletico HP FC' , 'Aungier Celtic FC',\n",
    "       'Ayrfield United', 'AZ Alpine', 'Bacchus FC' , 'Balally Celtic FC' , 'Baldoyle United FC' , 'Ballsbridge FC', 'Ballybrack FC', 'Ballycragh United FC', \n",
    "       'Ballyfermot United FC', ' Ballymun United FC' , 'Ballyogan Celtic', 'Ballyowen Celtic FC',  'Balrothery FC' ,  'Bascadden FC', ' Bath Markievicz FC', \n",
    "       'Beaumont Athletic',  'Beech Park FC' , 'Beechwood FC',  'Beggsboro FC', 'Belcamp Rovers FC', 'Belclare Celtic FC', 'Belgrove FC',  'Belvedere FC', 'Blanchardstown Crusaders', \n",
    "       'Bluebell Maryland FC', 'Bluebell United', ' Boca Seniors', 'Booth Road Celtic FC', 'Bridge United',  'Broadford Rovers FC', 'Brookfield Celtic', \n",
    "       'Broombridge FC', 'Brookview United FC', 'Butterkrust FC', 'Carnlough Rovers', 'Carriglea FC', 'Cashel Celtic', 'Castleknock Celtic FC', 'Castle Park FC',\n",
    "        'Castlemill Hamlet FC', 'Celtic Park FC',  'Chancery FC', 'Clifden Celtic FC', 'Chanel SSC', 'Charlestown Celtic FC', 'Cherry Orchard FC', 'CIE Ranch',\n",
    "        'Clarehall Celtic FC', 'Clondalkin Athletic', 'Clonee United', 'Clonshaugh SSFC', 'Clontarf Ailesbury United FC',  \n",
    "        'Clontarf FC', 'Club Everton', 'Coolock Town FC', 'Collinstown FC',  'Columba Rovers',  'Conwell Rovers FC', 'Coolock Town', 'Corduff FC', 'Crumlin United FC',\n",
    "        'DAA FC', 'Dalkey United', ' Darndale FC',  'Dingle United FC', 'Donnycarney FC', 'Donnycarney United', 'Donore FC', \n",
    "        'Drumcondra Celtic', 'Drumcondra FC',  'Drumfinn Celtic FC','Eastwall Bessborough FC', 'Elm Mount FC',  'Ely Woodlawn FC',  'Esker Celtic FC',\n",
    "        'Fairview Athletic FC', 'Farm United FC', 'FC Ailesbury', 'FC Blanch', 'FC Dhulaigh', 'FC Hibernian', 'FC Lokomotiv', 'FC TedEX', 'FC Town', 'FC Transilvania', \n",
    "        'Fenstanton FC', 'Fettercairn FC',  'Fingal Athletic', 'Finglas Celtic FC', 'Finglas United', \n",
    "        'Firhouse Carmel FC', 'Frankfort FC']\n"
   ]
  },
  {
   "cell_type": "code",
   "execution_count": 28,
   "id": "a8f7586c-443f-4a28-8fb1-fbfe7ce08bf4",
   "metadata": {},
   "outputs": [],
   "source": [
    "# Shuffling the list\n",
    "random.shuffle(name)"
   ]
  },
  {
   "cell_type": "markdown",
   "id": "5d1195f6-8036-4cc4-aced-a4e6130eedc4",
   "metadata": {},
   "source": [
    "<br>"
   ]
  },
  {
   "cell_type": "code",
   "execution_count": 29,
   "id": "0ad0f140-de02-4902-83cd-d4e904c07401",
   "metadata": {},
   "outputs": [],
   "source": [
    "# Filling the team column\n",
    "df['team'] = name"
   ]
  },
  {
   "cell_type": "markdown",
   "id": "975bb21f-0adf-468d-b001-04632465a7d0",
   "metadata": {},
   "source": [
    "<br>"
   ]
  },
  {
   "cell_type": "code",
   "execution_count": 30,
   "id": "4fd66d58-f11c-4192-94e3-2e56832c7ac5",
   "metadata": {},
   "outputs": [],
   "source": [
    "# Randomly setting the seed\n",
    "rng = np.random.default_rng(seed=0)\n",
    "\n",
    "# List to choose if a team is home or away\n",
    "home_away = ['away', 'home']\n",
    "\n",
    "# Generating a list to choose between home or away. 50/50 chance of home or away \n",
    "df['played']= np.array(rng.choice(home_away, 100, p=[0.5,0.5]))"
   ]
  },
  {
   "cell_type": "markdown",
   "id": "dda1790d-cac9-4092-bdff-7c91ebb14bdb",
   "metadata": {},
   "source": [
    "<br>"
   ]
  },
  {
   "cell_type": "code",
   "execution_count": 31,
   "id": "6b2262c0-6705-4d53-945f-d04931ce8eed",
   "metadata": {},
   "outputs": [
    {
     "data": {
      "text/plain": [
       "home    56\n",
       "away    44\n",
       "Name: played, dtype: int64"
      ]
     },
     "execution_count": 31,
     "metadata": {},
     "output_type": "execute_result"
    }
   ],
   "source": [
    "# Checking how many teams are playing home & away\n",
    "df['played'].value_counts()"
   ]
  },
  {
   "cell_type": "markdown",
   "id": "21c276d0-a610-4539-a6d9-f09b6d68a898",
   "metadata": {},
   "source": [
    "<br>"
   ]
  },
  {
   "cell_type": "markdown",
   "id": "78fae511-4dc0-47c5-85dd-5b4f823a9335",
   "metadata": {},
   "source": [
    "<br>"
   ]
  },
  {
   "cell_type": "code",
   "execution_count": 32,
   "id": "c280a5e7-b02b-4270-9477-2336548ef10b",
   "metadata": {},
   "outputs": [],
   "source": [
    "# Randomly setting the seed\n",
    "#rng = np.random.default_rng(seed=0)\n",
    "\n",
    "# win, lose, draw\n",
    "wld = [3, 0, 1]\n",
    "# lose, draw\n",
    "ld = [0, 1]\n",
    "\n",
    "# Generating point outcome for home or away team\n",
    "home_outcome = rng.choice(wld, 56, p=[0.70,0.10,0.20]) # Home team has better probability of winning\n",
    "home_outcome_no_goals = rng.choice(ld, 56, p=[0.40,0.60]) # Can't win if you don't score\n",
    "away_outcome = rng.choice(wld, 44, p=[0.47,0.47,0.06]) # Probability of winning is lower\n",
    "away_outcome_no_goal = rng.choice(ld, 44, p=[0.60,0.40]) # Can't win if you don't score"
   ]
  },
  {
   "cell_type": "markdown",
   "id": "e990683e-aac5-4709-bf84-5eb6cfceb323",
   "metadata": {},
   "source": [
    "<br>"
   ]
  },
  {
   "cell_type": "markdown",
   "id": "e469d943-6341-4f47-9225-ada35e1c6bc6",
   "metadata": {},
   "source": [
    "<br>"
   ]
  },
  {
   "cell_type": "code",
   "execution_count": 33,
   "id": "a5cb8c4b-981e-4ad3-8bda-8940defba53a",
   "metadata": {},
   "outputs": [],
   "source": [
    "# Randomly setting the seed\n",
    "#rng = np.random.default_rng(seed=0)\n",
    "\n",
    "\n",
    "\n",
    "        \n",
    "        \n",
    "\n",
    "# Creating a function for shots\n",
    "def goal(playing):\n",
    "         # If home team use these parameters\n",
    "        if playing['played'] == 'home':\n",
    "            a =  rng.poisson(lam=2, size=90)\n",
    "            return rng.choice(a)\n",
    "        # If away team use these parameters\n",
    "        else:\n",
    "            b =  rng.poisson(lam=0.8, size=90)\n",
    "            return rng.choice(b)\n",
    "        \n",
    "\n",
    "    \n",
    "    \n",
    "    \n",
    "    \n",
    "# Creating a function to generate points\n",
    "def points(playing):\n",
    "        # Use home_outcome variable if team is home & if more that 1 goal scored\n",
    "        if playing['played'] == 'home'  and playing['goals scored'] > 0:\n",
    "            return rng.choice(home_outcome)\n",
    "         # Use home_outcomife_no_goal variable if team is home & 0 goals scored\n",
    "        elif playing['played'] == 'home' and playing['goals scored'] == 0:\n",
    "            return rng.choice(home_outcome_no_goals)\n",
    "        # Use away_outcome variable if team is away & if more that 1 goal scored\n",
    "        elif playing['played'] == 'away' and  playing['goals scored'] > 0:\n",
    "            return rng.choice(away_outcome)\n",
    "         # Use away_outcome_no_goal variable if team is away & 0 goals scored\n",
    "        elif playing['played'] == 'away' and  playing['goals scored'] == 0:\n",
    "            return rng.choice(away_outcome_no_goal)\n",
    "        \n",
    "        \n",
    "        \n",
    "        \n",
    "\n",
    "        \n",
    "\n",
    "# Creating a function for shots\n",
    "def shot(playing):\n",
    "         # If home team use these parameters\n",
    "        if playing['played'] == 'home':\n",
    "            a =  rng.poisson(lam=14, size=90)\n",
    "            return rng.choice(a)\n",
    "        # If away team use these parameters\n",
    "        else:\n",
    "            b =  rng.poisson(lam=11, size=90)\n",
    "            return rng.choice(b)\n",
    "\n",
    "        \n",
    "        \n",
    "        \n",
    "        \n",
    "        \n",
    "# Creating a function for shots on target\n",
    "def target(playing):\n",
    "        # If home team use these parameters\n",
    "        if playing['played'] == 'home':\n",
    "            a =  rng.poisson(lam=5, size=90)\n",
    "            return rng.choice(a)\n",
    "        # If away team use these parameters\n",
    "        else:\n",
    "            b =  rng.poisson(lam=4, size=90)\n",
    "            return rng.choice(b)\n",
    "        \n",
    "        \n",
    "        \n",
    "        \n",
    "        \n",
    "        \n",
    "        \n",
    "# Creating a function for corner generation\n",
    "def corner(playing):\n",
    "        # If home team use these parameters\n",
    "        if playing['played'] == 'home':\n",
    "            a =  rng.poisson(lam=6, size=90)\n",
    "            return rng.choice(a)\n",
    "        # If away team use these parameters\n",
    "        elif playing['played'] == 'away':\n",
    "            b =  rng.poisson(lam=5, size=90)\n",
    "            return rng.choice(b)\n",
    "        \n",
    "        \n",
    "        \n",
    "        \n",
    "        \n",
    "        \n",
    "        \n",
    "# Creating a function to determine yellow cards\n",
    "def y_card(playing): \n",
    "    # If home team use these parameters\n",
    "    if playing['played'] == 'home':\n",
    "            a =  rng.poisson(lam=1, size=90)\n",
    "            return rng.choice(a)\n",
    "    # If away team use these parameters\n",
    "    else:\n",
    "            b =  rng.poisson(lam=2, size=90)\n",
    "            return rng.choice(b)\n",
    "        \n",
    "        \n",
    "        \n",
    "        \n",
    "        \n",
    "# Creating a function to detemine points\n",
    "def r_card(playing): \n",
    "    # If home team use these parameters\n",
    "    if playing['played'] == 'home':\n",
    "            a =  rng.poisson(lam=0.6, size=90)\n",
    "            return rng.choice(a)\n",
    "        # If home team use these parameters\n",
    "    else:\n",
    "            b =  rng.poisson(lam=0.8, size=90)\n",
    "            return rng.choice(b)"
   ]
  },
  {
   "cell_type": "markdown",
   "id": "f9c8759e-6fb0-4ec2-a192-3476f75798f3",
   "metadata": {},
   "source": [
    "<br>"
   ]
  },
  {
   "cell_type": "code",
   "execution_count": 34,
   "id": "aca2f075-7a8e-4fea-bcf2-68ceb1245e26",
   "metadata": {},
   "outputs": [],
   "source": [
    "# Applying goal function \n",
    "df['goals scored'] = df.apply(lambda playing: goal(playing), axis=1)\n",
    "\n",
    "# Applying points function \n",
    "df['points'] = df.apply(lambda playing: points(playing), axis=1)\n",
    "        \n",
    "# Applying shot function \n",
    "df['shots'] = df.apply(lambda playing: shot(playing), axis=1)\n",
    "\n",
    "# Applying target function \n",
    "df['shots on target'] = round(df.apply(lambda playing: target(playing), axis=1))\n",
    "\n",
    "# Applying corner function \n",
    "df['corners'] = df.apply(lambda playing: corner(playing), axis=1)\n",
    "\n",
    "# Applying y_card function\n",
    "df['yellow cards'] = df.apply(lambda playing: y_card(playing), axis=1)\n",
    "\n",
    "# Applying r_card function\n",
    "df['red cards'] = df.apply(lambda playing: r_card(playing), axis=1)"
   ]
  },
  {
   "cell_type": "markdown",
   "id": "a71038a2-aad9-4ca7-b5f2-1fde85d5d5b5",
   "metadata": {},
   "source": [
    "<br>"
   ]
  },
  {
   "cell_type": "code",
   "execution_count": 35,
   "id": "450ef70f-a4fb-493f-a945-a6011541e83f",
   "metadata": {},
   "outputs": [
    {
     "data": {
      "text/html": [
       "<div>\n",
       "<style scoped>\n",
       "    .dataframe tbody tr th:only-of-type {\n",
       "        vertical-align: middle;\n",
       "    }\n",
       "\n",
       "    .dataframe tbody tr th {\n",
       "        vertical-align: top;\n",
       "    }\n",
       "\n",
       "    .dataframe thead th {\n",
       "        text-align: right;\n",
       "    }\n",
       "</style>\n",
       "<table border=\"1\" class=\"dataframe\">\n",
       "  <thead>\n",
       "    <tr style=\"text-align: right;\">\n",
       "      <th></th>\n",
       "      <th>team</th>\n",
       "      <th>played</th>\n",
       "      <th>goals scored</th>\n",
       "      <th>points</th>\n",
       "      <th>shots</th>\n",
       "      <th>shots on target</th>\n",
       "      <th>corners</th>\n",
       "      <th>yellow cards</th>\n",
       "      <th>red cards</th>\n",
       "    </tr>\n",
       "  </thead>\n",
       "  <tbody>\n",
       "    <tr>\n",
       "      <th>0</th>\n",
       "      <td>Artane Celtic</td>\n",
       "      <td>home</td>\n",
       "      <td>2</td>\n",
       "      <td>3</td>\n",
       "      <td>13</td>\n",
       "      <td>6</td>\n",
       "      <td>4</td>\n",
       "      <td>0</td>\n",
       "      <td>3</td>\n",
       "    </tr>\n",
       "    <tr>\n",
       "      <th>1</th>\n",
       "      <td>Carnlough Rovers</td>\n",
       "      <td>away</td>\n",
       "      <td>1</td>\n",
       "      <td>0</td>\n",
       "      <td>16</td>\n",
       "      <td>6</td>\n",
       "      <td>5</td>\n",
       "      <td>2</td>\n",
       "      <td>0</td>\n",
       "    </tr>\n",
       "    <tr>\n",
       "      <th>2</th>\n",
       "      <td>Ayrfield United</td>\n",
       "      <td>away</td>\n",
       "      <td>1</td>\n",
       "      <td>0</td>\n",
       "      <td>15</td>\n",
       "      <td>3</td>\n",
       "      <td>1</td>\n",
       "      <td>2</td>\n",
       "      <td>1</td>\n",
       "    </tr>\n",
       "    <tr>\n",
       "      <th>3</th>\n",
       "      <td>Castlemill Hamlet FC</td>\n",
       "      <td>away</td>\n",
       "      <td>1</td>\n",
       "      <td>3</td>\n",
       "      <td>6</td>\n",
       "      <td>2</td>\n",
       "      <td>5</td>\n",
       "      <td>3</td>\n",
       "      <td>1</td>\n",
       "    </tr>\n",
       "    <tr>\n",
       "      <th>4</th>\n",
       "      <td>Broadford Rovers FC</td>\n",
       "      <td>home</td>\n",
       "      <td>1</td>\n",
       "      <td>3</td>\n",
       "      <td>17</td>\n",
       "      <td>5</td>\n",
       "      <td>3</td>\n",
       "      <td>1</td>\n",
       "      <td>1</td>\n",
       "    </tr>\n",
       "    <tr>\n",
       "      <th>...</th>\n",
       "      <td>...</td>\n",
       "      <td>...</td>\n",
       "      <td>...</td>\n",
       "      <td>...</td>\n",
       "      <td>...</td>\n",
       "      <td>...</td>\n",
       "      <td>...</td>\n",
       "      <td>...</td>\n",
       "      <td>...</td>\n",
       "    </tr>\n",
       "    <tr>\n",
       "      <th>95</th>\n",
       "      <td>Frankfort FC</td>\n",
       "      <td>home</td>\n",
       "      <td>5</td>\n",
       "      <td>0</td>\n",
       "      <td>16</td>\n",
       "      <td>6</td>\n",
       "      <td>6</td>\n",
       "      <td>0</td>\n",
       "      <td>0</td>\n",
       "    </tr>\n",
       "    <tr>\n",
       "      <th>96</th>\n",
       "      <td>Arthur Griffith Park FC</td>\n",
       "      <td>away</td>\n",
       "      <td>1</td>\n",
       "      <td>3</td>\n",
       "      <td>12</td>\n",
       "      <td>6</td>\n",
       "      <td>7</td>\n",
       "      <td>1</td>\n",
       "      <td>1</td>\n",
       "    </tr>\n",
       "    <tr>\n",
       "      <th>97</th>\n",
       "      <td>Belgrove FC</td>\n",
       "      <td>home</td>\n",
       "      <td>0</td>\n",
       "      <td>0</td>\n",
       "      <td>11</td>\n",
       "      <td>4</td>\n",
       "      <td>5</td>\n",
       "      <td>1</td>\n",
       "      <td>0</td>\n",
       "    </tr>\n",
       "    <tr>\n",
       "      <th>98</th>\n",
       "      <td>Conwell Rovers FC</td>\n",
       "      <td>home</td>\n",
       "      <td>1</td>\n",
       "      <td>1</td>\n",
       "      <td>13</td>\n",
       "      <td>8</td>\n",
       "      <td>5</td>\n",
       "      <td>1</td>\n",
       "      <td>1</td>\n",
       "    </tr>\n",
       "    <tr>\n",
       "      <th>99</th>\n",
       "      <td>Coolock Town FC</td>\n",
       "      <td>home</td>\n",
       "      <td>2</td>\n",
       "      <td>3</td>\n",
       "      <td>16</td>\n",
       "      <td>5</td>\n",
       "      <td>2</td>\n",
       "      <td>2</td>\n",
       "      <td>0</td>\n",
       "    </tr>\n",
       "  </tbody>\n",
       "</table>\n",
       "<p>100 rows × 9 columns</p>\n",
       "</div>"
      ],
      "text/plain": [
       "                       team played  goals scored  points  shots  \\\n",
       "0             Artane Celtic   home             2       3     13   \n",
       "1          Carnlough Rovers   away             1       0     16   \n",
       "2           Ayrfield United   away             1       0     15   \n",
       "3      Castlemill Hamlet FC   away             1       3      6   \n",
       "4       Broadford Rovers FC   home             1       3     17   \n",
       "..                      ...    ...           ...     ...    ...   \n",
       "95             Frankfort FC   home             5       0     16   \n",
       "96  Arthur Griffith Park FC   away             1       3     12   \n",
       "97              Belgrove FC   home             0       0     11   \n",
       "98        Conwell Rovers FC   home             1       1     13   \n",
       "99          Coolock Town FC   home             2       3     16   \n",
       "\n",
       "    shots on target  corners  yellow cards  red cards  \n",
       "0                 6        4             0          3  \n",
       "1                 6        5             2          0  \n",
       "2                 3        1             2          1  \n",
       "3                 2        5             3          1  \n",
       "4                 5        3             1          1  \n",
       "..              ...      ...           ...        ...  \n",
       "95                6        6             0          0  \n",
       "96                6        7             1          1  \n",
       "97                4        5             1          0  \n",
       "98                8        5             1          1  \n",
       "99                5        2             2          0  \n",
       "\n",
       "[100 rows x 9 columns]"
      ]
     },
     "execution_count": 35,
     "metadata": {},
     "output_type": "execute_result"
    }
   ],
   "source": [
    "df"
   ]
  },
  {
   "cell_type": "markdown",
   "id": "cb184a64-ce40-40fd-8ce3-2cbddde2e2de",
   "metadata": {},
   "source": [
    "<br>"
   ]
  },
  {
   "cell_type": "code",
   "execution_count": 36,
   "id": "26209554-b7dd-47a0-8236-076d906facac",
   "metadata": {},
   "outputs": [
    {
     "data": {
      "text/plain": [
       "3    48\n",
       "0    35\n",
       "1    17\n",
       "Name: points, dtype: int64"
      ]
     },
     "execution_count": 36,
     "metadata": {},
     "output_type": "execute_result"
    }
   ],
   "source": [
    "df['points'].value_counts()"
   ]
  },
  {
   "cell_type": "markdown",
   "id": "963f0e82-0b3a-4f27-aa9f-53f9e56d251e",
   "metadata": {},
   "source": [
    "<br>"
   ]
  },
  {
   "cell_type": "markdown",
   "id": "e746eafd-d084-4613-a73f-c0a0d85d0030",
   "metadata": {},
   "source": [
    "***\n",
    "\n",
    "## References \n",
    "\n",
    "***"
   ]
  },
  {
   "cell_type": "markdown",
   "id": "4ce719d8-66b1-493b-9c1e-0b4291e36c46",
   "metadata": {},
   "source": [
    "<br>"
   ]
  },
  {
   "cell_type": "markdown",
   "id": "01057ee8-a1d6-4dac-bc26-335aa9708882",
   "metadata": {},
   "source": [
    "[1]\tLegaz Arrese A, Moliner Urdiales D, Munguía Izquierdo D. Home advantage and sports performance: evidence, causes and psychological implications. Univ Psychol [Internet]. 2013 [cited 2021 Dec 22];12(3):933–43. Available from: http://www.scielo.org.co/scielo.php?script=sci_arttext&pid=S1657-92672013000300023\n",
    "\n",
    "[2]         Goal. Explained: What is the 12th man in football? [Internet]. Goal.com. Goal.com; 2020 [cited 2021 Dec 28]. Available from: https://www.goal.com/en/news/explained-the-12th-man-football/hgbo2ls0hlo714ga2j2rp2i57.\n",
    "\n",
    "[3]\tCourneya KS, Carron AV. The home advantage in sport competitions: A literature review. J Sport Exerc Psychol [Internet]. 1992;14(1):13–27. Available from: http://dx.doi.org/10.1123/jsep.14.1.13\n",
    "\n",
    "[4]\tAdministrator. Home-field advantage [Internet]. Psychology. 2016 [cited 2021 Dec 22]. Available from: http://psychology.iresearchnet.com/social-psychology/control/home-field-advantage/\n",
    "\n",
    "[5]\tCarron A, Paradis K. Habit. In: Encyclopedia of Sport and Exercise Psychology. 2455 Teller Road, Thousand Oaks, California 91320: SAGE Publications, Inc.; 2014. p. 351–5.\n",
    "\n",
    "[6]\tNevill AM, Balmer NJ, Mark Williams A. The influence of crowd noise and experience upon refereeing decisions in football. Psychol Sport Exerc [Internet]. 2002;3(4):261–72. Available from: http://dx.doi.org/10.1016/s1469-0292(01)00033-4\n",
    "\n",
    "[7]\tNevill AM, Holder RL. Home advantage in sport: An overview of studies on the advantage of playing at home. Sports Med [Internet]. 1999;28(4):221–36. Available from: http://dx.doi.org/10.2165/00007256-199928040-00001\n",
    "\n",
    "[8]\tRojo LF. Messi: It’s horrible playing without fans in the stadium. Marca [Internet]. 2020 Dec 21 [cited 2021 Dec 19]; Available from: https://www.marca.com/en/football/barcelona/2020/12/21/5fe0fe57268e3e8a538b45da.html\n",
    "\n",
    "[9]\tSingleton C, Schreyer D, Reade J. As football returns in empty stadiums, four graphs show how home advantage disappears [Internet]. The Conversation. 2020 [cited 2021 Dec 23]. Available from: https://theconversation.com/as-football-returns-in-empty-stadiums-four-graphs-show-how-home-advantage-disappears-138685\n",
    "\n",
    "[10]\tPonzo M, Scoppa V. Does the home advantage depend on crowd support? Evidence from same-stadium derbies. SSRN Electron J [Internet]. 2014; Available from: http://dx.doi.org/10.2139/ssrn.2426859\n",
    "\n",
    "[11]\tWikipedia contributors. 2019–20 Premier League [Internet]. Wikipedia, The Free Encyclopedia. 2021. Available from: https://en.wikipedia.org/w/index.php?title=2019%E2%80%9320_Premier_League&oldid=1051631654\n",
    "\n",
    "[12]\tBenz LS, Lopez MJ. Estimating the change in soccer’s home advantage during the Covid-19 pandemic using bivariate Poisson regression. Adv Stat Anal [Internet]. 2021 [cited 2021 Dec 20];1–28. Available from: https://arxiv.org/pdf/2012.14949.pdf\n",
    "\n",
    "[13]\tHerman M. Home advantage returns with crowds in Premier League. Reuters [Internet]. 2021 Oct 5 [cited 2021 Dec 20]; Available from: https://www.reuters.com/lifestyle/sports/home-advantage-returns-with-crowds-premier-league-2021-10-05/\n",
    "\n",
    "[14]\tFootball without the fans: New study reveals effect of empty stadiums during pandemic [Internet]. Phys.org. [cited 2021 Dec 20]. Available from: https://phys.org/news/2021-08-football-fans-reveals-effect-stadiums.html\n",
    "\n",
    "[15]\tMcCarrick D, Bilalic M, Neave N, Wolfson S. Home advantage during the COVID-19 pandemic: Analyses of European football leagues. Psychol Sport Exerc [Internet]. 2021;56(102013):102013. Available from: https://www.sciencedirect.com/science/article/pii/S146902922100131X\n",
    "\n",
    "[16]\tFootball without the fans: new study reveals effect of empty stadiums during pandemic [Internet]. EurekAlert! [cited 2021 Dec 21]. Available from: https://www.eurekalert.org/news-releases/925271\n",
    "\n",
    "[17]\tZajonc RB. Social facilitation: A solution is suggested for an old unresolved social psychological problem. Science [Internet]. 1965;149(3681):269–74. Available from: https://psycnet.apa.org/fulltext/1965-16348-001.pdf\n",
    " \t \n",
    "[18]\tBarnett V, Hilditch S. The effect of an artificial pitch surface on home team performance in football (soccer). J R Stat Soc Ser A Stat Soc [Internet]. 1993 [cited 2021 Dec 21];156(1):39. Available from: https://repository.rothamsted.ac.uk/item/86w5w/the-effect-of-an-artificial-pitch-surface-on-home-team-performance-in-football-soccer\n",
    "\n",
    "[19]\tNichols MW. The impact of visiting team travel on game outcome and biases in NFL betting markets. J Sports Econom [Internet]. 2014;15(1):78–96. Available from: http://dx.doi.org/10.1177/1527002512440580\n",
    "\n",
    "[20]\tGoumas C. Home advantage in Australian soccer. J Sci Med Sport [Internet]. 2014;17(1):119–23. Available from: http://dx.doi.org/10.1016/j.jsams.2013.02.01\n",
    "\n",
    "[21]\tClarke SR, Norman JM. Home ground advantage of individual clubs in English soccer. Statistician [Internet]. 1995;44(4):509. Available from: http://dx.doi.org/10.2307/2348899\n",
    "\n",
    "[22]\tNeave N, Wolfson S. Testosterone, territoriality, and the ‘home advantage.’ Physiol Behav [Internet]. 2003;78(2):269–75. Available from: http://dx.doi.org/10.1016/s0031-9384(02)00969-1\n",
    "\n",
    "[23]\tDi Corrado D et al. The phenomenon of social influence on the football pitch: Social pressure from the crowd on referees’ decisions. 33Review of Psychology. 2011;18(1):33–6.\n",
    "\n",
    "[24] \tUnkelbach C, Memmert D. Crowd noise as a cue in referee decisions contributes to the home advantage. J Sport Exerc Psychol [Internet]. 2010;32(4):483–98. Available from: http://dx.doi.org/10.1123/jsep.32.4.483\n",
    "\n",
    "[25]\tBaldwin C. The ref cost us the game: The role of sports commentators and journalists in creating stresses on sports referees [Internet]. Mrfootball.net. [cited 2021 Dec 22]. Available from: http://mrfootball.net/refereebias/The%20ref%20cost%20us%20the%20game%20The%20role%20of%20sports%20commentators%20and%20journalists%20in%20creating%20stresses%20on%20sports%20referees.pdf\n",
    "\n",
    "[26]\tPlessner H, Schweizer G, Brand R, O’Hare D. A multiple-cue learning approach as the basis for understanding and improving soccer referees’ decision making. Prog Brain Res [Internet]. 2009;174:151–8. Available from: http://dx.doi.org/10.1016/S0079-6123(09)01313-2\n",
    "\n",
    "[27]\tHelsen W, Bultynck J-B. Physical and perceptual-cognitive demands of top-class refereeing in association football. J Sports Sci [Internet]. 2004;22(2):179–89. Available from: http://dx.doi.org/10.1080/02640410310001641502\n",
    "\n",
    "[28]\tMonthly report 57 [Internet]. Football-observatory.com. [cited 2021 Dec 26]. Available from: https://football-observatory.com/IMG/sites/mr/mr57/en/\n",
    "\n",
    "[29]\tWunderlich F, Weigelt M, Rein R, Memmert D. How does spectator presence affect football? Home advantage remains in European top-class football matches played without spectators during the COVID-19 pandemic. PLoS One [Internet]. 2021;16(3):e0248590. Available from: http://dx.doi.org/10.1371/journal.pone.0248590\n",
    "\n",
    "[30]\tDominance [Internet]. Cambridge.org. [cited 2021 Dec 23]. Available from: https://dictionary.cambridge.org/dictionary/english/dominance\n",
    " \t \n",
    "\n",
    "[31] Smarkets.com. [cited 2021 Dec 28]. Available from: https://help.smarkets.com/hc/en-gb/articles/115001457989-How-to-calculate-Poisson-distribution-for-football-betting\n",
    "\n",
    "[32]  M SL, T TM, F HS, editors. Poisson Distribution. Betascript Publishing; 2013.\n",
    "\n",
    "[33]   Discrete vs Continuous variables: How to Tell the Difference [Internet]. Statistics How To. 2020 [cited 2021 Dec 28]. Available from: https://www.statisticshowto.com/probability-and-statistics/statistics-definitions/discrete-vs-continuous-variables/\n",
    "\n",
    "[34]  Koehrsen W. The Poisson distribution and Poisson process explained [Internet]. Towards Data Science. 2019 [cited 2021 Dec 28]. Available from: https://towardsdatascience.com/the-poisson-distribution-and-poisson-process-explained-4e2cb17d459\n",
    "\n",
    "[35]   Diving into python’s numpy random Poisson [Internet]. Python Pool. 2021 [cited 2021 Dec 28]. Available from: https://www.pythonpool.com/numpy-random-poisson/\n",
    "\n",
    "[36]\tPermuted Congruential Generator (64-bit, PCG64) — NumPy v1.21 Manual [Internet]. Numpy.org. [cited 2021 Dec 26]. Available from: https://numpy.org/doc/stable/reference/random/bit_generators/pcg64.html\n",
    "\n",
    "\n",
    "\n",
    "\n",
    "\n",
    "\n",
    "\n",
    "\n",
    "\n",
    "\n",
    "\n",
    "\n",
    "\n",
    "\n",
    "\n"
   ]
  },
  {
   "cell_type": "markdown",
   "id": "bb9cf742-f78a-4eaa-ac9b-9da46c0957c3",
   "metadata": {},
   "source": [
    "<br>"
   ]
  },
  {
   "cell_type": "markdown",
   "id": "c8ee100a-5fd9-46b9-8abf-241986311aee",
   "metadata": {
    "tags": []
   },
   "source": [
    "#### Images\n",
    "\n",
    "- [12th Man](https://sites.psu.edu/siowfa16/files/2016/10/homeofthe12thman-638x300-p8niz2.jpg)\n",
    "- [Alex Ferguson](https://talksport.com/wp-content/uploads/sites/5/2013/04/Fergie20watch.jpg?strip=all&w=700)\n",
    "- [Liverpool Fans](https://www.rousingthekop.com/static/uploads/4/2021/07/GettyImages-1143394495.jpg)\n",
    "- [Ref](https://i2-prod.liverpoolecho.co.uk/incoming/article11616488.ece/ALTERNATES/s1200c/0_PA-2325788.jpg)\n",
    "- [Brazil Player](https://a.espncdn.com/photo/2021/0222/r817983_1296x729_16-9.jpg)"
   ]
  },
  {
   "cell_type": "markdown",
   "id": "a59cd0f0-f0c8-4fb3-a4b9-95de1af8505c",
   "metadata": {},
   "source": [
    "<br>"
   ]
  },
  {
   "cell_type": "markdown",
   "id": "2e6f8e0b-fa33-4f53-a5a3-311069879c7a",
   "metadata": {
    "tags": []
   },
   "source": [
    "***\n",
    "\n",
    "# End\n",
    "\n",
    "***"
   ]
  }
 ],
 "metadata": {
  "kernelspec": {
   "display_name": "Python 3 (ipykernel)",
   "language": "python",
   "name": "python3"
  },
  "language_info": {
   "codemirror_mode": {
    "name": "ipython",
    "version": 3
   },
   "file_extension": ".py",
   "mimetype": "text/x-python",
   "name": "python",
   "nbconvert_exporter": "python",
   "pygments_lexer": "ipython3",
   "version": "3.8.11"
  }
 },
 "nbformat": 4,
 "nbformat_minor": 5
}
