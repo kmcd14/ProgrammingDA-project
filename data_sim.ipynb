{
 "cells": [
  {
   "cell_type": "markdown",
   "id": "35d02e26-19c3-4d85-933b-53244825485a",
   "metadata": {},
   "source": [
    "***\n",
    "\n",
    "# Programming For Data Analysis - Project\n",
    "\n",
    "***"
   ]
  },
  {
   "cell_type": "markdown",
   "id": "b3843c09-f4e9-48c2-8685-e690644c47a1",
   "metadata": {},
   "source": [
    "<br>"
   ]
  },
  {
   "cell_type": "markdown",
   "id": "343c124d-f6fd-43b3-a979-e324c6f6c179",
   "metadata": {},
   "source": [
    "<br>"
   ]
  },
  {
   "cell_type": "markdown",
   "id": "36e25ffd-6a13-47c1-97ef-12312ac8d2d7",
   "metadata": {},
   "source": [
    "The real world phenomenon topic I have chosen for this project is the supposed home advantage in sports. The reason I have chosen this as my topic is because as an avid sports fan and that  I certainly noticed a difference in the impact having no spectators has had on sporting events during the Covid-19 pandemic, where fans were unable to enter grounds.  It certainly seemed that the sports phenomena of having the upper hand over your opponent when the game is being played on your own turf was neutralised. \n",
    "\n",
    "I plan to research if there is data to support the claim that playing at your own ground gives a team an advantage and then using my findings to then simulate a dataset using `numpy.random`. \n"
   ]
  },
  {
   "cell_type": "markdown",
   "id": "e4c876ba-27f9-4756-9091-c8a42dcf2695",
   "metadata": {},
   "source": [
    "<br>"
   ]
  },
  {
   "cell_type": "markdown",
   "id": "b5f29dbd-28fc-4f52-87c6-f53b01391498",
   "metadata": {},
   "source": [
    "<br>"
   ]
  },
  {
   "cell_type": "markdown",
   "id": "ac8b59b0-e3a7-4079-93ef-5fc4976bc047",
   "metadata": {},
   "source": [
    "![img](images/12th_man.jpg)"
   ]
  },
  {
   "cell_type": "markdown",
   "id": "682d8ccd-e892-4e3d-9d03-89fa77bf223e",
   "metadata": {},
   "source": [
    "<br>"
   ]
  },
  {
   "cell_type": "markdown",
   "id": "f5785afd-17c5-4e8d-a8f5-c53ced49bde3",
   "metadata": {},
   "source": [
    "<br>"
   ]
  },
  {
   "cell_type": "markdown",
   "id": "17e09bfa-9800-498b-996d-6f57261cae38",
   "metadata": {},
   "source": [
    "As it is one of my favourites, the sport I have chosen to research and use for this project is football. \n",
    "\n",
    "Apart from the rare instances where a team is playing in neutral venues the latter rounds of cup competitions - football matches for the most part involve one team playing in their home stadium. This means that the home team plays in familiar surroundings, has the vast majority of fans in the stadium and does not have to travel to a different ground. On the other hand, the away team has to travel, has to deal with rowdy home support, in some cases adjusting to different climates and/or time zones and the possibility of refereeing bias - “Fergie-time” anyone?"
   ]
  },
  {
   "cell_type": "markdown",
   "id": "5a4c0b6c-baa8-44d7-aacb-d34502ac3f91",
   "metadata": {},
   "source": [
    "<br>"
   ]
  },
  {
   "cell_type": "markdown",
   "id": "6d6c0796-973d-430a-b20d-f7f588c77c86",
   "metadata": {},
   "source": [
    "<br>"
   ]
  },
  {
   "cell_type": "markdown",
   "id": "1e6ce0ab-c54f-4404-93f5-e1c8ea815938",
   "metadata": {},
   "source": [
    "<div>\n",
    "<img src=\"images/fergie-time.jpg\" width=\"400\" height='300'/>\n",
    "</div>\n"
   ]
  },
  {
   "cell_type": "markdown",
   "id": "72b98d06-85ec-489f-81d4-5a7224b1bde7",
   "metadata": {},
   "source": [
    "<br>"
   ]
  },
  {
   "cell_type": "markdown",
   "id": "7324f7d8-ef65-4ded-a8e9-d85923cf7b66",
   "metadata": {},
   "source": [
    "<br>"
   ]
  },
  {
   "cell_type": "markdown",
   "id": "fa07464f-948c-4116-a022-717aed97b175",
   "metadata": {},
   "source": [
    "<i>“It’s horrible to play without fans. It’s not a nice feeling. Not seeing anyone in the stadium makes it like training, and it takes a lot to get into the game at the beginning”</i> - Lionel Messi [1].\n"
   ]
  },
  {
   "cell_type": "markdown",
   "id": "d812444c-6dab-4fbb-950a-dedcb54c0da9",
   "metadata": {},
   "source": [
    "<br>"
   ]
  },
  {
   "cell_type": "markdown",
   "id": "710c78e1-d9c0-4834-aa5a-ac2760fcd428",
   "metadata": {},
   "source": [
    "On 13 March 2020, following an emergency meeting between the Premier League, The Football Association (FA), the English Football League and the FA Women's Super League, it was unanimously decided that professional football in England would be suspended until at least 4 April 2020, this was further extended,  the 2019-2020 season finally resumed on 17 June 2020 with the absence of fans [2]. This pattern of fixtures \"behind closed-doors\" was one seen all over Europe. "
   ]
  },
  {
   "cell_type": "markdown",
   "id": "bc3af8d9-c8d4-4d1e-a653-44577c981dbb",
   "metadata": {},
   "source": [
    "<br>"
   ]
  },
  {
   "cell_type": "markdown",
   "id": "7d6bb1b7-827e-48b3-ad4a-5469b5e2fcd4",
   "metadata": {},
   "source": [
    "The early Covid-19 restrictions on supporters from entering stadiums allowed for researchers to investigate the sporting phenomena that is home advantage and for the first time we have solid data that can be explored in relation to advantages that playing in front of a home crowd can give a team. "
   ]
  },
  {
   "cell_type": "markdown",
   "id": "6e9e6f4f-91b2-4174-84d4-d9c666f55902",
   "metadata": {},
   "source": [
    "<br>"
   ]
  },
  {
   "cell_type": "markdown",
   "id": "8198754c-a2da-43ad-8f7a-bd4551b2562b",
   "metadata": {},
   "source": [
    "<br>"
   ]
  },
  {
   "cell_type": "markdown",
   "id": "22e9f705-bc15-4b50-ab09-a2abef0eb191",
   "metadata": {},
   "source": [
    "***"
   ]
  },
  {
   "cell_type": "markdown",
   "id": "df7bbeba-641b-43fa-82e3-98f9bc3d3986",
   "metadata": {},
   "source": [
    "<br>"
   ]
  },
  {
   "cell_type": "markdown",
   "id": "f06361f9-e82d-46f3-858e-800805e95f3f",
   "metadata": {},
   "source": [
    "## Research"
   ]
  },
  {
   "cell_type": "markdown",
   "id": "4b4a3a8a-d1e6-44ea-a04d-e321d93491f0",
   "metadata": {},
   "source": [
    "<br>"
   ]
  },
  {
   "cell_type": "markdown",
   "id": "98375515-f93d-44c3-a150-a4be5d43c43e",
   "metadata": {},
   "source": [
    "In order to generate a simulated dataset we need to research the phenomena and investigate real world datasets on the subject to know the distribution and variables to inculde. "
   ]
  },
  {
   "cell_type": "markdown",
   "id": "3e1360da-9d32-4340-b855-4800044805ff",
   "metadata": {},
   "source": [
    "<br>"
   ]
  },
  {
   "cell_type": "markdown",
   "id": "fac94f59-a0ea-44cd-ac24-a587c4c209ae",
   "metadata": {},
   "source": [
    " Since these “ghost games”, research into the impact of empty stadia has jumped, many researchers have “... attempted to understand the impact that eliminating fans had on game outcomes, including scoring, fouls, and differences in team performances” [3]. The majority of these studies overwhelmingly propose that playing matches behind closed doors had a particularly negative effect on home teams.\n",
    "\n",
    "<br> \n",
    "\n",
    "The 2019-2020 footballing season was the first time in history that England's top four football divisions recorded more away than home wins [4]. When restrictions eased and supporters were allowed entry back into stadiums in a limited capacity from May 17th 2021 results “... returned to pre-COVID levels with 40% won by home teams and 31% by the visitors.\" [4].\n",
    "\n",
    "<br>\n",
    "\n",
    "The biggest study on the sporting phenomena of \"home advantage\" during these \"ghost games\" was conducted by the University of Leeds and Northumbria University. \"Researchers used the unique opportunity presented by the COVID-19 pandemic to test whether home advantage applies when fans are not present in the stands\" [5]. The study is the first of its kind in that it also considers \"...whether home advantage affects a team's dominance over a game\" [5]. \n",
    "\n",
    "A teams dominance was determined by:\n",
    " - number of corners\n",
    " - shots off and on target in a given match [5]. "
   ]
  },
  {
   "cell_type": "markdown",
   "id": "7b8f5b6d-09c7-4840-9dbe-2ab0fb35b602",
   "metadata": {},
   "source": [
    "<br>"
   ]
  },
  {
   "cell_type": "markdown",
   "id": "253f3bfd-1a4c-4a23-b35d-fb54b535486f",
   "metadata": {},
   "source": [
    "In the study titled \"Home advantage during the COVID-19 pandemic: Analyses of European football leagues\" [6], researchers complied the data from Football-Data.co.uk and an online database provided by FiveThirtyEight to assess at 4,844 games across 11 countries, including the England Premier League and Championship, Germany Bundesliga 1 and 2, Spanish La Liga 1 and 2, Italian Serie A and B, Portuguese Primeira Liga, Greek Super League, Turkish Super Lig, Austrian Bundesliga, Danish Superligaen, Russian Premier League and Swiss Super League.\n"
   ]
  },
  {
   "cell_type": "markdown",
   "id": "bbb6cbd1-30a3-4b98-bbd0-7d2224e8024e",
   "metadata": {},
   "source": [
    "<br>"
   ]
  },
  {
   "cell_type": "markdown",
   "id": "96c558bb-a753-4115-83ab-3e40bb409c39",
   "metadata": {},
   "source": [
    "Of the study lead reseacher Dane McCarrick said \"When it returned, the remainder of the games took place behind closed doors with no fans present. This provided an unintentional, and unique, opportunity to examine one of the most talked about and empirically studied phenomena in professional team sport: the home advantage...\n",
    "\n",
    "This new knowledge reveals that in the most basic sense, fans attendance matters.\" [7]"
   ]
  },
  {
   "cell_type": "markdown",
   "id": "21e13915-b461-4715-a760-2de3417afe85",
   "metadata": {},
   "source": [
    "<br>"
   ]
  },
  {
   "cell_type": "markdown",
   "id": "713b430f-dade-4000-9808-ea17f7dae7d3",
   "metadata": {},
   "source": [
    "<br>"
   ]
  },
  {
   "cell_type": "markdown",
   "id": "0490cd2f-a568-4f6e-bebf-e8cdc370fc22",
   "metadata": {},
   "source": [
    "The main findings from the study [6]:"
   ]
  },
  {
   "cell_type": "markdown",
   "id": "5b118610-1677-4c31-8cbd-bde64aa51af8",
   "metadata": {},
   "source": [
    "- On average with fans present: \n",
    "     - When teams played at home they won 0.39 points more per game than when playing away.\n",
    "     - Home teams scored 0.29 goals more per game than the away teams."
   ]
  },
  {
   "cell_type": "markdown",
   "id": "c77d8f38-2fe1-4565-9133-013061de5b91",
   "metadata": {},
   "source": [
    "<br>"
   ]
  },
  {
   "cell_type": "markdown",
   "id": "f3dff99c-fd21-43f6-8876-ca0f78485190",
   "metadata": {},
   "source": [
    "- On average without fans present:\n",
    "    - The points won by teams when playing at home dropped almost half to 0.22 points.  \n",
    "    - Home teams scored 0.15 goals more per game than the away teams. Again, almost a 50% drop than with fans. "
   ]
  },
  {
   "cell_type": "markdown",
   "id": "fd077727-d861-42a2-b9be-3e9dd53d07a3",
   "metadata": {},
   "source": [
    "<br>"
   ]
  },
  {
   "cell_type": "markdown",
   "id": "02f22593-fdf8-443d-a958-b057148ded10",
   "metadata": {},
   "source": [
    "- Referee's gave:\n",
    "    - More fouls against the home team without fans present.\n",
    "    - A similar number of fouls against the away team in empty stadiums.\n",
    "    - A similar number of yellow cards against the home team in empty stadiums, even though they committed more fouls.\n",
    "    - Red cards - although less commonplace during games - followed this pattern."
   ]
  },
  {
   "cell_type": "markdown",
   "id": "868b5ea6-4199-4b0f-a6da-9a267abd65ef",
   "metadata": {},
   "source": [
    "<br>"
   ]
  },
  {
   "cell_type": "markdown",
   "id": "3fc6aa08-baf2-4124-81f3-3530dd82cfe3",
   "metadata": {},
   "source": [
    "- How a home teams dominance was effected on average without fans present: \n",
    "    - Teams won 0.7 fewer corners.\n",
    "    - Teams had 1.3 fewer shots attempts.\n",
    "    - Teams had 0.4 fewer shots on target. "
   ]
  },
  {
   "cell_type": "markdown",
   "id": "806f55f2-7793-4a58-ba60-594bf94b0b5b",
   "metadata": {},
   "source": [
    "<br>"
   ]
  },
  {
   "cell_type": "markdown",
   "id": "51271acd-bc33-43fe-aeb1-c44c95263a7d",
   "metadata": {},
   "source": [
    "- How an away teams dominance was effected on average without fans present: \n",
    "    - Teams won 0.10 more corners.\n",
    "    - Teams had 0.17 more shots attempts.\n",
    "    - Teams had 0.20 more shots on target. "
   ]
  },
  {
   "cell_type": "markdown",
   "id": "61f7c48d-0162-4d2e-b6de-3a86df7eb3db",
   "metadata": {},
   "source": [
    "<br>"
   ]
  },
  {
   "cell_type": "markdown",
   "id": "495e4974-26d6-4733-8784-4f35e9a397d9",
   "metadata": {},
   "source": [
    "<br>"
   ]
  },
  {
   "cell_type": "markdown",
   "id": "2e210654-dec3-4812-bbbc-fa27a45f66ed",
   "metadata": {},
   "source": [
    "#### Variables"
   ]
  },
  {
   "cell_type": "markdown",
   "id": "0fddcb7f-2d04-4640-b26d-0500b5dbd205",
   "metadata": {},
   "source": [
    "<br>"
   ]
  },
  {
   "cell_type": "markdown",
   "id": "b2b56cf0-c704-4a23-93b9-c618933982e9",
   "metadata": {},
   "source": [
    "After researchng the various studies the variables that we will be using to simulate the dataset are:\n",
    "\n",
    "- Is the team playing home or away (categorical).\n",
    "- Number of points.\n",
    "- Referee behaviour: \n",
    "    - Number of yellow/red cards shown to the home team.\n",
    "    - Number of yellow/red cards shown to the away team.\n",
    "- Teams dominance: \n",
    "    - Number of goals scored for the home team.\n",
    "    - Number of goals scored for the away team.\n",
    "    - Number of corners and shots for the home team.\n",
    "    - Number of corners and shots for the away team.\n"
   ]
  },
  {
   "cell_type": "markdown",
   "id": "5f6a2d7e-0120-4d3c-b1f2-06fa40a73823",
   "metadata": {},
   "source": [
    "<br>"
   ]
  },
  {
   "cell_type": "markdown",
   "id": "3dc8b185-2ad6-4173-88ed-ced63c9fc347",
   "metadata": {},
   "source": [
    "<br>"
   ]
  },
  {
   "cell_type": "markdown",
   "id": "b1b755fc-b0c3-465b-9583-096c6f5bdcfc",
   "metadata": {},
   "source": [
    "#### Home or Away"
   ]
  },
  {
   "cell_type": "markdown",
   "id": "ef594be3-9f84-4629-b899-6a168051498f",
   "metadata": {},
   "source": [
    "<br>"
   ]
  },
  {
   "cell_type": "markdown",
   "id": "84f275be-f770-4a17-a322-1267c363ec93",
   "metadata": {},
   "source": [
    "<br>"
   ]
  },
  {
   "cell_type": "markdown",
   "id": "1997977b-60c6-40a7-b7d0-51ee0efcfa9c",
   "metadata": {},
   "source": [
    "<div>\n",
    "<img src=\"images/fans.jpg\" width=\"400\" height='300'/>\n",
    "</div>\n"
   ]
  },
  {
   "cell_type": "markdown",
   "id": "1657db38-3924-4668-b653-40768e8f02e3",
   "metadata": {},
   "source": [
    "<br>"
   ]
  },
  {
   "cell_type": "markdown",
   "id": "2564a089-d1a0-4b41-bcd9-39aa76f8d6e6",
   "metadata": {},
   "source": [
    "<br>"
   ]
  },
  {
   "cell_type": "markdown",
   "id": "28263b40-e47c-4804-8ca5-383fab65ef59",
   "metadata": {},
   "source": [
    "A home team overwhelmingly can expect to receive a stronger support from the crowd than their opponents. It is thought that this noise can help fire up players and  make the away team uneasy and shaky. \n",
    "\n",
    "A performer's arousal intensifies in the presence of others [8] i.e you are more likely to put more care/effort into what you’re doing when you’re being watched. If we apply this to athletes, it can suggest that effort and motivation will increase if a supportive crowd is present, which in turn results in increased performance [9].\n"
   ]
  },
  {
   "cell_type": "markdown",
   "id": "077a6218-0e13-40e2-a15f-4ad5aed4aa74",
   "metadata": {},
   "source": [
    "<br>"
   ]
  },
  {
   "cell_type": "markdown",
   "id": "e0f77ea3-874d-43d7-8c3a-ad077aaff641",
   "metadata": {},
   "source": [
    "Another caveat of playing at home is familiarity with the stadium [3]. Some of the advantages for the home team are; football pitches have a minimum and maximum dimensions that they can be, meaning size of pitches vary, some stadiums have fans closer to the pitch than others and different pitches have different playing surfaces [9]. I know my home team - Dundalk F.C - are the only team in the League of Ireland whose home pitch is artificial, it is often a contentious issue where opponents complain about it. The ball bounces and moves differently and faster on an artificial surface than on real grass. This is often seen as giving Dundalk an unfair advantage when playing at home as they are used to it. "
   ]
  },
  {
   "cell_type": "markdown",
   "id": "1f113bdd-d693-4405-92e7-17e240182e1a",
   "metadata": {},
   "source": [
    "<br>"
   ]
  },
  {
   "cell_type": "markdown",
   "id": "8cf064ee-0ea3-4bb6-8f74-31d88d71f1f7",
   "metadata": {},
   "source": [
    "Last but not least, the home team does not have to travel. This has been investigated as a reason behind home advantage several times. In his study titled “The Impact of Visiting Team Travel on Game Outcome and Biases in NFL Betting Markets”, Mark Nichols examined data on the football seasons from 1981-2004 and found that away teams traveling through a minimum of one time zone gave a substandard performance and significantly increased the probability of a home win [10].\n",
    "\n",
    "I know this study is in reference to US Football which is not the same as “soccer” but, a study on “Home advantage in Australian soccer” by Chris Goumas arrived at the same conclusion “HA [Home Advantage] increased significantly with increasing number of time zones crossed by away teams (p<0.001)” [11].\n",
    "\n",
    "Additionally, in their paper “Home ground advantage of individual clubs in English soccer'' Stephen Clarke and John Norman found that “home advantage” increased the further the distance the away team had to travel from [12]. \n"
   ]
  },
  {
   "cell_type": "markdown",
   "id": "3f7e78de-85be-4db8-9b2f-19721383fe64",
   "metadata": {},
   "source": [
    "<br>"
   ]
  },
  {
   "cell_type": "markdown",
   "id": "9626b271-54aa-4eb5-992c-3c5a90a48f58",
   "metadata": {},
   "source": [
    "<br>"
   ]
  },
  {
   "cell_type": "markdown",
   "id": "e2e798dc-8d1c-483d-adf3-6b25632373dc",
   "metadata": {},
   "source": [
    "#### Number Of Points"
   ]
  },
  {
   "cell_type": "markdown",
   "id": "f8e72b3c-db2e-4ecf-be15-635c9fa0adb8",
   "metadata": {},
   "source": [
    "<br>"
   ]
  },
  {
   "cell_type": "markdown",
   "id": "5c860f22-d992-4afd-b7d0-07a4edd3f846",
   "metadata": {},
   "source": [
    "This variable is our way to measure if a team has won, drawn or lost a match. In league football or in the group stages of a cup competition a team is awarded:\n",
    "- 3 points for winning.\n",
    "- 1 point for drawing.\n",
    "- 0 points for losing. \n",
    "\n",
    "\n",
    "The study carried out by [6] found on average with a crowd present, home teams won 0.39 points more per game than when they played away. When fan free \"ghost games\" took place this dropped to 0.22 points, that is just under a 50% dipp"
   ]
  },
  {
   "cell_type": "code",
   "execution_count": null,
   "id": "f70fec7e-9ad1-44c4-8f2e-b45115d1b001",
   "metadata": {},
   "outputs": [],
   "source": []
  },
  {
   "cell_type": "code",
   "execution_count": null,
   "id": "b72129ad-190c-41c5-b061-a1ab25fcd3f4",
   "metadata": {},
   "outputs": [],
   "source": []
  },
  {
   "cell_type": "markdown",
   "id": "e746eafd-d084-4613-a73f-c0a0d85d0030",
   "metadata": {},
   "source": [
    "***\n",
    "\n",
    "## References \n",
    "\n",
    "***"
   ]
  },
  {
   "cell_type": "code",
   "execution_count": null,
   "id": "fc60f047-0d9a-4fc0-b04e-46830f78c5af",
   "metadata": {},
   "outputs": [],
   "source": []
  },
  {
   "cell_type": "markdown",
   "id": "c8ee100a-5fd9-46b9-8abf-241986311aee",
   "metadata": {
    "tags": []
   },
   "source": [
    "#### Images\n",
    "\n",
    "- [12th Man](https://sites.psu.edu/siowfa16/files/2016/10/homeofthe12thman-638x300-p8niz2.jpg)\n",
    "- [Alex Ferguson](https://talksport.com/wp-content/uploads/sites/5/2013/04/Fergie20watch.jpg?strip=all&w=700)\n",
    "- [Liverpool Fans](https://www.rousingthekop.com/static/uploads/4/2021/07/GettyImages-1143394495.jpg)"
   ]
  },
  {
   "cell_type": "markdown",
   "id": "a59cd0f0-f0c8-4fb3-a4b9-95de1af8505c",
   "metadata": {},
   "source": [
    "<br>"
   ]
  },
  {
   "cell_type": "markdown",
   "id": "2e6f8e0b-fa33-4f53-a5a3-311069879c7a",
   "metadata": {
    "tags": []
   },
   "source": [
    "***\n",
    "\n",
    "# End\n",
    "\n",
    "***"
   ]
  }
 ],
 "metadata": {
  "kernelspec": {
   "display_name": "Python 3 (ipykernel)",
   "language": "python",
   "name": "python3"
  },
  "language_info": {
   "codemirror_mode": {
    "name": "ipython",
    "version": 3
   },
   "file_extension": ".py",
   "mimetype": "text/x-python",
   "name": "python",
   "nbconvert_exporter": "python",
   "pygments_lexer": "ipython3",
   "version": "3.8.11"
  }
 },
 "nbformat": 4,
 "nbformat_minor": 5
}
